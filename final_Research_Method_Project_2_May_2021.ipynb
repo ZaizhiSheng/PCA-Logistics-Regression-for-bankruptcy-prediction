{
 "cells": [
  {
   "cell_type": "code",
   "execution_count": 1,
   "metadata": {},
   "outputs": [],
   "source": [
    "import pandas as pd\n",
    "import numpy as np\n",
    "import warnings\n",
    "warnings.filterwarnings('ignore')\n",
    "import matplotlib.pyplot as plt\n",
    "plt.rc('figure', figsize=(10,6))"
   ]
  },
  {
   "cell_type": "markdown",
   "metadata": {},
   "source": [
    "## Importing Bankruptcy Data 1"
   ]
  },
  {
   "cell_type": "code",
   "execution_count": 2,
   "metadata": {
    "scrolled": true
   },
   "outputs": [
    {
     "data": {
      "text/plain": [
       "0      14\n",
       "1      10\n",
       "2       6\n",
       "3      10\n",
       "4       6\n",
       "       ..\n",
       "158    14\n",
       "159     7\n",
       "160    15\n",
       "161    13\n",
       "162    19\n",
       "Length: 163, dtype: int64"
      ]
     },
     "execution_count": 2,
     "metadata": {},
     "output_type": "execute_result"
    }
   ],
   "source": [
    "data = pd.read_excel('world_bankrupt_tech.xlsx',sheet_name = 'Sheet1')\n",
    "\n",
    "data= data.iloc[:, 1:]\n",
    "\n",
    "data=data.replace({'n.a.': np.nan,'n.s.': np.nan})\n",
    "\n",
    "data.isna().sum(axis=1)"
   ]
  },
  {
   "cell_type": "code",
   "execution_count": 3,
   "metadata": {
    "scrolled": true
   },
   "outputs": [
    {
     "data": {
      "text/plain": [
       "0                           Company name Latin alphabet\n",
       "1                                      Last avail. year\n",
       "2         Operating revenue (Turnover)\\nth USD Year - 1\n",
       "3     Operating revenue (Turnover)\\nth USD Last avai...\n",
       "4                      Cash flow\\nth USD Last avail. yr\n",
       "5                            Cash flow\\nth USD Year - 1\n",
       "6                   Total assets\\nth USD Last avail. yr\n",
       "7                         Total assets\\nth USD Year - 1\n",
       "8                       Liquidity ratio\\nLast avail. yr\n",
       "9                             Liquidity ratio\\nYear - 1\n",
       "10                        Current ratio\\nLast avail. yr\n",
       "11                              Current ratio\\nYear - 1\n",
       "12                    Profit margin (%)\\nLast avail. yr\n",
       "13                          Profit margin (%)\\nYear - 1\n",
       "14     Solvency ratio (Asset based) (%)\\nLast avail. yr\n",
       "15           Solvency ratio (Asset based) (%)\\nYear - 1\n",
       "16    Working capital per employee (th) (th)\\nth USD...\n",
       "17    Working capital per employee (th) (th)\\nth USD...\n",
       "18    Profit per employee (th) (th)\\nth USD Last ava...\n",
       "19       Profit per employee (th) (th)\\nth USD Year - 1\n",
       "20       Intangible fixed assets\\nth USD Last avail. yr\n",
       "21             Intangible fixed assets\\nth USD Year - 1\n",
       "22            Costs of employees\\nth USD Last avail. yr\n",
       "23                  Costs of employees\\nth USD Year - 1\n",
       "24                  Depreciation\\nth USD Last avail. yr\n",
       "25                        Depreciation\\nth USD Year - 1\n",
       "26          Capital Expenditures\\nth USD Last avail. yr\n",
       "27                Capital Expenditures\\nth USD Year - 1\n",
       "28           Current liabilities\\nth USD Last avail. yr\n",
       "29                 Current liabilities\\nth USD Year - 1\n",
       "30                 Current liabilities\\nth USD Year - 2\n",
       "31    Total shareh. funds & liab.\\nth USD Last avail...\n",
       "32         Total shareh. funds & liab.\\nth USD Year - 1\n",
       "33         Total shareh. funds & liab.\\nth USD Year - 2\n",
       "34            Shareholders funds\\nth USD Last avail. yr\n",
       "35                  Shareholders funds\\nth USD Year - 1\n",
       "36                  Shareholders funds\\nth USD Year - 2\n",
       "37    Cash flow / Operating revenue (%)\\nLast avail. yr\n",
       "38          Cash flow / Operating revenue (%)\\nYear - 1\n",
       "39    Operating revenue per employee (th) (th)\\nth U...\n",
       "40    Operating revenue per employee (th) (th)\\nth U...\n",
       "41    Costs of employees / Operating revenue (%)\\nLa...\n",
       "42    Costs of employees / Operating revenue (%)\\nYe...\n",
       "43               Working capital\\nth USD Last avail. yr\n",
       "44                     Working capital\\nth USD Year - 1\n",
       "45    Earnings before Interest & Tax\\nth USD Last av...\n",
       "46      Earnings before Interest & Tax\\nth USD Year - 1\n",
       "47                         Sales\\nth USD Last avail. yr\n",
       "48                               Sales\\nth USD Year - 1\n",
       "dtype: object"
      ]
     },
     "execution_count": 3,
     "metadata": {},
     "output_type": "execute_result"
    }
   ],
   "source": [
    "pd.Series(data.columns)"
   ]
  },
  {
   "cell_type": "code",
   "execution_count": 4,
   "metadata": {},
   "outputs": [],
   "source": [
    "# dropna\n",
    "data1=data.dropna(thresh=26)"
   ]
  },
  {
   "cell_type": "code",
   "execution_count": 5,
   "metadata": {
    "scrolled": true
   },
   "outputs": [
    {
     "data": {
      "text/plain": [
       "Index(['Company name Latin alphabet', 'Last avail. year',\n",
       "       'Operating revenue (Turnover)\\nth USD Year - 1',\n",
       "       'Operating revenue (Turnover)\\nth USD Last avail. yr',\n",
       "       'Cash flow\\nth USD Last avail. yr', 'Cash flow\\nth USD Year - 1',\n",
       "       'Total assets\\nth USD Last avail. yr', 'Total assets\\nth USD Year - 1',\n",
       "       'Liquidity ratio\\nLast avail. yr', 'Liquidity ratio\\nYear - 1',\n",
       "       'Current ratio\\nLast avail. yr', 'Current ratio\\nYear - 1',\n",
       "       'Profit margin (%)\\nLast avail. yr', 'Profit margin (%)\\nYear - 1',\n",
       "       'Solvency ratio (Asset based) (%)\\nLast avail. yr',\n",
       "       'Solvency ratio (Asset based) (%)\\nYear - 1',\n",
       "       'Working capital per employee (th) (th)\\nth USD Last avail. yr',\n",
       "       'Working capital per employee (th) (th)\\nth USD Year - 1',\n",
       "       'Profit per employee (th) (th)\\nth USD Last avail. yr',\n",
       "       'Profit per employee (th) (th)\\nth USD Year - 1',\n",
       "       'Intangible fixed assets\\nth USD Last avail. yr',\n",
       "       'Intangible fixed assets\\nth USD Year - 1',\n",
       "       'Costs of employees\\nth USD Last avail. yr',\n",
       "       'Costs of employees\\nth USD Year - 1',\n",
       "       'Depreciation\\nth USD Last avail. yr', 'Depreciation\\nth USD Year - 1',\n",
       "       'Capital Expenditures\\nth USD Last avail. yr',\n",
       "       'Capital Expenditures\\nth USD Year - 1',\n",
       "       'Current liabilities\\nth USD Last avail. yr',\n",
       "       'Current liabilities\\nth USD Year - 1',\n",
       "       'Current liabilities\\nth USD Year - 2',\n",
       "       'Total shareh. funds & liab.\\nth USD Last avail. yr',\n",
       "       'Total shareh. funds & liab.\\nth USD Year - 1',\n",
       "       'Total shareh. funds & liab.\\nth USD Year - 2',\n",
       "       'Shareholders funds\\nth USD Last avail. yr',\n",
       "       'Shareholders funds\\nth USD Year - 1',\n",
       "       'Shareholders funds\\nth USD Year - 2',\n",
       "       'Cash flow / Operating revenue (%)\\nLast avail. yr',\n",
       "       'Cash flow / Operating revenue (%)\\nYear - 1',\n",
       "       'Operating revenue per employee (th) (th)\\nth USD Last avail. yr',\n",
       "       'Operating revenue per employee (th) (th)\\nth USD Year - 1',\n",
       "       'Costs of employees / Operating revenue (%)\\nLast avail. yr',\n",
       "       'Costs of employees / Operating revenue (%)\\nYear - 1',\n",
       "       'Working capital\\nth USD Last avail. yr',\n",
       "       'Working capital\\nth USD Year - 1',\n",
       "       'Earnings before Interest & Tax\\nth USD Last avail. yr',\n",
       "       'Earnings before Interest & Tax\\nth USD Year - 1',\n",
       "       'Sales\\nth USD Last avail. yr', 'Sales\\nth USD Year - 1'],\n",
       "      dtype='object')"
      ]
     },
     "execution_count": 5,
     "metadata": {},
     "output_type": "execute_result"
    }
   ],
   "source": [
    "data1.columns"
   ]
  },
  {
   "cell_type": "code",
   "execution_count": 6,
   "metadata": {},
   "outputs": [],
   "source": [
    "data1=data1.drop(data1.columns[100*(data1.isna().sum()/len(data1))>90], axis=1)"
   ]
  },
  {
   "cell_type": "code",
   "execution_count": 7,
   "metadata": {
    "scrolled": true
   },
   "outputs": [],
   "source": [
    "data1=data1.fillna(0)"
   ]
  },
  {
   "cell_type": "markdown",
   "metadata": {},
   "source": [
    "check Size"
   ]
  },
  {
   "cell_type": "code",
   "execution_count": 8,
   "metadata": {},
   "outputs": [
    {
     "data": {
      "text/plain": [
       "(163, 43)"
      ]
     },
     "execution_count": 8,
     "metadata": {},
     "output_type": "execute_result"
    }
   ],
   "source": [
    "data1.shape"
   ]
  },
  {
   "cell_type": "code",
   "execution_count": 9,
   "metadata": {},
   "outputs": [
    {
     "data": {
      "text/plain": [
       "count    1.630000e+02\n",
       "mean     1.059411e+04\n",
       "std      8.500381e+04\n",
       "min      1.762596e+01\n",
       "25%      1.949163e+02\n",
       "50%      3.948215e+02\n",
       "75%      1.222451e+03\n",
       "max      1.054261e+06\n",
       "Name: Total assets\\nth USD Last avail. yr, dtype: float64"
      ]
     },
     "execution_count": 9,
     "metadata": {},
     "output_type": "execute_result"
    }
   ],
   "source": [
    "firm_group=data1['Total assets\\nth USD Last avail. yr'].groupby(data1.index).mean()\n",
    "firm_group.describe()"
   ]
  },
  {
   "cell_type": "code",
   "execution_count": 10,
   "metadata": {},
   "outputs": [
    {
     "data": {
      "image/png": "[encoded data removed]",
      "text/plain": [
       "<Figure size 720x432 with 1 Axes>"
      ]
     },
     "metadata": {
      "needs_background": "light"
     },
     "output_type": "display_data"
    }
   ],
   "source": [
    "fig1, ax1 = plt.subplots()\n",
    "ax1.set_title('Basic Plot')\n",
    "ax1.boxplot(data1['Total assets\\nth USD Last avail. yr'])\n",
    "plt.show()"
   ]
  },
  {
   "cell_type": "code",
   "execution_count": 11,
   "metadata": {},
   "outputs": [
    {
     "data": {
      "text/plain": [
       "(163, 43)"
      ]
     },
     "execution_count": 11,
     "metadata": {},
     "output_type": "execute_result"
    },
    {
     "data": {
      "image/png": "[encoded data removed]",
      "text/plain": [
       "<Figure size 720x432 with 1 Axes>"
      ]
     },
     "metadata": {
      "needs_background": "light"
     },
     "output_type": "display_data"
    }
   ],
   "source": [
    "plt.scatter(data1.index,data1['Total assets\\nth USD Last avail. yr'] )\n",
    "\n",
    "data1.shape"
   ]
  },
  {
   "cell_type": "code",
   "execution_count": 12,
   "metadata": {},
   "outputs": [],
   "source": [
    "## same size\n",
    "data1=data1[ data1['Total assets\\nth USD Last avail. yr'] < 1000]"
   ]
  },
  {
   "cell_type": "code",
   "execution_count": 13,
   "metadata": {},
   "outputs": [
    {
     "data": {
      "image/png": "[encoded data removed]",
      "text/plain": [
       "<Figure size 720x432 with 1 Axes>"
      ]
     },
     "metadata": {
      "needs_background": "light"
     },
     "output_type": "display_data"
    }
   ],
   "source": [
    "fig1, ax1 = plt.subplots()\n",
    "ax1.set_title('Basic Plot')\n",
    "ax1.boxplot(data1['Total assets\\nth USD Last avail. yr'])\n",
    "plt.show()"
   ]
  },
  {
   "cell_type": "code",
   "execution_count": 14,
   "metadata": {},
   "outputs": [
    {
     "data": {
      "text/plain": [
       "(115, 43)"
      ]
     },
     "execution_count": 14,
     "metadata": {},
     "output_type": "execute_result"
    },
    {
     "data": {
      "image/png": "[encoded data removed]",
      "text/plain": [
       "<Figure size 720x432 with 1 Axes>"
      ]
     },
     "metadata": {
      "needs_background": "light"
     },
     "output_type": "display_data"
    }
   ],
   "source": [
    "plt.scatter(data1.index,data1['Total assets\\nth USD Last avail. yr'] )\n",
    "\n",
    "data1.shape"
   ]
  },
  {
   "cell_type": "code",
   "execution_count": 15,
   "metadata": {
    "scrolled": false
   },
   "outputs": [
    {
     "data": {
      "text/plain": [
       "0                           Company name Latin alphabet\n",
       "1                                      Last avail. year\n",
       "2         Operating revenue (Turnover)\\nth USD Year - 1\n",
       "3     Operating revenue (Turnover)\\nth USD Last avai...\n",
       "4                      Cash flow\\nth USD Last avail. yr\n",
       "5                            Cash flow\\nth USD Year - 1\n",
       "6                   Total assets\\nth USD Last avail. yr\n",
       "7                         Total assets\\nth USD Year - 1\n",
       "8                       Liquidity ratio\\nLast avail. yr\n",
       "9                             Liquidity ratio\\nYear - 1\n",
       "10                        Current ratio\\nLast avail. yr\n",
       "11                              Current ratio\\nYear - 1\n",
       "12                    Profit margin (%)\\nLast avail. yr\n",
       "13                          Profit margin (%)\\nYear - 1\n",
       "14     Solvency ratio (Asset based) (%)\\nLast avail. yr\n",
       "15           Solvency ratio (Asset based) (%)\\nYear - 1\n",
       "16    Working capital per employee (th) (th)\\nth USD...\n",
       "17    Working capital per employee (th) (th)\\nth USD...\n",
       "18    Profit per employee (th) (th)\\nth USD Last ava...\n",
       "19       Profit per employee (th) (th)\\nth USD Year - 1\n",
       "20       Intangible fixed assets\\nth USD Last avail. yr\n",
       "21             Intangible fixed assets\\nth USD Year - 1\n",
       "22            Costs of employees\\nth USD Last avail. yr\n",
       "23                  Costs of employees\\nth USD Year - 1\n",
       "24           Current liabilities\\nth USD Last avail. yr\n",
       "25                 Current liabilities\\nth USD Year - 1\n",
       "26                 Current liabilities\\nth USD Year - 2\n",
       "27    Total shareh. funds & liab.\\nth USD Last avail...\n",
       "28         Total shareh. funds & liab.\\nth USD Year - 1\n",
       "29         Total shareh. funds & liab.\\nth USD Year - 2\n",
       "30            Shareholders funds\\nth USD Last avail. yr\n",
       "31                  Shareholders funds\\nth USD Year - 1\n",
       "32                  Shareholders funds\\nth USD Year - 2\n",
       "33    Cash flow / Operating revenue (%)\\nLast avail. yr\n",
       "34          Cash flow / Operating revenue (%)\\nYear - 1\n",
       "35    Operating revenue per employee (th) (th)\\nth U...\n",
       "36    Operating revenue per employee (th) (th)\\nth U...\n",
       "37    Costs of employees / Operating revenue (%)\\nLa...\n",
       "38    Costs of employees / Operating revenue (%)\\nYe...\n",
       "39               Working capital\\nth USD Last avail. yr\n",
       "40                     Working capital\\nth USD Year - 1\n",
       "41                         Sales\\nth USD Last avail. yr\n",
       "42                               Sales\\nth USD Year - 1\n",
       "dtype: object"
      ]
     },
     "execution_count": 15,
     "metadata": {},
     "output_type": "execute_result"
    }
   ],
   "source": [
    "pd.Series(data1.columns)"
   ]
  },
  {
   "cell_type": "code",
   "execution_count": 16,
   "metadata": {},
   "outputs": [],
   "source": [
    "data1=data1.sample(59)"
   ]
  },
  {
   "cell_type": "code",
   "execution_count": 17,
   "metadata": {},
   "outputs": [],
   "source": [
    "###calculate ratios \n",
    "\n",
    "data2=data1[['Company name Latin alphabet',\n",
    "                  'Liquidity ratio\\nLast avail. yr', 'Liquidity ratio\\nYear - 1', \n",
    "                   'Current ratio\\nLast avail. yr', 'Current ratio\\nYear - 1',\n",
    "                   'Profit margin (%)\\nLast avail. yr', 'Profit margin (%)\\nYear - 1',\n",
    "                  'Solvency ratio (Asset based) (%)\\nLast avail. yr',  'Solvency ratio (Asset based) (%)\\nYear - 1',\n",
    "                   'Profit per employee (th) (th)\\nth USD Last avail. yr', 'Profit per employee (th) (th)\\nth USD Year - 1',\n",
    "                   'Intangible fixed assets\\nth USD Last avail. yr', 'Intangible fixed assets\\nth USD Year - 1',\n",
    "                  \n",
    "                ]]\n",
    "\n",
    "data2['CL/TL avial year']=data1['Current liabilities\\nth USD Last avail. yr']/(data1['Total shareh. funds & liab.\\nth USD Last avail. yr']-data1['Shareholders funds\\nth USD Last avail. yr']) -data1['Current liabilities\\nth USD Year - 1']/(data1['Total shareh. funds & liab.\\nth USD Year - 1']-data1['Shareholders funds\\nth USD Year - 1'])\n",
    "                                                                                    \n",
    "data2['CL/TL year-1']=data1['Current liabilities\\nth USD Year - 1']/(data1['Total shareh. funds & liab.\\nth USD Year - 1']-data1['Shareholders funds\\nth USD Year - 1']) -data1['Current liabilities\\nth USD Year - 2']/(data1['Total shareh. funds & liab.\\nth USD Year - 2']-data1['Shareholders funds\\nth USD Year - 2'])\n",
    "                                   \n",
    "\n",
    "#data2['CF/CapEX avil year']=data1['Cash flow\\nth USD Last avail. yr']/data1['Capital Expenditures\\nth USD Last avail. yr']\n",
    "#data2['CF/CapEX year-1']=data1['Cash flow\\nth USD Year - 1']/data1[ 'Capital Expenditures\\nth USD Year - 1']\n",
    "\n",
    "\n",
    "#### add in 6 more Financial ratios\n",
    "# 1. Cash flow / Operating revenue \n",
    "data2['Cash flow / Operating revenue'] = data1['Operating revenue (Turnover)\\nth USD Last avail. yr']\n",
    "data2['Cash flow / Operating revenue -1'] = data1['Operating revenue (Turnover)\\nth USD Year - 1']\n",
    "\n",
    "\n",
    "# 2. operating revenue per employee\n",
    "data2['Operating revenue per employee'] = data1['Operating revenue per employee (th) (th)\\nth USD Last avail. yr']\n",
    "data2['Operating revenue per employee -1'] = data1['Operating revenue per employee (th) (th)\\nth USD Year - 1']\n",
    "\n",
    "\n",
    "#3. Costs of employees / Operating revenue \n",
    "data2['Costs of employees/Operating revenue'] = data1['Costs of employees\\nth USD Last avail. yr'] / data1['Operating revenue (Turnover)\\nth USD Last avail. yr']\n",
    "data2['Costs of employees/Operating revenue-1'] = data1['Costs of employees\\nth USD Year - 1'] / data1['Operating revenue (Turnover)\\nth USD Year - 1']\n",
    "\n",
    "#4. Working Capital/Total Assets\n",
    "data2['Working Capital/Total Assets'] = data1['Working capital\\nth USD Last avail. yr'] / data1['Total assets\\nth USD Last avail. yr']\n",
    "data2['Working Capital/Total Assets -1'] = data1['Working capital\\nth USD Year - 1'] / data1['Total assets\\nth USD Year - 1']\n",
    "\n",
    "\n",
    "# 5. Earnings before Interest and Taxes / Total Assets\n",
    "#data2['Earnings before Interest and Taxes / Total Assets'] = data1['Earnings before Interest & Tax\\nth USD Last avail. yr'] / data1['Total assets\\nth USD Last avail. yr']\n",
    "#data2['Earnings before Interest and Taxes / Total Assets -1'] = data1['Earnings before Interest & Tax\\nth USD Year - 1'] / data1['Total assets\\nth USD Year - 1']\n",
    "\n",
    "# 6.  Sales / Total Assets\n",
    "data2['Sales/Total Asset'] = data1['Sales\\nth USD Last avail. yr'] / data1['Total assets\\nth USD Last avail. yr']\n",
    "data2['Sales/Total Asset-1'] = data1['Sales\\nth USD Year - 1'] / data1['Total assets\\nth USD Year - 1']"
   ]
  },
  {
   "cell_type": "code",
   "execution_count": 18,
   "metadata": {},
   "outputs": [
    {
     "data": {
      "text/plain": [
       "0                           Company name Latin alphabet\n",
       "1                       Liquidity ratio\\nLast avail. yr\n",
       "2                             Liquidity ratio\\nYear - 1\n",
       "3                         Current ratio\\nLast avail. yr\n",
       "4                               Current ratio\\nYear - 1\n",
       "5                     Profit margin (%)\\nLast avail. yr\n",
       "6                           Profit margin (%)\\nYear - 1\n",
       "7      Solvency ratio (Asset based) (%)\\nLast avail. yr\n",
       "8            Solvency ratio (Asset based) (%)\\nYear - 1\n",
       "9     Profit per employee (th) (th)\\nth USD Last ava...\n",
       "10       Profit per employee (th) (th)\\nth USD Year - 1\n",
       "11       Intangible fixed assets\\nth USD Last avail. yr\n",
       "12             Intangible fixed assets\\nth USD Year - 1\n",
       "13                                     CL/TL avial year\n",
       "14                                         CL/TL year-1\n",
       "15                        Cash flow / Operating revenue\n",
       "16                     Cash flow / Operating revenue -1\n",
       "17                       Operating revenue per employee\n",
       "18                    Operating revenue per employee -1\n",
       "19                 Costs of employees/Operating revenue\n",
       "20               Costs of employees/Operating revenue-1\n",
       "21                         Working Capital/Total Assets\n",
       "22                      Working Capital/Total Assets -1\n",
       "23                                    Sales/Total Asset\n",
       "24                                  Sales/Total Asset-1\n",
       "dtype: object"
      ]
     },
     "execution_count": 18,
     "metadata": {},
     "output_type": "execute_result"
    }
   ],
   "source": [
    "pd.Series(data2.columns)"
   ]
  },
  {
   "cell_type": "code",
   "execution_count": 19,
   "metadata": {},
   "outputs": [],
   "source": [
    "df1_a=data2.iloc[:,[0,2,4,6,8,10,12,14,16,18,20,22,24]]\n",
    "\n",
    "df1_b=data2.iloc[:,[0,1,3,5,7,9,11,13,15,17,19,21,23]]"
   ]
  },
  {
   "cell_type": "code",
   "execution_count": 20,
   "metadata": {},
   "outputs": [],
   "source": [
    "df1_a.columns=['Company name',' Liquidity ratio',' Current ratio','Profit margin (%)',\n",
    "                'Solvency ratio (Asset based) (%)', 'Profit per employee', 'Intangible fixed assets',\n",
    "                'CL/TL', 'CF/Operating Revenue', 'Operating revenue per employee',\n",
    "                'Costs of employees/Operating revenue', 'Working Capital/Total Assets','Sales/Total Asset']\n",
    "\n",
    "df1_b.columns=['Company name',' Liquidity ratio',' Current ratio','Profit margin (%)',\n",
    "                'Solvency ratio (Asset based) (%)', 'Profit per employee', 'Intangible fixed assets',\n",
    "                'CL/TL', 'CF/Operating Revenue', 'Operating revenue per employee',\n",
    "                'Costs of employees/Operating revenue', 'Working Capital/Total Assets','Sales/Total Asset']"
   ]
  },
  {
   "cell_type": "code",
   "execution_count": 21,
   "metadata": {},
   "outputs": [
    {
     "data": {
      "text/html": [
       "<div>\n",
       "<style scoped>\n",
       "    .dataframe tbody tr th:only-of-type {\n",
       "        vertical-align: middle;\n",
       "    }\n",
       "\n",
       "    .dataframe tbody tr th {\n",
       "        vertical-align: top;\n",
       "    }\n",
       "\n",
       "    .dataframe thead th {\n",
       "        text-align: right;\n",
       "    }\n",
       "</style>\n",
       "<table border=\"1\" class=\"dataframe\">\n",
       "  <thead>\n",
       "    <tr style=\"text-align: right;\">\n",
       "      <th></th>\n",
       "      <th>Company name</th>\n",
       "      <th>Liquidity ratio</th>\n",
       "      <th>Current ratio</th>\n",
       "      <th>Profit margin (%)</th>\n",
       "      <th>Solvency ratio (Asset based) (%)</th>\n",
       "      <th>Profit per employee</th>\n",
       "      <th>Intangible fixed assets</th>\n",
       "      <th>CL/TL</th>\n",
       "      <th>CF/Operating Revenue</th>\n",
       "      <th>Operating revenue per employee</th>\n",
       "      <th>Costs of employees/Operating revenue</th>\n",
       "      <th>Working Capital/Total Assets</th>\n",
       "      <th>Sales/Total Asset</th>\n",
       "    </tr>\n",
       "  </thead>\n",
       "  <tbody>\n",
       "    <tr>\n",
       "      <th>44</th>\n",
       "      <td>EUROPA DEVICES S.L.</td>\n",
       "      <td>0.470</td>\n",
       "      <td>0.962</td>\n",
       "      <td>0.121</td>\n",
       "      <td>1.726</td>\n",
       "      <td>0.364927</td>\n",
       "      <td>2.633853</td>\n",
       "      <td>5.206842e-02</td>\n",
       "      <td>2119.650601</td>\n",
       "      <td>302.807229</td>\n",
       "      <td>0.087801</td>\n",
       "      <td>0.694966</td>\n",
       "      <td>0.807573</td>\n",
       "    </tr>\n",
       "    <tr>\n",
       "      <th>73</th>\n",
       "      <td>ALAIN SANCHEZ INFORMATIQUE</td>\n",
       "      <td>0.350</td>\n",
       "      <td>0.350</td>\n",
       "      <td>6.093</td>\n",
       "      <td>-34.215</td>\n",
       "      <td>0.000000</td>\n",
       "      <td>258.679240</td>\n",
       "      <td>8.560237e-02</td>\n",
       "      <td>1298.048707</td>\n",
       "      <td>0.000000</td>\n",
       "      <td>0.679570</td>\n",
       "      <td>0.017637</td>\n",
       "      <td>2.194004</td>\n",
       "    </tr>\n",
       "    <tr>\n",
       "      <th>122</th>\n",
       "      <td>SARL IRIS</td>\n",
       "      <td>0.817</td>\n",
       "      <td>1.092</td>\n",
       "      <td>0.297</td>\n",
       "      <td>15.205</td>\n",
       "      <td>0.147200</td>\n",
       "      <td>0.000000</td>\n",
       "      <td>-5.771677e-02</td>\n",
       "      <td>297.637452</td>\n",
       "      <td>49.606242</td>\n",
       "      <td>0.400593</td>\n",
       "      <td>0.584795</td>\n",
       "      <td>1.900585</td>\n",
       "    </tr>\n",
       "    <tr>\n",
       "      <th>148</th>\n",
       "      <td>P.G.C.D.</td>\n",
       "      <td>0.812</td>\n",
       "      <td>0.812</td>\n",
       "      <td>-26.301</td>\n",
       "      <td>-9.901</td>\n",
       "      <td>-12.213927</td>\n",
       "      <td>0.000000</td>\n",
       "      <td>-2.220446e-15</td>\n",
       "      <td>325.068574</td>\n",
       "      <td>46.438368</td>\n",
       "      <td>0.904110</td>\n",
       "      <td>0.351485</td>\n",
       "      <td>1.806931</td>\n",
       "    </tr>\n",
       "    <tr>\n",
       "      <th>149</th>\n",
       "      <td>DATA NUMERICAL CONTROL</td>\n",
       "      <td>0.948</td>\n",
       "      <td>0.948</td>\n",
       "      <td>-1.909</td>\n",
       "      <td>15.847</td>\n",
       "      <td>-1.488801</td>\n",
       "      <td>7.444007</td>\n",
       "      <td>-1.887379e-15</td>\n",
       "      <td>389.879862</td>\n",
       "      <td>77.975972</td>\n",
       "      <td>0.658711</td>\n",
       "      <td>0.612022</td>\n",
       "      <td>2.273224</td>\n",
       "    </tr>\n",
       "  </tbody>\n",
       "</table>\n",
       "</div>"
      ],
      "text/plain": [
       "                   Company name   Liquidity ratio   Current ratio  \\\n",
       "44          EUROPA DEVICES S.L.             0.470           0.962   \n",
       "73   ALAIN SANCHEZ INFORMATIQUE             0.350           0.350   \n",
       "122                   SARL IRIS             0.817           1.092   \n",
       "148                    P.G.C.D.             0.812           0.812   \n",
       "149      DATA NUMERICAL CONTROL             0.948           0.948   \n",
       "\n",
       "     Profit margin (%)  Solvency ratio (Asset based) (%)  Profit per employee  \\\n",
       "44               0.121                             1.726             0.364927   \n",
       "73               6.093                           -34.215             0.000000   \n",
       "122              0.297                            15.205             0.147200   \n",
       "148            -26.301                            -9.901           -12.213927   \n",
       "149             -1.909                            15.847            -1.488801   \n",
       "\n",
       "     Intangible fixed assets         CL/TL  CF/Operating Revenue  \\\n",
       "44                  2.633853  5.206842e-02           2119.650601   \n",
       "73                258.679240  8.560237e-02           1298.048707   \n",
       "122                 0.000000 -5.771677e-02            297.637452   \n",
       "148                 0.000000 -2.220446e-15            325.068574   \n",
       "149                 7.444007 -1.887379e-15            389.879862   \n",
       "\n",
       "     Operating revenue per employee  Costs of employees/Operating revenue  \\\n",
       "44                       302.807229                              0.087801   \n",
       "73                         0.000000                              0.679570   \n",
       "122                       49.606242                              0.400593   \n",
       "148                       46.438368                              0.904110   \n",
       "149                       77.975972                              0.658711   \n",
       "\n",
       "     Working Capital/Total Assets  Sales/Total Asset  \n",
       "44                       0.694966           0.807573  \n",
       "73                       0.017637           2.194004  \n",
       "122                      0.584795           1.900585  \n",
       "148                      0.351485           1.806931  \n",
       "149                      0.612022           2.273224  "
      ]
     },
     "execution_count": 21,
     "metadata": {},
     "output_type": "execute_result"
    }
   ],
   "source": [
    "df_1_cat=pd.concat([df1_a,df1_b])\n",
    "df_1_cat=df_1_cat.fillna(0)\n",
    "df_1_cat.head()"
   ]
  },
  {
   "cell_type": "code",
   "execution_count": 22,
   "metadata": {
    "scrolled": true
   },
   "outputs": [
    {
     "data": {
      "text/plain": [
       "(118, 13)"
      ]
     },
     "execution_count": 22,
     "metadata": {},
     "output_type": "execute_result"
    }
   ],
   "source": [
    "df_1_cat.shape"
   ]
  },
  {
   "cell_type": "code",
   "execution_count": 23,
   "metadata": {},
   "outputs": [],
   "source": [
    "#df_1_cat = df_1_cat.sample(n=118)"
   ]
  },
  {
   "cell_type": "code",
   "execution_count": 24,
   "metadata": {},
   "outputs": [
    {
     "data": {
      "text/plain": [
       "(118, 13)"
      ]
     },
     "execution_count": 24,
     "metadata": {},
     "output_type": "execute_result"
    }
   ],
   "source": [
    "df_1_cat.shape"
   ]
  },
  {
   "cell_type": "markdown",
   "metadata": {},
   "source": [
    "## Importing None-Bankruptcy data  0"
   ]
  },
  {
   "cell_type": "code",
   "execution_count": 25,
   "metadata": {},
   "outputs": [
    {
     "data": {
      "text/plain": [
       "(66, 50)"
      ]
     },
     "execution_count": 25,
     "metadata": {},
     "output_type": "execute_result"
    }
   ],
   "source": [
    "## importing the active firms\n",
    "\n",
    "# 0 stands for not default\n",
    "df_0 = pd.read_excel('Active Companies.xlsx', sheet_name = 'Sheet2')\n",
    "# matching the timestamp\n",
    "#df_0 = df_0[(df_0['Last avail. year'] > 1995) & (df_0['Last avail. year'] < 2009)]\n",
    "\n",
    "\n",
    "df_0=df_0.replace({'n.a.': np.nan,'n.s.': np.nan})\n",
    "df_0.shape  "
   ]
  },
  {
   "cell_type": "markdown",
   "metadata": {},
   "source": [
    "Check Assets Size"
   ]
  },
  {
   "cell_type": "code",
   "execution_count": 26,
   "metadata": {},
   "outputs": [
    {
     "data": {
      "text/plain": [
       "<matplotlib.collections.PathCollection at 0x7fa6bc957d00>"
      ]
     },
     "execution_count": 26,
     "metadata": {},
     "output_type": "execute_result"
    },
    {
     "data": {
      "image/png": "[encoded data removed]",
      "text/plain": [
       "<Figure size 720x432 with 1 Axes>"
      ]
     },
     "metadata": {
      "needs_background": "light"
     },
     "output_type": "display_data"
    }
   ],
   "source": [
    "plt.scatter(df_0.index,df_0['Total assets\\nth USD Last avail. yr'] )"
   ]
  },
  {
   "cell_type": "code",
   "execution_count": 27,
   "metadata": {},
   "outputs": [
    {
     "data": {
      "text/html": [
       "<div>\n",
       "<style scoped>\n",
       "    .dataframe tbody tr th:only-of-type {\n",
       "        vertical-align: middle;\n",
       "    }\n",
       "\n",
       "    .dataframe tbody tr th {\n",
       "        vertical-align: top;\n",
       "    }\n",
       "\n",
       "    .dataframe thead th {\n",
       "        text-align: right;\n",
       "    }\n",
       "</style>\n",
       "<table border=\"1\" class=\"dataframe\">\n",
       "  <thead>\n",
       "    <tr style=\"text-align: right;\">\n",
       "      <th></th>\n",
       "      <th>Unnamed: 0</th>\n",
       "      <th>Last avail. year</th>\n",
       "      <th>Operating revenue (Turnover)\\nth USD Year - 1</th>\n",
       "      <th>Operating revenue (Turnover)\\nth USD Last avail. yr</th>\n",
       "      <th>Cash flow\\nth USD Last avail. yr</th>\n",
       "      <th>Cash flow\\nth USD Year - 1</th>\n",
       "      <th>Total assets\\nth USD Last avail. yr</th>\n",
       "      <th>Total assets\\nth USD Year - 1</th>\n",
       "      <th>Liquidity ratio\\nLast avail. yr</th>\n",
       "      <th>Liquidity ratio\\nYear - 1</th>\n",
       "      <th>...</th>\n",
       "      <th>Operating revenue per employee (th) (th)\\nth USD Last avail. yr</th>\n",
       "      <th>Operating revenue per employee (th) (th)\\nth USD Year - 1</th>\n",
       "      <th>Costs of employees / Operating revenue (%)\\nLast avail. yr</th>\n",
       "      <th>Costs of employees / Operating revenue (%)\\nYear - 1</th>\n",
       "      <th>Working capital\\nth USD Last avail. yr</th>\n",
       "      <th>Working capital\\nth USD Year - 1</th>\n",
       "      <th>Earnings before Interest &amp; Tax\\nth USD Last avail. yr</th>\n",
       "      <th>Earnings before Interest &amp; Tax\\nth USD Year - 1</th>\n",
       "      <th>Sales\\nth USD Last avail. yr</th>\n",
       "      <th>Sales\\nth USD Year - 1</th>\n",
       "    </tr>\n",
       "  </thead>\n",
       "  <tbody>\n",
       "    <tr>\n",
       "      <th>count</th>\n",
       "      <td>66.000000</td>\n",
       "      <td>66.000000</td>\n",
       "      <td>6.300000e+01</td>\n",
       "      <td>6.600000e+01</td>\n",
       "      <td>6.300000e+01</td>\n",
       "      <td>6.200000e+01</td>\n",
       "      <td>6.600000e+01</td>\n",
       "      <td>6.300000e+01</td>\n",
       "      <td>66.000000</td>\n",
       "      <td>63.000000</td>\n",
       "      <td>...</td>\n",
       "      <td>51.000000</td>\n",
       "      <td>48.000000</td>\n",
       "      <td>6.000000</td>\n",
       "      <td>7.000000</td>\n",
       "      <td>2.800000e+01</td>\n",
       "      <td>28.000000</td>\n",
       "      <td>6.400000e+01</td>\n",
       "      <td>6.300000e+01</td>\n",
       "      <td>6.500000e+01</td>\n",
       "      <td>6.300000e+01</td>\n",
       "    </tr>\n",
       "    <tr>\n",
       "      <th>mean</th>\n",
       "      <td>1830.060606</td>\n",
       "      <td>1999.969697</td>\n",
       "      <td>4.479678e+05</td>\n",
       "      <td>5.523637e+05</td>\n",
       "      <td>-4.086465e+04</td>\n",
       "      <td>3.980628e+05</td>\n",
       "      <td>1.805324e+06</td>\n",
       "      <td>1.170576e+06</td>\n",
       "      <td>1.842152</td>\n",
       "      <td>2.099730</td>\n",
       "      <td>...</td>\n",
       "      <td>2327.679985</td>\n",
       "      <td>162.940225</td>\n",
       "      <td>16.880833</td>\n",
       "      <td>15.832571</td>\n",
       "      <td>1.396082e+05</td>\n",
       "      <td>74452.722134</td>\n",
       "      <td>-1.746227e+05</td>\n",
       "      <td>-6.527885e+04</td>\n",
       "      <td>5.473610e+05</td>\n",
       "      <td>4.455258e+05</td>\n",
       "    </tr>\n",
       "    <tr>\n",
       "      <th>std</th>\n",
       "      <td>872.434981</td>\n",
       "      <td>0.655619</td>\n",
       "      <td>7.885154e+05</td>\n",
       "      <td>9.724593e+05</td>\n",
       "      <td>7.349648e+05</td>\n",
       "      <td>3.490765e+06</td>\n",
       "      <td>5.561191e+06</td>\n",
       "      <td>3.611680e+06</td>\n",
       "      <td>1.596563</td>\n",
       "      <td>1.764368</td>\n",
       "      <td>...</td>\n",
       "      <td>10781.829551</td>\n",
       "      <td>103.316253</td>\n",
       "      <td>20.191431</td>\n",
       "      <td>17.665671</td>\n",
       "      <td>4.062870e+05</td>\n",
       "      <td>182944.457421</td>\n",
       "      <td>5.996320e+05</td>\n",
       "      <td>2.812322e+05</td>\n",
       "      <td>9.763861e+05</td>\n",
       "      <td>7.877064e+05</td>\n",
       "    </tr>\n",
       "    <tr>\n",
       "      <th>min</th>\n",
       "      <td>222.000000</td>\n",
       "      <td>1999.000000</td>\n",
       "      <td>1.078700e+04</td>\n",
       "      <td>9.953749e+04</td>\n",
       "      <td>-1.869200e+06</td>\n",
       "      <td>-1.449225e+06</td>\n",
       "      <td>1.594700e+04</td>\n",
       "      <td>2.194700e+04</td>\n",
       "      <td>0.058000</td>\n",
       "      <td>0.026000</td>\n",
       "      <td>...</td>\n",
       "      <td>64.519304</td>\n",
       "      <td>13.717791</td>\n",
       "      <td>0.243000</td>\n",
       "      <td>0.114000</td>\n",
       "      <td>-3.800000e+04</td>\n",
       "      <td>-67971.317841</td>\n",
       "      <td>-3.403000e+06</td>\n",
       "      <td>-1.713601e+06</td>\n",
       "      <td>9.516770e+04</td>\n",
       "      <td>1.078700e+04</td>\n",
       "    </tr>\n",
       "    <tr>\n",
       "      <th>25%</th>\n",
       "      <td>1024.000000</td>\n",
       "      <td>2000.000000</td>\n",
       "      <td>8.994129e+04</td>\n",
       "      <td>1.275475e+05</td>\n",
       "      <td>-8.045650e+04</td>\n",
       "      <td>-5.112500e+04</td>\n",
       "      <td>1.487644e+05</td>\n",
       "      <td>1.332561e+05</td>\n",
       "      <td>0.811000</td>\n",
       "      <td>0.925500</td>\n",
       "      <td>...</td>\n",
       "      <td>153.205111</td>\n",
       "      <td>113.100233</td>\n",
       "      <td>1.221750</td>\n",
       "      <td>0.915000</td>\n",
       "      <td>1.116555e+04</td>\n",
       "      <td>9951.939110</td>\n",
       "      <td>-1.519000e+05</td>\n",
       "      <td>-8.783300e+04</td>\n",
       "      <td>1.259380e+05</td>\n",
       "      <td>8.994129e+04</td>\n",
       "    </tr>\n",
       "    <tr>\n",
       "      <th>50%</th>\n",
       "      <td>2026.500000</td>\n",
       "      <td>2000.000000</td>\n",
       "      <td>1.921240e+05</td>\n",
       "      <td>2.529096e+05</td>\n",
       "      <td>5.778000e+03</td>\n",
       "      <td>2.572000e+03</td>\n",
       "      <td>3.578477e+05</td>\n",
       "      <td>3.037980e+05</td>\n",
       "      <td>1.518500</td>\n",
       "      <td>1.688000</td>\n",
       "      <td>...</td>\n",
       "      <td>209.537313</td>\n",
       "      <td>141.757624</td>\n",
       "      <td>10.440000</td>\n",
       "      <td>15.220000</td>\n",
       "      <td>2.801350e+04</td>\n",
       "      <td>23835.249139</td>\n",
       "      <td>-1.845013e+04</td>\n",
       "      <td>-5.365000e+03</td>\n",
       "      <td>2.496472e+05</td>\n",
       "      <td>1.920720e+05</td>\n",
       "    </tr>\n",
       "    <tr>\n",
       "      <th>75%</th>\n",
       "      <td>2546.250000</td>\n",
       "      <td>2000.000000</td>\n",
       "      <td>4.076019e+05</td>\n",
       "      <td>4.942719e+05</td>\n",
       "      <td>2.437120e+04</td>\n",
       "      <td>1.900250e+04</td>\n",
       "      <td>1.194902e+06</td>\n",
       "      <td>1.040808e+06</td>\n",
       "      <td>2.288250</td>\n",
       "      <td>2.551500</td>\n",
       "      <td>...</td>\n",
       "      <td>354.242895</td>\n",
       "      <td>187.933162</td>\n",
       "      <td>26.042250</td>\n",
       "      <td>22.733500</td>\n",
       "      <td>5.396150e+04</td>\n",
       "      <td>47035.342297</td>\n",
       "      <td>1.853927e+04</td>\n",
       "      <td>1.540106e+04</td>\n",
       "      <td>4.685790e+05</td>\n",
       "      <td>4.042188e+05</td>\n",
       "    </tr>\n",
       "    <tr>\n",
       "      <th>max</th>\n",
       "      <td>3090.000000</td>\n",
       "      <td>2001.000000</td>\n",
       "      <td>4.990420e+06</td>\n",
       "      <td>7.013461e+06</td>\n",
       "      <td>4.702000e+06</td>\n",
       "      <td>2.737900e+07</td>\n",
       "      <td>3.978600e+07</td>\n",
       "      <td>2.819200e+07</td>\n",
       "      <td>8.358000</td>\n",
       "      <td>8.834000</td>\n",
       "      <td>...</td>\n",
       "      <td>70214.991010</td>\n",
       "      <td>586.962308</td>\n",
       "      <td>50.770000</td>\n",
       "      <td>48.197000</td>\n",
       "      <td>2.087433e+06</td>\n",
       "      <td>921152.249145</td>\n",
       "      <td>6.181667e+05</td>\n",
       "      <td>5.935315e+05</td>\n",
       "      <td>7.013461e+06</td>\n",
       "      <td>4.990420e+06</td>\n",
       "    </tr>\n",
       "  </tbody>\n",
       "</table>\n",
       "<p>8 rows × 49 columns</p>\n",
       "</div>"
      ],
      "text/plain": [
       "        Unnamed: 0  Last avail. year  \\\n",
       "count    66.000000         66.000000   \n",
       "mean   1830.060606       1999.969697   \n",
       "std     872.434981          0.655619   \n",
       "min     222.000000       1999.000000   \n",
       "25%    1024.000000       2000.000000   \n",
       "50%    2026.500000       2000.000000   \n",
       "75%    2546.250000       2000.000000   \n",
       "max    3090.000000       2001.000000   \n",
       "\n",
       "       Operating revenue (Turnover)\\nth USD Year - 1  \\\n",
       "count                                   6.300000e+01   \n",
       "mean                                    4.479678e+05   \n",
       "std                                     7.885154e+05   \n",
       "min                                     1.078700e+04   \n",
       "25%                                     8.994129e+04   \n",
       "50%                                     1.921240e+05   \n",
       "75%                                     4.076019e+05   \n",
       "max                                     4.990420e+06   \n",
       "\n",
       "       Operating revenue (Turnover)\\nth USD Last avail. yr  \\\n",
       "count                                       6.600000e+01     \n",
       "mean                                        5.523637e+05     \n",
       "std                                         9.724593e+05     \n",
       "min                                         9.953749e+04     \n",
       "25%                                         1.275475e+05     \n",
       "50%                                         2.529096e+05     \n",
       "75%                                         4.942719e+05     \n",
       "max                                         7.013461e+06     \n",
       "\n",
       "       Cash flow\\nth USD Last avail. yr  Cash flow\\nth USD Year - 1  \\\n",
       "count                      6.300000e+01                6.200000e+01   \n",
       "mean                      -4.086465e+04                3.980628e+05   \n",
       "std                        7.349648e+05                3.490765e+06   \n",
       "min                       -1.869200e+06               -1.449225e+06   \n",
       "25%                       -8.045650e+04               -5.112500e+04   \n",
       "50%                        5.778000e+03                2.572000e+03   \n",
       "75%                        2.437120e+04                1.900250e+04   \n",
       "max                        4.702000e+06                2.737900e+07   \n",
       "\n",
       "       Total assets\\nth USD Last avail. yr  Total assets\\nth USD Year - 1  \\\n",
       "count                         6.600000e+01                   6.300000e+01   \n",
       "mean                          1.805324e+06                   1.170576e+06   \n",
       "std                           5.561191e+06                   3.611680e+06   \n",
       "min                           1.594700e+04                   2.194700e+04   \n",
       "25%                           1.487644e+05                   1.332561e+05   \n",
       "50%                           3.578477e+05                   3.037980e+05   \n",
       "75%                           1.194902e+06                   1.040808e+06   \n",
       "max                           3.978600e+07                   2.819200e+07   \n",
       "\n",
       "       Liquidity ratio\\nLast avail. yr  Liquidity ratio\\nYear - 1  ...  \\\n",
       "count                        66.000000                  63.000000  ...   \n",
       "mean                          1.842152                   2.099730  ...   \n",
       "std                           1.596563                   1.764368  ...   \n",
       "min                           0.058000                   0.026000  ...   \n",
       "25%                           0.811000                   0.925500  ...   \n",
       "50%                           1.518500                   1.688000  ...   \n",
       "75%                           2.288250                   2.551500  ...   \n",
       "max                           8.358000                   8.834000  ...   \n",
       "\n",
       "       Operating revenue per employee (th) (th)\\nth USD Last avail. yr  \\\n",
       "count                                          51.000000                 \n",
       "mean                                         2327.679985                 \n",
       "std                                         10781.829551                 \n",
       "min                                            64.519304                 \n",
       "25%                                           153.205111                 \n",
       "50%                                           209.537313                 \n",
       "75%                                           354.242895                 \n",
       "max                                         70214.991010                 \n",
       "\n",
       "       Operating revenue per employee (th) (th)\\nth USD Year - 1  \\\n",
       "count                                          48.000000           \n",
       "mean                                          162.940225           \n",
       "std                                           103.316253           \n",
       "min                                            13.717791           \n",
       "25%                                           113.100233           \n",
       "50%                                           141.757624           \n",
       "75%                                           187.933162           \n",
       "max                                           586.962308           \n",
       "\n",
       "       Costs of employees / Operating revenue (%)\\nLast avail. yr  \\\n",
       "count                                           6.000000            \n",
       "mean                                           16.880833            \n",
       "std                                            20.191431            \n",
       "min                                             0.243000            \n",
       "25%                                             1.221750            \n",
       "50%                                            10.440000            \n",
       "75%                                            26.042250            \n",
       "max                                            50.770000            \n",
       "\n",
       "       Costs of employees / Operating revenue (%)\\nYear - 1  \\\n",
       "count                                           7.000000      \n",
       "mean                                           15.832571      \n",
       "std                                            17.665671      \n",
       "min                                             0.114000      \n",
       "25%                                             0.915000      \n",
       "50%                                            15.220000      \n",
       "75%                                            22.733500      \n",
       "max                                            48.197000      \n",
       "\n",
       "       Working capital\\nth USD Last avail. yr  \\\n",
       "count                            2.800000e+01   \n",
       "mean                             1.396082e+05   \n",
       "std                              4.062870e+05   \n",
       "min                             -3.800000e+04   \n",
       "25%                              1.116555e+04   \n",
       "50%                              2.801350e+04   \n",
       "75%                              5.396150e+04   \n",
       "max                              2.087433e+06   \n",
       "\n",
       "       Working capital\\nth USD Year - 1  \\\n",
       "count                         28.000000   \n",
       "mean                       74452.722134   \n",
       "std                       182944.457421   \n",
       "min                       -67971.317841   \n",
       "25%                         9951.939110   \n",
       "50%                        23835.249139   \n",
       "75%                        47035.342297   \n",
       "max                       921152.249145   \n",
       "\n",
       "       Earnings before Interest & Tax\\nth USD Last avail. yr  \\\n",
       "count                                       6.400000e+01       \n",
       "mean                                       -1.746227e+05       \n",
       "std                                         5.996320e+05       \n",
       "min                                        -3.403000e+06       \n",
       "25%                                        -1.519000e+05       \n",
       "50%                                        -1.845013e+04       \n",
       "75%                                         1.853927e+04       \n",
       "max                                         6.181667e+05       \n",
       "\n",
       "       Earnings before Interest & Tax\\nth USD Year - 1  \\\n",
       "count                                     6.300000e+01   \n",
       "mean                                     -6.527885e+04   \n",
       "std                                       2.812322e+05   \n",
       "min                                      -1.713601e+06   \n",
       "25%                                      -8.783300e+04   \n",
       "50%                                      -5.365000e+03   \n",
       "75%                                       1.540106e+04   \n",
       "max                                       5.935315e+05   \n",
       "\n",
       "       Sales\\nth USD Last avail. yr  Sales\\nth USD Year - 1  \n",
       "count                  6.500000e+01            6.300000e+01  \n",
       "mean                   5.473610e+05            4.455258e+05  \n",
       "std                    9.763861e+05            7.877064e+05  \n",
       "min                    9.516770e+04            1.078700e+04  \n",
       "25%                    1.259380e+05            8.994129e+04  \n",
       "50%                    2.496472e+05            1.920720e+05  \n",
       "75%                    4.685790e+05            4.042188e+05  \n",
       "max                    7.013461e+06            4.990420e+06  \n",
       "\n",
       "[8 rows x 49 columns]"
      ]
     },
     "execution_count": 27,
     "metadata": {},
     "output_type": "execute_result"
    }
   ],
   "source": [
    "df_0.describe()"
   ]
  },
  {
   "cell_type": "code",
   "execution_count": 28,
   "metadata": {},
   "outputs": [],
   "source": [
    "df_0=df_0.fillna(0)\n",
    "\n",
    "\n",
    "df_0 = df_0[ df_0['Total assets\\nth USD Last avail. yr'] < 2389804]"
   ]
  },
  {
   "cell_type": "code",
   "execution_count": 29,
   "metadata": {},
   "outputs": [
    {
     "data": {
      "text/plain": [
       "(59, 50)"
      ]
     },
     "execution_count": 29,
     "metadata": {},
     "output_type": "execute_result"
    }
   ],
   "source": [
    "df_0.shape"
   ]
  },
  {
   "cell_type": "code",
   "execution_count": 30,
   "metadata": {},
   "outputs": [
    {
     "data": {
      "image/png": "[encoded data removed]",
      "text/plain": [
       "<Figure size 720x432 with 1 Axes>"
      ]
     },
     "metadata": {
      "needs_background": "light"
     },
     "output_type": "display_data"
    }
   ],
   "source": [
    "fig2, ax2 = plt.subplots()\n",
    "ax2.set_title('Basic Plot')\n",
    "ax2.boxplot(df_0['Total assets\\nth USD Last avail. yr'])\n",
    "plt.show()"
   ]
  },
  {
   "cell_type": "code",
   "execution_count": 31,
   "metadata": {},
   "outputs": [
    {
     "data": {
      "text/plain": [
       "<matplotlib.collections.PathCollection at 0x7fa6bc42d130>"
      ]
     },
     "execution_count": 31,
     "metadata": {},
     "output_type": "execute_result"
    },
    {
     "data": {
      "image/png": "[encoded data removed]",
      "text/plain": [
       "<Figure size 720x432 with 1 Axes>"
      ]
     },
     "metadata": {
      "needs_background": "light"
     },
     "output_type": "display_data"
    }
   ],
   "source": [
    "plt.scatter(df_0.index,df_0['Total assets\\nth USD Last avail. yr'] )"
   ]
  },
  {
   "cell_type": "code",
   "execution_count": 32,
   "metadata": {},
   "outputs": [],
   "source": [
    "###calculate ratios \n",
    "\n",
    "data2_0=df_0[['Company name Latin alphabet',\n",
    "                  'Liquidity ratio\\nLast avail. yr', 'Liquidity ratio\\nYear - 1', \n",
    "                   'Current ratio\\nLast avail. yr', 'Current ratio\\nYear - 1',\n",
    "                   'Profit margin (%)\\nLast avail. yr', 'Profit margin (%)\\nYear - 1',\n",
    "                  'Solvency ratio (Asset based) (%)\\nLast avail. yr',  'Solvency ratio (Asset based) (%)\\nYear - 1',\n",
    "                   'Profit per employee (th) (th)\\nth USD Last avail. yr', 'Profit per employee (th) (th)\\nth USD Year - 1',\n",
    "                   'Intangible fixed assets\\nth USD Last avail. yr', 'Intangible fixed assets\\nth USD Year - 1',\n",
    "                  \n",
    "                ]]\n",
    "\n",
    "data2_0['CL/TL avial year']=df_0['Current liabilities\\nth USD Last avail. yr']/(df_0['Total shareh. funds & liab.\\nth USD Last avail. yr']-df_0['Shareholders funds\\nth USD Last avail. yr']) -df_0['Current liabilities\\nth USD Year - 1']/(df_0['Total shareh. funds & liab.\\nth USD Year - 1']-df_0['Shareholders funds\\nth USD Year - 1'])\n",
    "                                                                                    \n",
    "data2_0['CL/TL year-1']=df_0['Current liabilities\\nth USD Year - 1']/(df_0['Total shareh. funds & liab.\\nth USD Year - 1']-df_0['Shareholders funds\\nth USD Year - 1']) -df_0['Current liabilities\\nth USD Year - 2']/(df_0['Total shareh. funds & liab.\\nth USD Year - 2']-df_0['Shareholders funds\\nth USD Year - 2'])\n",
    "                                   \n",
    "\n",
    "#data2['CF/CapEX avil year']=data1['Cash flow\\nth USD Last avail. yr']/data1['Capital Expenditures\\nth USD Last avail. yr']\n",
    "#data2['CF/CapEX year-1']=data1['Cash flow\\nth USD Year - 1']/data1[ 'Capital Expenditures\\nth USD Year - 1']\n",
    "\n",
    "\n",
    "#### add in 6 more Financial ratios\n",
    "# 1. Cash flow / Operating revenue \n",
    "data2_0['Cash flow / Operating revenue'] = df_0['Operating revenue (Turnover)\\nth USD Last avail. yr']\n",
    "data2_0['Cash flow / Operating revenue -1'] = df_0['Operating revenue (Turnover)\\nth USD Year - 1']\n",
    "\n",
    "\n",
    "# 2. operating revenue per employee\n",
    "data2_0['Operating revenue per employee'] = df_0['Operating revenue per employee (th) (th)\\nth USD Last avail. yr']\n",
    "data2_0['Operating revenue per employee -1'] = df_0['Operating revenue per employee (th) (th)\\nth USD Year - 1']\n",
    "\n",
    "\n",
    "#3. Costs of employees / Operating revenue \n",
    "data2_0['Costs of employees/Operating revenue'] = df_0['Costs of employees\\nth USD Last avail. yr'] / df_0['Operating revenue (Turnover)\\nth USD Last avail. yr']\n",
    "data2_0['Costs of employees/Operating revenue-1'] = df_0['Costs of employees\\nth USD Year - 1'] / df_0['Operating revenue (Turnover)\\nth USD Year - 1']\n",
    "\n",
    "#4. Working Capital/Total Assets\n",
    "data2_0['Working Capital/Total Assets'] = df_0['Working capital\\nth USD Last avail. yr'] / df_0['Total assets\\nth USD Last avail. yr']\n",
    "data2_0['Working Capital/Total Assets -1'] = df_0['Working capital\\nth USD Year - 1'] / df_0['Total assets\\nth USD Year - 1']\n",
    "\n",
    "\n",
    "# 5. Earnings before Interest and Taxes / Total Assets\n",
    "#data2['Earnings before Interest and Taxes / Total Assets'] = data1['Earnings before Interest & Tax\\nth USD Last avail. yr'] / data1['Total assets\\nth USD Last avail. yr']\n",
    "#data2['Earnings before Interest and Taxes / Total Assets -1'] = data1['Earnings before Interest & Tax\\nth USD Year - 1'] / data1['Total assets\\nth USD Year - 1']\n",
    "\n",
    "# 6.  Sales / Total Assets\n",
    "data2_0['Sales/Total Asset'] = df_0['Sales\\nth USD Last avail. yr'] / df_0['Total assets\\nth USD Last avail. yr']\n",
    "data2_0['Sales/Total Asset-1'] = df_0['Sales\\nth USD Year - 1'] / df_0['Total assets\\nth USD Year - 1']"
   ]
  },
  {
   "cell_type": "code",
   "execution_count": 33,
   "metadata": {},
   "outputs": [],
   "source": [
    "df2_a=data2_0.iloc[:,[0,2,4,6,8,10,12,14,16,18,20,22,24]]\n",
    "\n",
    "df2_b=data2_0.iloc[:,[0,1,3,5,7,9,11,13,15,17,19,21,23]]"
   ]
  },
  {
   "cell_type": "code",
   "execution_count": 34,
   "metadata": {},
   "outputs": [],
   "source": [
    "df2_a.columns=['Company name',' Liquidity ratio',' Current ratio','Profit margin (%)',\n",
    "                'Solvency ratio (Asset based) (%)', 'Profit per employee', 'Intangible fixed assets',\n",
    "                'CL/TL', 'CF/Operating Revenue', 'Operating revenue per employee',\n",
    "                'Costs of employees/Operating revenue', 'Working Capital/Total Assets','Sales/Total Asset']\n",
    "\n",
    "df2_b.columns=['Company name',' Liquidity ratio',' Current ratio','Profit margin (%)',\n",
    "                'Solvency ratio (Asset based) (%)', 'Profit per employee', 'Intangible fixed assets',\n",
    "                'CL/TL', 'CF/Operating Revenue', 'Operating revenue per employee',\n",
    "                'Costs of employees/Operating revenue', 'Working Capital/Total Assets','Sales/Total Asset']"
   ]
  },
  {
   "cell_type": "code",
   "execution_count": 35,
   "metadata": {},
   "outputs": [],
   "source": [
    "df_2_cat=pd.concat([df2_a,df2_b])\n",
    "df_2_cat=df_2_cat.fillna(0)"
   ]
  },
  {
   "cell_type": "code",
   "execution_count": 36,
   "metadata": {},
   "outputs": [
    {
     "data": {
      "text/plain": [
       "(118, 13)"
      ]
     },
     "execution_count": 36,
     "metadata": {},
     "output_type": "execute_result"
    }
   ],
   "source": [
    "# None bankrupt  == Active firms\n",
    "df_2_cat.shape"
   ]
  },
  {
   "cell_type": "markdown",
   "metadata": {},
   "source": [
    "## PCA"
   ]
  },
  {
   "cell_type": "markdown",
   "metadata": {},
   "source": [
    "Step1: Principle Component Analysis on `defalut data`"
   ]
  },
  {
   "cell_type": "code",
   "execution_count": 37,
   "metadata": {},
   "outputs": [],
   "source": [
    "import matplotlib.pyplot as plt\n",
    "from sklearn.decomposition import PCA\n",
    "from sklearn.preprocessing import StandardScaler\n",
    "%matplotlib inline"
   ]
  },
  {
   "cell_type": "code",
   "execution_count": 38,
   "metadata": {},
   "outputs": [
    {
     "data": {
      "text/html": [
       "<div>\n",
       "<style scoped>\n",
       "    .dataframe tbody tr th:only-of-type {\n",
       "        vertical-align: middle;\n",
       "    }\n",
       "\n",
       "    .dataframe tbody tr th {\n",
       "        vertical-align: top;\n",
       "    }\n",
       "\n",
       "    .dataframe thead th {\n",
       "        text-align: right;\n",
       "    }\n",
       "</style>\n",
       "<table border=\"1\" class=\"dataframe\">\n",
       "  <thead>\n",
       "    <tr style=\"text-align: right;\">\n",
       "      <th></th>\n",
       "      <th>Liquidity ratio</th>\n",
       "      <th>Current ratio</th>\n",
       "      <th>Profit margin (%)</th>\n",
       "      <th>Solvency ratio (Asset based) (%)</th>\n",
       "      <th>Profit per employee</th>\n",
       "      <th>Intangible fixed assets</th>\n",
       "      <th>CL/TL</th>\n",
       "      <th>CF/Operating Revenue</th>\n",
       "      <th>Operating revenue per employee</th>\n",
       "      <th>Costs of employees/Operating revenue</th>\n",
       "      <th>Working Capital/Total Assets</th>\n",
       "      <th>Sales/Total Asset</th>\n",
       "    </tr>\n",
       "  </thead>\n",
       "  <tbody>\n",
       "    <tr>\n",
       "      <th>0</th>\n",
       "      <td>-0.344566</td>\n",
       "      <td>-0.172003</td>\n",
       "      <td>-0.009817</td>\n",
       "      <td>-0.543559</td>\n",
       "      <td>0.099852</td>\n",
       "      <td>-0.466738</td>\n",
       "      <td>0.333030</td>\n",
       "      <td>2.029065</td>\n",
       "      <td>1.238703</td>\n",
       "      <td>-1.096103</td>\n",
       "      <td>1.014276</td>\n",
       "      <td>-0.971917</td>\n",
       "    </tr>\n",
       "    <tr>\n",
       "      <th>1</th>\n",
       "      <td>-0.390143</td>\n",
       "      <td>-0.312624</td>\n",
       "      <td>0.640443</td>\n",
       "      <td>-1.964603</td>\n",
       "      <td>0.057842</td>\n",
       "      <td>4.453513</td>\n",
       "      <td>0.518996</td>\n",
       "      <td>0.793353</td>\n",
       "      <td>-0.412431</td>\n",
       "      <td>0.785228</td>\n",
       "      <td>-1.289592</td>\n",
       "      <td>-0.126668</td>\n",
       "    </tr>\n",
       "    <tr>\n",
       "      <th>2</th>\n",
       "      <td>-0.212772</td>\n",
       "      <td>-0.142132</td>\n",
       "      <td>0.009347</td>\n",
       "      <td>-0.010623</td>\n",
       "      <td>0.074788</td>\n",
       "      <td>-0.517351</td>\n",
       "      <td>-0.275796</td>\n",
       "      <td>-0.711294</td>\n",
       "      <td>-0.141940</td>\n",
       "      <td>-0.101684</td>\n",
       "      <td>0.639541</td>\n",
       "      <td>-0.305553</td>\n",
       "    </tr>\n",
       "    <tr>\n",
       "      <th>3</th>\n",
       "      <td>-0.214671</td>\n",
       "      <td>-0.206469</td>\n",
       "      <td>-2.886770</td>\n",
       "      <td>-1.003270</td>\n",
       "      <td>-1.348192</td>\n",
       "      <td>-0.517351</td>\n",
       "      <td>0.044279</td>\n",
       "      <td>-0.670037</td>\n",
       "      <td>-0.159214</td>\n",
       "      <td>1.499077</td>\n",
       "      <td>-0.154040</td>\n",
       "      <td>-0.362650</td>\n",
       "    </tr>\n",
       "    <tr>\n",
       "      <th>4</th>\n",
       "      <td>-0.163016</td>\n",
       "      <td>-0.175220</td>\n",
       "      <td>-0.230853</td>\n",
       "      <td>0.014760</td>\n",
       "      <td>-0.113544</td>\n",
       "      <td>-0.374305</td>\n",
       "      <td>0.044279</td>\n",
       "      <td>-0.572559</td>\n",
       "      <td>0.012753</td>\n",
       "      <td>0.718915</td>\n",
       "      <td>0.732149</td>\n",
       "      <td>-0.078370</td>\n",
       "    </tr>\n",
       "  </tbody>\n",
       "</table>\n",
       "</div>"
      ],
      "text/plain": [
       "    Liquidity ratio   Current ratio  Profit margin (%)  \\\n",
       "0         -0.344566       -0.172003          -0.009817   \n",
       "1         -0.390143       -0.312624           0.640443   \n",
       "2         -0.212772       -0.142132           0.009347   \n",
       "3         -0.214671       -0.206469          -2.886770   \n",
       "4         -0.163016       -0.175220          -0.230853   \n",
       "\n",
       "   Solvency ratio (Asset based) (%)  Profit per employee  \\\n",
       "0                         -0.543559             0.099852   \n",
       "1                         -1.964603             0.057842   \n",
       "2                         -0.010623             0.074788   \n",
       "3                         -1.003270            -1.348192   \n",
       "4                          0.014760            -0.113544   \n",
       "\n",
       "   Intangible fixed assets     CL/TL  CF/Operating Revenue  \\\n",
       "0                -0.466738  0.333030              2.029065   \n",
       "1                 4.453513  0.518996              0.793353   \n",
       "2                -0.517351 -0.275796             -0.711294   \n",
       "3                -0.517351  0.044279             -0.670037   \n",
       "4                -0.374305  0.044279             -0.572559   \n",
       "\n",
       "   Operating revenue per employee  Costs of employees/Operating revenue  \\\n",
       "0                        1.238703                             -1.096103   \n",
       "1                       -0.412431                              0.785228   \n",
       "2                       -0.141940                             -0.101684   \n",
       "3                       -0.159214                              1.499077   \n",
       "4                        0.012753                              0.718915   \n",
       "\n",
       "   Working Capital/Total Assets  Sales/Total Asset  \n",
       "0                      1.014276          -0.971917  \n",
       "1                     -1.289592          -0.126668  \n",
       "2                      0.639541          -0.305553  \n",
       "3                     -0.154040          -0.362650  \n",
       "4                      0.732149          -0.078370  "
      ]
     },
     "execution_count": 38,
     "metadata": {},
     "output_type": "execute_result"
    }
   ],
   "source": [
    "features = df_1_cat.columns[1:].values\n",
    "x = df_1_cat.loc[:, features].values\n",
    "\n",
    "x = StandardScaler().fit_transform(x)\n",
    "\n",
    "pd.DataFrame(data = x, columns = features).head()"
   ]
  },
  {
   "cell_type": "code",
   "execution_count": 39,
   "metadata": {},
   "outputs": [],
   "source": [
    "pca = PCA(n_components=8)\n",
    "\n",
    "principalComponents = pca.fit_transform(x)\n",
    "\n",
    "principalDf = pd.DataFrame(data = principalComponents\n",
    "             , columns = ['pc1', 'pc2', 'pc3', 'pc4', 'pc5', 'pc6', 'pc7', 'pc8'])"
   ]
  },
  {
   "cell_type": "code",
   "execution_count": 40,
   "metadata": {},
   "outputs": [
    {
     "data": {
      "text/html": [
       "<div>\n",
       "<style scoped>\n",
       "    .dataframe tbody tr th:only-of-type {\n",
       "        vertical-align: middle;\n",
       "    }\n",
       "\n",
       "    .dataframe tbody tr th {\n",
       "        vertical-align: top;\n",
       "    }\n",
       "\n",
       "    .dataframe thead th {\n",
       "        text-align: right;\n",
       "    }\n",
       "</style>\n",
       "<table border=\"1\" class=\"dataframe\">\n",
       "  <thead>\n",
       "    <tr style=\"text-align: right;\">\n",
       "      <th></th>\n",
       "      <th>pc1</th>\n",
       "      <th>pc2</th>\n",
       "      <th>pc3</th>\n",
       "      <th>pc4</th>\n",
       "      <th>pc5</th>\n",
       "      <th>pc6</th>\n",
       "      <th>pc7</th>\n",
       "      <th>pc8</th>\n",
       "    </tr>\n",
       "  </thead>\n",
       "  <tbody>\n",
       "    <tr>\n",
       "      <th>0</th>\n",
       "      <td>0.867605</td>\n",
       "      <td>-0.069326</td>\n",
       "      <td>0.665396</td>\n",
       "      <td>-0.541109</td>\n",
       "      <td>-0.597554</td>\n",
       "      <td>-1.822975</td>\n",
       "      <td>-1.330754</td>\n",
       "      <td>0.713797</td>\n",
       "    </tr>\n",
       "    <tr>\n",
       "      <th>1</th>\n",
       "      <td>-1.038723</td>\n",
       "      <td>1.807833</td>\n",
       "      <td>1.819744</td>\n",
       "      <td>3.701694</td>\n",
       "      <td>-1.424782</td>\n",
       "      <td>-0.242677</td>\n",
       "      <td>-0.354481</td>\n",
       "      <td>-0.718081</td>\n",
       "    </tr>\n",
       "    <tr>\n",
       "      <th>2</th>\n",
       "      <td>-0.368985</td>\n",
       "      <td>-0.123361</td>\n",
       "      <td>-0.842909</td>\n",
       "      <td>-0.554756</td>\n",
       "      <td>0.093864</td>\n",
       "      <td>-0.385465</td>\n",
       "      <td>0.161168</td>\n",
       "      <td>0.187547</td>\n",
       "    </tr>\n",
       "    <tr>\n",
       "      <th>3</th>\n",
       "      <td>-1.362096</td>\n",
       "      <td>2.756174</td>\n",
       "      <td>0.297966</td>\n",
       "      <td>-1.512869</td>\n",
       "      <td>-0.062178</td>\n",
       "      <td>0.768751</td>\n",
       "      <td>0.912578</td>\n",
       "      <td>0.109355</td>\n",
       "    </tr>\n",
       "    <tr>\n",
       "      <th>4</th>\n",
       "      <td>-0.510546</td>\n",
       "      <td>0.146510</td>\n",
       "      <td>-0.627754</td>\n",
       "      <td>-0.708438</td>\n",
       "      <td>-0.486010</td>\n",
       "      <td>0.197183</td>\n",
       "      <td>0.325772</td>\n",
       "      <td>0.038796</td>\n",
       "    </tr>\n",
       "  </tbody>\n",
       "</table>\n",
       "</div>"
      ],
      "text/plain": [
       "        pc1       pc2       pc3       pc4       pc5       pc6       pc7  \\\n",
       "0  0.867605 -0.069326  0.665396 -0.541109 -0.597554 -1.822975 -1.330754   \n",
       "1 -1.038723  1.807833  1.819744  3.701694 -1.424782 -0.242677 -0.354481   \n",
       "2 -0.368985 -0.123361 -0.842909 -0.554756  0.093864 -0.385465  0.161168   \n",
       "3 -1.362096  2.756174  0.297966 -1.512869 -0.062178  0.768751  0.912578   \n",
       "4 -0.510546  0.146510 -0.627754 -0.708438 -0.486010  0.197183  0.325772   \n",
       "\n",
       "        pc8  \n",
       "0  0.713797  \n",
       "1 -0.718081  \n",
       "2  0.187547  \n",
       "3  0.109355  \n",
       "4  0.038796  "
      ]
     },
     "execution_count": 40,
     "metadata": {},
     "output_type": "execute_result"
    }
   ],
   "source": [
    "principalDf.head(5)"
   ]
  },
  {
   "cell_type": "code",
   "execution_count": 41,
   "metadata": {},
   "outputs": [
    {
     "data": {
      "text/plain": [
       "array([26.7, 17.4, 11.7,  9.5,  8.5,  7. ,  5.8,  4.4])"
      ]
     },
     "execution_count": 41,
     "metadata": {},
     "output_type": "execute_result"
    }
   ],
   "source": [
    "per_var = np.round(pca.explained_variance_ratio_*100, decimals=1)\n",
    "labels = ['PC' + str(x) for x in range(1, len(per_var)+1)]\n",
    "per_var"
   ]
  },
  {
   "cell_type": "code",
   "execution_count": 42,
   "metadata": {},
   "outputs": [
    {
     "data": {
      "image/png": "[encoded data removed]",
      "text/plain": [
       "<Figure size 576x432 with 1 Axes>"
      ]
     },
     "metadata": {
      "needs_background": "light"
     },
     "output_type": "display_data"
    }
   ],
   "source": [
    "plt.figure(figsize=(8,6))\n",
    "plt.bar(x=range(1,len(per_var)+1), height=per_var, tick_label = labels)\n",
    "plt.ylabel('percentage of explained variance')\n",
    "plt.xlabel('principal component')\n",
    "\n",
    "plt.show()"
   ]
  },
  {
   "cell_type": "code",
   "execution_count": 43,
   "metadata": {},
   "outputs": [
    {
     "data": {
      "text/plain": [
       "array([0.26707132, 0.17355688, 0.11745175, 0.09473271, 0.08498862,\n",
       "       0.06950815, 0.05773942, 0.04429457])"
      ]
     },
     "execution_count": 43,
     "metadata": {},
     "output_type": "execute_result"
    }
   ],
   "source": [
    "pca.explained_variance_ratio_"
   ]
  },
  {
   "cell_type": "code",
   "execution_count": 44,
   "metadata": {
    "scrolled": true
   },
   "outputs": [
    {
     "data": {
      "text/plain": [
       "0.9093434302855654"
      ]
     },
     "execution_count": 44,
     "metadata": {},
     "output_type": "execute_result"
    }
   ],
   "source": [
    "pca.explained_variance_ratio_.sum()"
   ]
  },
  {
   "cell_type": "code",
   "execution_count": 45,
   "metadata": {},
   "outputs": [],
   "source": [
    "principalDf.index=df_1_cat.index"
   ]
  },
  {
   "cell_type": "code",
   "execution_count": 46,
   "metadata": {},
   "outputs": [],
   "source": [
    "data_merge = pd.concat([df_1_cat, principalDf], axis=1)"
   ]
  },
  {
   "cell_type": "markdown",
   "metadata": {},
   "source": [
    "## Select Financial Ratios"
   ]
  },
  {
   "cell_type": "code",
   "execution_count": 47,
   "metadata": {
    "scrolled": false
   },
   "outputs": [
    {
     "data": {
      "text/html": [
       "<div>\n",
       "<style scoped>\n",
       "    .dataframe tbody tr th:only-of-type {\n",
       "        vertical-align: middle;\n",
       "    }\n",
       "\n",
       "    .dataframe tbody tr th {\n",
       "        vertical-align: top;\n",
       "    }\n",
       "\n",
       "    .dataframe thead th {\n",
       "        text-align: right;\n",
       "    }\n",
       "</style>\n",
       "<table border=\"1\" class=\"dataframe\">\n",
       "  <thead>\n",
       "    <tr style=\"text-align: right;\">\n",
       "      <th></th>\n",
       "      <th>Liquidity ratio</th>\n",
       "      <th>Current ratio</th>\n",
       "      <th>Profit margin (%)</th>\n",
       "      <th>Solvency ratio (Asset based) (%)</th>\n",
       "      <th>Profit per employee</th>\n",
       "      <th>Intangible fixed assets</th>\n",
       "      <th>CL/TL</th>\n",
       "      <th>CF/Operating Revenue</th>\n",
       "      <th>Operating revenue per employee</th>\n",
       "      <th>Costs of employees/Operating revenue</th>\n",
       "      <th>Working Capital/Total Assets</th>\n",
       "      <th>Sales/Total Asset</th>\n",
       "      <th>pc1</th>\n",
       "      <th>pc2</th>\n",
       "      <th>pc3</th>\n",
       "      <th>pc4</th>\n",
       "      <th>pc5</th>\n",
       "      <th>pc6</th>\n",
       "      <th>pc7</th>\n",
       "      <th>pc8</th>\n",
       "    </tr>\n",
       "  </thead>\n",
       "  <tbody>\n",
       "    <tr>\n",
       "      <th>Liquidity ratio</th>\n",
       "      <td>1.000000</td>\n",
       "      <td>0.990414</td>\n",
       "      <td>0.063427</td>\n",
       "      <td>0.154671</td>\n",
       "      <td>0.112607</td>\n",
       "      <td>-0.061147</td>\n",
       "      <td>-0.458594</td>\n",
       "      <td>0.313768</td>\n",
       "      <td>0.683116</td>\n",
       "      <td>-0.149658</td>\n",
       "      <td>-0.006241</td>\n",
       "      <td>0.158523</td>\n",
       "      <td>9.181314e-01</td>\n",
       "      <td>1.448107e-01</td>\n",
       "      <td>-1.554189e-01</td>\n",
       "      <td>2.913694e-02</td>\n",
       "      <td>-3.020329e-03</td>\n",
       "      <td>2.095206e-01</td>\n",
       "      <td>1.650917e-01</td>\n",
       "      <td>8.793344e-02</td>\n",
       "    </tr>\n",
       "    <tr>\n",
       "      <th>Current ratio</th>\n",
       "      <td>0.990414</td>\n",
       "      <td>1.000000</td>\n",
       "      <td>0.039257</td>\n",
       "      <td>0.075683</td>\n",
       "      <td>0.094556</td>\n",
       "      <td>-0.048800</td>\n",
       "      <td>-0.476415</td>\n",
       "      <td>0.319160</td>\n",
       "      <td>0.704659</td>\n",
       "      <td>-0.170778</td>\n",
       "      <td>-0.004750</td>\n",
       "      <td>0.147606</td>\n",
       "      <td>9.213753e-01</td>\n",
       "      <td>1.913912e-01</td>\n",
       "      <td>-1.396764e-01</td>\n",
       "      <td>2.188847e-02</td>\n",
       "      <td>7.512844e-03</td>\n",
       "      <td>1.481012e-01</td>\n",
       "      <td>1.677867e-01</td>\n",
       "      <td>7.522849e-02</td>\n",
       "    </tr>\n",
       "    <tr>\n",
       "      <th>Profit margin (%)</th>\n",
       "      <td>0.063427</td>\n",
       "      <td>0.039257</td>\n",
       "      <td>1.000000</td>\n",
       "      <td>0.487281</td>\n",
       "      <td>0.440337</td>\n",
       "      <td>-0.228774</td>\n",
       "      <td>0.008967</td>\n",
       "      <td>0.057382</td>\n",
       "      <td>-0.017469</td>\n",
       "      <td>-0.185225</td>\n",
       "      <td>0.048512</td>\n",
       "      <td>0.050211</td>\n",
       "      <td>1.736427e-01</td>\n",
       "      <td>-7.089102e-01</td>\n",
       "      <td>-3.462106e-01</td>\n",
       "      <td>2.504891e-01</td>\n",
       "      <td>9.063767e-02</td>\n",
       "      <td>1.468384e-02</td>\n",
       "      <td>-2.856045e-01</td>\n",
       "      <td>-1.802978e-01</td>\n",
       "    </tr>\n",
       "    <tr>\n",
       "      <th>Solvency ratio (Asset based) (%)</th>\n",
       "      <td>0.154671</td>\n",
       "      <td>0.075683</td>\n",
       "      <td>0.487281</td>\n",
       "      <td>1.000000</td>\n",
       "      <td>0.259107</td>\n",
       "      <td>-0.179622</td>\n",
       "      <td>0.156505</td>\n",
       "      <td>0.096918</td>\n",
       "      <td>-0.081300</td>\n",
       "      <td>-0.136790</td>\n",
       "      <td>0.093297</td>\n",
       "      <td>0.233200</td>\n",
       "      <td>1.803828e-01</td>\n",
       "      <td>-7.139760e-01</td>\n",
       "      <td>-1.185028e-01</td>\n",
       "      <td>5.877129e-02</td>\n",
       "      <td>-5.722696e-02</td>\n",
       "      <td>4.835675e-01</td>\n",
       "      <td>-1.753756e-01</td>\n",
       "      <td>2.767077e-01</td>\n",
       "    </tr>\n",
       "    <tr>\n",
       "      <th>Profit per employee</th>\n",
       "      <td>0.112607</td>\n",
       "      <td>0.094556</td>\n",
       "      <td>0.440337</td>\n",
       "      <td>0.259107</td>\n",
       "      <td>1.000000</td>\n",
       "      <td>0.037945</td>\n",
       "      <td>0.041698</td>\n",
       "      <td>0.008837</td>\n",
       "      <td>0.002828</td>\n",
       "      <td>-0.184649</td>\n",
       "      <td>0.127374</td>\n",
       "      <td>0.101745</td>\n",
       "      <td>1.814684e-01</td>\n",
       "      <td>-5.544132e-01</td>\n",
       "      <td>-2.397828e-01</td>\n",
       "      <td>4.609155e-01</td>\n",
       "      <td>-2.137825e-01</td>\n",
       "      <td>-3.401409e-01</td>\n",
       "      <td>3.933965e-01</td>\n",
       "      <td>-1.495944e-01</td>\n",
       "    </tr>\n",
       "    <tr>\n",
       "      <th>Intangible fixed assets</th>\n",
       "      <td>-0.061147</td>\n",
       "      <td>-0.048800</td>\n",
       "      <td>-0.228774</td>\n",
       "      <td>-0.179622</td>\n",
       "      <td>0.037945</td>\n",
       "      <td>1.000000</td>\n",
       "      <td>0.046341</td>\n",
       "      <td>0.151542</td>\n",
       "      <td>0.004076</td>\n",
       "      <td>0.177485</td>\n",
       "      <td>-0.200462</td>\n",
       "      <td>-0.156897</td>\n",
       "      <td>-1.017499e-01</td>\n",
       "      <td>3.593935e-01</td>\n",
       "      <td>3.029319e-01</td>\n",
       "      <td>7.115818e-01</td>\n",
       "      <td>-4.054064e-01</td>\n",
       "      <td>1.059631e-02</td>\n",
       "      <td>-4.114095e-02</td>\n",
       "      <td>1.416194e-01</td>\n",
       "    </tr>\n",
       "    <tr>\n",
       "      <th>CL/TL</th>\n",
       "      <td>-0.458594</td>\n",
       "      <td>-0.476415</td>\n",
       "      <td>0.008967</td>\n",
       "      <td>0.156505</td>\n",
       "      <td>0.041698</td>\n",
       "      <td>0.046341</td>\n",
       "      <td>1.000000</td>\n",
       "      <td>-0.074185</td>\n",
       "      <td>-0.335303</td>\n",
       "      <td>-0.009725</td>\n",
       "      <td>-0.031865</td>\n",
       "      <td>0.234299</td>\n",
       "      <td>-4.822878e-01</td>\n",
       "      <td>-4.158818e-01</td>\n",
       "      <td>4.844498e-01</td>\n",
       "      <td>-1.214626e-02</td>\n",
       "      <td>-9.661532e-02</td>\n",
       "      <td>1.475828e-01</td>\n",
       "      <td>2.743301e-01</td>\n",
       "      <td>3.067066e-01</td>\n",
       "    </tr>\n",
       "    <tr>\n",
       "      <th>CF/Operating Revenue</th>\n",
       "      <td>0.313768</td>\n",
       "      <td>0.319160</td>\n",
       "      <td>0.057382</td>\n",
       "      <td>0.096918</td>\n",
       "      <td>0.008837</td>\n",
       "      <td>0.151542</td>\n",
       "      <td>-0.074185</td>\n",
       "      <td>1.000000</td>\n",
       "      <td>0.418738</td>\n",
       "      <td>-0.251987</td>\n",
       "      <td>0.050648</td>\n",
       "      <td>0.374986</td>\n",
       "      <td>5.356230e-01</td>\n",
       "      <td>-7.651770e-02</td>\n",
       "      <td>5.272391e-01</td>\n",
       "      <td>2.154592e-02</td>\n",
       "      <td>-3.250651e-01</td>\n",
       "      <td>-8.610202e-02</td>\n",
       "      <td>-4.623719e-01</td>\n",
       "      <td>-1.436096e-01</td>\n",
       "    </tr>\n",
       "    <tr>\n",
       "      <th>Operating revenue per employee</th>\n",
       "      <td>0.683116</td>\n",
       "      <td>0.704659</td>\n",
       "      <td>-0.017469</td>\n",
       "      <td>-0.081300</td>\n",
       "      <td>0.002828</td>\n",
       "      <td>0.004076</td>\n",
       "      <td>-0.335303</td>\n",
       "      <td>0.418738</td>\n",
       "      <td>1.000000</td>\n",
       "      <td>-0.244511</td>\n",
       "      <td>0.003693</td>\n",
       "      <td>0.162755</td>\n",
       "      <td>8.096665e-01</td>\n",
       "      <td>2.341836e-01</td>\n",
       "      <td>1.068931e-01</td>\n",
       "      <td>-3.171822e-02</td>\n",
       "      <td>-1.364588e-02</td>\n",
       "      <td>-1.037892e-01</td>\n",
       "      <td>3.097905e-02</td>\n",
       "      <td>1.100533e-01</td>\n",
       "    </tr>\n",
       "    <tr>\n",
       "      <th>Costs of employees/Operating revenue</th>\n",
       "      <td>-0.149658</td>\n",
       "      <td>-0.170778</td>\n",
       "      <td>-0.185225</td>\n",
       "      <td>-0.136790</td>\n",
       "      <td>-0.184649</td>\n",
       "      <td>0.177485</td>\n",
       "      <td>-0.009725</td>\n",
       "      <td>-0.251987</td>\n",
       "      <td>-0.244511</td>\n",
       "      <td>1.000000</td>\n",
       "      <td>0.109890</td>\n",
       "      <td>-0.263212</td>\n",
       "      <td>-3.671720e-01</td>\n",
       "      <td>3.657660e-01</td>\n",
       "      <td>-3.181372e-01</td>\n",
       "      <td>-2.719937e-03</td>\n",
       "      <td>-4.697658e-01</td>\n",
       "      <td>5.200370e-01</td>\n",
       "      <td>7.671930e-02</td>\n",
       "      <td>-2.969526e-01</td>\n",
       "    </tr>\n",
       "    <tr>\n",
       "      <th>Working Capital/Total Assets</th>\n",
       "      <td>-0.006241</td>\n",
       "      <td>-0.004750</td>\n",
       "      <td>0.048512</td>\n",
       "      <td>0.093297</td>\n",
       "      <td>0.127374</td>\n",
       "      <td>-0.200462</td>\n",
       "      <td>-0.031865</td>\n",
       "      <td>0.050648</td>\n",
       "      <td>0.003693</td>\n",
       "      <td>0.109890</td>\n",
       "      <td>1.000000</td>\n",
       "      <td>0.018019</td>\n",
       "      <td>3.146813e-02</td>\n",
       "      <td>-1.870847e-01</td>\n",
       "      <td>-3.175885e-01</td>\n",
       "      <td>-5.167022e-01</td>\n",
       "      <td>-6.753081e-01</td>\n",
       "      <td>-2.936936e-01</td>\n",
       "      <td>-2.454268e-02</td>\n",
       "      <td>1.851288e-01</td>\n",
       "    </tr>\n",
       "    <tr>\n",
       "      <th>Sales/Total Asset</th>\n",
       "      <td>0.158523</td>\n",
       "      <td>0.147606</td>\n",
       "      <td>0.050211</td>\n",
       "      <td>0.233200</td>\n",
       "      <td>0.101745</td>\n",
       "      <td>-0.156897</td>\n",
       "      <td>0.234299</td>\n",
       "      <td>0.374986</td>\n",
       "      <td>0.162755</td>\n",
       "      <td>-0.263212</td>\n",
       "      <td>0.018019</td>\n",
       "      <td>1.000000</td>\n",
       "      <td>3.100415e-01</td>\n",
       "      <td>-4.168798e-01</td>\n",
       "      <td>5.970056e-01</td>\n",
       "      <td>-2.861247e-01</td>\n",
       "      <td>-7.963390e-02</td>\n",
       "      <td>1.474546e-01</td>\n",
       "      <td>2.686873e-01</td>\n",
       "      <td>-3.426024e-01</td>\n",
       "    </tr>\n",
       "    <tr>\n",
       "      <th>pc1</th>\n",
       "      <td>0.918131</td>\n",
       "      <td>0.921375</td>\n",
       "      <td>0.173643</td>\n",
       "      <td>0.180383</td>\n",
       "      <td>0.181468</td>\n",
       "      <td>-0.101750</td>\n",
       "      <td>-0.482288</td>\n",
       "      <td>0.535623</td>\n",
       "      <td>0.809666</td>\n",
       "      <td>-0.367172</td>\n",
       "      <td>0.031468</td>\n",
       "      <td>0.310041</td>\n",
       "      <td>1.000000e+00</td>\n",
       "      <td>-6.168247e-17</td>\n",
       "      <td>6.298100e-17</td>\n",
       "      <td>-4.387058e-17</td>\n",
       "      <td>7.976637e-17</td>\n",
       "      <td>3.577745e-17</td>\n",
       "      <td>7.396132e-17</td>\n",
       "      <td>-1.178048e-16</td>\n",
       "    </tr>\n",
       "    <tr>\n",
       "      <th>pc2</th>\n",
       "      <td>0.144811</td>\n",
       "      <td>0.191391</td>\n",
       "      <td>-0.708910</td>\n",
       "      <td>-0.713976</td>\n",
       "      <td>-0.554413</td>\n",
       "      <td>0.359394</td>\n",
       "      <td>-0.415882</td>\n",
       "      <td>-0.076518</td>\n",
       "      <td>0.234184</td>\n",
       "      <td>0.365766</td>\n",
       "      <td>-0.187085</td>\n",
       "      <td>-0.416880</td>\n",
       "      <td>-6.168247e-17</td>\n",
       "      <td>1.000000e+00</td>\n",
       "      <td>-4.739909e-17</td>\n",
       "      <td>2.563593e-16</td>\n",
       "      <td>-2.400726e-18</td>\n",
       "      <td>-2.382481e-16</td>\n",
       "      <td>2.153885e-16</td>\n",
       "      <td>-2.654755e-17</td>\n",
       "    </tr>\n",
       "    <tr>\n",
       "      <th>pc3</th>\n",
       "      <td>-0.155419</td>\n",
       "      <td>-0.139676</td>\n",
       "      <td>-0.346211</td>\n",
       "      <td>-0.118503</td>\n",
       "      <td>-0.239783</td>\n",
       "      <td>0.302932</td>\n",
       "      <td>0.484450</td>\n",
       "      <td>0.527239</td>\n",
       "      <td>0.106893</td>\n",
       "      <td>-0.318137</td>\n",
       "      <td>-0.317589</td>\n",
       "      <td>0.597006</td>\n",
       "      <td>6.298100e-17</td>\n",
       "      <td>-4.739909e-17</td>\n",
       "      <td>1.000000e+00</td>\n",
       "      <td>-2.008783e-16</td>\n",
       "      <td>-2.668184e-17</td>\n",
       "      <td>-7.202946e-16</td>\n",
       "      <td>1.631060e-16</td>\n",
       "      <td>2.887426e-18</td>\n",
       "    </tr>\n",
       "    <tr>\n",
       "      <th>pc4</th>\n",
       "      <td>0.029137</td>\n",
       "      <td>0.021888</td>\n",
       "      <td>0.250489</td>\n",
       "      <td>0.058771</td>\n",
       "      <td>0.460916</td>\n",
       "      <td>0.711582</td>\n",
       "      <td>-0.012146</td>\n",
       "      <td>0.021546</td>\n",
       "      <td>-0.031718</td>\n",
       "      <td>-0.002720</td>\n",
       "      <td>-0.516702</td>\n",
       "      <td>-0.286125</td>\n",
       "      <td>-4.387058e-17</td>\n",
       "      <td>2.563593e-16</td>\n",
       "      <td>-2.008783e-16</td>\n",
       "      <td>1.000000e+00</td>\n",
       "      <td>9.284223e-17</td>\n",
       "      <td>1.012123e-16</td>\n",
       "      <td>-8.587086e-17</td>\n",
       "      <td>3.162118e-17</td>\n",
       "    </tr>\n",
       "    <tr>\n",
       "      <th>pc5</th>\n",
       "      <td>-0.003020</td>\n",
       "      <td>0.007513</td>\n",
       "      <td>0.090638</td>\n",
       "      <td>-0.057227</td>\n",
       "      <td>-0.213783</td>\n",
       "      <td>-0.405406</td>\n",
       "      <td>-0.096615</td>\n",
       "      <td>-0.325065</td>\n",
       "      <td>-0.013646</td>\n",
       "      <td>-0.469766</td>\n",
       "      <td>-0.675308</td>\n",
       "      <td>-0.079634</td>\n",
       "      <td>7.976637e-17</td>\n",
       "      <td>-2.400726e-18</td>\n",
       "      <td>-2.668184e-17</td>\n",
       "      <td>9.284223e-17</td>\n",
       "      <td>1.000000e+00</td>\n",
       "      <td>8.932373e-17</td>\n",
       "      <td>3.147914e-17</td>\n",
       "      <td>1.892865e-17</td>\n",
       "    </tr>\n",
       "    <tr>\n",
       "      <th>pc6</th>\n",
       "      <td>0.209521</td>\n",
       "      <td>0.148101</td>\n",
       "      <td>0.014684</td>\n",
       "      <td>0.483567</td>\n",
       "      <td>-0.340141</td>\n",
       "      <td>0.010596</td>\n",
       "      <td>0.147583</td>\n",
       "      <td>-0.086102</td>\n",
       "      <td>-0.103789</td>\n",
       "      <td>0.520037</td>\n",
       "      <td>-0.293694</td>\n",
       "      <td>0.147455</td>\n",
       "      <td>3.577745e-17</td>\n",
       "      <td>-2.382481e-16</td>\n",
       "      <td>-7.202946e-16</td>\n",
       "      <td>1.012123e-16</td>\n",
       "      <td>8.932373e-17</td>\n",
       "      <td>1.000000e+00</td>\n",
       "      <td>1.887395e-16</td>\n",
       "      <td>-1.476625e-16</td>\n",
       "    </tr>\n",
       "    <tr>\n",
       "      <th>pc7</th>\n",
       "      <td>0.165092</td>\n",
       "      <td>0.167787</td>\n",
       "      <td>-0.285604</td>\n",
       "      <td>-0.175376</td>\n",
       "      <td>0.393396</td>\n",
       "      <td>-0.041141</td>\n",
       "      <td>0.274330</td>\n",
       "      <td>-0.462372</td>\n",
       "      <td>0.030979</td>\n",
       "      <td>0.076719</td>\n",
       "      <td>-0.024543</td>\n",
       "      <td>0.268687</td>\n",
       "      <td>7.396132e-17</td>\n",
       "      <td>2.153885e-16</td>\n",
       "      <td>1.631060e-16</td>\n",
       "      <td>-8.587086e-17</td>\n",
       "      <td>3.147914e-17</td>\n",
       "      <td>1.887395e-16</td>\n",
       "      <td>1.000000e+00</td>\n",
       "      <td>-1.191847e-16</td>\n",
       "    </tr>\n",
       "    <tr>\n",
       "      <th>pc8</th>\n",
       "      <td>0.087933</td>\n",
       "      <td>0.075228</td>\n",
       "      <td>-0.180298</td>\n",
       "      <td>0.276708</td>\n",
       "      <td>-0.149594</td>\n",
       "      <td>0.141619</td>\n",
       "      <td>0.306707</td>\n",
       "      <td>-0.143610</td>\n",
       "      <td>0.110053</td>\n",
       "      <td>-0.296953</td>\n",
       "      <td>0.185129</td>\n",
       "      <td>-0.342602</td>\n",
       "      <td>-1.178048e-16</td>\n",
       "      <td>-2.654755e-17</td>\n",
       "      <td>2.887426e-18</td>\n",
       "      <td>3.162118e-17</td>\n",
       "      <td>1.892865e-17</td>\n",
       "      <td>-1.476625e-16</td>\n",
       "      <td>-1.191847e-16</td>\n",
       "      <td>1.000000e+00</td>\n",
       "    </tr>\n",
       "  </tbody>\n",
       "</table>\n",
       "</div>"
      ],
      "text/plain": [
       "                                       Liquidity ratio   Current ratio  \\\n",
       " Liquidity ratio                              1.000000        0.990414   \n",
       " Current ratio                                0.990414        1.000000   \n",
       "Profit margin (%)                             0.063427        0.039257   \n",
       "Solvency ratio (Asset based) (%)              0.154671        0.075683   \n",
       "Profit per employee                           0.112607        0.094556   \n",
       "Intangible fixed assets                      -0.061147       -0.048800   \n",
       "CL/TL                                        -0.458594       -0.476415   \n",
       "CF/Operating Revenue                          0.313768        0.319160   \n",
       "Operating revenue per employee                0.683116        0.704659   \n",
       "Costs of employees/Operating revenue         -0.149658       -0.170778   \n",
       "Working Capital/Total Assets                 -0.006241       -0.004750   \n",
       "Sales/Total Asset                             0.158523        0.147606   \n",
       "pc1                                           0.918131        0.921375   \n",
       "pc2                                           0.144811        0.191391   \n",
       "pc3                                          -0.155419       -0.139676   \n",
       "pc4                                           0.029137        0.021888   \n",
       "pc5                                          -0.003020        0.007513   \n",
       "pc6                                           0.209521        0.148101   \n",
       "pc7                                           0.165092        0.167787   \n",
       "pc8                                           0.087933        0.075228   \n",
       "\n",
       "                                      Profit margin (%)  \\\n",
       " Liquidity ratio                               0.063427   \n",
       " Current ratio                                 0.039257   \n",
       "Profit margin (%)                              1.000000   \n",
       "Solvency ratio (Asset based) (%)               0.487281   \n",
       "Profit per employee                            0.440337   \n",
       "Intangible fixed assets                       -0.228774   \n",
       "CL/TL                                          0.008967   \n",
       "CF/Operating Revenue                           0.057382   \n",
       "Operating revenue per employee                -0.017469   \n",
       "Costs of employees/Operating revenue          -0.185225   \n",
       "Working Capital/Total Assets                   0.048512   \n",
       "Sales/Total Asset                              0.050211   \n",
       "pc1                                            0.173643   \n",
       "pc2                                           -0.708910   \n",
       "pc3                                           -0.346211   \n",
       "pc4                                            0.250489   \n",
       "pc5                                            0.090638   \n",
       "pc6                                            0.014684   \n",
       "pc7                                           -0.285604   \n",
       "pc8                                           -0.180298   \n",
       "\n",
       "                                      Solvency ratio (Asset based) (%)  \\\n",
       " Liquidity ratio                                              0.154671   \n",
       " Current ratio                                                0.075683   \n",
       "Profit margin (%)                                             0.487281   \n",
       "Solvency ratio (Asset based) (%)                              1.000000   \n",
       "Profit per employee                                           0.259107   \n",
       "Intangible fixed assets                                      -0.179622   \n",
       "CL/TL                                                         0.156505   \n",
       "CF/Operating Revenue                                          0.096918   \n",
       "Operating revenue per employee                               -0.081300   \n",
       "Costs of employees/Operating revenue                         -0.136790   \n",
       "Working Capital/Total Assets                                  0.093297   \n",
       "Sales/Total Asset                                             0.233200   \n",
       "pc1                                                           0.180383   \n",
       "pc2                                                          -0.713976   \n",
       "pc3                                                          -0.118503   \n",
       "pc4                                                           0.058771   \n",
       "pc5                                                          -0.057227   \n",
       "pc6                                                           0.483567   \n",
       "pc7                                                          -0.175376   \n",
       "pc8                                                           0.276708   \n",
       "\n",
       "                                      Profit per employee  \\\n",
       " Liquidity ratio                                 0.112607   \n",
       " Current ratio                                   0.094556   \n",
       "Profit margin (%)                                0.440337   \n",
       "Solvency ratio (Asset based) (%)                 0.259107   \n",
       "Profit per employee                              1.000000   \n",
       "Intangible fixed assets                          0.037945   \n",
       "CL/TL                                            0.041698   \n",
       "CF/Operating Revenue                             0.008837   \n",
       "Operating revenue per employee                   0.002828   \n",
       "Costs of employees/Operating revenue            -0.184649   \n",
       "Working Capital/Total Assets                     0.127374   \n",
       "Sales/Total Asset                                0.101745   \n",
       "pc1                                              0.181468   \n",
       "pc2                                             -0.554413   \n",
       "pc3                                             -0.239783   \n",
       "pc4                                              0.460916   \n",
       "pc5                                             -0.213783   \n",
       "pc6                                             -0.340141   \n",
       "pc7                                              0.393396   \n",
       "pc8                                             -0.149594   \n",
       "\n",
       "                                      Intangible fixed assets     CL/TL  \\\n",
       " Liquidity ratio                                    -0.061147 -0.458594   \n",
       " Current ratio                                      -0.048800 -0.476415   \n",
       "Profit margin (%)                                   -0.228774  0.008967   \n",
       "Solvency ratio (Asset based) (%)                    -0.179622  0.156505   \n",
       "Profit per employee                                  0.037945  0.041698   \n",
       "Intangible fixed assets                              1.000000  0.046341   \n",
       "CL/TL                                                0.046341  1.000000   \n",
       "CF/Operating Revenue                                 0.151542 -0.074185   \n",
       "Operating revenue per employee                       0.004076 -0.335303   \n",
       "Costs of employees/Operating revenue                 0.177485 -0.009725   \n",
       "Working Capital/Total Assets                        -0.200462 -0.031865   \n",
       "Sales/Total Asset                                   -0.156897  0.234299   \n",
       "pc1                                                 -0.101750 -0.482288   \n",
       "pc2                                                  0.359394 -0.415882   \n",
       "pc3                                                  0.302932  0.484450   \n",
       "pc4                                                  0.711582 -0.012146   \n",
       "pc5                                                 -0.405406 -0.096615   \n",
       "pc6                                                  0.010596  0.147583   \n",
       "pc7                                                 -0.041141  0.274330   \n",
       "pc8                                                  0.141619  0.306707   \n",
       "\n",
       "                                      CF/Operating Revenue  \\\n",
       " Liquidity ratio                                  0.313768   \n",
       " Current ratio                                    0.319160   \n",
       "Profit margin (%)                                 0.057382   \n",
       "Solvency ratio (Asset based) (%)                  0.096918   \n",
       "Profit per employee                               0.008837   \n",
       "Intangible fixed assets                           0.151542   \n",
       "CL/TL                                            -0.074185   \n",
       "CF/Operating Revenue                              1.000000   \n",
       "Operating revenue per employee                    0.418738   \n",
       "Costs of employees/Operating revenue             -0.251987   \n",
       "Working Capital/Total Assets                      0.050648   \n",
       "Sales/Total Asset                                 0.374986   \n",
       "pc1                                               0.535623   \n",
       "pc2                                              -0.076518   \n",
       "pc3                                               0.527239   \n",
       "pc4                                               0.021546   \n",
       "pc5                                              -0.325065   \n",
       "pc6                                              -0.086102   \n",
       "pc7                                              -0.462372   \n",
       "pc8                                              -0.143610   \n",
       "\n",
       "                                      Operating revenue per employee  \\\n",
       " Liquidity ratio                                            0.683116   \n",
       " Current ratio                                              0.704659   \n",
       "Profit margin (%)                                          -0.017469   \n",
       "Solvency ratio (Asset based) (%)                           -0.081300   \n",
       "Profit per employee                                         0.002828   \n",
       "Intangible fixed assets                                     0.004076   \n",
       "CL/TL                                                      -0.335303   \n",
       "CF/Operating Revenue                                        0.418738   \n",
       "Operating revenue per employee                              1.000000   \n",
       "Costs of employees/Operating revenue                       -0.244511   \n",
       "Working Capital/Total Assets                                0.003693   \n",
       "Sales/Total Asset                                           0.162755   \n",
       "pc1                                                         0.809666   \n",
       "pc2                                                         0.234184   \n",
       "pc3                                                         0.106893   \n",
       "pc4                                                        -0.031718   \n",
       "pc5                                                        -0.013646   \n",
       "pc6                                                        -0.103789   \n",
       "pc7                                                         0.030979   \n",
       "pc8                                                         0.110053   \n",
       "\n",
       "                                      Costs of employees/Operating revenue  \\\n",
       " Liquidity ratio                                                 -0.149658   \n",
       " Current ratio                                                   -0.170778   \n",
       "Profit margin (%)                                                -0.185225   \n",
       "Solvency ratio (Asset based) (%)                                 -0.136790   \n",
       "Profit per employee                                              -0.184649   \n",
       "Intangible fixed assets                                           0.177485   \n",
       "CL/TL                                                            -0.009725   \n",
       "CF/Operating Revenue                                             -0.251987   \n",
       "Operating revenue per employee                                   -0.244511   \n",
       "Costs of employees/Operating revenue                              1.000000   \n",
       "Working Capital/Total Assets                                      0.109890   \n",
       "Sales/Total Asset                                                -0.263212   \n",
       "pc1                                                              -0.367172   \n",
       "pc2                                                               0.365766   \n",
       "pc3                                                              -0.318137   \n",
       "pc4                                                              -0.002720   \n",
       "pc5                                                              -0.469766   \n",
       "pc6                                                               0.520037   \n",
       "pc7                                                               0.076719   \n",
       "pc8                                                              -0.296953   \n",
       "\n",
       "                                      Working Capital/Total Assets  \\\n",
       " Liquidity ratio                                         -0.006241   \n",
       " Current ratio                                           -0.004750   \n",
       "Profit margin (%)                                         0.048512   \n",
       "Solvency ratio (Asset based) (%)                          0.093297   \n",
       "Profit per employee                                       0.127374   \n",
       "Intangible fixed assets                                  -0.200462   \n",
       "CL/TL                                                    -0.031865   \n",
       "CF/Operating Revenue                                      0.050648   \n",
       "Operating revenue per employee                            0.003693   \n",
       "Costs of employees/Operating revenue                      0.109890   \n",
       "Working Capital/Total Assets                              1.000000   \n",
       "Sales/Total Asset                                         0.018019   \n",
       "pc1                                                       0.031468   \n",
       "pc2                                                      -0.187085   \n",
       "pc3                                                      -0.317589   \n",
       "pc4                                                      -0.516702   \n",
       "pc5                                                      -0.675308   \n",
       "pc6                                                      -0.293694   \n",
       "pc7                                                      -0.024543   \n",
       "pc8                                                       0.185129   \n",
       "\n",
       "                                      Sales/Total Asset           pc1  \\\n",
       " Liquidity ratio                               0.158523  9.181314e-01   \n",
       " Current ratio                                 0.147606  9.213753e-01   \n",
       "Profit margin (%)                              0.050211  1.736427e-01   \n",
       "Solvency ratio (Asset based) (%)               0.233200  1.803828e-01   \n",
       "Profit per employee                            0.101745  1.814684e-01   \n",
       "Intangible fixed assets                       -0.156897 -1.017499e-01   \n",
       "CL/TL                                          0.234299 -4.822878e-01   \n",
       "CF/Operating Revenue                           0.374986  5.356230e-01   \n",
       "Operating revenue per employee                 0.162755  8.096665e-01   \n",
       "Costs of employees/Operating revenue          -0.263212 -3.671720e-01   \n",
       "Working Capital/Total Assets                   0.018019  3.146813e-02   \n",
       "Sales/Total Asset                              1.000000  3.100415e-01   \n",
       "pc1                                            0.310041  1.000000e+00   \n",
       "pc2                                           -0.416880 -6.168247e-17   \n",
       "pc3                                            0.597006  6.298100e-17   \n",
       "pc4                                           -0.286125 -4.387058e-17   \n",
       "pc5                                           -0.079634  7.976637e-17   \n",
       "pc6                                            0.147455  3.577745e-17   \n",
       "pc7                                            0.268687  7.396132e-17   \n",
       "pc8                                           -0.342602 -1.178048e-16   \n",
       "\n",
       "                                               pc2           pc3  \\\n",
       " Liquidity ratio                      1.448107e-01 -1.554189e-01   \n",
       " Current ratio                        1.913912e-01 -1.396764e-01   \n",
       "Profit margin (%)                    -7.089102e-01 -3.462106e-01   \n",
       "Solvency ratio (Asset based) (%)     -7.139760e-01 -1.185028e-01   \n",
       "Profit per employee                  -5.544132e-01 -2.397828e-01   \n",
       "Intangible fixed assets               3.593935e-01  3.029319e-01   \n",
       "CL/TL                                -4.158818e-01  4.844498e-01   \n",
       "CF/Operating Revenue                 -7.651770e-02  5.272391e-01   \n",
       "Operating revenue per employee        2.341836e-01  1.068931e-01   \n",
       "Costs of employees/Operating revenue  3.657660e-01 -3.181372e-01   \n",
       "Working Capital/Total Assets         -1.870847e-01 -3.175885e-01   \n",
       "Sales/Total Asset                    -4.168798e-01  5.970056e-01   \n",
       "pc1                                  -6.168247e-17  6.298100e-17   \n",
       "pc2                                   1.000000e+00 -4.739909e-17   \n",
       "pc3                                  -4.739909e-17  1.000000e+00   \n",
       "pc4                                   2.563593e-16 -2.008783e-16   \n",
       "pc5                                  -2.400726e-18 -2.668184e-17   \n",
       "pc6                                  -2.382481e-16 -7.202946e-16   \n",
       "pc7                                   2.153885e-16  1.631060e-16   \n",
       "pc8                                  -2.654755e-17  2.887426e-18   \n",
       "\n",
       "                                               pc4           pc5  \\\n",
       " Liquidity ratio                      2.913694e-02 -3.020329e-03   \n",
       " Current ratio                        2.188847e-02  7.512844e-03   \n",
       "Profit margin (%)                     2.504891e-01  9.063767e-02   \n",
       "Solvency ratio (Asset based) (%)      5.877129e-02 -5.722696e-02   \n",
       "Profit per employee                   4.609155e-01 -2.137825e-01   \n",
       "Intangible fixed assets               7.115818e-01 -4.054064e-01   \n",
       "CL/TL                                -1.214626e-02 -9.661532e-02   \n",
       "CF/Operating Revenue                  2.154592e-02 -3.250651e-01   \n",
       "Operating revenue per employee       -3.171822e-02 -1.364588e-02   \n",
       "Costs of employees/Operating revenue -2.719937e-03 -4.697658e-01   \n",
       "Working Capital/Total Assets         -5.167022e-01 -6.753081e-01   \n",
       "Sales/Total Asset                    -2.861247e-01 -7.963390e-02   \n",
       "pc1                                  -4.387058e-17  7.976637e-17   \n",
       "pc2                                   2.563593e-16 -2.400726e-18   \n",
       "pc3                                  -2.008783e-16 -2.668184e-17   \n",
       "pc4                                   1.000000e+00  9.284223e-17   \n",
       "pc5                                   9.284223e-17  1.000000e+00   \n",
       "pc6                                   1.012123e-16  8.932373e-17   \n",
       "pc7                                  -8.587086e-17  3.147914e-17   \n",
       "pc8                                   3.162118e-17  1.892865e-17   \n",
       "\n",
       "                                               pc6           pc7           pc8  \n",
       " Liquidity ratio                      2.095206e-01  1.650917e-01  8.793344e-02  \n",
       " Current ratio                        1.481012e-01  1.677867e-01  7.522849e-02  \n",
       "Profit margin (%)                     1.468384e-02 -2.856045e-01 -1.802978e-01  \n",
       "Solvency ratio (Asset based) (%)      4.835675e-01 -1.753756e-01  2.767077e-01  \n",
       "Profit per employee                  -3.401409e-01  3.933965e-01 -1.495944e-01  \n",
       "Intangible fixed assets               1.059631e-02 -4.114095e-02  1.416194e-01  \n",
       "CL/TL                                 1.475828e-01  2.743301e-01  3.067066e-01  \n",
       "CF/Operating Revenue                 -8.610202e-02 -4.623719e-01 -1.436096e-01  \n",
       "Operating revenue per employee       -1.037892e-01  3.097905e-02  1.100533e-01  \n",
       "Costs of employees/Operating revenue  5.200370e-01  7.671930e-02 -2.969526e-01  \n",
       "Working Capital/Total Assets         -2.936936e-01 -2.454268e-02  1.851288e-01  \n",
       "Sales/Total Asset                     1.474546e-01  2.686873e-01 -3.426024e-01  \n",
       "pc1                                   3.577745e-17  7.396132e-17 -1.178048e-16  \n",
       "pc2                                  -2.382481e-16  2.153885e-16 -2.654755e-17  \n",
       "pc3                                  -7.202946e-16  1.631060e-16  2.887426e-18  \n",
       "pc4                                   1.012123e-16 -8.587086e-17  3.162118e-17  \n",
       "pc5                                   8.932373e-17  3.147914e-17  1.892865e-17  \n",
       "pc6                                   1.000000e+00  1.887395e-16 -1.476625e-16  \n",
       "pc7                                   1.887395e-16  1.000000e+00 -1.191847e-16  \n",
       "pc8                                  -1.476625e-16 -1.191847e-16  1.000000e+00  "
      ]
     },
     "execution_count": 47,
     "metadata": {},
     "output_type": "execute_result"
    }
   ],
   "source": [
    "data_merge.corr()"
   ]
  },
  {
   "cell_type": "code",
   "execution_count": 48,
   "metadata": {},
   "outputs": [
    {
     "data": {
      "image/png": "[encoded data removed]",
      "text/plain": [
       "<Figure size 1080x576 with 2 Axes>"
      ]
     },
     "metadata": {
      "needs_background": "light"
     },
     "output_type": "display_data"
    },
    {
     "data": {
      "text/plain": [
       "<Figure size 720x576 with 0 Axes>"
      ]
     },
     "metadata": {},
     "output_type": "display_data"
    }
   ],
   "source": [
    "import seaborn as sns\n",
    "plt.figure(figsize=(15,8))\n",
    "plot=sns.heatmap(data_merge.corr())\n",
    "#plt.setp(plot.get_xticklabels(), rotation=0)\n",
    "plt.title('Corr_Financial_Ratios')\n",
    "plt.figure(figsize=(10,8))\n",
    "plt.show()"
   ]
  },
  {
   "cell_type": "code",
   "execution_count": 49,
   "metadata": {},
   "outputs": [
    {
     "data": {
      "text/plain": [
       "Index(['Company name', ' Liquidity ratio', ' Current ratio',\n",
       "       'Profit margin (%)', 'Solvency ratio (Asset based) (%)',\n",
       "       'Profit per employee', 'Intangible fixed assets', 'CL/TL',\n",
       "       'CF/Operating Revenue', 'Operating revenue per employee',\n",
       "       'Costs of employees/Operating revenue', 'Working Capital/Total Assets',\n",
       "       'Sales/Total Asset', 'pc1', 'pc2', 'pc3', 'pc4', 'pc5', 'pc6', 'pc7',\n",
       "       'pc8'],\n",
       "      dtype='object')"
      ]
     },
     "execution_count": 49,
     "metadata": {},
     "output_type": "execute_result"
    }
   ],
   "source": [
    "data_merge.columns"
   ]
  },
  {
   "cell_type": "markdown",
   "metadata": {},
   "source": [
    "## ratios selected for default data\n",
    " ` Current ratio` \n",
    " `CL/TL`\n",
    " `CF/Operating Revenue`\n",
    " `Operating revenue per employee`\n",
    "  `Profit margin (%)` \n",
    "  `Solvency ratio (Asset based) (%)`\n",
    "  `Working Capital/Total Assets`\n",
    "  `Sales/Total Asset`\n",
    "  `Costs of employees/Operating revenue`\n",
    "  `Intangible fixed assets`\n",
    "  "
   ]
  },
  {
   "cell_type": "markdown",
   "metadata": {},
   "source": [
    "-"
   ]
  },
  {
   "cell_type": "markdown",
   "metadata": {},
   "source": [
    "Step2: Principle Component Analysis on `None Bankruptcy` data"
   ]
  },
  {
   "cell_type": "code",
   "execution_count": 50,
   "metadata": {},
   "outputs": [
    {
     "data": {
      "text/html": [
       "<div>\n",
       "<style scoped>\n",
       "    .dataframe tbody tr th:only-of-type {\n",
       "        vertical-align: middle;\n",
       "    }\n",
       "\n",
       "    .dataframe tbody tr th {\n",
       "        vertical-align: top;\n",
       "    }\n",
       "\n",
       "    .dataframe thead th {\n",
       "        text-align: right;\n",
       "    }\n",
       "</style>\n",
       "<table border=\"1\" class=\"dataframe\">\n",
       "  <thead>\n",
       "    <tr style=\"text-align: right;\">\n",
       "      <th></th>\n",
       "      <th>Liquidity ratio</th>\n",
       "      <th>Current ratio</th>\n",
       "      <th>Profit margin (%)</th>\n",
       "      <th>Solvency ratio (Asset based) (%)</th>\n",
       "      <th>Profit per employee</th>\n",
       "      <th>Intangible fixed assets</th>\n",
       "      <th>CL/TL</th>\n",
       "      <th>CF/Operating Revenue</th>\n",
       "      <th>Operating revenue per employee</th>\n",
       "      <th>Costs of employees/Operating revenue</th>\n",
       "      <th>Working Capital/Total Assets</th>\n",
       "      <th>Sales/Total Asset</th>\n",
       "    </tr>\n",
       "  </thead>\n",
       "  <tbody>\n",
       "    <tr>\n",
       "      <th>0</th>\n",
       "      <td>-0.708301</td>\n",
       "      <td>-0.737793</td>\n",
       "      <td>1.069461</td>\n",
       "      <td>-0.183044</td>\n",
       "      <td>3.386892</td>\n",
       "      <td>3.167808</td>\n",
       "      <td>-0.622493</td>\n",
       "      <td>3.288051</td>\n",
       "      <td>-0.066059</td>\n",
       "      <td>-0.210571</td>\n",
       "      <td>-0.487749</td>\n",
       "      <td>0.231423</td>\n",
       "    </tr>\n",
       "    <tr>\n",
       "      <th>1</th>\n",
       "      <td>1.154596</td>\n",
       "      <td>1.505266</td>\n",
       "      <td>0.331831</td>\n",
       "      <td>0.588826</td>\n",
       "      <td>-0.002445</td>\n",
       "      <td>-0.297574</td>\n",
       "      <td>-2.133483</td>\n",
       "      <td>2.311594</td>\n",
       "      <td>-0.148663</td>\n",
       "      <td>-0.210571</td>\n",
       "      <td>1.424230</td>\n",
       "      <td>-0.204536</td>\n",
       "    </tr>\n",
       "    <tr>\n",
       "      <th>2</th>\n",
       "      <td>-0.476600</td>\n",
       "      <td>-0.512697</td>\n",
       "      <td>0.576150</td>\n",
       "      <td>0.260921</td>\n",
       "      <td>0.361350</td>\n",
       "      <td>-0.171253</td>\n",
       "      <td>0.446263</td>\n",
       "      <td>2.226607</td>\n",
       "      <td>-0.127795</td>\n",
       "      <td>-0.210571</td>\n",
       "      <td>-0.487749</td>\n",
       "      <td>0.441229</td>\n",
       "    </tr>\n",
       "    <tr>\n",
       "      <th>3</th>\n",
       "      <td>-0.962068</td>\n",
       "      <td>-0.967966</td>\n",
       "      <td>1.396717</td>\n",
       "      <td>-0.552834</td>\n",
       "      <td>-0.002445</td>\n",
       "      <td>0.343830</td>\n",
       "      <td>1.011014</td>\n",
       "      <td>1.935178</td>\n",
       "      <td>-0.148663</td>\n",
       "      <td>-0.210571</td>\n",
       "      <td>-0.226989</td>\n",
       "      <td>-0.153608</td>\n",
       "    </tr>\n",
       "    <tr>\n",
       "      <th>4</th>\n",
       "      <td>-0.361040</td>\n",
       "      <td>-0.400432</td>\n",
       "      <td>0.279330</td>\n",
       "      <td>0.330051</td>\n",
       "      <td>-0.002445</td>\n",
       "      <td>-0.543212</td>\n",
       "      <td>0.006142</td>\n",
       "      <td>0.824314</td>\n",
       "      <td>-0.148663</td>\n",
       "      <td>-0.210571</td>\n",
       "      <td>0.646434</td>\n",
       "      <td>0.717568</td>\n",
       "    </tr>\n",
       "  </tbody>\n",
       "</table>\n",
       "</div>"
      ],
      "text/plain": [
       "    Liquidity ratio   Current ratio  Profit margin (%)  \\\n",
       "0         -0.708301       -0.737793           1.069461   \n",
       "1          1.154596        1.505266           0.331831   \n",
       "2         -0.476600       -0.512697           0.576150   \n",
       "3         -0.962068       -0.967966           1.396717   \n",
       "4         -0.361040       -0.400432           0.279330   \n",
       "\n",
       "   Solvency ratio (Asset based) (%)  Profit per employee  \\\n",
       "0                         -0.183044             3.386892   \n",
       "1                          0.588826            -0.002445   \n",
       "2                          0.260921             0.361350   \n",
       "3                         -0.552834            -0.002445   \n",
       "4                          0.330051            -0.002445   \n",
       "\n",
       "   Intangible fixed assets     CL/TL  CF/Operating Revenue  \\\n",
       "0                 3.167808 -0.622493              3.288051   \n",
       "1                -0.297574 -2.133483              2.311594   \n",
       "2                -0.171253  0.446263              2.226607   \n",
       "3                 0.343830  1.011014              1.935178   \n",
       "4                -0.543212  0.006142              0.824314   \n",
       "\n",
       "   Operating revenue per employee  Costs of employees/Operating revenue  \\\n",
       "0                       -0.066059                             -0.210571   \n",
       "1                       -0.148663                             -0.210571   \n",
       "2                       -0.127795                             -0.210571   \n",
       "3                       -0.148663                             -0.210571   \n",
       "4                       -0.148663                             -0.210571   \n",
       "\n",
       "   Working Capital/Total Assets  Sales/Total Asset  \n",
       "0                     -0.487749           0.231423  \n",
       "1                      1.424230          -0.204536  \n",
       "2                     -0.487749           0.441229  \n",
       "3                     -0.226989          -0.153608  \n",
       "4                      0.646434           0.717568  "
      ]
     },
     "execution_count": 50,
     "metadata": {},
     "output_type": "execute_result"
    }
   ],
   "source": [
    "features = df_2_cat.columns[1:].values\n",
    "x = df_2_cat.loc[:, features].values\n",
    "\n",
    "x = StandardScaler().fit_transform(x)\n",
    "\n",
    "pd.DataFrame(data = x, columns = features).head()"
   ]
  },
  {
   "cell_type": "code",
   "execution_count": 51,
   "metadata": {},
   "outputs": [],
   "source": [
    "pca = PCA(n_components=8)\n",
    "\n",
    "principalComponents = pca.fit_transform(x)\n",
    "\n",
    "principalDf = pd.DataFrame(data = principalComponents\n",
    "             , columns = ['pc1', 'pc2', 'pc3', 'pc4', 'pc5','pc6','pc7','pc8'])"
   ]
  },
  {
   "cell_type": "code",
   "execution_count": 52,
   "metadata": {},
   "outputs": [
    {
     "data": {
      "text/html": [
       "<div>\n",
       "<style scoped>\n",
       "    .dataframe tbody tr th:only-of-type {\n",
       "        vertical-align: middle;\n",
       "    }\n",
       "\n",
       "    .dataframe tbody tr th {\n",
       "        vertical-align: top;\n",
       "    }\n",
       "\n",
       "    .dataframe thead th {\n",
       "        text-align: right;\n",
       "    }\n",
       "</style>\n",
       "<table border=\"1\" class=\"dataframe\">\n",
       "  <thead>\n",
       "    <tr style=\"text-align: right;\">\n",
       "      <th></th>\n",
       "      <th>pc1</th>\n",
       "      <th>pc2</th>\n",
       "      <th>pc3</th>\n",
       "      <th>pc4</th>\n",
       "      <th>pc5</th>\n",
       "      <th>pc6</th>\n",
       "      <th>pc7</th>\n",
       "      <th>pc8</th>\n",
       "    </tr>\n",
       "  </thead>\n",
       "  <tbody>\n",
       "    <tr>\n",
       "      <th>0</th>\n",
       "      <td>-1.527450</td>\n",
       "      <td>-0.012217</td>\n",
       "      <td>5.122831</td>\n",
       "      <td>1.932721</td>\n",
       "      <td>0.429983</td>\n",
       "      <td>-0.640482</td>\n",
       "      <td>-0.128044</td>\n",
       "      <td>1.062017</td>\n",
       "    </tr>\n",
       "    <tr>\n",
       "      <th>1</th>\n",
       "      <td>1.860590</td>\n",
       "      <td>-0.277235</td>\n",
       "      <td>0.809619</td>\n",
       "      <td>2.730150</td>\n",
       "      <td>0.622949</td>\n",
       "      <td>-0.061777</td>\n",
       "      <td>-0.084956</td>\n",
       "      <td>-0.588363</td>\n",
       "    </tr>\n",
       "    <tr>\n",
       "      <th>2</th>\n",
       "      <td>-0.848932</td>\n",
       "      <td>-0.417992</td>\n",
       "      <td>1.270441</td>\n",
       "      <td>0.252314</td>\n",
       "      <td>1.331875</td>\n",
       "      <td>-1.251876</td>\n",
       "      <td>-0.040843</td>\n",
       "      <td>-0.453152</td>\n",
       "    </tr>\n",
       "    <tr>\n",
       "      <th>3</th>\n",
       "      <td>-1.770430</td>\n",
       "      <td>-0.474233</td>\n",
       "      <td>1.394942</td>\n",
       "      <td>-0.261918</td>\n",
       "      <td>1.387232</td>\n",
       "      <td>-0.881835</td>\n",
       "      <td>-0.309347</td>\n",
       "      <td>0.139399</td>\n",
       "    </tr>\n",
       "    <tr>\n",
       "      <th>4</th>\n",
       "      <td>-0.327209</td>\n",
       "      <td>-0.925185</td>\n",
       "      <td>-0.106134</td>\n",
       "      <td>0.614373</td>\n",
       "      <td>0.715552</td>\n",
       "      <td>-0.513523</td>\n",
       "      <td>-0.339965</td>\n",
       "      <td>-0.180065</td>\n",
       "    </tr>\n",
       "  </tbody>\n",
       "</table>\n",
       "</div>"
      ],
      "text/plain": [
       "        pc1       pc2       pc3       pc4       pc5       pc6       pc7  \\\n",
       "0 -1.527450 -0.012217  5.122831  1.932721  0.429983 -0.640482 -0.128044   \n",
       "1  1.860590 -0.277235  0.809619  2.730150  0.622949 -0.061777 -0.084956   \n",
       "2 -0.848932 -0.417992  1.270441  0.252314  1.331875 -1.251876 -0.040843   \n",
       "3 -1.770430 -0.474233  1.394942 -0.261918  1.387232 -0.881835 -0.309347   \n",
       "4 -0.327209 -0.925185 -0.106134  0.614373  0.715552 -0.513523 -0.339965   \n",
       "\n",
       "        pc8  \n",
       "0  1.062017  \n",
       "1 -0.588363  \n",
       "2 -0.453152  \n",
       "3  0.139399  \n",
       "4 -0.180065  "
      ]
     },
     "execution_count": 52,
     "metadata": {},
     "output_type": "execute_result"
    }
   ],
   "source": [
    "principalDf.head(5)"
   ]
  },
  {
   "cell_type": "code",
   "execution_count": 53,
   "metadata": {},
   "outputs": [
    {
     "data": {
      "text/plain": [
       "array([20.8, 15. , 12.8, 10.1,  8.9,  7.3,  6.9,  5.7])"
      ]
     },
     "execution_count": 53,
     "metadata": {},
     "output_type": "execute_result"
    }
   ],
   "source": [
    "per_var = np.round(pca.explained_variance_ratio_*100, decimals=1)\n",
    "labels = ['PC' + str(x) for x in range(1, len(per_var)+1)]\n",
    "per_var"
   ]
  },
  {
   "cell_type": "code",
   "execution_count": 54,
   "metadata": {},
   "outputs": [
    {
     "data": {
      "image/png": "[encoded data removed]",
      "text/plain": [
       "<Figure size 576x432 with 1 Axes>"
      ]
     },
     "metadata": {
      "needs_background": "light"
     },
     "output_type": "display_data"
    }
   ],
   "source": [
    "plt.figure(figsize=(8,6))\n",
    "plt.bar(x=range(1,len(per_var)+1), height=per_var, tick_label = labels)\n",
    "plt.ylabel('percentage of explained variance')\n",
    "plt.xlabel('principal component')\n",
    "\n",
    "plt.show()"
   ]
  },
  {
   "cell_type": "code",
   "execution_count": 55,
   "metadata": {},
   "outputs": [
    {
     "data": {
      "text/plain": [
       "array([0.20795071, 0.14984407, 0.12790215, 0.1006053 , 0.08904091,\n",
       "       0.07260743, 0.06856817, 0.05699213])"
      ]
     },
     "execution_count": 55,
     "metadata": {},
     "output_type": "execute_result"
    }
   ],
   "source": [
    "pca.explained_variance_ratio_"
   ]
  },
  {
   "cell_type": "code",
   "execution_count": 56,
   "metadata": {},
   "outputs": [
    {
     "data": {
      "text/plain": [
       "0.873510854466931"
      ]
     },
     "execution_count": 56,
     "metadata": {},
     "output_type": "execute_result"
    }
   ],
   "source": [
    "pca.explained_variance_ratio_.sum()"
   ]
  },
  {
   "cell_type": "code",
   "execution_count": 57,
   "metadata": {},
   "outputs": [],
   "source": [
    "principalDf.index=df_2_cat.index"
   ]
  },
  {
   "cell_type": "code",
   "execution_count": 58,
   "metadata": {},
   "outputs": [],
   "source": [
    "data_merge = pd.concat([df_2_cat, principalDf], axis=1)"
   ]
  },
  {
   "cell_type": "markdown",
   "metadata": {},
   "source": [
    "## Select Financial Ratios"
   ]
  },
  {
   "cell_type": "code",
   "execution_count": 59,
   "metadata": {
    "scrolled": true
   },
   "outputs": [
    {
     "data": {
      "text/html": [
       "<div>\n",
       "<style scoped>\n",
       "    .dataframe tbody tr th:only-of-type {\n",
       "        vertical-align: middle;\n",
       "    }\n",
       "\n",
       "    .dataframe tbody tr th {\n",
       "        vertical-align: top;\n",
       "    }\n",
       "\n",
       "    .dataframe thead th {\n",
       "        text-align: right;\n",
       "    }\n",
       "</style>\n",
       "<table border=\"1\" class=\"dataframe\">\n",
       "  <thead>\n",
       "    <tr style=\"text-align: right;\">\n",
       "      <th></th>\n",
       "      <th>Liquidity ratio</th>\n",
       "      <th>Current ratio</th>\n",
       "      <th>Profit margin (%)</th>\n",
       "      <th>Solvency ratio (Asset based) (%)</th>\n",
       "      <th>Profit per employee</th>\n",
       "      <th>Intangible fixed assets</th>\n",
       "      <th>CL/TL</th>\n",
       "      <th>CF/Operating Revenue</th>\n",
       "      <th>Operating revenue per employee</th>\n",
       "      <th>Costs of employees/Operating revenue</th>\n",
       "      <th>Working Capital/Total Assets</th>\n",
       "      <th>Sales/Total Asset</th>\n",
       "      <th>pc1</th>\n",
       "      <th>pc2</th>\n",
       "      <th>pc3</th>\n",
       "      <th>pc4</th>\n",
       "      <th>pc5</th>\n",
       "      <th>pc6</th>\n",
       "      <th>pc7</th>\n",
       "      <th>pc8</th>\n",
       "    </tr>\n",
       "  </thead>\n",
       "  <tbody>\n",
       "    <tr>\n",
       "      <th>Liquidity ratio</th>\n",
       "      <td>1.000000</td>\n",
       "      <td>0.994554</td>\n",
       "      <td>-0.064743</td>\n",
       "      <td>0.469794</td>\n",
       "      <td>-0.019590</td>\n",
       "      <td>-0.031820</td>\n",
       "      <td>-0.078180</td>\n",
       "      <td>-0.141173</td>\n",
       "      <td>0.286705</td>\n",
       "      <td>0.052684</td>\n",
       "      <td>0.018529</td>\n",
       "      <td>-0.027779</td>\n",
       "      <td>9.368193e-01</td>\n",
       "      <td>2.343360e-01</td>\n",
       "      <td>-1.802284e-02</td>\n",
       "      <td>-2.003480e-02</td>\n",
       "      <td>1.964311e-04</td>\n",
       "      <td>-5.228965e-02</td>\n",
       "      <td>6.612237e-03</td>\n",
       "      <td>8.856345e-02</td>\n",
       "    </tr>\n",
       "    <tr>\n",
       "      <th>Current ratio</th>\n",
       "      <td>0.994554</td>\n",
       "      <td>1.000000</td>\n",
       "      <td>-0.059245</td>\n",
       "      <td>0.467676</td>\n",
       "      <td>-0.018671</td>\n",
       "      <td>-0.021791</td>\n",
       "      <td>-0.102483</td>\n",
       "      <td>-0.138796</td>\n",
       "      <td>0.272143</td>\n",
       "      <td>0.048926</td>\n",
       "      <td>0.079104</td>\n",
       "      <td>-0.033107</td>\n",
       "      <td>9.384983e-01</td>\n",
       "      <td>2.197760e-01</td>\n",
       "      <td>-2.378977e-02</td>\n",
       "      <td>2.340532e-02</td>\n",
       "      <td>-1.253394e-02</td>\n",
       "      <td>-3.668397e-02</td>\n",
       "      <td>-1.800586e-02</td>\n",
       "      <td>1.136560e-01</td>\n",
       "    </tr>\n",
       "    <tr>\n",
       "      <th>Profit margin (%)</th>\n",
       "      <td>-0.064743</td>\n",
       "      <td>-0.059245</td>\n",
       "      <td>1.000000</td>\n",
       "      <td>0.207458</td>\n",
       "      <td>0.392750</td>\n",
       "      <td>-0.221169</td>\n",
       "      <td>0.025537</td>\n",
       "      <td>0.138211</td>\n",
       "      <td>0.127119</td>\n",
       "      <td>0.305059</td>\n",
       "      <td>0.140405</td>\n",
       "      <td>0.163487</td>\n",
       "      <td>1.064654e-01</td>\n",
       "      <td>-7.079438e-01</td>\n",
       "      <td>4.597442e-01</td>\n",
       "      <td>-1.975984e-01</td>\n",
       "      <td>1.866480e-01</td>\n",
       "      <td>1.235298e-02</td>\n",
       "      <td>-1.704810e-01</td>\n",
       "      <td>-9.960351e-02</td>\n",
       "    </tr>\n",
       "    <tr>\n",
       "      <th>Solvency ratio (Asset based) (%)</th>\n",
       "      <td>0.469794</td>\n",
       "      <td>0.467676</td>\n",
       "      <td>0.207458</td>\n",
       "      <td>1.000000</td>\n",
       "      <td>0.073724</td>\n",
       "      <td>-0.024716</td>\n",
       "      <td>-0.103997</td>\n",
       "      <td>-0.044670</td>\n",
       "      <td>0.062502</td>\n",
       "      <td>0.107075</td>\n",
       "      <td>0.061052</td>\n",
       "      <td>0.064875</td>\n",
       "      <td>6.613174e-01</td>\n",
       "      <td>-1.212878e-01</td>\n",
       "      <td>1.688069e-01</td>\n",
       "      <td>6.294970e-02</td>\n",
       "      <td>-1.053595e-01</td>\n",
       "      <td>-4.044261e-01</td>\n",
       "      <td>-1.660271e-01</td>\n",
       "      <td>-2.938550e-01</td>\n",
       "    </tr>\n",
       "    <tr>\n",
       "      <th>Profit per employee</th>\n",
       "      <td>-0.019590</td>\n",
       "      <td>-0.018671</td>\n",
       "      <td>0.392750</td>\n",
       "      <td>0.073724</td>\n",
       "      <td>1.000000</td>\n",
       "      <td>0.161891</td>\n",
       "      <td>-0.084826</td>\n",
       "      <td>0.075635</td>\n",
       "      <td>-0.003165</td>\n",
       "      <td>0.137196</td>\n",
       "      <td>-0.039517</td>\n",
       "      <td>-0.087407</td>\n",
       "      <td>2.792572e-02</td>\n",
       "      <td>-2.762710e-01</td>\n",
       "      <td>7.151176e-01</td>\n",
       "      <td>-5.550940e-02</td>\n",
       "      <td>-2.661796e-01</td>\n",
       "      <td>2.069799e-01</td>\n",
       "      <td>-2.862623e-01</td>\n",
       "      <td>1.061596e-01</td>\n",
       "    </tr>\n",
       "    <tr>\n",
       "      <th>Intangible fixed assets</th>\n",
       "      <td>-0.031820</td>\n",
       "      <td>-0.021791</td>\n",
       "      <td>-0.221169</td>\n",
       "      <td>-0.024716</td>\n",
       "      <td>0.161891</td>\n",
       "      <td>1.000000</td>\n",
       "      <td>-0.069761</td>\n",
       "      <td>0.276385</td>\n",
       "      <td>-0.017527</td>\n",
       "      <td>-0.112873</td>\n",
       "      <td>-0.177856</td>\n",
       "      <td>-0.259468</td>\n",
       "      <td>-1.354391e-01</td>\n",
       "      <td>5.066901e-01</td>\n",
       "      <td>5.153614e-01</td>\n",
       "      <td>3.140086e-01</td>\n",
       "      <td>-1.589750e-01</td>\n",
       "      <td>-1.170101e-01</td>\n",
       "      <td>1.258814e-01</td>\n",
       "      <td>4.142300e-01</td>\n",
       "    </tr>\n",
       "    <tr>\n",
       "      <th>CL/TL</th>\n",
       "      <td>-0.078180</td>\n",
       "      <td>-0.102483</td>\n",
       "      <td>0.025537</td>\n",
       "      <td>-0.103997</td>\n",
       "      <td>-0.084826</td>\n",
       "      <td>-0.069761</td>\n",
       "      <td>1.000000</td>\n",
       "      <td>-0.053797</td>\n",
       "      <td>0.002527</td>\n",
       "      <td>-0.045457</td>\n",
       "      <td>-0.191480</td>\n",
       "      <td>-0.068181</td>\n",
       "      <td>-1.718032e-01</td>\n",
       "      <td>1.126679e-01</td>\n",
       "      <td>-9.712379e-02</td>\n",
       "      <td>-7.178689e-01</td>\n",
       "      <td>2.384720e-01</td>\n",
       "      <td>-3.759603e-01</td>\n",
       "      <td>-2.780040e-01</td>\n",
       "      <td>3.886185e-01</td>\n",
       "    </tr>\n",
       "    <tr>\n",
       "      <th>CF/Operating Revenue</th>\n",
       "      <td>-0.141173</td>\n",
       "      <td>-0.138796</td>\n",
       "      <td>0.138211</td>\n",
       "      <td>-0.044670</td>\n",
       "      <td>0.075635</td>\n",
       "      <td>0.276385</td>\n",
       "      <td>-0.053797</td>\n",
       "      <td>1.000000</td>\n",
       "      <td>0.048318</td>\n",
       "      <td>-0.129096</td>\n",
       "      <td>-0.093232</td>\n",
       "      <td>0.020675</td>\n",
       "      <td>-2.141167e-01</td>\n",
       "      <td>7.615642e-02</td>\n",
       "      <td>5.169330e-01</td>\n",
       "      <td>3.670493e-01</td>\n",
       "      <td>5.103150e-01</td>\n",
       "      <td>-3.449159e-01</td>\n",
       "      <td>1.047373e-01</td>\n",
       "      <td>-4.237605e-02</td>\n",
       "    </tr>\n",
       "    <tr>\n",
       "      <th>Operating revenue per employee</th>\n",
       "      <td>0.286705</td>\n",
       "      <td>0.272143</td>\n",
       "      <td>0.127119</td>\n",
       "      <td>0.062502</td>\n",
       "      <td>-0.003165</td>\n",
       "      <td>-0.017527</td>\n",
       "      <td>0.002527</td>\n",
       "      <td>0.048318</td>\n",
       "      <td>1.000000</td>\n",
       "      <td>-0.028368</td>\n",
       "      <td>-0.059348</td>\n",
       "      <td>-0.027117</td>\n",
       "      <td>3.710191e-01</td>\n",
       "      <td>1.044190e-01</td>\n",
       "      <td>1.748147e-01</td>\n",
       "      <td>-1.848941e-01</td>\n",
       "      <td>6.304592e-01</td>\n",
       "      <td>5.143887e-01</td>\n",
       "      <td>1.939145e-01</td>\n",
       "      <td>5.442189e-02</td>\n",
       "    </tr>\n",
       "    <tr>\n",
       "      <th>Costs of employees/Operating revenue</th>\n",
       "      <td>0.052684</td>\n",
       "      <td>0.048926</td>\n",
       "      <td>0.305059</td>\n",
       "      <td>0.107075</td>\n",
       "      <td>0.137196</td>\n",
       "      <td>-0.112873</td>\n",
       "      <td>-0.045457</td>\n",
       "      <td>-0.129096</td>\n",
       "      <td>-0.028368</td>\n",
       "      <td>1.000000</td>\n",
       "      <td>0.026923</td>\n",
       "      <td>0.145246</td>\n",
       "      <td>1.713857e-01</td>\n",
       "      <td>-5.196734e-01</td>\n",
       "      <td>1.429837e-01</td>\n",
       "      <td>-2.690064e-01</td>\n",
       "      <td>-3.459554e-01</td>\n",
       "      <td>-5.216558e-02</td>\n",
       "      <td>6.094567e-01</td>\n",
       "      <td>2.093051e-01</td>\n",
       "    </tr>\n",
       "    <tr>\n",
       "      <th>Working Capital/Total Assets</th>\n",
       "      <td>0.018529</td>\n",
       "      <td>0.079104</td>\n",
       "      <td>0.140405</td>\n",
       "      <td>0.061052</td>\n",
       "      <td>-0.039517</td>\n",
       "      <td>-0.177856</td>\n",
       "      <td>-0.191480</td>\n",
       "      <td>-0.093232</td>\n",
       "      <td>-0.059348</td>\n",
       "      <td>0.026923</td>\n",
       "      <td>1.000000</td>\n",
       "      <td>0.276652</td>\n",
       "      <td>1.496275e-01</td>\n",
       "      <td>-4.659778e-01</td>\n",
       "      <td>-3.125933e-01</td>\n",
       "      <td>4.897542e-01</td>\n",
       "      <td>1.866683e-02</td>\n",
       "      <td>1.812867e-01</td>\n",
       "      <td>-3.510644e-01</td>\n",
       "      <td>4.056630e-01</td>\n",
       "    </tr>\n",
       "    <tr>\n",
       "      <th>Sales/Total Asset</th>\n",
       "      <td>-0.027779</td>\n",
       "      <td>-0.033107</td>\n",
       "      <td>0.163487</td>\n",
       "      <td>0.064875</td>\n",
       "      <td>-0.087407</td>\n",
       "      <td>-0.259468</td>\n",
       "      <td>-0.068181</td>\n",
       "      <td>0.020675</td>\n",
       "      <td>-0.027117</td>\n",
       "      <td>0.145246</td>\n",
       "      <td>0.276652</td>\n",
       "      <td>1.000000</td>\n",
       "      <td>6.648959e-02</td>\n",
       "      <td>-5.739036e-01</td>\n",
       "      <td>-3.028401e-01</td>\n",
       "      <td>2.552520e-01</td>\n",
       "      <td>3.024372e-01</td>\n",
       "      <td>-2.940563e-01</td>\n",
       "      <td>2.179138e-01</td>\n",
       "      <td>1.409376e-01</td>\n",
       "    </tr>\n",
       "    <tr>\n",
       "      <th>pc1</th>\n",
       "      <td>0.936819</td>\n",
       "      <td>0.938498</td>\n",
       "      <td>0.106465</td>\n",
       "      <td>0.661317</td>\n",
       "      <td>0.027926</td>\n",
       "      <td>-0.135439</td>\n",
       "      <td>-0.171803</td>\n",
       "      <td>-0.214117</td>\n",
       "      <td>0.371019</td>\n",
       "      <td>0.171386</td>\n",
       "      <td>0.149627</td>\n",
       "      <td>0.066490</td>\n",
       "      <td>1.000000e+00</td>\n",
       "      <td>4.747598e-16</td>\n",
       "      <td>-1.277618e-16</td>\n",
       "      <td>6.149120e-17</td>\n",
       "      <td>9.017504e-17</td>\n",
       "      <td>-2.731787e-17</td>\n",
       "      <td>-1.001326e-16</td>\n",
       "      <td>8.021342e-17</td>\n",
       "    </tr>\n",
       "    <tr>\n",
       "      <th>pc2</th>\n",
       "      <td>0.234336</td>\n",
       "      <td>0.219776</td>\n",
       "      <td>-0.707944</td>\n",
       "      <td>-0.121288</td>\n",
       "      <td>-0.276271</td>\n",
       "      <td>0.506690</td>\n",
       "      <td>0.112668</td>\n",
       "      <td>0.076156</td>\n",
       "      <td>0.104419</td>\n",
       "      <td>-0.519673</td>\n",
       "      <td>-0.465978</td>\n",
       "      <td>-0.573904</td>\n",
       "      <td>4.747598e-16</td>\n",
       "      <td>1.000000e+00</td>\n",
       "      <td>2.333380e-16</td>\n",
       "      <td>-1.168605e-16</td>\n",
       "      <td>1.116602e-16</td>\n",
       "      <td>-3.623128e-16</td>\n",
       "      <td>3.442119e-16</td>\n",
       "      <td>-9.205545e-17</td>\n",
       "    </tr>\n",
       "    <tr>\n",
       "      <th>pc3</th>\n",
       "      <td>-0.018023</td>\n",
       "      <td>-0.023790</td>\n",
       "      <td>0.459744</td>\n",
       "      <td>0.168807</td>\n",
       "      <td>0.715118</td>\n",
       "      <td>0.515361</td>\n",
       "      <td>-0.097124</td>\n",
       "      <td>0.516933</td>\n",
       "      <td>0.174815</td>\n",
       "      <td>0.142984</td>\n",
       "      <td>-0.312593</td>\n",
       "      <td>-0.302840</td>\n",
       "      <td>-1.277618e-16</td>\n",
       "      <td>2.333380e-16</td>\n",
       "      <td>1.000000e+00</td>\n",
       "      <td>-1.145648e-16</td>\n",
       "      <td>7.420525e-17</td>\n",
       "      <td>2.680853e-16</td>\n",
       "      <td>7.116488e-17</td>\n",
       "      <td>5.558216e-16</td>\n",
       "    </tr>\n",
       "    <tr>\n",
       "      <th>pc4</th>\n",
       "      <td>-0.020035</td>\n",
       "      <td>0.023405</td>\n",
       "      <td>-0.197598</td>\n",
       "      <td>0.062950</td>\n",
       "      <td>-0.055509</td>\n",
       "      <td>0.314009</td>\n",
       "      <td>-0.717869</td>\n",
       "      <td>0.367049</td>\n",
       "      <td>-0.184894</td>\n",
       "      <td>-0.269006</td>\n",
       "      <td>0.489754</td>\n",
       "      <td>0.255252</td>\n",
       "      <td>6.149120e-17</td>\n",
       "      <td>-1.168605e-16</td>\n",
       "      <td>-1.145648e-16</td>\n",
       "      <td>1.000000e+00</td>\n",
       "      <td>-1.381362e-16</td>\n",
       "      <td>-2.295726e-16</td>\n",
       "      <td>3.643867e-16</td>\n",
       "      <td>-2.795715e-16</td>\n",
       "    </tr>\n",
       "    <tr>\n",
       "      <th>pc5</th>\n",
       "      <td>0.000196</td>\n",
       "      <td>-0.012534</td>\n",
       "      <td>0.186648</td>\n",
       "      <td>-0.105360</td>\n",
       "      <td>-0.266180</td>\n",
       "      <td>-0.158975</td>\n",
       "      <td>0.238472</td>\n",
       "      <td>0.510315</td>\n",
       "      <td>0.630459</td>\n",
       "      <td>-0.345955</td>\n",
       "      <td>0.018667</td>\n",
       "      <td>0.302437</td>\n",
       "      <td>9.017504e-17</td>\n",
       "      <td>1.116602e-16</td>\n",
       "      <td>7.420525e-17</td>\n",
       "      <td>-1.381362e-16</td>\n",
       "      <td>1.000000e+00</td>\n",
       "      <td>4.609918e-16</td>\n",
       "      <td>-5.819945e-17</td>\n",
       "      <td>1.540894e-16</td>\n",
       "    </tr>\n",
       "    <tr>\n",
       "      <th>pc6</th>\n",
       "      <td>-0.052290</td>\n",
       "      <td>-0.036684</td>\n",
       "      <td>0.012353</td>\n",
       "      <td>-0.404426</td>\n",
       "      <td>0.206980</td>\n",
       "      <td>-0.117010</td>\n",
       "      <td>-0.375960</td>\n",
       "      <td>-0.344916</td>\n",
       "      <td>0.514389</td>\n",
       "      <td>-0.052166</td>\n",
       "      <td>0.181287</td>\n",
       "      <td>-0.294056</td>\n",
       "      <td>-2.731787e-17</td>\n",
       "      <td>-3.623128e-16</td>\n",
       "      <td>2.680853e-16</td>\n",
       "      <td>-2.295726e-16</td>\n",
       "      <td>4.609918e-16</td>\n",
       "      <td>1.000000e+00</td>\n",
       "      <td>-5.889400e-17</td>\n",
       "      <td>4.424413e-16</td>\n",
       "    </tr>\n",
       "    <tr>\n",
       "      <th>pc7</th>\n",
       "      <td>0.006612</td>\n",
       "      <td>-0.018006</td>\n",
       "      <td>-0.170481</td>\n",
       "      <td>-0.166027</td>\n",
       "      <td>-0.286262</td>\n",
       "      <td>0.125881</td>\n",
       "      <td>-0.278004</td>\n",
       "      <td>0.104737</td>\n",
       "      <td>0.193914</td>\n",
       "      <td>0.609457</td>\n",
       "      <td>-0.351064</td>\n",
       "      <td>0.217914</td>\n",
       "      <td>-1.001326e-16</td>\n",
       "      <td>3.442119e-16</td>\n",
       "      <td>7.116488e-17</td>\n",
       "      <td>3.643867e-16</td>\n",
       "      <td>-5.819945e-17</td>\n",
       "      <td>-5.889400e-17</td>\n",
       "      <td>1.000000e+00</td>\n",
       "      <td>1.743384e-16</td>\n",
       "    </tr>\n",
       "    <tr>\n",
       "      <th>pc8</th>\n",
       "      <td>0.088563</td>\n",
       "      <td>0.113656</td>\n",
       "      <td>-0.099604</td>\n",
       "      <td>-0.293855</td>\n",
       "      <td>0.106160</td>\n",
       "      <td>0.414230</td>\n",
       "      <td>0.388619</td>\n",
       "      <td>-0.042376</td>\n",
       "      <td>0.054422</td>\n",
       "      <td>0.209305</td>\n",
       "      <td>0.405663</td>\n",
       "      <td>0.140938</td>\n",
       "      <td>8.021342e-17</td>\n",
       "      <td>-9.205545e-17</td>\n",
       "      <td>5.558216e-16</td>\n",
       "      <td>-2.795715e-16</td>\n",
       "      <td>1.540894e-16</td>\n",
       "      <td>4.424413e-16</td>\n",
       "      <td>1.743384e-16</td>\n",
       "      <td>1.000000e+00</td>\n",
       "    </tr>\n",
       "  </tbody>\n",
       "</table>\n",
       "</div>"
      ],
      "text/plain": [
       "                                       Liquidity ratio   Current ratio  \\\n",
       " Liquidity ratio                              1.000000        0.994554   \n",
       " Current ratio                                0.994554        1.000000   \n",
       "Profit margin (%)                            -0.064743       -0.059245   \n",
       "Solvency ratio (Asset based) (%)              0.469794        0.467676   \n",
       "Profit per employee                          -0.019590       -0.018671   \n",
       "Intangible fixed assets                      -0.031820       -0.021791   \n",
       "CL/TL                                        -0.078180       -0.102483   \n",
       "CF/Operating Revenue                         -0.141173       -0.138796   \n",
       "Operating revenue per employee                0.286705        0.272143   \n",
       "Costs of employees/Operating revenue          0.052684        0.048926   \n",
       "Working Capital/Total Assets                  0.018529        0.079104   \n",
       "Sales/Total Asset                            -0.027779       -0.033107   \n",
       "pc1                                           0.936819        0.938498   \n",
       "pc2                                           0.234336        0.219776   \n",
       "pc3                                          -0.018023       -0.023790   \n",
       "pc4                                          -0.020035        0.023405   \n",
       "pc5                                           0.000196       -0.012534   \n",
       "pc6                                          -0.052290       -0.036684   \n",
       "pc7                                           0.006612       -0.018006   \n",
       "pc8                                           0.088563        0.113656   \n",
       "\n",
       "                                      Profit margin (%)  \\\n",
       " Liquidity ratio                              -0.064743   \n",
       " Current ratio                                -0.059245   \n",
       "Profit margin (%)                              1.000000   \n",
       "Solvency ratio (Asset based) (%)               0.207458   \n",
       "Profit per employee                            0.392750   \n",
       "Intangible fixed assets                       -0.221169   \n",
       "CL/TL                                          0.025537   \n",
       "CF/Operating Revenue                           0.138211   \n",
       "Operating revenue per employee                 0.127119   \n",
       "Costs of employees/Operating revenue           0.305059   \n",
       "Working Capital/Total Assets                   0.140405   \n",
       "Sales/Total Asset                              0.163487   \n",
       "pc1                                            0.106465   \n",
       "pc2                                           -0.707944   \n",
       "pc3                                            0.459744   \n",
       "pc4                                           -0.197598   \n",
       "pc5                                            0.186648   \n",
       "pc6                                            0.012353   \n",
       "pc7                                           -0.170481   \n",
       "pc8                                           -0.099604   \n",
       "\n",
       "                                      Solvency ratio (Asset based) (%)  \\\n",
       " Liquidity ratio                                              0.469794   \n",
       " Current ratio                                                0.467676   \n",
       "Profit margin (%)                                             0.207458   \n",
       "Solvency ratio (Asset based) (%)                              1.000000   \n",
       "Profit per employee                                           0.073724   \n",
       "Intangible fixed assets                                      -0.024716   \n",
       "CL/TL                                                        -0.103997   \n",
       "CF/Operating Revenue                                         -0.044670   \n",
       "Operating revenue per employee                                0.062502   \n",
       "Costs of employees/Operating revenue                          0.107075   \n",
       "Working Capital/Total Assets                                  0.061052   \n",
       "Sales/Total Asset                                             0.064875   \n",
       "pc1                                                           0.661317   \n",
       "pc2                                                          -0.121288   \n",
       "pc3                                                           0.168807   \n",
       "pc4                                                           0.062950   \n",
       "pc5                                                          -0.105360   \n",
       "pc6                                                          -0.404426   \n",
       "pc7                                                          -0.166027   \n",
       "pc8                                                          -0.293855   \n",
       "\n",
       "                                      Profit per employee  \\\n",
       " Liquidity ratio                                -0.019590   \n",
       " Current ratio                                  -0.018671   \n",
       "Profit margin (%)                                0.392750   \n",
       "Solvency ratio (Asset based) (%)                 0.073724   \n",
       "Profit per employee                              1.000000   \n",
       "Intangible fixed assets                          0.161891   \n",
       "CL/TL                                           -0.084826   \n",
       "CF/Operating Revenue                             0.075635   \n",
       "Operating revenue per employee                  -0.003165   \n",
       "Costs of employees/Operating revenue             0.137196   \n",
       "Working Capital/Total Assets                    -0.039517   \n",
       "Sales/Total Asset                               -0.087407   \n",
       "pc1                                              0.027926   \n",
       "pc2                                             -0.276271   \n",
       "pc3                                              0.715118   \n",
       "pc4                                             -0.055509   \n",
       "pc5                                             -0.266180   \n",
       "pc6                                              0.206980   \n",
       "pc7                                             -0.286262   \n",
       "pc8                                              0.106160   \n",
       "\n",
       "                                      Intangible fixed assets     CL/TL  \\\n",
       " Liquidity ratio                                    -0.031820 -0.078180   \n",
       " Current ratio                                      -0.021791 -0.102483   \n",
       "Profit margin (%)                                   -0.221169  0.025537   \n",
       "Solvency ratio (Asset based) (%)                    -0.024716 -0.103997   \n",
       "Profit per employee                                  0.161891 -0.084826   \n",
       "Intangible fixed assets                              1.000000 -0.069761   \n",
       "CL/TL                                               -0.069761  1.000000   \n",
       "CF/Operating Revenue                                 0.276385 -0.053797   \n",
       "Operating revenue per employee                      -0.017527  0.002527   \n",
       "Costs of employees/Operating revenue                -0.112873 -0.045457   \n",
       "Working Capital/Total Assets                        -0.177856 -0.191480   \n",
       "Sales/Total Asset                                   -0.259468 -0.068181   \n",
       "pc1                                                 -0.135439 -0.171803   \n",
       "pc2                                                  0.506690  0.112668   \n",
       "pc3                                                  0.515361 -0.097124   \n",
       "pc4                                                  0.314009 -0.717869   \n",
       "pc5                                                 -0.158975  0.238472   \n",
       "pc6                                                 -0.117010 -0.375960   \n",
       "pc7                                                  0.125881 -0.278004   \n",
       "pc8                                                  0.414230  0.388619   \n",
       "\n",
       "                                      CF/Operating Revenue  \\\n",
       " Liquidity ratio                                 -0.141173   \n",
       " Current ratio                                   -0.138796   \n",
       "Profit margin (%)                                 0.138211   \n",
       "Solvency ratio (Asset based) (%)                 -0.044670   \n",
       "Profit per employee                               0.075635   \n",
       "Intangible fixed assets                           0.276385   \n",
       "CL/TL                                            -0.053797   \n",
       "CF/Operating Revenue                              1.000000   \n",
       "Operating revenue per employee                    0.048318   \n",
       "Costs of employees/Operating revenue             -0.129096   \n",
       "Working Capital/Total Assets                     -0.093232   \n",
       "Sales/Total Asset                                 0.020675   \n",
       "pc1                                              -0.214117   \n",
       "pc2                                               0.076156   \n",
       "pc3                                               0.516933   \n",
       "pc4                                               0.367049   \n",
       "pc5                                               0.510315   \n",
       "pc6                                              -0.344916   \n",
       "pc7                                               0.104737   \n",
       "pc8                                              -0.042376   \n",
       "\n",
       "                                      Operating revenue per employee  \\\n",
       " Liquidity ratio                                            0.286705   \n",
       " Current ratio                                              0.272143   \n",
       "Profit margin (%)                                           0.127119   \n",
       "Solvency ratio (Asset based) (%)                            0.062502   \n",
       "Profit per employee                                        -0.003165   \n",
       "Intangible fixed assets                                    -0.017527   \n",
       "CL/TL                                                       0.002527   \n",
       "CF/Operating Revenue                                        0.048318   \n",
       "Operating revenue per employee                              1.000000   \n",
       "Costs of employees/Operating revenue                       -0.028368   \n",
       "Working Capital/Total Assets                               -0.059348   \n",
       "Sales/Total Asset                                          -0.027117   \n",
       "pc1                                                         0.371019   \n",
       "pc2                                                         0.104419   \n",
       "pc3                                                         0.174815   \n",
       "pc4                                                        -0.184894   \n",
       "pc5                                                         0.630459   \n",
       "pc6                                                         0.514389   \n",
       "pc7                                                         0.193914   \n",
       "pc8                                                         0.054422   \n",
       "\n",
       "                                      Costs of employees/Operating revenue  \\\n",
       " Liquidity ratio                                                  0.052684   \n",
       " Current ratio                                                    0.048926   \n",
       "Profit margin (%)                                                 0.305059   \n",
       "Solvency ratio (Asset based) (%)                                  0.107075   \n",
       "Profit per employee                                               0.137196   \n",
       "Intangible fixed assets                                          -0.112873   \n",
       "CL/TL                                                            -0.045457   \n",
       "CF/Operating Revenue                                             -0.129096   \n",
       "Operating revenue per employee                                   -0.028368   \n",
       "Costs of employees/Operating revenue                              1.000000   \n",
       "Working Capital/Total Assets                                      0.026923   \n",
       "Sales/Total Asset                                                 0.145246   \n",
       "pc1                                                               0.171386   \n",
       "pc2                                                              -0.519673   \n",
       "pc3                                                               0.142984   \n",
       "pc4                                                              -0.269006   \n",
       "pc5                                                              -0.345955   \n",
       "pc6                                                              -0.052166   \n",
       "pc7                                                               0.609457   \n",
       "pc8                                                               0.209305   \n",
       "\n",
       "                                      Working Capital/Total Assets  \\\n",
       " Liquidity ratio                                          0.018529   \n",
       " Current ratio                                            0.079104   \n",
       "Profit margin (%)                                         0.140405   \n",
       "Solvency ratio (Asset based) (%)                          0.061052   \n",
       "Profit per employee                                      -0.039517   \n",
       "Intangible fixed assets                                  -0.177856   \n",
       "CL/TL                                                    -0.191480   \n",
       "CF/Operating Revenue                                     -0.093232   \n",
       "Operating revenue per employee                           -0.059348   \n",
       "Costs of employees/Operating revenue                      0.026923   \n",
       "Working Capital/Total Assets                              1.000000   \n",
       "Sales/Total Asset                                         0.276652   \n",
       "pc1                                                       0.149627   \n",
       "pc2                                                      -0.465978   \n",
       "pc3                                                      -0.312593   \n",
       "pc4                                                       0.489754   \n",
       "pc5                                                       0.018667   \n",
       "pc6                                                       0.181287   \n",
       "pc7                                                      -0.351064   \n",
       "pc8                                                       0.405663   \n",
       "\n",
       "                                      Sales/Total Asset           pc1  \\\n",
       " Liquidity ratio                              -0.027779  9.368193e-01   \n",
       " Current ratio                                -0.033107  9.384983e-01   \n",
       "Profit margin (%)                              0.163487  1.064654e-01   \n",
       "Solvency ratio (Asset based) (%)               0.064875  6.613174e-01   \n",
       "Profit per employee                           -0.087407  2.792572e-02   \n",
       "Intangible fixed assets                       -0.259468 -1.354391e-01   \n",
       "CL/TL                                         -0.068181 -1.718032e-01   \n",
       "CF/Operating Revenue                           0.020675 -2.141167e-01   \n",
       "Operating revenue per employee                -0.027117  3.710191e-01   \n",
       "Costs of employees/Operating revenue           0.145246  1.713857e-01   \n",
       "Working Capital/Total Assets                   0.276652  1.496275e-01   \n",
       "Sales/Total Asset                              1.000000  6.648959e-02   \n",
       "pc1                                            0.066490  1.000000e+00   \n",
       "pc2                                           -0.573904  4.747598e-16   \n",
       "pc3                                           -0.302840 -1.277618e-16   \n",
       "pc4                                            0.255252  6.149120e-17   \n",
       "pc5                                            0.302437  9.017504e-17   \n",
       "pc6                                           -0.294056 -2.731787e-17   \n",
       "pc7                                            0.217914 -1.001326e-16   \n",
       "pc8                                            0.140938  8.021342e-17   \n",
       "\n",
       "                                               pc2           pc3  \\\n",
       " Liquidity ratio                      2.343360e-01 -1.802284e-02   \n",
       " Current ratio                        2.197760e-01 -2.378977e-02   \n",
       "Profit margin (%)                    -7.079438e-01  4.597442e-01   \n",
       "Solvency ratio (Asset based) (%)     -1.212878e-01  1.688069e-01   \n",
       "Profit per employee                  -2.762710e-01  7.151176e-01   \n",
       "Intangible fixed assets               5.066901e-01  5.153614e-01   \n",
       "CL/TL                                 1.126679e-01 -9.712379e-02   \n",
       "CF/Operating Revenue                  7.615642e-02  5.169330e-01   \n",
       "Operating revenue per employee        1.044190e-01  1.748147e-01   \n",
       "Costs of employees/Operating revenue -5.196734e-01  1.429837e-01   \n",
       "Working Capital/Total Assets         -4.659778e-01 -3.125933e-01   \n",
       "Sales/Total Asset                    -5.739036e-01 -3.028401e-01   \n",
       "pc1                                   4.747598e-16 -1.277618e-16   \n",
       "pc2                                   1.000000e+00  2.333380e-16   \n",
       "pc3                                   2.333380e-16  1.000000e+00   \n",
       "pc4                                  -1.168605e-16 -1.145648e-16   \n",
       "pc5                                   1.116602e-16  7.420525e-17   \n",
       "pc6                                  -3.623128e-16  2.680853e-16   \n",
       "pc7                                   3.442119e-16  7.116488e-17   \n",
       "pc8                                  -9.205545e-17  5.558216e-16   \n",
       "\n",
       "                                               pc4           pc5  \\\n",
       " Liquidity ratio                     -2.003480e-02  1.964311e-04   \n",
       " Current ratio                        2.340532e-02 -1.253394e-02   \n",
       "Profit margin (%)                    -1.975984e-01  1.866480e-01   \n",
       "Solvency ratio (Asset based) (%)      6.294970e-02 -1.053595e-01   \n",
       "Profit per employee                  -5.550940e-02 -2.661796e-01   \n",
       "Intangible fixed assets               3.140086e-01 -1.589750e-01   \n",
       "CL/TL                                -7.178689e-01  2.384720e-01   \n",
       "CF/Operating Revenue                  3.670493e-01  5.103150e-01   \n",
       "Operating revenue per employee       -1.848941e-01  6.304592e-01   \n",
       "Costs of employees/Operating revenue -2.690064e-01 -3.459554e-01   \n",
       "Working Capital/Total Assets          4.897542e-01  1.866683e-02   \n",
       "Sales/Total Asset                     2.552520e-01  3.024372e-01   \n",
       "pc1                                   6.149120e-17  9.017504e-17   \n",
       "pc2                                  -1.168605e-16  1.116602e-16   \n",
       "pc3                                  -1.145648e-16  7.420525e-17   \n",
       "pc4                                   1.000000e+00 -1.381362e-16   \n",
       "pc5                                  -1.381362e-16  1.000000e+00   \n",
       "pc6                                  -2.295726e-16  4.609918e-16   \n",
       "pc7                                   3.643867e-16 -5.819945e-17   \n",
       "pc8                                  -2.795715e-16  1.540894e-16   \n",
       "\n",
       "                                               pc6           pc7           pc8  \n",
       " Liquidity ratio                     -5.228965e-02  6.612237e-03  8.856345e-02  \n",
       " Current ratio                       -3.668397e-02 -1.800586e-02  1.136560e-01  \n",
       "Profit margin (%)                     1.235298e-02 -1.704810e-01 -9.960351e-02  \n",
       "Solvency ratio (Asset based) (%)     -4.044261e-01 -1.660271e-01 -2.938550e-01  \n",
       "Profit per employee                   2.069799e-01 -2.862623e-01  1.061596e-01  \n",
       "Intangible fixed assets              -1.170101e-01  1.258814e-01  4.142300e-01  \n",
       "CL/TL                                -3.759603e-01 -2.780040e-01  3.886185e-01  \n",
       "CF/Operating Revenue                 -3.449159e-01  1.047373e-01 -4.237605e-02  \n",
       "Operating revenue per employee        5.143887e-01  1.939145e-01  5.442189e-02  \n",
       "Costs of employees/Operating revenue -5.216558e-02  6.094567e-01  2.093051e-01  \n",
       "Working Capital/Total Assets          1.812867e-01 -3.510644e-01  4.056630e-01  \n",
       "Sales/Total Asset                    -2.940563e-01  2.179138e-01  1.409376e-01  \n",
       "pc1                                  -2.731787e-17 -1.001326e-16  8.021342e-17  \n",
       "pc2                                  -3.623128e-16  3.442119e-16 -9.205545e-17  \n",
       "pc3                                   2.680853e-16  7.116488e-17  5.558216e-16  \n",
       "pc4                                  -2.295726e-16  3.643867e-16 -2.795715e-16  \n",
       "pc5                                   4.609918e-16 -5.819945e-17  1.540894e-16  \n",
       "pc6                                   1.000000e+00 -5.889400e-17  4.424413e-16  \n",
       "pc7                                  -5.889400e-17  1.000000e+00  1.743384e-16  \n",
       "pc8                                   4.424413e-16  1.743384e-16  1.000000e+00  "
      ]
     },
     "execution_count": 59,
     "metadata": {},
     "output_type": "execute_result"
    }
   ],
   "source": [
    "data_merge.corr()"
   ]
  },
  {
   "cell_type": "code",
   "execution_count": 60,
   "metadata": {},
   "outputs": [
    {
     "data": {
      "image/png": "[encoded data removed]",
      "text/plain": [
       "<Figure size 1080x576 with 2 Axes>"
      ]
     },
     "metadata": {
      "needs_background": "light"
     },
     "output_type": "display_data"
    },
    {
     "data": {
      "text/plain": [
       "<Figure size 720x576 with 0 Axes>"
      ]
     },
     "metadata": {},
     "output_type": "display_data"
    }
   ],
   "source": [
    "import seaborn as sns\n",
    "plt.figure(figsize=(15,8))\n",
    "plot=sns.heatmap(data_merge.corr())\n",
    "#plt.setp(plot.get_xticklabels(), rotation=0)\n",
    "plt.title('Corr_Financial_Ratios')\n",
    "plt.figure(figsize=(10,8))\n",
    "plt.show()"
   ]
  },
  {
   "cell_type": "markdown",
   "metadata": {},
   "source": [
    "## ratios selected for none defualt data\n",
    " ` Current ratio` \n",
    "  `Profit margin (%)` \n",
    "  `Solvency ratio (Asset based) (%)`\n",
    "  `Sales/Total Asset`\n",
    "  `Costs of employees/Operating revenue`\n",
    "  `Intangible fixed assets`\n",
    "  `CF/Operating Revenue`\n",
    "  `Profit per employee`\n",
    "   `CL/TL`"
   ]
  },
  {
   "cell_type": "markdown",
   "metadata": {},
   "source": [
    "-"
   ]
  },
  {
   "cell_type": "markdown",
   "metadata": {},
   "source": [
    "## common ratios \n",
    "` Current ratio` \n",
    "`Profit margin (%)` \n",
    "`Solvency ratio (Asset based) (%)`\n",
    "`CL/TL`\n",
    "`Costs of employees/Operating revenue`\n",
    "`Sales/Total Asset`\n",
    " `Profit per employee`\n",
    " `Intangible fixed assets`\n",
    "`CF/Operating Revenue`"
   ]
  },
  {
   "cell_type": "code",
   "execution_count": 61,
   "metadata": {},
   "outputs": [],
   "source": [
    "# Bankruptcy stands for 1\n",
    "# None Bankruptcy stands for 0\n",
    "df_1_cat.insert(0, 'Status', int(1))\n",
    "df_2_cat.insert(0,'Status', int(0))\n",
    "\n",
    "train_df=pd.concat([df_1_cat,df_2_cat])"
   ]
  },
  {
   "cell_type": "code",
   "execution_count": 62,
   "metadata": {},
   "outputs": [],
   "source": [
    "train_df=train_df.fillna(0)"
   ]
  },
  {
   "cell_type": "code",
   "execution_count": 63,
   "metadata": {},
   "outputs": [
    {
     "data": {
      "text/plain": [
       "Status                                  0\n",
       "Company name                            0\n",
       " Liquidity ratio                        0\n",
       " Current ratio                          0\n",
       "Profit margin (%)                       0\n",
       "Solvency ratio (Asset based) (%)        0\n",
       "Profit per employee                     0\n",
       "Intangible fixed assets                 0\n",
       "CL/TL                                   0\n",
       "CF/Operating Revenue                    0\n",
       "Operating revenue per employee          0\n",
       "Costs of employees/Operating revenue    0\n",
       "Working Capital/Total Assets            0\n",
       "Sales/Total Asset                       0\n",
       "dtype: int64"
      ]
     },
     "execution_count": 63,
     "metadata": {},
     "output_type": "execute_result"
    }
   ],
   "source": [
    "train_df.isna().sum()"
   ]
  },
  {
   "cell_type": "code",
   "execution_count": 64,
   "metadata": {},
   "outputs": [
    {
     "data": {
      "text/html": [
       "<div>\n",
       "<style scoped>\n",
       "    .dataframe tbody tr th:only-of-type {\n",
       "        vertical-align: middle;\n",
       "    }\n",
       "\n",
       "    .dataframe tbody tr th {\n",
       "        vertical-align: top;\n",
       "    }\n",
       "\n",
       "    .dataframe thead th {\n",
       "        text-align: right;\n",
       "    }\n",
       "</style>\n",
       "<table border=\"1\" class=\"dataframe\">\n",
       "  <thead>\n",
       "    <tr style=\"text-align: right;\">\n",
       "      <th></th>\n",
       "      <th>Status</th>\n",
       "      <th>Company name</th>\n",
       "      <th>Liquidity ratio</th>\n",
       "      <th>Current ratio</th>\n",
       "      <th>Profit margin (%)</th>\n",
       "      <th>Solvency ratio (Asset based) (%)</th>\n",
       "      <th>Profit per employee</th>\n",
       "      <th>Intangible fixed assets</th>\n",
       "      <th>CL/TL</th>\n",
       "      <th>CF/Operating Revenue</th>\n",
       "      <th>Operating revenue per employee</th>\n",
       "      <th>Costs of employees/Operating revenue</th>\n",
       "      <th>Working Capital/Total Assets</th>\n",
       "      <th>Sales/Total Asset</th>\n",
       "    </tr>\n",
       "  </thead>\n",
       "  <tbody>\n",
       "    <tr>\n",
       "      <th>44</th>\n",
       "      <td>1</td>\n",
       "      <td>EUROPA DEVICES S.L.</td>\n",
       "      <td>0.470</td>\n",
       "      <td>0.962</td>\n",
       "      <td>0.121</td>\n",
       "      <td>1.726</td>\n",
       "      <td>0.364927</td>\n",
       "      <td>2.633853</td>\n",
       "      <td>5.206842e-02</td>\n",
       "      <td>2119.650601</td>\n",
       "      <td>302.807229</td>\n",
       "      <td>0.087801</td>\n",
       "      <td>0.694966</td>\n",
       "      <td>0.807573</td>\n",
       "    </tr>\n",
       "    <tr>\n",
       "      <th>73</th>\n",
       "      <td>1</td>\n",
       "      <td>ALAIN SANCHEZ INFORMATIQUE</td>\n",
       "      <td>0.350</td>\n",
       "      <td>0.350</td>\n",
       "      <td>6.093</td>\n",
       "      <td>-34.215</td>\n",
       "      <td>0.000000</td>\n",
       "      <td>258.679240</td>\n",
       "      <td>8.560237e-02</td>\n",
       "      <td>1298.048707</td>\n",
       "      <td>0.000000</td>\n",
       "      <td>0.679570</td>\n",
       "      <td>0.017637</td>\n",
       "      <td>2.194004</td>\n",
       "    </tr>\n",
       "    <tr>\n",
       "      <th>122</th>\n",
       "      <td>1</td>\n",
       "      <td>SARL IRIS</td>\n",
       "      <td>0.817</td>\n",
       "      <td>1.092</td>\n",
       "      <td>0.297</td>\n",
       "      <td>15.205</td>\n",
       "      <td>0.147200</td>\n",
       "      <td>0.000000</td>\n",
       "      <td>-5.771677e-02</td>\n",
       "      <td>297.637452</td>\n",
       "      <td>49.606242</td>\n",
       "      <td>0.400593</td>\n",
       "      <td>0.584795</td>\n",
       "      <td>1.900585</td>\n",
       "    </tr>\n",
       "    <tr>\n",
       "      <th>148</th>\n",
       "      <td>1</td>\n",
       "      <td>P.G.C.D.</td>\n",
       "      <td>0.812</td>\n",
       "      <td>0.812</td>\n",
       "      <td>-26.301</td>\n",
       "      <td>-9.901</td>\n",
       "      <td>-12.213927</td>\n",
       "      <td>0.000000</td>\n",
       "      <td>-2.220446e-15</td>\n",
       "      <td>325.068574</td>\n",
       "      <td>46.438368</td>\n",
       "      <td>0.904110</td>\n",
       "      <td>0.351485</td>\n",
       "      <td>1.806931</td>\n",
       "    </tr>\n",
       "    <tr>\n",
       "      <th>149</th>\n",
       "      <td>1</td>\n",
       "      <td>DATA NUMERICAL CONTROL</td>\n",
       "      <td>0.948</td>\n",
       "      <td>0.948</td>\n",
       "      <td>-1.909</td>\n",
       "      <td>15.847</td>\n",
       "      <td>-1.488801</td>\n",
       "      <td>7.444007</td>\n",
       "      <td>-1.887379e-15</td>\n",
       "      <td>389.879862</td>\n",
       "      <td>77.975972</td>\n",
       "      <td>0.658711</td>\n",
       "      <td>0.612022</td>\n",
       "      <td>2.273224</td>\n",
       "    </tr>\n",
       "    <tr>\n",
       "      <th>...</th>\n",
       "      <td>...</td>\n",
       "      <td>...</td>\n",
       "      <td>...</td>\n",
       "      <td>...</td>\n",
       "      <td>...</td>\n",
       "      <td>...</td>\n",
       "      <td>...</td>\n",
       "      <td>...</td>\n",
       "      <td>...</td>\n",
       "      <td>...</td>\n",
       "      <td>...</td>\n",
       "      <td>...</td>\n",
       "      <td>...</td>\n",
       "      <td>...</td>\n",
       "    </tr>\n",
       "    <tr>\n",
       "      <th>61</th>\n",
       "      <td>0</td>\n",
       "      <td>QUEBECTEL GROUP INC</td>\n",
       "      <td>0.506</td>\n",
       "      <td>0.506</td>\n",
       "      <td>8.495</td>\n",
       "      <td>40.651</td>\n",
       "      <td>0.000000</td>\n",
       "      <td>12383.495627</td>\n",
       "      <td>1.016654e-02</td>\n",
       "      <td>103602.615777</td>\n",
       "      <td>0.000000</td>\n",
       "      <td>0.000000</td>\n",
       "      <td>0.000000</td>\n",
       "      <td>0.278362</td>\n",
       "    </tr>\n",
       "    <tr>\n",
       "      <th>62</th>\n",
       "      <td>0</td>\n",
       "      <td>SOON COMMUNICATIONS PLC</td>\n",
       "      <td>2.636</td>\n",
       "      <td>2.833</td>\n",
       "      <td>70.982</td>\n",
       "      <td>77.163</td>\n",
       "      <td>81.100995</td>\n",
       "      <td>5754.625135</td>\n",
       "      <td>-3.655939e-02</td>\n",
       "      <td>102602.003638</td>\n",
       "      <td>114.256129</td>\n",
       "      <td>0.284090</td>\n",
       "      <td>0.045217</td>\n",
       "      <td>0.403624</td>\n",
       "    </tr>\n",
       "    <tr>\n",
       "      <th>63</th>\n",
       "      <td>0</td>\n",
       "      <td>BREAKAWAY SOLUTIONS INC</td>\n",
       "      <td>0.823</td>\n",
       "      <td>0.823</td>\n",
       "      <td>0.000</td>\n",
       "      <td>54.861</td>\n",
       "      <td>0.000000</td>\n",
       "      <td>0.000000</td>\n",
       "      <td>7.460173e-02</td>\n",
       "      <td>102479.000000</td>\n",
       "      <td>303.192308</td>\n",
       "      <td>0.000000</td>\n",
       "      <td>0.000000</td>\n",
       "      <td>1.326211</td>\n",
       "    </tr>\n",
       "    <tr>\n",
       "      <th>64</th>\n",
       "      <td>0</td>\n",
       "      <td>LIBERTY DIGITAL INC</td>\n",
       "      <td>0.218</td>\n",
       "      <td>0.256</td>\n",
       "      <td>0.000</td>\n",
       "      <td>33.579</td>\n",
       "      <td>275.696429</td>\n",
       "      <td>474602.000000</td>\n",
       "      <td>-1.458685e-01</td>\n",
       "      <td>100727.000000</td>\n",
       "      <td>179.869643</td>\n",
       "      <td>0.000000</td>\n",
       "      <td>0.000000</td>\n",
       "      <td>0.108418</td>\n",
       "    </tr>\n",
       "    <tr>\n",
       "      <th>65</th>\n",
       "      <td>0</td>\n",
       "      <td>INTRASOFT SA</td>\n",
       "      <td>1.170</td>\n",
       "      <td>1.533</td>\n",
       "      <td>17.007</td>\n",
       "      <td>81.990</td>\n",
       "      <td>17.894287</td>\n",
       "      <td>8796.824150</td>\n",
       "      <td>5.420725e-03</td>\n",
       "      <td>99537.489765</td>\n",
       "      <td>105.219334</td>\n",
       "      <td>0.000000</td>\n",
       "      <td>0.118507</td>\n",
       "      <td>0.234241</td>\n",
       "    </tr>\n",
       "  </tbody>\n",
       "</table>\n",
       "<p>236 rows × 14 columns</p>\n",
       "</div>"
      ],
      "text/plain": [
       "     Status                Company name   Liquidity ratio   Current ratio  \\\n",
       "44        1         EUROPA DEVICES S.L.             0.470           0.962   \n",
       "73        1  ALAIN SANCHEZ INFORMATIQUE             0.350           0.350   \n",
       "122       1                   SARL IRIS             0.817           1.092   \n",
       "148       1                    P.G.C.D.             0.812           0.812   \n",
       "149       1      DATA NUMERICAL CONTROL             0.948           0.948   \n",
       "..      ...                         ...               ...             ...   \n",
       "61        0         QUEBECTEL GROUP INC             0.506           0.506   \n",
       "62        0     SOON COMMUNICATIONS PLC             2.636           2.833   \n",
       "63        0     BREAKAWAY SOLUTIONS INC             0.823           0.823   \n",
       "64        0         LIBERTY DIGITAL INC             0.218           0.256   \n",
       "65        0                INTRASOFT SA             1.170           1.533   \n",
       "\n",
       "     Profit margin (%)  Solvency ratio (Asset based) (%)  Profit per employee  \\\n",
       "44               0.121                             1.726             0.364927   \n",
       "73               6.093                           -34.215             0.000000   \n",
       "122              0.297                            15.205             0.147200   \n",
       "148            -26.301                            -9.901           -12.213927   \n",
       "149             -1.909                            15.847            -1.488801   \n",
       "..                 ...                               ...                  ...   \n",
       "61               8.495                            40.651             0.000000   \n",
       "62              70.982                            77.163            81.100995   \n",
       "63               0.000                            54.861             0.000000   \n",
       "64               0.000                            33.579           275.696429   \n",
       "65              17.007                            81.990            17.894287   \n",
       "\n",
       "     Intangible fixed assets         CL/TL  CF/Operating Revenue  \\\n",
       "44                  2.633853  5.206842e-02           2119.650601   \n",
       "73                258.679240  8.560237e-02           1298.048707   \n",
       "122                 0.000000 -5.771677e-02            297.637452   \n",
       "148                 0.000000 -2.220446e-15            325.068574   \n",
       "149                 7.444007 -1.887379e-15            389.879862   \n",
       "..                       ...           ...                   ...   \n",
       "61              12383.495627  1.016654e-02         103602.615777   \n",
       "62               5754.625135 -3.655939e-02         102602.003638   \n",
       "63                  0.000000  7.460173e-02         102479.000000   \n",
       "64             474602.000000 -1.458685e-01         100727.000000   \n",
       "65               8796.824150  5.420725e-03          99537.489765   \n",
       "\n",
       "     Operating revenue per employee  Costs of employees/Operating revenue  \\\n",
       "44                       302.807229                              0.087801   \n",
       "73                         0.000000                              0.679570   \n",
       "122                       49.606242                              0.400593   \n",
       "148                       46.438368                              0.904110   \n",
       "149                       77.975972                              0.658711   \n",
       "..                              ...                                   ...   \n",
       "61                         0.000000                              0.000000   \n",
       "62                       114.256129                              0.284090   \n",
       "63                       303.192308                              0.000000   \n",
       "64                       179.869643                              0.000000   \n",
       "65                       105.219334                              0.000000   \n",
       "\n",
       "     Working Capital/Total Assets  Sales/Total Asset  \n",
       "44                       0.694966           0.807573  \n",
       "73                       0.017637           2.194004  \n",
       "122                      0.584795           1.900585  \n",
       "148                      0.351485           1.806931  \n",
       "149                      0.612022           2.273224  \n",
       "..                            ...                ...  \n",
       "61                       0.000000           0.278362  \n",
       "62                       0.045217           0.403624  \n",
       "63                       0.000000           1.326211  \n",
       "64                       0.000000           0.108418  \n",
       "65                       0.118507           0.234241  \n",
       "\n",
       "[236 rows x 14 columns]"
      ]
     },
     "execution_count": 64,
     "metadata": {},
     "output_type": "execute_result"
    }
   ],
   "source": [
    "train_df"
   ]
  },
  {
   "cell_type": "markdown",
   "metadata": {},
   "source": [
    "## Logistic Regression"
   ]
  },
  {
   "cell_type": "code",
   "execution_count": 65,
   "metadata": {},
   "outputs": [],
   "source": [
    "from sklearn.linear_model import LogisticRegression\n",
    "import statsmodels.api as sm;\n",
    "import statsmodels.discrete.discrete_model as smdiscrete\n",
    "pd.set_option('use_inf_as_na', True)"
   ]
  },
  {
   "cell_type": "code",
   "execution_count": 66,
   "metadata": {},
   "outputs": [],
   "source": [
    "logisticRegr = LogisticRegression()"
   ]
  },
  {
   "cell_type": "code",
   "execution_count": 67,
   "metadata": {},
   "outputs": [],
   "source": [
    "# ` Current ratio` \n",
    "# `Profit margin (%)` \n",
    "# `Solvency ratio (Asset based) (%)`\n",
    "# `CL/TL`\n",
    "# `Costs of employees/Operating revenue`\n",
    "# `Sales/Total Asset`\n",
    "#  `Profit per employee`\n",
    "#  `Intangible fixed assets`\n",
    "# `CF/Operating Revenue`"
   ]
  },
  {
   "cell_type": "code",
   "execution_count": 68,
   "metadata": {},
   "outputs": [],
   "source": [
    "### log value"
   ]
  },
  {
   "cell_type": "code",
   "execution_count": 69,
   "metadata": {},
   "outputs": [],
   "source": [
    "log_train_df= np.log10(train_df.iloc[:, 2:]).round(4)"
   ]
  },
  {
   "cell_type": "code",
   "execution_count": 70,
   "metadata": {
    "scrolled": false
   },
   "outputs": [
    {
     "data": {
      "text/html": [
       "<div>\n",
       "<style scoped>\n",
       "    .dataframe tbody tr th:only-of-type {\n",
       "        vertical-align: middle;\n",
       "    }\n",
       "\n",
       "    .dataframe tbody tr th {\n",
       "        vertical-align: top;\n",
       "    }\n",
       "\n",
       "    .dataframe thead th {\n",
       "        text-align: right;\n",
       "    }\n",
       "</style>\n",
       "<table border=\"1\" class=\"dataframe\">\n",
       "  <thead>\n",
       "    <tr style=\"text-align: right;\">\n",
       "      <th></th>\n",
       "      <th>Liquidity ratio</th>\n",
       "      <th>Current ratio</th>\n",
       "      <th>Profit margin (%)</th>\n",
       "      <th>Solvency ratio (Asset based) (%)</th>\n",
       "      <th>Profit per employee</th>\n",
       "      <th>Intangible fixed assets</th>\n",
       "      <th>CL/TL</th>\n",
       "      <th>CF/Operating Revenue</th>\n",
       "      <th>Operating revenue per employee</th>\n",
       "      <th>Costs of employees/Operating revenue</th>\n",
       "      <th>Working Capital/Total Assets</th>\n",
       "      <th>Sales/Total Asset</th>\n",
       "    </tr>\n",
       "  </thead>\n",
       "  <tbody>\n",
       "    <tr>\n",
       "      <th>44</th>\n",
       "      <td>-0.3279</td>\n",
       "      <td>-0.0168</td>\n",
       "      <td>-0.9172</td>\n",
       "      <td>0.2370</td>\n",
       "      <td>-0.4378</td>\n",
       "      <td>0.4206</td>\n",
       "      <td>-1.2834</td>\n",
       "      <td>3.3263</td>\n",
       "      <td>2.4812</td>\n",
       "      <td>-1.0565</td>\n",
       "      <td>-0.1580</td>\n",
       "      <td>-0.0928</td>\n",
       "    </tr>\n",
       "    <tr>\n",
       "      <th>73</th>\n",
       "      <td>-0.4559</td>\n",
       "      <td>-0.4559</td>\n",
       "      <td>0.7848</td>\n",
       "      <td>NaN</td>\n",
       "      <td>NaN</td>\n",
       "      <td>2.4128</td>\n",
       "      <td>-1.0675</td>\n",
       "      <td>3.1133</td>\n",
       "      <td>NaN</td>\n",
       "      <td>-0.1678</td>\n",
       "      <td>-1.7536</td>\n",
       "      <td>0.3412</td>\n",
       "    </tr>\n",
       "    <tr>\n",
       "      <th>122</th>\n",
       "      <td>-0.0878</td>\n",
       "      <td>0.0382</td>\n",
       "      <td>-0.5272</td>\n",
       "      <td>1.1820</td>\n",
       "      <td>-0.8321</td>\n",
       "      <td>NaN</td>\n",
       "      <td>NaN</td>\n",
       "      <td>2.4737</td>\n",
       "      <td>1.6955</td>\n",
       "      <td>-0.3973</td>\n",
       "      <td>-0.2330</td>\n",
       "      <td>0.2789</td>\n",
       "    </tr>\n",
       "    <tr>\n",
       "      <th>148</th>\n",
       "      <td>-0.0904</td>\n",
       "      <td>-0.0904</td>\n",
       "      <td>NaN</td>\n",
       "      <td>NaN</td>\n",
       "      <td>NaN</td>\n",
       "      <td>NaN</td>\n",
       "      <td>NaN</td>\n",
       "      <td>2.5120</td>\n",
       "      <td>1.6669</td>\n",
       "      <td>-0.0438</td>\n",
       "      <td>-0.4541</td>\n",
       "      <td>0.2569</td>\n",
       "    </tr>\n",
       "    <tr>\n",
       "      <th>149</th>\n",
       "      <td>-0.0232</td>\n",
       "      <td>-0.0232</td>\n",
       "      <td>NaN</td>\n",
       "      <td>1.1999</td>\n",
       "      <td>NaN</td>\n",
       "      <td>0.8718</td>\n",
       "      <td>NaN</td>\n",
       "      <td>2.5909</td>\n",
       "      <td>1.8920</td>\n",
       "      <td>-0.1813</td>\n",
       "      <td>-0.2132</td>\n",
       "      <td>0.3566</td>\n",
       "    </tr>\n",
       "    <tr>\n",
       "      <th>...</th>\n",
       "      <td>...</td>\n",
       "      <td>...</td>\n",
       "      <td>...</td>\n",
       "      <td>...</td>\n",
       "      <td>...</td>\n",
       "      <td>...</td>\n",
       "      <td>...</td>\n",
       "      <td>...</td>\n",
       "      <td>...</td>\n",
       "      <td>...</td>\n",
       "      <td>...</td>\n",
       "      <td>...</td>\n",
       "    </tr>\n",
       "    <tr>\n",
       "      <th>61</th>\n",
       "      <td>-0.2958</td>\n",
       "      <td>-0.2958</td>\n",
       "      <td>0.9292</td>\n",
       "      <td>1.6091</td>\n",
       "      <td>NaN</td>\n",
       "      <td>4.0928</td>\n",
       "      <td>-1.9928</td>\n",
       "      <td>5.0154</td>\n",
       "      <td>NaN</td>\n",
       "      <td>NaN</td>\n",
       "      <td>NaN</td>\n",
       "      <td>-0.5554</td>\n",
       "    </tr>\n",
       "    <tr>\n",
       "      <th>62</th>\n",
       "      <td>0.4209</td>\n",
       "      <td>0.4522</td>\n",
       "      <td>1.8511</td>\n",
       "      <td>1.8874</td>\n",
       "      <td>1.9090</td>\n",
       "      <td>3.7600</td>\n",
       "      <td>NaN</td>\n",
       "      <td>5.0112</td>\n",
       "      <td>2.0579</td>\n",
       "      <td>-0.5465</td>\n",
       "      <td>-1.3447</td>\n",
       "      <td>-0.3940</td>\n",
       "    </tr>\n",
       "    <tr>\n",
       "      <th>63</th>\n",
       "      <td>-0.0846</td>\n",
       "      <td>-0.0846</td>\n",
       "      <td>NaN</td>\n",
       "      <td>1.7393</td>\n",
       "      <td>NaN</td>\n",
       "      <td>NaN</td>\n",
       "      <td>-1.1273</td>\n",
       "      <td>5.0106</td>\n",
       "      <td>2.4817</td>\n",
       "      <td>NaN</td>\n",
       "      <td>NaN</td>\n",
       "      <td>0.1226</td>\n",
       "    </tr>\n",
       "    <tr>\n",
       "      <th>64</th>\n",
       "      <td>-0.6615</td>\n",
       "      <td>-0.5918</td>\n",
       "      <td>NaN</td>\n",
       "      <td>1.5261</td>\n",
       "      <td>2.4404</td>\n",
       "      <td>5.6763</td>\n",
       "      <td>NaN</td>\n",
       "      <td>5.0031</td>\n",
       "      <td>2.2550</td>\n",
       "      <td>NaN</td>\n",
       "      <td>NaN</td>\n",
       "      <td>-0.9649</td>\n",
       "    </tr>\n",
       "    <tr>\n",
       "      <th>65</th>\n",
       "      <td>0.0682</td>\n",
       "      <td>0.1855</td>\n",
       "      <td>1.2306</td>\n",
       "      <td>1.9138</td>\n",
       "      <td>1.2527</td>\n",
       "      <td>3.9443</td>\n",
       "      <td>-2.2659</td>\n",
       "      <td>4.9980</td>\n",
       "      <td>2.0221</td>\n",
       "      <td>NaN</td>\n",
       "      <td>-0.9263</td>\n",
       "      <td>-0.6303</td>\n",
       "    </tr>\n",
       "  </tbody>\n",
       "</table>\n",
       "<p>236 rows × 12 columns</p>\n",
       "</div>"
      ],
      "text/plain": [
       "      Liquidity ratio   Current ratio  Profit margin (%)  \\\n",
       "44            -0.3279         -0.0168            -0.9172   \n",
       "73            -0.4559         -0.4559             0.7848   \n",
       "122           -0.0878          0.0382            -0.5272   \n",
       "148           -0.0904         -0.0904                NaN   \n",
       "149           -0.0232         -0.0232                NaN   \n",
       "..                ...             ...                ...   \n",
       "61            -0.2958         -0.2958             0.9292   \n",
       "62             0.4209          0.4522             1.8511   \n",
       "63            -0.0846         -0.0846                NaN   \n",
       "64            -0.6615         -0.5918                NaN   \n",
       "65             0.0682          0.1855             1.2306   \n",
       "\n",
       "     Solvency ratio (Asset based) (%)  Profit per employee  \\\n",
       "44                             0.2370              -0.4378   \n",
       "73                                NaN                  NaN   \n",
       "122                            1.1820              -0.8321   \n",
       "148                               NaN                  NaN   \n",
       "149                            1.1999                  NaN   \n",
       "..                                ...                  ...   \n",
       "61                             1.6091                  NaN   \n",
       "62                             1.8874               1.9090   \n",
       "63                             1.7393                  NaN   \n",
       "64                             1.5261               2.4404   \n",
       "65                             1.9138               1.2527   \n",
       "\n",
       "     Intangible fixed assets   CL/TL  CF/Operating Revenue  \\\n",
       "44                    0.4206 -1.2834                3.3263   \n",
       "73                    2.4128 -1.0675                3.1133   \n",
       "122                      NaN     NaN                2.4737   \n",
       "148                      NaN     NaN                2.5120   \n",
       "149                   0.8718     NaN                2.5909   \n",
       "..                       ...     ...                   ...   \n",
       "61                    4.0928 -1.9928                5.0154   \n",
       "62                    3.7600     NaN                5.0112   \n",
       "63                       NaN -1.1273                5.0106   \n",
       "64                    5.6763     NaN                5.0031   \n",
       "65                    3.9443 -2.2659                4.9980   \n",
       "\n",
       "     Operating revenue per employee  Costs of employees/Operating revenue  \\\n",
       "44                           2.4812                               -1.0565   \n",
       "73                              NaN                               -0.1678   \n",
       "122                          1.6955                               -0.3973   \n",
       "148                          1.6669                               -0.0438   \n",
       "149                          1.8920                               -0.1813   \n",
       "..                              ...                                   ...   \n",
       "61                              NaN                                   NaN   \n",
       "62                           2.0579                               -0.5465   \n",
       "63                           2.4817                                   NaN   \n",
       "64                           2.2550                                   NaN   \n",
       "65                           2.0221                                   NaN   \n",
       "\n",
       "     Working Capital/Total Assets  Sales/Total Asset  \n",
       "44                        -0.1580            -0.0928  \n",
       "73                        -1.7536             0.3412  \n",
       "122                       -0.2330             0.2789  \n",
       "148                       -0.4541             0.2569  \n",
       "149                       -0.2132             0.3566  \n",
       "..                            ...                ...  \n",
       "61                            NaN            -0.5554  \n",
       "62                        -1.3447            -0.3940  \n",
       "63                            NaN             0.1226  \n",
       "64                            NaN            -0.9649  \n",
       "65                        -0.9263            -0.6303  \n",
       "\n",
       "[236 rows x 12 columns]"
      ]
     },
     "execution_count": 70,
     "metadata": {},
     "output_type": "execute_result"
    }
   ],
   "source": [
    "log_train_df"
   ]
  },
  {
   "cell_type": "code",
   "execution_count": 71,
   "metadata": {},
   "outputs": [],
   "source": [
    "log_train_df=log_train_df.fillna(0)"
   ]
  },
  {
   "cell_type": "code",
   "execution_count": 72,
   "metadata": {
    "scrolled": false
   },
   "outputs": [
    {
     "name": "stdout",
     "output_type": "stream",
     "text": [
      "Optimization terminated successfully.\n",
      "         Current function value: 0.332247\n",
      "         Iterations 8\n"
     ]
    },
    {
     "data": {
      "text/html": [
       "<table class=\"simpletable\">\n",
       "<caption>Logit Regression Results</caption>\n",
       "<tr>\n",
       "  <th>Dep. Variable:</th>           <td>y</td>        <th>  No. Observations:  </th>  <td>   236</td>  \n",
       "</tr>\n",
       "<tr>\n",
       "  <th>Model:</th>                 <td>Logit</td>      <th>  Df Residuals:      </th>  <td>   231</td>  \n",
       "</tr>\n",
       "<tr>\n",
       "  <th>Method:</th>                 <td>MLE</td>       <th>  Df Model:          </th>  <td>     4</td>  \n",
       "</tr>\n",
       "<tr>\n",
       "  <th>Date:</th>            <td>Mon, 03 May 2021</td> <th>  Pseudo R-squ.:     </th>  <td>0.5207</td>  \n",
       "</tr>\n",
       "<tr>\n",
       "  <th>Time:</th>                <td>16:10:33</td>     <th>  Log-Likelihood:    </th> <td> -78.410</td> \n",
       "</tr>\n",
       "<tr>\n",
       "  <th>converged:</th>             <td>True</td>       <th>  LL-Null:           </th> <td> -163.58</td> \n",
       "</tr>\n",
       "<tr>\n",
       "  <th>Covariance Type:</th>     <td>nonrobust</td>    <th>  LLR p-value:       </th> <td>8.819e-36</td>\n",
       "</tr>\n",
       "</table>\n",
       "<table class=\"simpletable\">\n",
       "<tr>\n",
       "                    <td></td>                      <th>coef</th>     <th>std err</th>      <th>z</th>      <th>P>|z|</th>  <th>[0.025</th>    <th>0.975]</th>  \n",
       "</tr>\n",
       "<tr>\n",
       "  <th> Current ratio</th>                       <td>   -1.5970</td> <td>    0.728</td> <td>   -2.195</td> <td> 0.028</td> <td>   -3.023</td> <td>   -0.171</td>\n",
       "</tr>\n",
       "<tr>\n",
       "  <th>Intangible fixed assets</th>              <td>   -0.8165</td> <td>    0.159</td> <td>   -5.127</td> <td> 0.000</td> <td>   -1.129</td> <td>   -0.504</td>\n",
       "</tr>\n",
       "<tr>\n",
       "  <th>CF/Operating Revenue</th>                 <td>    0.0540</td> <td>    0.094</td> <td>    0.576</td> <td> 0.565</td> <td>   -0.130</td> <td>    0.238</td>\n",
       "</tr>\n",
       "<tr>\n",
       "  <th>Costs of employees/Operating revenue</th> <td>   -1.7063</td> <td>    0.426</td> <td>   -4.007</td> <td> 0.000</td> <td>   -2.541</td> <td>   -0.872</td>\n",
       "</tr>\n",
       "<tr>\n",
       "  <th>Sales/Total Asset</th>                    <td>    4.0541</td> <td>    0.790</td> <td>    5.131</td> <td> 0.000</td> <td>    2.505</td> <td>    5.603</td>\n",
       "</tr>\n",
       "</table>"
      ],
      "text/plain": [
       "<class 'statsmodels.iolib.summary.Summary'>\n",
       "\"\"\"\n",
       "                           Logit Regression Results                           \n",
       "==============================================================================\n",
       "Dep. Variable:                      y   No. Observations:                  236\n",
       "Model:                          Logit   Df Residuals:                      231\n",
       "Method:                           MLE   Df Model:                            4\n",
       "Date:                Mon, 03 May 2021   Pseudo R-squ.:                  0.5207\n",
       "Time:                        16:10:33   Log-Likelihood:                -78.410\n",
       "converged:                       True   LL-Null:                       -163.58\n",
       "Covariance Type:            nonrobust   LLR p-value:                 8.819e-36\n",
       "========================================================================================================\n",
       "                                           coef    std err          z      P>|z|      [0.025      0.975]\n",
       "--------------------------------------------------------------------------------------------------------\n",
       " Current ratio                          -1.5970      0.728     -2.195      0.028      -3.023      -0.171\n",
       "Intangible fixed assets                 -0.8165      0.159     -5.127      0.000      -1.129      -0.504\n",
       "CF/Operating Revenue                     0.0540      0.094      0.576      0.565      -0.130       0.238\n",
       "Costs of employees/Operating revenue    -1.7063      0.426     -4.007      0.000      -2.541      -0.872\n",
       "Sales/Total Asset                        4.0541      0.790      5.131      0.000       2.505       5.603\n",
       "========================================================================================================\n",
       "\"\"\""
      ]
     },
     "execution_count": 72,
     "metadata": {},
     "output_type": "execute_result"
    }
   ],
   "source": [
    "result = smdiscrete.Logit(train_df['Status'].values, log_train_df[[' Current ratio' ,'Intangible fixed assets','CF/Operating Revenue', 'Costs of employees/Operating revenue','Sales/Total Asset']]).fit()\n",
    "result.summary()"
   ]
  },
  {
   "cell_type": "markdown",
   "metadata": {},
   "source": [
    "### Model Coefficients"
   ]
  },
  {
   "cell_type": "code",
   "execution_count": 73,
   "metadata": {},
   "outputs": [
    {
     "data": {
      "text/plain": [
       " Current ratio                         -1.596980\n",
       "Intangible fixed assets                -0.816543\n",
       "CF/Operating Revenue                    0.053952\n",
       "Costs of employees/Operating revenue   -1.706327\n",
       "Sales/Total Asset                       4.054102\n",
       "dtype: float64"
      ]
     },
     "execution_count": 73,
     "metadata": {},
     "output_type": "execute_result"
    }
   ],
   "source": [
    "result.params"
   ]
  },
  {
   "cell_type": "markdown",
   "metadata": {},
   "source": [
    "# Model testing_1 for active firms 2002-2005"
   ]
  },
  {
   "cell_type": "markdown",
   "metadata": {},
   "source": [
    "#### Import active test data 2002- 2005"
   ]
  },
  {
   "cell_type": "code",
   "execution_count": 74,
   "metadata": {},
   "outputs": [],
   "source": [
    "test_0 = pd.read_excel('Active Companies.xlsx', sheet_name = '0205', index_col=0)"
   ]
  },
  {
   "cell_type": "code",
   "execution_count": 75,
   "metadata": {},
   "outputs": [
    {
     "data": {
      "text/plain": [
       "(46, 49)"
      ]
     },
     "execution_count": 75,
     "metadata": {},
     "output_type": "execute_result"
    }
   ],
   "source": [
    "test_0=test_0.replace({'n.a.': np.nan,'n.s.': np.nan})\n",
    "test_0.shape"
   ]
  },
  {
   "cell_type": "code",
   "execution_count": 76,
   "metadata": {},
   "outputs": [],
   "source": [
    "#test_0=test_0.fillna(0)"
   ]
  },
  {
   "cell_type": "code",
   "execution_count": 77,
   "metadata": {},
   "outputs": [],
   "source": [
    "###calculate ratios \n",
    "\n",
    "test_00=test_0[['Company name Latin alphabet',\n",
    "                  'Liquidity ratio\\nLast avail. yr', 'Liquidity ratio\\nYear - 1', \n",
    "                   'Current ratio\\nLast avail. yr', 'Current ratio\\nYear - 1',\n",
    "                   'Profit margin (%)\\nLast avail. yr', 'Profit margin (%)\\nYear - 1',\n",
    "                  'Solvency ratio (Asset based) (%)\\nLast avail. yr',  'Solvency ratio (Asset based) (%)\\nYear - 1',\n",
    "                   'Profit per employee (th) (th)\\nth USD Last avail. yr', 'Profit per employee (th) (th)\\nth USD Year - 1',\n",
    "                   'Intangible fixed assets\\nth USD Last avail. yr', 'Intangible fixed assets\\nth USD Year - 1',\n",
    "                  \n",
    "                ]]\n",
    "\n",
    "test_00['CL/TL avial year']=test_0['Current liabilities\\nth USD Last avail. yr']/(test_0['Total shareh. funds & liab.\\nth USD Last avail. yr']-test_0['Shareholders funds\\nth USD Last avail. yr']) -test_0['Current liabilities\\nth USD Year - 1']/(test_0['Total shareh. funds & liab.\\nth USD Year - 1']-test_0['Shareholders funds\\nth USD Year - 1'])\n",
    "                                                                                    \n",
    "test_00['CL/TL year-1']=test_0['Current liabilities\\nth USD Year - 1']/(test_0['Total shareh. funds & liab.\\nth USD Year - 1']-test_0['Shareholders funds\\nth USD Year - 1']) -test_0['Current liabilities\\nth USD Year - 2']/(test_0['Total shareh. funds & liab.\\nth USD Year - 2']-test_0['Shareholders funds\\nth USD Year - 2'])\n",
    "                                   \n",
    "\n",
    "#data2['CF/CapEX avil year']=data1['Cash flow\\nth USD Last avail. yr']/data1['Capital Expenditures\\nth USD Last avail. yr']\n",
    "#data2['CF/CapEX year-1']=data1['Cash flow\\nth USD Year - 1']/data1[ 'Capital Expenditures\\nth USD Year - 1']\n",
    "\n",
    "\n",
    "#### add in 6 more Financial ratios\n",
    "# 1. Cash flow / Operating revenue \n",
    "test_00['Cash flow / Operating revenue'] = test_0['Operating revenue (Turnover)\\nth USD Last avail. yr']\n",
    "test_00['Cash flow / Operating revenue -1'] = test_0['Operating revenue (Turnover)\\nth USD Year - 1']\n",
    "\n",
    "\n",
    "# 2. operating revenue per employee\n",
    "test_00['Operating revenue per employee'] = test_0['Operating revenue per employee (th) (th)\\nth USD Last avail. yr']\n",
    "test_00['Operating revenue per employee -1'] = test_0['Operating revenue per employee (th) (th)\\nth USD Year - 1']\n",
    "\n",
    "\n",
    "#3. Costs of employees / Operating revenue \n",
    "test_00['Costs of employees/Operating revenue'] = test_0['Costs of employees\\nth USD Last avail. yr'] / test_0['Operating revenue (Turnover)\\nth USD Last avail. yr']\n",
    "test_00['Costs of employees/Operating revenue-1'] = test_0['Costs of employees\\nth USD Year - 1'] / test_0['Operating revenue (Turnover)\\nth USD Year - 1']\n",
    "\n",
    "#4. Working Capital/Total Assets\n",
    "test_00['Working Capital/Total Assets'] = test_0['Working capital\\nth USD Last avail. yr'] / test_0['Total assets\\nth USD Last avail. yr']\n",
    "test_00['Working Capital/Total Assets -1'] = test_0['Working capital\\nth USD Year - 1'] / test_0['Total assets\\nth USD Year - 1']\n",
    "\n",
    "\n",
    "# 6.  Sales / Total Assets\n",
    "test_00['Sales/Total Asset'] = test_0['Sales\\nth USD Last avail. yr'] / test_0['Total assets\\nth USD Last avail. yr']\n",
    "test_00['Sales/Total Asset-1'] = test_0['Sales\\nth USD Year - 1'] / test_0['Total assets\\nth USD Year - 1']"
   ]
  },
  {
   "cell_type": "code",
   "execution_count": 78,
   "metadata": {},
   "outputs": [],
   "source": [
    "test2_a=test_00.iloc[:,[0,2,4,6,8,10,12,14,16,18,20,22,24]]\n",
    "\n",
    "test2_b=test_00.iloc[:,[0,1,3,5,7,9,11,13,15,17,19,21,23]]"
   ]
  },
  {
   "cell_type": "code",
   "execution_count": 79,
   "metadata": {},
   "outputs": [],
   "source": [
    "test2_a.columns=['Company name',' Liquidity ratio',' Current ratio','Profit margin (%)',\n",
    "                'Solvency ratio (Asset based) (%)', 'Profit per employee', 'Intangible fixed assets',\n",
    "                'CL/TL', 'CF/Operating Revenue', 'Operating revenue per employee',\n",
    "                'Costs of employees/Operating revenue', 'Working Capital/Total Assets','Sales/Total Asset']\n",
    "\n",
    "test2_b.columns=['Company name',' Liquidity ratio',' Current ratio','Profit margin (%)',\n",
    "                'Solvency ratio (Asset based) (%)', 'Profit per employee', 'Intangible fixed assets',\n",
    "                'CL/TL', 'CF/Operating Revenue', 'Operating revenue per employee',\n",
    "                'Costs of employees/Operating revenue', 'Working Capital/Total Assets','Sales/Total Asset']"
   ]
  },
  {
   "cell_type": "code",
   "execution_count": 80,
   "metadata": {},
   "outputs": [
    {
     "data": {
      "text/plain": [
       "(92, 13)"
      ]
     },
     "execution_count": 80,
     "metadata": {},
     "output_type": "execute_result"
    }
   ],
   "source": [
    "test2_cat=pd.concat([test2_a,test2_b])\n",
    "test2_cat=test2_cat.fillna(0)\n",
    "# Active firms\n",
    "test2_cat.shape"
   ]
  },
  {
   "cell_type": "markdown",
   "metadata": {},
   "source": [
    "#### Import Bankruptcy test data"
   ]
  },
  {
   "cell_type": "code",
   "execution_count": 81,
   "metadata": {},
   "outputs": [],
   "source": [
    "test_1 = pd.read_excel('world_bankrupt_tech.xlsx', sheet_name = '0203', index_col=0)"
   ]
  },
  {
   "cell_type": "code",
   "execution_count": 82,
   "metadata": {},
   "outputs": [
    {
     "data": {
      "text/plain": [
       "(166, 49)"
      ]
     },
     "execution_count": 82,
     "metadata": {},
     "output_type": "execute_result"
    }
   ],
   "source": [
    "test_1=test_1.replace({'n.a.': np.nan,'n.s.': np.nan})\n",
    "test_1.shape"
   ]
  },
  {
   "cell_type": "code",
   "execution_count": 83,
   "metadata": {},
   "outputs": [],
   "source": [
    "#test_1=test_1.fillna(0)"
   ]
  },
  {
   "cell_type": "code",
   "execution_count": 84,
   "metadata": {},
   "outputs": [],
   "source": [
    "###calculate ratios \n",
    "\n",
    "test_11=test_1[['Company name Latin alphabet',\n",
    "                  'Liquidity ratio\\nLast avail. yr', 'Liquidity ratio\\nYear - 1', \n",
    "                   'Current ratio\\nLast avail. yr', 'Current ratio\\nYear - 1',\n",
    "                   'Profit margin (%)\\nLast avail. yr', 'Profit margin (%)\\nYear - 1',\n",
    "                  'Solvency ratio (Asset based) (%)\\nLast avail. yr',  'Solvency ratio (Asset based) (%)\\nYear - 1',\n",
    "                   'Profit per employee (th) (th)\\nth USD Last avail. yr', 'Profit per employee (th) (th)\\nth USD Year - 1',\n",
    "                   'Intangible fixed assets\\nth USD Last avail. yr', 'Intangible fixed assets\\nth USD Year - 1',\n",
    "                  \n",
    "                ]]\n",
    "\n",
    "test_11['CL/TL avial year']=test_1['Current liabilities\\nth USD Last avail. yr']/(test_1['Total shareh. funds & liab.\\nth USD Last avail. yr']-test_1['Shareholders funds\\nth USD Last avail. yr']) -test_1['Current liabilities\\nth USD Year - 1']/(test_1['Total shareh. funds & liab.\\nth USD Year - 1']-test_1['Shareholders funds\\nth USD Year - 1'])\n",
    "                                                                                    \n",
    "test_11['CL/TL year-1']=test_1['Current liabilities\\nth USD Year - 1']/(test_1['Total shareh. funds & liab.\\nth USD Year - 1']-test_1['Shareholders funds\\nth USD Year - 1']) -test_1['Current liabilities\\nth USD Year - 2']/(test_1['Total shareh. funds & liab.\\nth USD Year - 2']-test_1['Shareholders funds\\nth USD Year - 2'])\n",
    "                                   \n",
    "\n",
    "#data2['CF/CapEX avil year']=data1['Cash flow\\nth USD Last avail. yr']/data1['Capital Expenditures\\nth USD Last avail. yr']\n",
    "#data2['CF/CapEX year-1']=data1['Cash flow\\nth USD Year - 1']/data1[ 'Capital Expenditures\\nth USD Year - 1']\n",
    "\n",
    "\n",
    "#### add in 6 more Financial ratios\n",
    "# 1. Cash flow / Operating revenue \n",
    "test_11['Cash flow / Operating revenue'] = test_1['Operating revenue (Turnover)\\nth USD Last avail. yr']\n",
    "test_11['Cash flow / Operating revenue -1'] = test_1['Operating revenue (Turnover)\\nth USD Year - 1']\n",
    "\n",
    "\n",
    "# 2. operating revenue per employee\n",
    "test_11['Operating revenue per employee'] = test_1['Operating revenue per employee (th) (th)\\nth USD Last avail. yr']\n",
    "test_11['Operating revenue per employee -1'] = test_1['Operating revenue per employee (th) (th)\\nth USD Year - 1']\n",
    "\n",
    "\n",
    "#3. Costs of employees / Operating revenue \n",
    "test_11['Costs of employees/Operating revenue'] = test_1['Costs of employees\\nth USD Last avail. yr'] / test_1['Operating revenue (Turnover)\\nth USD Last avail. yr']\n",
    "test_11['Costs of employees/Operating revenue-1'] = test_1['Costs of employees\\nth USD Year - 1'] / test_1['Operating revenue (Turnover)\\nth USD Year - 1']\n",
    "\n",
    "#4. Working Capital/Total Assets\n",
    "test_11['Working Capital/Total Assets'] = test_1['Working capital\\nth USD Last avail. yr'] / test_1['Total assets\\nth USD Last avail. yr']\n",
    "test_11['Working Capital/Total Assets -1'] = test_1['Working capital\\nth USD Year - 1'] / test_1['Total assets\\nth USD Year - 1']\n",
    "\n",
    "\n",
    "# 6.  Sales / Total Assets\n",
    "test_11['Sales/Total Asset'] = test_1['Sales\\nth USD Last avail. yr'] / test_1['Total assets\\nth USD Last avail. yr']\n",
    "test_11['Sales/Total Asset-1'] = test_1['Sales\\nth USD Year - 1'] / test_1['Total assets\\nth USD Year - 1']"
   ]
  },
  {
   "cell_type": "code",
   "execution_count": 85,
   "metadata": {},
   "outputs": [],
   "source": [
    "test_11_a=test_11.iloc[:,[0,2,4,6,8,10,12,14,16,18,20,22,24]]\n",
    "\n",
    "test_11_b=test_11.iloc[:,[0,1,3,5,7,9,11,13,15,17,19,21,23]]"
   ]
  },
  {
   "cell_type": "code",
   "execution_count": 86,
   "metadata": {},
   "outputs": [],
   "source": [
    "test_11_a.columns=['Company name',' Liquidity ratio',' Current ratio','Profit margin (%)',\n",
    "                'Solvency ratio (Asset based) (%)', 'Profit per employee', 'Intangible fixed assets',\n",
    "                'CL/TL', 'CF/Operating Revenue', 'Operating revenue per employee',\n",
    "                'Costs of employees/Operating revenue', 'Working Capital/Total Assets','Sales/Total Asset']\n",
    "\n",
    "test_11_b.columns=['Company name',' Liquidity ratio',' Current ratio','Profit margin (%)',\n",
    "                'Solvency ratio (Asset based) (%)', 'Profit per employee', 'Intangible fixed assets',\n",
    "                'CL/TL', 'CF/Operating Revenue', 'Operating revenue per employee',\n",
    "                'Costs of employees/Operating revenue', 'Working Capital/Total Assets','Sales/Total Asset']"
   ]
  },
  {
   "cell_type": "code",
   "execution_count": 87,
   "metadata": {},
   "outputs": [
    {
     "data": {
      "text/plain": [
       "(332, 13)"
      ]
     },
     "execution_count": 87,
     "metadata": {},
     "output_type": "execute_result"
    }
   ],
   "source": [
    "test1_cat=pd.concat([test_11_a,test_11_b])\n",
    "test1_cat=test1_cat.fillna(0)\n",
    "# Bankruptcy firms\n",
    "test1_cat.shape"
   ]
  },
  {
   "cell_type": "code",
   "execution_count": 88,
   "metadata": {},
   "outputs": [
    {
     "data": {
      "text/plain": [
       "38.0"
      ]
     },
     "execution_count": 88,
     "metadata": {},
     "output_type": "execute_result"
    }
   ],
   "source": [
    "76/2"
   ]
  },
  {
   "cell_type": "code",
   "execution_count": 89,
   "metadata": {},
   "outputs": [],
   "source": [
    "#  Active firms\n",
    "#test2_cat = test2_cat.sample(n=30, replace = True)\n",
    "#test2_cat = test2_cat_select\n",
    "#  Bankruptcy firms\n",
    "#test1_cat = test1_cat.sample(n=30, replace = True)\n",
    "#test1_cat = test1_cat_select"
   ]
  },
  {
   "cell_type": "code",
   "execution_count": 90,
   "metadata": {},
   "outputs": [],
   "source": [
    "test2_cat.insert(0, 'Status', int(0))\n",
    "test1_cat.insert(0,'Status', int(1))\n",
    "\n",
    "test_df=pd.concat([test2_cat, test1_cat])"
   ]
  },
  {
   "cell_type": "code",
   "execution_count": 91,
   "metadata": {},
   "outputs": [],
   "source": [
    "test_df=test_df.fillna(0)"
   ]
  },
  {
   "cell_type": "code",
   "execution_count": 92,
   "metadata": {},
   "outputs": [
    {
     "data": {
      "text/plain": [
       "Status                                  0\n",
       "Company name                            0\n",
       " Liquidity ratio                        0\n",
       " Current ratio                          0\n",
       "Profit margin (%)                       0\n",
       "Solvency ratio (Asset based) (%)        0\n",
       "Profit per employee                     0\n",
       "Intangible fixed assets                 0\n",
       "CL/TL                                   0\n",
       "CF/Operating Revenue                    0\n",
       "Operating revenue per employee          0\n",
       "Costs of employees/Operating revenue    0\n",
       "Working Capital/Total Assets            0\n",
       "Sales/Total Asset                       0\n",
       "dtype: int64"
      ]
     },
     "execution_count": 92,
     "metadata": {},
     "output_type": "execute_result"
    }
   ],
   "source": [
    "test_df.isna().sum()"
   ]
  },
  {
   "cell_type": "markdown",
   "metadata": {},
   "source": [
    "#### Test DataFrame"
   ]
  },
  {
   "cell_type": "code",
   "execution_count": 93,
   "metadata": {},
   "outputs": [
    {
     "data": {
      "text/plain": [
       "(424, 14)"
      ]
     },
     "execution_count": 93,
     "metadata": {},
     "output_type": "execute_result"
    }
   ],
   "source": [
    "test_df.shape"
   ]
  },
  {
   "cell_type": "markdown",
   "metadata": {},
   "source": [
    "### Model output: `Y ` of Test Data"
   ]
  },
  {
   "cell_type": "code",
   "execution_count": 94,
   "metadata": {
    "scrolled": true
   },
   "outputs": [
    {
     "data": {
      "text/plain": [
       " Current ratio                         -1.596980\n",
       "Intangible fixed assets                -0.816543\n",
       "CF/Operating Revenue                    0.053952\n",
       "Costs of employees/Operating revenue   -1.706327\n",
       "Sales/Total Asset                       4.054102\n",
       "dtype: float64"
      ]
     },
     "execution_count": 94,
     "metadata": {},
     "output_type": "execute_result"
    }
   ],
   "source": [
    "result.params"
   ]
  },
  {
   "cell_type": "code",
   "execution_count": 95,
   "metadata": {},
   "outputs": [],
   "source": [
    "def  row_values():\n",
    "    x=[]\n",
    "    for i in range(len(curve_df_test)):\n",
    "        for j in range(len(result.params)):\n",
    "            x_value = curve_df_test.iloc[i,:].values[j] * result.params[j]\n",
    "        x_sum = x_value.sum()\n",
    "        x.append(x_sum)\n",
    "    return x"
   ]
  },
  {
   "cell_type": "code",
   "execution_count": 96,
   "metadata": {},
   "outputs": [],
   "source": [
    "log_test_df=np.log10(test_df.iloc[:,2:]).round(4).fillna(0)"
   ]
  },
  {
   "cell_type": "code",
   "execution_count": 97,
   "metadata": {
    "scrolled": false
   },
   "outputs": [],
   "source": [
    "curve_df_test=log_test_df[[' Current ratio', 'Intangible fixed assets', 'CF/Operating Revenue','Costs of employees/Operating revenue','Sales/Total Asset']]\n",
    "curve_df_test['Y'] = row_values()"
   ]
  },
  {
   "cell_type": "code",
   "execution_count": 98,
   "metadata": {
    "scrolled": true
   },
   "outputs": [
    {
     "data": {
      "text/html": [
       "<div>\n",
       "<style scoped>\n",
       "    .dataframe tbody tr th:only-of-type {\n",
       "        vertical-align: middle;\n",
       "    }\n",
       "\n",
       "    .dataframe tbody tr th {\n",
       "        vertical-align: top;\n",
       "    }\n",
       "\n",
       "    .dataframe thead th {\n",
       "        text-align: right;\n",
       "    }\n",
       "</style>\n",
       "<table border=\"1\" class=\"dataframe\">\n",
       "  <thead>\n",
       "    <tr style=\"text-align: right;\">\n",
       "      <th></th>\n",
       "      <th>Current ratio</th>\n",
       "      <th>Intangible fixed assets</th>\n",
       "      <th>CF/Operating Revenue</th>\n",
       "      <th>Costs of employees/Operating revenue</th>\n",
       "      <th>Sales/Total Asset</th>\n",
       "      <th>Y</th>\n",
       "    </tr>\n",
       "  </thead>\n",
       "  <tbody>\n",
       "    <tr>\n",
       "      <th>32.0</th>\n",
       "      <td>0.0449</td>\n",
       "      <td>6.7243</td>\n",
       "      <td>7.5382</td>\n",
       "      <td>0.0</td>\n",
       "      <td>-0.1429</td>\n",
       "      <td>-0.579331</td>\n",
       "    </tr>\n",
       "    <tr>\n",
       "      <th>44.0</th>\n",
       "      <td>-0.2668</td>\n",
       "      <td>6.2006</td>\n",
       "      <td>7.3075</td>\n",
       "      <td>0.0</td>\n",
       "      <td>-0.4667</td>\n",
       "      <td>-1.892049</td>\n",
       "    </tr>\n",
       "    <tr>\n",
       "      <th>56.0</th>\n",
       "      <td>0.0145</td>\n",
       "      <td>6.1274</td>\n",
       "      <td>7.0778</td>\n",
       "      <td>0.0</td>\n",
       "      <td>-0.1722</td>\n",
       "      <td>-0.698116</td>\n",
       "    </tr>\n",
       "    <tr>\n",
       "      <th>58.0</th>\n",
       "      <td>0.2322</td>\n",
       "      <td>7.3255</td>\n",
       "      <td>7.1940</td>\n",
       "      <td>0.0</td>\n",
       "      <td>-0.4669</td>\n",
       "      <td>-1.892860</td>\n",
       "    </tr>\n",
       "    <tr>\n",
       "      <th>65.0</th>\n",
       "      <td>-0.2692</td>\n",
       "      <td>6.6067</td>\n",
       "      <td>7.1479</td>\n",
       "      <td>0.0</td>\n",
       "      <td>-0.2170</td>\n",
       "      <td>-0.879740</td>\n",
       "    </tr>\n",
       "    <tr>\n",
       "      <th>...</th>\n",
       "      <td>...</td>\n",
       "      <td>...</td>\n",
       "      <td>...</td>\n",
       "      <td>...</td>\n",
       "      <td>...</td>\n",
       "      <td>...</td>\n",
       "    </tr>\n",
       "    <tr>\n",
       "      <th>2113.0</th>\n",
       "      <td>0.6775</td>\n",
       "      <td>0.0000</td>\n",
       "      <td>1.1760</td>\n",
       "      <td>0.0</td>\n",
       "      <td>-0.5185</td>\n",
       "      <td>-2.102052</td>\n",
       "    </tr>\n",
       "    <tr>\n",
       "      <th>2213.0</th>\n",
       "      <td>0.8016</td>\n",
       "      <td>0.0000</td>\n",
       "      <td>0.8659</td>\n",
       "      <td>0.0</td>\n",
       "      <td>-0.4381</td>\n",
       "      <td>-1.776102</td>\n",
       "    </tr>\n",
       "    <tr>\n",
       "      <th>2230.0</th>\n",
       "      <td>-0.0177</td>\n",
       "      <td>0.0000</td>\n",
       "      <td>0.8154</td>\n",
       "      <td>0.0</td>\n",
       "      <td>-0.7959</td>\n",
       "      <td>-3.226659</td>\n",
       "    </tr>\n",
       "    <tr>\n",
       "      <th>2249.0</th>\n",
       "      <td>-0.3979</td>\n",
       "      <td>0.0000</td>\n",
       "      <td>0.7302</td>\n",
       "      <td>0.0</td>\n",
       "      <td>0.3010</td>\n",
       "      <td>1.220285</td>\n",
       "    </tr>\n",
       "    <tr>\n",
       "      <th>2269.0</th>\n",
       "      <td>0.0969</td>\n",
       "      <td>0.0000</td>\n",
       "      <td>0.6662</td>\n",
       "      <td>0.0</td>\n",
       "      <td>-0.4114</td>\n",
       "      <td>-1.667857</td>\n",
       "    </tr>\n",
       "  </tbody>\n",
       "</table>\n",
       "<p>424 rows × 6 columns</p>\n",
       "</div>"
      ],
      "text/plain": [
       "         Current ratio  Intangible fixed assets  CF/Operating Revenue  \\\n",
       "32.0            0.0449                   6.7243                7.5382   \n",
       "44.0           -0.2668                   6.2006                7.3075   \n",
       "56.0            0.0145                   6.1274                7.0778   \n",
       "58.0            0.2322                   7.3255                7.1940   \n",
       "65.0           -0.2692                   6.6067                7.1479   \n",
       "...                ...                      ...                   ...   \n",
       "2113.0          0.6775                   0.0000                1.1760   \n",
       "2213.0          0.8016                   0.0000                0.8659   \n",
       "2230.0         -0.0177                   0.0000                0.8154   \n",
       "2249.0         -0.3979                   0.0000                0.7302   \n",
       "2269.0          0.0969                   0.0000                0.6662   \n",
       "\n",
       "        Costs of employees/Operating revenue  Sales/Total Asset         Y  \n",
       "32.0                                     0.0            -0.1429 -0.579331  \n",
       "44.0                                     0.0            -0.4667 -1.892049  \n",
       "56.0                                     0.0            -0.1722 -0.698116  \n",
       "58.0                                     0.0            -0.4669 -1.892860  \n",
       "65.0                                     0.0            -0.2170 -0.879740  \n",
       "...                                      ...                ...       ...  \n",
       "2113.0                                   0.0            -0.5185 -2.102052  \n",
       "2213.0                                   0.0            -0.4381 -1.776102  \n",
       "2230.0                                   0.0            -0.7959 -3.226659  \n",
       "2249.0                                   0.0             0.3010  1.220285  \n",
       "2269.0                                   0.0            -0.4114 -1.667857  \n",
       "\n",
       "[424 rows x 6 columns]"
      ]
     },
     "execution_count": 98,
     "metadata": {},
     "output_type": "execute_result"
    }
   ],
   "source": [
    "curve_df_test"
   ]
  },
  {
   "cell_type": "code",
   "execution_count": 99,
   "metadata": {},
   "outputs": [],
   "source": [
    "# Standardised Y after log normalize\n",
    "cs = curve_df_test['Y']\n",
    "\n",
    "# rearange\n",
    "from sklearn.preprocessing import MinMaxScaler\n",
    "scaler = MinMaxScaler(feature_range=(-6,6))\n",
    "cs1 = scaler.fit_transform(cs.values.reshape(-1, 1))"
   ]
  },
  {
   "cell_type": "markdown",
   "metadata": {},
   "source": [
    "The expit function, also known as the logistic sigmoid function, `is defined as expit(x) = 1/(1+exp(-x))`.\n",
    "\n",
    "\n",
    "It is the inverse of the logit function.\n",
    "\n",
    "The sigmoid function has values very close to either 0 or 1 across most of its domain. This fact makes it suitable for application in classification methods.\n",
    "\n"
   ]
  },
  {
   "cell_type": "code",
   "execution_count": 100,
   "metadata": {
    "scrolled": true
   },
   "outputs": [
    {
     "data": {
      "text/plain": [
       "array([[0.69934681],\n",
       "       [0.36184385],\n",
       "       [0.67182705],\n",
       "       [0.36164255],\n",
       "       [0.62741922],\n",
       "       [0.56378755],\n",
       "       [0.32625357],\n",
       "       [0.3291348 ],\n",
       "       [0.95010761],\n",
       "       [0.45548923],\n",
       "       [0.88599038],\n",
       "       [0.34274849],\n",
       "       [0.59238045],\n",
       "       [0.68654807],\n",
       "       [0.6350298 ],\n",
       "       [0.94490796],\n",
       "       [0.60723816],\n",
       "       [0.16790648],\n",
       "       [0.13573199],\n",
       "       [0.89413451],\n",
       "       [0.07822285],\n",
       "       [0.59983226],\n",
       "       [0.57020908],\n",
       "       [0.56849889],\n",
       "       [0.80100641],\n",
       "       [0.86735739],\n",
       "       [0.87669437],\n",
       "       [0.71219984],\n",
       "       [0.76010727],\n",
       "       [0.85452637],\n",
       "       [0.75174307],\n",
       "       [0.93877653],\n",
       "       [0.84155601],\n",
       "       [0.70789187],\n",
       "       [0.98256609],\n",
       "       [0.98589008],\n",
       "       [0.90914716],\n",
       "       [0.84728258],\n",
       "       [0.9482574 ],\n",
       "       [0.07074576],\n",
       "       [0.49547729],\n",
       "       [0.96007208],\n",
       "       [0.53118336],\n",
       "       [0.43235682],\n",
       "       [0.65567853],\n",
       "       [0.78892992],\n",
       "       [0.79109945],\n",
       "       [0.3883002 ],\n",
       "       [0.72341323],\n",
       "       [0.3717659 ],\n",
       "       [0.62107958],\n",
       "       [0.61325183],\n",
       "       [0.33961289],\n",
       "       [0.33251252],\n",
       "       [0.93383938],\n",
       "       [0.43664133],\n",
       "       [0.90412988],\n",
       "       [0.36861513],\n",
       "       [0.60983437],\n",
       "       [0.73298979],\n",
       "       [0.70744094],\n",
       "       [0.94819319],\n",
       "       [0.57884043],\n",
       "       [0.60557339],\n",
       "       [0.14188025],\n",
       "       [0.84074053],\n",
       "       [0.1006591 ],\n",
       "       [0.67804372],\n",
       "       [0.67889961],\n",
       "       [0.68720439],\n",
       "       [0.87068178],\n",
       "       [0.90681621],\n",
       "       [0.86785812],\n",
       "       [0.78972733],\n",
       "       [0.7905947 ],\n",
       "       [0.8257263 ],\n",
       "       [0.72654229],\n",
       "       [0.91375524],\n",
       "       [0.95096841],\n",
       "       [0.71611537],\n",
       "       [0.97950702],\n",
       "       [0.98741551],\n",
       "       [0.96081732],\n",
       "       [0.8711229 ],\n",
       "       [0.92376532],\n",
       "       [0.84311915],\n",
       "       [0.85074713],\n",
       "       [0.95547481],\n",
       "       [0.5108422 ],\n",
       "       [0.4530036 ],\n",
       "       [0.52531709],\n",
       "       [0.91712931],\n",
       "       [0.81955722],\n",
       "       [0.96520676],\n",
       "       [0.85555299],\n",
       "       [0.0846775 ],\n",
       "       [0.28941121],\n",
       "       [0.89565163],\n",
       "       [0.9572038 ],\n",
       "       [0.87287456],\n",
       "       [0.73655789],\n",
       "       [0.96628821],\n",
       "       [0.59058975],\n",
       "       [0.72610902],\n",
       "       [0.96574439],\n",
       "       [0.34265029],\n",
       "       [0.37779255],\n",
       "       [0.60661416],\n",
       "       [0.97514405],\n",
       "       [0.84455529],\n",
       "       [0.93081434],\n",
       "       [0.98708075],\n",
       "       [0.97649131],\n",
       "       [0.17496484],\n",
       "       [0.92996736],\n",
       "       [0.97523897],\n",
       "       [0.98602288],\n",
       "       [0.96804588],\n",
       "       [0.84750808],\n",
       "       [0.35712621],\n",
       "       [0.98255862],\n",
       "       [0.94780638],\n",
       "       [0.95963532],\n",
       "       [0.89516171],\n",
       "       [0.94542759],\n",
       "       [0.84155601],\n",
       "       [0.44599203],\n",
       "       [0.98197396],\n",
       "       [0.83595548],\n",
       "       [0.88817364],\n",
       "       [0.85085781],\n",
       "       [0.55260728],\n",
       "       [0.92525607],\n",
       "       [0.3929698 ],\n",
       "       [0.96210937],\n",
       "       [0.92859224],\n",
       "       [0.42488358],\n",
       "       [0.920191  ],\n",
       "       [0.87838087],\n",
       "       [0.9784945 ],\n",
       "       [0.99708319],\n",
       "       [0.66126649],\n",
       "       [0.97098144],\n",
       "       [0.95888574],\n",
       "       [0.94004196],\n",
       "       [0.6650642 ],\n",
       "       [0.94665151],\n",
       "       [0.95528898],\n",
       "       [0.96281807],\n",
       "       [0.99005886],\n",
       "       [0.93092655],\n",
       "       [0.9729524 ],\n",
       "       [0.97012179],\n",
       "       [0.93796983],\n",
       "       [0.98535895],\n",
       "       [0.95571528],\n",
       "       [0.71823751],\n",
       "       [0.97978517],\n",
       "       [0.96272432],\n",
       "       [0.65685859],\n",
       "       [0.99163631],\n",
       "       [0.85080248],\n",
       "       [0.97383298],\n",
       "       [0.92657181],\n",
       "       [0.97319228],\n",
       "       [0.96362113],\n",
       "       [0.93305401],\n",
       "       [0.95819276],\n",
       "       [0.93559497],\n",
       "       [0.94065329],\n",
       "       [0.47033676],\n",
       "       [0.96404661],\n",
       "       [0.67038374],\n",
       "       [0.00247262],\n",
       "       [0.95298111],\n",
       "       [0.93061756],\n",
       "       [0.96977873],\n",
       "       [0.05363542],\n",
       "       [0.98806468],\n",
       "       [0.74335215],\n",
       "       [0.98741551],\n",
       "       [0.97640108],\n",
       "       [0.99267947],\n",
       "       [0.98098363],\n",
       "       [0.94732989],\n",
       "       [0.82396281],\n",
       "       [0.96355995],\n",
       "       [0.94483984],\n",
       "       [0.23783208],\n",
       "       [0.70126815],\n",
       "       [0.99035892],\n",
       "       [0.93220491],\n",
       "       [0.84277287],\n",
       "       [0.94273547],\n",
       "       [0.97515462],\n",
       "       [0.98810573],\n",
       "       [0.98795623],\n",
       "       [0.82446809],\n",
       "       [0.96795135],\n",
       "       [0.92268386],\n",
       "       [0.95474589],\n",
       "       [0.97483578],\n",
       "       [0.94623166],\n",
       "       [0.89434066],\n",
       "       [0.92249706],\n",
       "       [0.98033043],\n",
       "       [0.93991899],\n",
       "       [0.98535895],\n",
       "       [0.88993657],\n",
       "       [0.90431864],\n",
       "       [0.98153672],\n",
       "       [0.90592835],\n",
       "       [0.04016254],\n",
       "       [0.67984918],\n",
       "       [0.98215823],\n",
       "       [0.98992062],\n",
       "       [0.9831752 ],\n",
       "       [0.93753724],\n",
       "       [0.95021084],\n",
       "       [0.89520261],\n",
       "       [0.90943481],\n",
       "       [0.95157463],\n",
       "       [0.89690791],\n",
       "       [0.8477333 ],\n",
       "       [0.95463275],\n",
       "       [0.93569996],\n",
       "       [0.91663096],\n",
       "       [0.27112546],\n",
       "       [0.73298979],\n",
       "       [0.85822586],\n",
       "       [0.97048606],\n",
       "       [0.98358838],\n",
       "       [0.93115046],\n",
       "       [0.67642379],\n",
       "       [0.91932231],\n",
       "       [0.97737533],\n",
       "       [0.93078626],\n",
       "       [0.97455624],\n",
       "       [0.97376624],\n",
       "       [0.96635914],\n",
       "       [0.96461639],\n",
       "       [0.84840732],\n",
       "       [0.96672567],\n",
       "       [0.75328562],\n",
       "       [0.0673556 ],\n",
       "       [0.77798613],\n",
       "       [0.79109945],\n",
       "       [0.94793562],\n",
       "       [0.94011563],\n",
       "       [0.05264836],\n",
       "       [0.98033043],\n",
       "       [0.77473152],\n",
       "       [0.77571903],\n",
       "       [0.04960387],\n",
       "       [0.58964075],\n",
       "       [0.64207271],\n",
       "       [0.83625417],\n",
       "       [0.101929  ],\n",
       "       [0.98868562],\n",
       "       [0.95417746],\n",
       "       [0.84913475],\n",
       "       [0.28950087],\n",
       "       [0.70536147],\n",
       "       [0.84015596],\n",
       "       [0.96449717],\n",
       "       [0.97920738],\n",
       "       [0.79439409],\n",
       "       [0.9770648 ],\n",
       "       [0.77290034],\n",
       "       [0.89421701],\n",
       "       [0.9729868 ],\n",
       "       [0.32798075],\n",
       "       [0.72350045],\n",
       "       [0.783582  ],\n",
       "       [0.98476894],\n",
       "       [0.70942194],\n",
       "       [0.95406297],\n",
       "       [0.99356276],\n",
       "       [0.95859258],\n",
       "       [0.24501697],\n",
       "       [0.85646644],\n",
       "       [0.91906327],\n",
       "       [0.99197983],\n",
       "       [0.95076475],\n",
       "       [0.80988575],\n",
       "       [0.96303594],\n",
       "       [0.98287698],\n",
       "       [0.93356954],\n",
       "       [0.96133914],\n",
       "       [0.85152043],\n",
       "       [0.96994438],\n",
       "       [0.85436372],\n",
       "       [0.32338541],\n",
       "       [0.97767224],\n",
       "       [0.89450532],\n",
       "       [0.89622065],\n",
       "       [0.88950885],\n",
       "       [0.65725151],\n",
       "       [0.9602222 ],\n",
       "       [0.77190407],\n",
       "       [0.9713598 ],\n",
       "       [0.96351401],\n",
       "       [0.84003884],\n",
       "       [0.91669757],\n",
       "       [0.42307368],\n",
       "       [0.9812822 ],\n",
       "       [0.98429767],\n",
       "       [0.66126649],\n",
       "       [0.98163914],\n",
       "       [0.94336759],\n",
       "       [0.77647655],\n",
       "       [0.62118217],\n",
       "       [0.97761508],\n",
       "       [0.90644719],\n",
       "       [0.9291969 ],\n",
       "       [0.99327786],\n",
       "       [0.9180851 ],\n",
       "       [0.95298111],\n",
       "       [0.95808786],\n",
       "       [0.95337024],\n",
       "       [0.94607619],\n",
       "       [0.94859856],\n",
       "       [0.68466876],\n",
       "       [0.92956883],\n",
       "       [0.98500899],\n",
       "       [0.80603034],\n",
       "       [0.98271482],\n",
       "       [0.95031386],\n",
       "       [0.96482411],\n",
       "       [0.91292715],\n",
       "       [0.93791908],\n",
       "       [0.94207295],\n",
       "       [0.96568666],\n",
       "       [0.97766273],\n",
       "       [0.95757726],\n",
       "       [0.94665151],\n",
       "       [0.88488487],\n",
       "       [0.95919398],\n",
       "       [0.56881968],\n",
       "       [0.94562966],\n",
       "       [0.97733674],\n",
       "       [0.94137918],\n",
       "       [0.89850913],\n",
       "       [0.07405348],\n",
       "       [0.98937131],\n",
       "       [0.91792103],\n",
       "       [0.95589942],\n",
       "       [0.96597439],\n",
       "       [0.98818743],\n",
       "       [0.99217512],\n",
       "       [0.94897982],\n",
       "       [0.90566797],\n",
       "       [0.95163486],\n",
       "       [0.9812341 ],\n",
       "       [0.87190394],\n",
       "       [0.8571617 ],\n",
       "       [0.96648645],\n",
       "       [0.94154735],\n",
       "       [0.84277287],\n",
       "       [0.96818045],\n",
       "       [0.96687957],\n",
       "       [0.98415554],\n",
       "       [0.96263034],\n",
       "       [0.87958651],\n",
       "       [0.99108773],\n",
       "       [0.52662137],\n",
       "       [0.96018889],\n",
       "       [0.57074318],\n",
       "       [0.92495403],\n",
       "       [0.93464282],\n",
       "       [0.94327436],\n",
       "       [0.97632058],\n",
       "       [0.97440447],\n",
       "       [0.97344135],\n",
       "       [0.93184588],\n",
       "       [0.87972496],\n",
       "       [0.96714379],\n",
       "       [0.93575239],\n",
       "       [0.03654734],\n",
       "       [0.75231213],\n",
       "       [0.97305546],\n",
       "       [0.98857783],\n",
       "       [0.96638747],\n",
       "       [0.9608993 ],\n",
       "       [0.93932544],\n",
       "       [0.94185847],\n",
       "       [0.9336776 ],\n",
       "       [0.95104966],\n",
       "       [0.89201149],\n",
       "       [0.9436696 ],\n",
       "       [0.96769341],\n",
       "       [0.9675842 ],\n",
       "       [0.93860091],\n",
       "       [0.80017127],\n",
       "       [0.9869691 ],\n",
       "       [0.91623033],\n",
       "       [0.94445233],\n",
       "       [0.98055611],\n",
       "       [0.95413933],\n",
       "       [0.62445921],\n",
       "       [0.918445  ],\n",
       "       [0.97170942],\n",
       "       [0.98539036],\n",
       "       [0.93192889],\n",
       "       [0.97679955],\n",
       "       [0.96839463],\n",
       "       [0.87513079],\n",
       "       [0.99752738],\n",
       "       [0.91877094],\n",
       "       [0.45895117],\n",
       "       [0.04240504],\n",
       "       [0.84039   ],\n",
       "       [0.84790203],\n",
       "       [0.96791075],\n",
       "       [0.95934727],\n",
       "       [0.04156343],\n",
       "       [0.94376222],\n",
       "       [0.11400962],\n",
       "       [0.22073647],\n",
       "       [0.31148522],\n",
       "       [0.39109956],\n",
       "       [0.1189438 ],\n",
       "       [0.94154735],\n",
       "       [0.41914169]])"
      ]
     },
     "execution_count": 100,
     "metadata": {},
     "output_type": "execute_result"
    }
   ],
   "source": [
    "# calculate the probability of Y \n",
    "from scipy.special import expit\n",
    "prob=expit(cs1)\n",
    "prob"
   ]
  },
  {
   "cell_type": "code",
   "execution_count": 101,
   "metadata": {
    "scrolled": false
   },
   "outputs": [
    {
     "data": {
      "text/plain": [
       "Text(0.5, 0, 'Model output f(x)')"
      ]
     },
     "execution_count": 101,
     "metadata": {},
     "output_type": "execute_result"
    },
    {
     "data": {
      "image/png": "[encoded data removed]",
      "text/plain": [
       "<Figure size 700x500 with 1 Axes>"
      ]
     },
     "metadata": {
      "needs_background": "light"
     },
     "output_type": "display_data"
    }
   ],
   "source": [
    "plt.figure(figsize=(7,5),dpi=100)\n",
    "\n",
    "x = sorted(cs1)\n",
    "y = expit(x)\n",
    "plt.plot(x, y)\n",
    "plt.scatter(x,y)\n",
    "plt.axhline(y=0.5, color='r', linestyle='--')\n",
    "plt.title('Probability of Default')\n",
    "plt.ylabel('p(x)')\n",
    "plt.xlabel('Model output f(x)')"
   ]
  },
  {
   "cell_type": "code",
   "execution_count": 102,
   "metadata": {},
   "outputs": [],
   "source": [
    "compare=pd.DataFrame(curve_df_test['Y'])"
   ]
  },
  {
   "cell_type": "code",
   "execution_count": 103,
   "metadata": {},
   "outputs": [],
   "source": [
    "compare['prob'] = expit(curve_df_test['Y'])"
   ]
  },
  {
   "cell_type": "code",
   "execution_count": 104,
   "metadata": {},
   "outputs": [],
   "source": [
    "compare['predict_status']=compare['prob'].apply(lambda x: int(1) if x>0.5 else int(0))"
   ]
  },
  {
   "cell_type": "code",
   "execution_count": 105,
   "metadata": {},
   "outputs": [],
   "source": [
    "compare['Actual_status'] = test_df['Status']"
   ]
  },
  {
   "cell_type": "code",
   "execution_count": 106,
   "metadata": {
    "scrolled": true
   },
   "outputs": [
    {
     "data": {
      "text/html": [
       "<div>\n",
       "<style scoped>\n",
       "    .dataframe tbody tr th:only-of-type {\n",
       "        vertical-align: middle;\n",
       "    }\n",
       "\n",
       "    .dataframe tbody tr th {\n",
       "        vertical-align: top;\n",
       "    }\n",
       "\n",
       "    .dataframe thead th {\n",
       "        text-align: right;\n",
       "    }\n",
       "</style>\n",
       "<table border=\"1\" class=\"dataframe\">\n",
       "  <thead>\n",
       "    <tr style=\"text-align: right;\">\n",
       "      <th></th>\n",
       "      <th>Y</th>\n",
       "      <th>prob</th>\n",
       "      <th>predict_status</th>\n",
       "      <th>Actual_status</th>\n",
       "    </tr>\n",
       "  </thead>\n",
       "  <tbody>\n",
       "    <tr>\n",
       "      <th>32.0</th>\n",
       "      <td>-0.579331</td>\n",
       "      <td>0.359087</td>\n",
       "      <td>0</td>\n",
       "      <td>0</td>\n",
       "    </tr>\n",
       "    <tr>\n",
       "      <th>44.0</th>\n",
       "      <td>-1.892049</td>\n",
       "      <td>0.131011</td>\n",
       "      <td>0</td>\n",
       "      <td>0</td>\n",
       "    </tr>\n",
       "    <tr>\n",
       "      <th>56.0</th>\n",
       "      <td>-0.698116</td>\n",
       "      <td>0.332230</td>\n",
       "      <td>0</td>\n",
       "      <td>0</td>\n",
       "    </tr>\n",
       "    <tr>\n",
       "      <th>58.0</th>\n",
       "      <td>-1.892860</td>\n",
       "      <td>0.130919</td>\n",
       "      <td>0</td>\n",
       "      <td>0</td>\n",
       "    </tr>\n",
       "    <tr>\n",
       "      <th>65.0</th>\n",
       "      <td>-0.879740</td>\n",
       "      <td>0.293232</td>\n",
       "      <td>0</td>\n",
       "      <td>0</td>\n",
       "    </tr>\n",
       "    <tr>\n",
       "      <th>...</th>\n",
       "      <td>...</td>\n",
       "      <td>...</td>\n",
       "      <td>...</td>\n",
       "      <td>...</td>\n",
       "    </tr>\n",
       "    <tr>\n",
       "      <th>2113.0</th>\n",
       "      <td>-2.102052</td>\n",
       "      <td>0.108898</td>\n",
       "      <td>0</td>\n",
       "      <td>1</td>\n",
       "    </tr>\n",
       "    <tr>\n",
       "      <th>2213.0</th>\n",
       "      <td>-1.776102</td>\n",
       "      <td>0.144785</td>\n",
       "      <td>0</td>\n",
       "      <td>1</td>\n",
       "    </tr>\n",
       "    <tr>\n",
       "      <th>2230.0</th>\n",
       "      <td>-3.226659</td>\n",
       "      <td>0.038175</td>\n",
       "      <td>0</td>\n",
       "      <td>1</td>\n",
       "    </tr>\n",
       "    <tr>\n",
       "      <th>2249.0</th>\n",
       "      <td>1.220285</td>\n",
       "      <td>0.772114</td>\n",
       "      <td>1</td>\n",
       "      <td>1</td>\n",
       "    </tr>\n",
       "    <tr>\n",
       "      <th>2269.0</th>\n",
       "      <td>-1.667857</td>\n",
       "      <td>0.158710</td>\n",
       "      <td>0</td>\n",
       "      <td>1</td>\n",
       "    </tr>\n",
       "  </tbody>\n",
       "</table>\n",
       "<p>424 rows × 4 columns</p>\n",
       "</div>"
      ],
      "text/plain": [
       "               Y      prob  predict_status  Actual_status\n",
       "32.0   -0.579331  0.359087               0              0\n",
       "44.0   -1.892049  0.131011               0              0\n",
       "56.0   -0.698116  0.332230               0              0\n",
       "58.0   -1.892860  0.130919               0              0\n",
       "65.0   -0.879740  0.293232               0              0\n",
       "...          ...       ...             ...            ...\n",
       "2113.0 -2.102052  0.108898               0              1\n",
       "2213.0 -1.776102  0.144785               0              1\n",
       "2230.0 -3.226659  0.038175               0              1\n",
       "2249.0  1.220285  0.772114               1              1\n",
       "2269.0 -1.667857  0.158710               0              1\n",
       "\n",
       "[424 rows x 4 columns]"
      ]
     },
     "execution_count": 106,
     "metadata": {},
     "output_type": "execute_result"
    }
   ],
   "source": [
    "compare"
   ]
  },
  {
   "cell_type": "code",
   "execution_count": 107,
   "metadata": {
    "scrolled": false
   },
   "outputs": [
    {
     "data": {
      "text/html": [
       "<div>\n",
       "<style scoped>\n",
       "    .dataframe tbody tr th:only-of-type {\n",
       "        vertical-align: middle;\n",
       "    }\n",
       "\n",
       "    .dataframe tbody tr th {\n",
       "        vertical-align: top;\n",
       "    }\n",
       "\n",
       "    .dataframe thead th {\n",
       "        text-align: right;\n",
       "    }\n",
       "</style>\n",
       "<table border=\"1\" class=\"dataframe\">\n",
       "  <thead>\n",
       "    <tr style=\"text-align: right;\">\n",
       "      <th></th>\n",
       "      <th>Y</th>\n",
       "      <th>prob</th>\n",
       "      <th>predict_status</th>\n",
       "      <th>Actual_status</th>\n",
       "    </tr>\n",
       "  </thead>\n",
       "  <tbody>\n",
       "    <tr>\n",
       "      <th>32.0</th>\n",
       "      <td>-0.579331</td>\n",
       "      <td>0.359087</td>\n",
       "      <td>0</td>\n",
       "      <td>0</td>\n",
       "    </tr>\n",
       "    <tr>\n",
       "      <th>44.0</th>\n",
       "      <td>-1.892049</td>\n",
       "      <td>0.131011</td>\n",
       "      <td>0</td>\n",
       "      <td>0</td>\n",
       "    </tr>\n",
       "    <tr>\n",
       "      <th>56.0</th>\n",
       "      <td>-0.698116</td>\n",
       "      <td>0.332230</td>\n",
       "      <td>0</td>\n",
       "      <td>0</td>\n",
       "    </tr>\n",
       "    <tr>\n",
       "      <th>58.0</th>\n",
       "      <td>-1.892860</td>\n",
       "      <td>0.130919</td>\n",
       "      <td>0</td>\n",
       "      <td>0</td>\n",
       "    </tr>\n",
       "    <tr>\n",
       "      <th>65.0</th>\n",
       "      <td>-0.879740</td>\n",
       "      <td>0.293232</td>\n",
       "      <td>0</td>\n",
       "      <td>0</td>\n",
       "    </tr>\n",
       "    <tr>\n",
       "      <th>...</th>\n",
       "      <td>...</td>\n",
       "      <td>...</td>\n",
       "      <td>...</td>\n",
       "      <td>...</td>\n",
       "    </tr>\n",
       "    <tr>\n",
       "      <th>1794.0</th>\n",
       "      <td>0.233516</td>\n",
       "      <td>0.558115</td>\n",
       "      <td>1</td>\n",
       "      <td>1</td>\n",
       "    </tr>\n",
       "    <tr>\n",
       "      <th>1842.0</th>\n",
       "      <td>1.803670</td>\n",
       "      <td>0.858595</td>\n",
       "      <td>1</td>\n",
       "      <td>1</td>\n",
       "    </tr>\n",
       "    <tr>\n",
       "      <th>1859.0</th>\n",
       "      <td>1.575424</td>\n",
       "      <td>0.828555</td>\n",
       "      <td>1</td>\n",
       "      <td>1</td>\n",
       "    </tr>\n",
       "    <tr>\n",
       "      <th>1919.0</th>\n",
       "      <td>1.258393</td>\n",
       "      <td>0.778749</td>\n",
       "      <td>1</td>\n",
       "      <td>1</td>\n",
       "    </tr>\n",
       "    <tr>\n",
       "      <th>2249.0</th>\n",
       "      <td>1.220285</td>\n",
       "      <td>0.772114</td>\n",
       "      <td>1</td>\n",
       "      <td>1</td>\n",
       "    </tr>\n",
       "  </tbody>\n",
       "</table>\n",
       "<p>313 rows × 4 columns</p>\n",
       "</div>"
      ],
      "text/plain": [
       "               Y      prob  predict_status  Actual_status\n",
       "32.0   -0.579331  0.359087               0              0\n",
       "44.0   -1.892049  0.131011               0              0\n",
       "56.0   -0.698116  0.332230               0              0\n",
       "58.0   -1.892860  0.130919               0              0\n",
       "65.0   -0.879740  0.293232               0              0\n",
       "...          ...       ...             ...            ...\n",
       "1794.0  0.233516  0.558115               1              1\n",
       "1842.0  1.803670  0.858595               1              1\n",
       "1859.0  1.575424  0.828555               1              1\n",
       "1919.0  1.258393  0.778749               1              1\n",
       "2249.0  1.220285  0.772114               1              1\n",
       "\n",
       "[313 rows x 4 columns]"
      ]
     },
     "execution_count": 107,
     "metadata": {},
     "output_type": "execute_result"
    }
   ],
   "source": [
    "# successful predictions\n",
    "compare[compare['predict_status'] == compare['Actual_status']]"
   ]
  },
  {
   "cell_type": "code",
   "execution_count": 108,
   "metadata": {},
   "outputs": [
    {
     "name": "stdout",
     "output_type": "stream",
     "text": [
      "The active accuracy of the model output is : 63.0%\n"
     ]
    }
   ],
   "source": [
    "compare_0=compare[compare['Actual_status']==0]\n",
    "\n",
    "compare_0[compare_0['predict_status'] == compare_0['Actual_status']]\n",
    "\n",
    "percent_accuracy_0 = (len(compare_0[compare_0['predict_status'] == compare_0['Actual_status']]) / len(compare_0))*100 \n",
    "\n",
    "\n",
    "\n",
    "\n",
    "compare_1=compare[compare['Actual_status']==1]\n",
    "\n",
    "compare_1[compare_1['predict_status'] == compare_1['Actual_status']]\n",
    "\n",
    "percent_accuracy_1 = (len(compare_1[compare_1['predict_status'] == compare_1['Actual_status']]) / len(compare_1))*100 \n",
    "\n",
    "\n",
    "\n",
    "print(f\"The active accuracy of the model output is : { percent_accuracy_0:0.1f}%\")\n",
    "#print(f\"The bankrupt accuracy of the model output is : { percent_accuracy_1:0.1f}%\")"
   ]
  },
  {
   "cell_type": "markdown",
   "metadata": {},
   "source": [
    "## Model testing_2 for bankruptcy firms from 2002-2003"
   ]
  },
  {
   "cell_type": "markdown",
   "metadata": {},
   "source": [
    "#### Import active test data"
   ]
  },
  {
   "cell_type": "code",
   "execution_count": 109,
   "metadata": {},
   "outputs": [],
   "source": [
    "test_0 = pd.read_excel('Active Companies.xlsx', sheet_name = '0205', index_col=0)"
   ]
  },
  {
   "cell_type": "code",
   "execution_count": 110,
   "metadata": {},
   "outputs": [
    {
     "data": {
      "text/plain": [
       "(46, 49)"
      ]
     },
     "execution_count": 110,
     "metadata": {},
     "output_type": "execute_result"
    }
   ],
   "source": [
    "test_0=test_0.replace({'n.a.': np.nan,'n.s.': np.nan})\n",
    "test_0.shape"
   ]
  },
  {
   "cell_type": "code",
   "execution_count": 111,
   "metadata": {},
   "outputs": [],
   "source": [
    "#test_0=test_0.fillna(0)"
   ]
  },
  {
   "cell_type": "code",
   "execution_count": 112,
   "metadata": {},
   "outputs": [],
   "source": [
    "###calculate ratios \n",
    "\n",
    "test_00=test_0[['Company name Latin alphabet',\n",
    "                  'Liquidity ratio\\nLast avail. yr', 'Liquidity ratio\\nYear - 1', \n",
    "                   'Current ratio\\nLast avail. yr', 'Current ratio\\nYear - 1',\n",
    "                   'Profit margin (%)\\nLast avail. yr', 'Profit margin (%)\\nYear - 1',\n",
    "                  'Solvency ratio (Asset based) (%)\\nLast avail. yr',  'Solvency ratio (Asset based) (%)\\nYear - 1',\n",
    "                   'Profit per employee (th) (th)\\nth USD Last avail. yr', 'Profit per employee (th) (th)\\nth USD Year - 1',\n",
    "                   'Intangible fixed assets\\nth USD Last avail. yr', 'Intangible fixed assets\\nth USD Year - 1',\n",
    "                  \n",
    "                ]]\n",
    "\n",
    "test_00['CL/TL avial year']=test_0['Current liabilities\\nth USD Last avail. yr']/(test_0['Total shareh. funds & liab.\\nth USD Last avail. yr']-test_0['Shareholders funds\\nth USD Last avail. yr']) -test_0['Current liabilities\\nth USD Year - 1']/(test_0['Total shareh. funds & liab.\\nth USD Year - 1']-test_0['Shareholders funds\\nth USD Year - 1'])\n",
    "                                                                                    \n",
    "test_00['CL/TL year-1']=test_0['Current liabilities\\nth USD Year - 1']/(test_0['Total shareh. funds & liab.\\nth USD Year - 1']-test_0['Shareholders funds\\nth USD Year - 1']) -test_0['Current liabilities\\nth USD Year - 2']/(test_0['Total shareh. funds & liab.\\nth USD Year - 2']-test_0['Shareholders funds\\nth USD Year - 2'])\n",
    "                                   \n",
    "\n",
    "#data2['CF/CapEX avil year']=data1['Cash flow\\nth USD Last avail. yr']/data1['Capital Expenditures\\nth USD Last avail. yr']\n",
    "#data2['CF/CapEX year-1']=data1['Cash flow\\nth USD Year - 1']/data1[ 'Capital Expenditures\\nth USD Year - 1']\n",
    "\n",
    "\n",
    "#### add in 6 more Financial ratios\n",
    "# 1. Cash flow / Operating revenue \n",
    "test_00['Cash flow / Operating revenue'] = test_0['Operating revenue (Turnover)\\nth USD Last avail. yr']\n",
    "test_00['Cash flow / Operating revenue -1'] = test_0['Operating revenue (Turnover)\\nth USD Year - 1']\n",
    "\n",
    "\n",
    "# 2. operating revenue per employee\n",
    "test_00['Operating revenue per employee'] = test_0['Operating revenue per employee (th) (th)\\nth USD Last avail. yr']\n",
    "test_00['Operating revenue per employee -1'] = test_0['Operating revenue per employee (th) (th)\\nth USD Year - 1']\n",
    "\n",
    "\n",
    "#3. Costs of employees / Operating revenue \n",
    "test_00['Costs of employees/Operating revenue'] = test_0['Costs of employees\\nth USD Last avail. yr'] / test_0['Operating revenue (Turnover)\\nth USD Last avail. yr']\n",
    "test_00['Costs of employees/Operating revenue-1'] = test_0['Costs of employees\\nth USD Year - 1'] / test_0['Operating revenue (Turnover)\\nth USD Year - 1']\n",
    "\n",
    "#4. Working Capital/Total Assets\n",
    "test_00['Working Capital/Total Assets'] = test_0['Working capital\\nth USD Last avail. yr'] / test_0['Total assets\\nth USD Last avail. yr']\n",
    "test_00['Working Capital/Total Assets -1'] = test_0['Working capital\\nth USD Year - 1'] / test_0['Total assets\\nth USD Year - 1']\n",
    "\n",
    "\n",
    "# 6.  Sales / Total Assets\n",
    "test_00['Sales/Total Asset'] = test_0['Sales\\nth USD Last avail. yr'] / test_0['Total assets\\nth USD Last avail. yr']\n",
    "test_00['Sales/Total Asset-1'] = test_0['Sales\\nth USD Year - 1'] / test_0['Total assets\\nth USD Year - 1']"
   ]
  },
  {
   "cell_type": "code",
   "execution_count": 113,
   "metadata": {},
   "outputs": [],
   "source": [
    "test2_a=test_00.iloc[:,[0,2,4,6,8,10,12,14,16,18,20,22,24]]\n",
    "\n",
    "test2_b=test_00.iloc[:,[0,1,3,5,7,9,11,13,15,17,19,21,23]]"
   ]
  },
  {
   "cell_type": "code",
   "execution_count": 114,
   "metadata": {},
   "outputs": [],
   "source": [
    "test2_a.columns=['Company name',' Liquidity ratio',' Current ratio','Profit margin (%)',\n",
    "                'Solvency ratio (Asset based) (%)', 'Profit per employee', 'Intangible fixed assets',\n",
    "                'CL/TL', 'CF/Operating Revenue', 'Operating revenue per employee',\n",
    "                'Costs of employees/Operating revenue', 'Working Capital/Total Assets','Sales/Total Asset']\n",
    "\n",
    "test2_b.columns=['Company name',' Liquidity ratio',' Current ratio','Profit margin (%)',\n",
    "                'Solvency ratio (Asset based) (%)', 'Profit per employee', 'Intangible fixed assets',\n",
    "                'CL/TL', 'CF/Operating Revenue', 'Operating revenue per employee',\n",
    "                'Costs of employees/Operating revenue', 'Working Capital/Total Assets','Sales/Total Asset']"
   ]
  },
  {
   "cell_type": "code",
   "execution_count": 115,
   "metadata": {},
   "outputs": [
    {
     "data": {
      "text/plain": [
       "(92, 13)"
      ]
     },
     "execution_count": 115,
     "metadata": {},
     "output_type": "execute_result"
    }
   ],
   "source": [
    "test2_cat=pd.concat([test2_a,test2_b])\n",
    "test2_cat=test2_cat.fillna(0)\n",
    "# Active firms\n",
    "test2_cat.shape"
   ]
  },
  {
   "cell_type": "markdown",
   "metadata": {},
   "source": [
    "#### Import Bankruptcy test data 2002-2003"
   ]
  },
  {
   "cell_type": "code",
   "execution_count": 116,
   "metadata": {
    "scrolled": true
   },
   "outputs": [],
   "source": [
    "test_1 = pd.read_excel('world_bankrupt_tech.xlsx', sheet_name = '0203', index_col=0)"
   ]
  },
  {
   "cell_type": "code",
   "execution_count": 117,
   "metadata": {},
   "outputs": [
    {
     "data": {
      "text/plain": [
       "(166, 49)"
      ]
     },
     "execution_count": 117,
     "metadata": {},
     "output_type": "execute_result"
    }
   ],
   "source": [
    "test_1=test_1.replace({'n.a.': np.nan,'n.s.': np.nan})\n",
    "test_1.shape"
   ]
  },
  {
   "cell_type": "code",
   "execution_count": 118,
   "metadata": {},
   "outputs": [],
   "source": [
    "#test_1=test_1.fillna(0)"
   ]
  },
  {
   "cell_type": "code",
   "execution_count": 119,
   "metadata": {},
   "outputs": [],
   "source": [
    "###calculate ratios \n",
    "\n",
    "test_11=test_1[['Company name Latin alphabet',\n",
    "                  'Liquidity ratio\\nLast avail. yr', 'Liquidity ratio\\nYear - 1', \n",
    "                   'Current ratio\\nLast avail. yr', 'Current ratio\\nYear - 1',\n",
    "                   'Profit margin (%)\\nLast avail. yr', 'Profit margin (%)\\nYear - 1',\n",
    "                  'Solvency ratio (Asset based) (%)\\nLast avail. yr',  'Solvency ratio (Asset based) (%)\\nYear - 1',\n",
    "                   'Profit per employee (th) (th)\\nth USD Last avail. yr', 'Profit per employee (th) (th)\\nth USD Year - 1',\n",
    "                   'Intangible fixed assets\\nth USD Last avail. yr', 'Intangible fixed assets\\nth USD Year - 1',\n",
    "                  \n",
    "                ]]\n",
    "\n",
    "test_11['CL/TL avial year']=test_1['Current liabilities\\nth USD Last avail. yr']/(test_1['Total shareh. funds & liab.\\nth USD Last avail. yr']-test_1['Shareholders funds\\nth USD Last avail. yr']) -test_1['Current liabilities\\nth USD Year - 1']/(test_1['Total shareh. funds & liab.\\nth USD Year - 1']-test_1['Shareholders funds\\nth USD Year - 1'])\n",
    "                                                                                    \n",
    "test_11['CL/TL year-1']=test_1['Current liabilities\\nth USD Year - 1']/(test_1['Total shareh. funds & liab.\\nth USD Year - 1']-test_1['Shareholders funds\\nth USD Year - 1']) -test_1['Current liabilities\\nth USD Year - 2']/(test_1['Total shareh. funds & liab.\\nth USD Year - 2']-test_1['Shareholders funds\\nth USD Year - 2'])\n",
    "                                   \n",
    "\n",
    "#data2['CF/CapEX avil year']=data1['Cash flow\\nth USD Last avail. yr']/data1['Capital Expenditures\\nth USD Last avail. yr']\n",
    "#data2['CF/CapEX year-1']=data1['Cash flow\\nth USD Year - 1']/data1[ 'Capital Expenditures\\nth USD Year - 1']\n",
    "\n",
    "\n",
    "#### add in 6 more Financial ratios\n",
    "# 1. Cash flow / Operating revenue \n",
    "test_11['Cash flow / Operating revenue'] = test_1['Operating revenue (Turnover)\\nth USD Last avail. yr']\n",
    "test_11['Cash flow / Operating revenue -1'] = test_1['Operating revenue (Turnover)\\nth USD Year - 1']\n",
    "\n",
    "\n",
    "# 2. operating revenue per employee\n",
    "test_11['Operating revenue per employee'] = test_1['Operating revenue per employee (th) (th)\\nth USD Last avail. yr']\n",
    "test_11['Operating revenue per employee -1'] = test_1['Operating revenue per employee (th) (th)\\nth USD Year - 1']\n",
    "\n",
    "\n",
    "#3. Costs of employees / Operating revenue \n",
    "test_11['Costs of employees/Operating revenue'] = test_1['Costs of employees\\nth USD Last avail. yr'] / test_1['Operating revenue (Turnover)\\nth USD Last avail. yr']\n",
    "test_11['Costs of employees/Operating revenue-1'] = test_1['Costs of employees\\nth USD Year - 1'] / test_1['Operating revenue (Turnover)\\nth USD Year - 1']\n",
    "\n",
    "#4. Working Capital/Total Assets\n",
    "test_11['Working Capital/Total Assets'] = test_1['Working capital\\nth USD Last avail. yr'] / test_1['Total assets\\nth USD Last avail. yr']\n",
    "test_11['Working Capital/Total Assets -1'] = test_1['Working capital\\nth USD Year - 1'] / test_1['Total assets\\nth USD Year - 1']\n",
    "\n",
    "\n",
    "# 6.  Sales / Total Assets\n",
    "test_11['Sales/Total Asset'] = test_1['Sales\\nth USD Last avail. yr'] / test_1['Total assets\\nth USD Last avail. yr']\n",
    "test_11['Sales/Total Asset-1'] = test_1['Sales\\nth USD Year - 1'] / test_1['Total assets\\nth USD Year - 1']"
   ]
  },
  {
   "cell_type": "code",
   "execution_count": 120,
   "metadata": {},
   "outputs": [],
   "source": [
    "test_11_a=test_11.iloc[:,[0,2,4,6,8,10,12,14,16,18,20,22,24]]\n",
    "\n",
    "test_11_b=test_11.iloc[:,[0,1,3,5,7,9,11,13,15,17,19,21,23]]"
   ]
  },
  {
   "cell_type": "code",
   "execution_count": 121,
   "metadata": {},
   "outputs": [],
   "source": [
    "test_11_a.columns=['Company name',' Liquidity ratio',' Current ratio','Profit margin (%)',\n",
    "                'Solvency ratio (Asset based) (%)', 'Profit per employee', 'Intangible fixed assets',\n",
    "                'CL/TL', 'CF/Operating Revenue', 'Operating revenue per employee',\n",
    "                'Costs of employees/Operating revenue', 'Working Capital/Total Assets','Sales/Total Asset']\n",
    "\n",
    "test_11_b.columns=['Company name',' Liquidity ratio',' Current ratio','Profit margin (%)',\n",
    "                'Solvency ratio (Asset based) (%)', 'Profit per employee', 'Intangible fixed assets',\n",
    "                'CL/TL', 'CF/Operating Revenue', 'Operating revenue per employee',\n",
    "                'Costs of employees/Operating revenue', 'Working Capital/Total Assets','Sales/Total Asset']"
   ]
  },
  {
   "cell_type": "code",
   "execution_count": 122,
   "metadata": {},
   "outputs": [
    {
     "data": {
      "text/plain": [
       "(332, 13)"
      ]
     },
     "execution_count": 122,
     "metadata": {},
     "output_type": "execute_result"
    }
   ],
   "source": [
    "test1_cat=pd.concat([test_11_a,test_11_b])\n",
    "test1_cat=test1_cat.fillna(0)\n",
    "# Bankruptcy firms\n",
    "test1_cat.shape"
   ]
  },
  {
   "cell_type": "code",
   "execution_count": 123,
   "metadata": {},
   "outputs": [],
   "source": [
    "#  Active firms\n",
    "#test2_cat = test2_cat.sample(n=30, replace = True)\n",
    "#test2_cat = test2_cat_select\n",
    "#  Bankruptcy firms\n",
    "#test1_cat = test1_cat.sample(n=30, replace = True)\n",
    "#test1_cat = test1_cat_select"
   ]
  },
  {
   "cell_type": "code",
   "execution_count": 124,
   "metadata": {},
   "outputs": [],
   "source": [
    "test2_cat.insert(0, 'Status', int(0))\n",
    "test1_cat.insert(0,'Status', int(1))\n",
    "\n",
    "test_df=pd.concat([test2_cat, test1_cat])"
   ]
  },
  {
   "cell_type": "code",
   "execution_count": 125,
   "metadata": {},
   "outputs": [],
   "source": [
    "test_df=test_df.fillna(0)"
   ]
  },
  {
   "cell_type": "code",
   "execution_count": 126,
   "metadata": {},
   "outputs": [
    {
     "data": {
      "text/plain": [
       "Status                                  0\n",
       "Company name                            0\n",
       " Liquidity ratio                        0\n",
       " Current ratio                          0\n",
       "Profit margin (%)                       0\n",
       "Solvency ratio (Asset based) (%)        0\n",
       "Profit per employee                     0\n",
       "Intangible fixed assets                 0\n",
       "CL/TL                                   0\n",
       "CF/Operating Revenue                    0\n",
       "Operating revenue per employee          0\n",
       "Costs of employees/Operating revenue    0\n",
       "Working Capital/Total Assets            0\n",
       "Sales/Total Asset                       0\n",
       "dtype: int64"
      ]
     },
     "execution_count": 126,
     "metadata": {},
     "output_type": "execute_result"
    }
   ],
   "source": [
    "test_df.isna().sum()"
   ]
  },
  {
   "cell_type": "markdown",
   "metadata": {},
   "source": [
    "#### Test DataFrame"
   ]
  },
  {
   "cell_type": "code",
   "execution_count": 127,
   "metadata": {},
   "outputs": [
    {
     "data": {
      "text/plain": [
       "(424, 14)"
      ]
     },
     "execution_count": 127,
     "metadata": {},
     "output_type": "execute_result"
    }
   ],
   "source": [
    "test_df.shape"
   ]
  },
  {
   "cell_type": "markdown",
   "metadata": {},
   "source": [
    "### Model output: `Y (Z-Score)` of Test Data"
   ]
  },
  {
   "cell_type": "code",
   "execution_count": 128,
   "metadata": {
    "scrolled": true
   },
   "outputs": [
    {
     "data": {
      "text/plain": [
       " Current ratio                         -1.596980\n",
       "Intangible fixed assets                -0.816543\n",
       "CF/Operating Revenue                    0.053952\n",
       "Costs of employees/Operating revenue   -1.706327\n",
       "Sales/Total Asset                       4.054102\n",
       "dtype: float64"
      ]
     },
     "execution_count": 128,
     "metadata": {},
     "output_type": "execute_result"
    }
   ],
   "source": [
    "result.params"
   ]
  },
  {
   "cell_type": "code",
   "execution_count": 129,
   "metadata": {},
   "outputs": [],
   "source": [
    "def  row_values():\n",
    "    x=[]\n",
    "    for i in range(len(curve_df_test)):\n",
    "        for j in range(len(result.params)):\n",
    "            x_value = curve_df_test.iloc[i,:].values[j] * result.params[j]\n",
    "        x_sum = x_value.sum()\n",
    "        x.append(x_sum)\n",
    "    return x"
   ]
  },
  {
   "cell_type": "code",
   "execution_count": 130,
   "metadata": {},
   "outputs": [],
   "source": [
    "log_test_df=np.log10(test_df.iloc[:,2:]).round(4).fillna(0)"
   ]
  },
  {
   "cell_type": "code",
   "execution_count": 131,
   "metadata": {
    "scrolled": false
   },
   "outputs": [],
   "source": [
    "curve_df_test=log_test_df[[' Current ratio', 'Intangible fixed assets', 'CF/Operating Revenue','Costs of employees/Operating revenue','Sales/Total Asset']]\n",
    "curve_df_test['Y'] = row_values()"
   ]
  },
  {
   "cell_type": "code",
   "execution_count": 132,
   "metadata": {
    "scrolled": true
   },
   "outputs": [
    {
     "data": {
      "text/html": [
       "<div>\n",
       "<style scoped>\n",
       "    .dataframe tbody tr th:only-of-type {\n",
       "        vertical-align: middle;\n",
       "    }\n",
       "\n",
       "    .dataframe tbody tr th {\n",
       "        vertical-align: top;\n",
       "    }\n",
       "\n",
       "    .dataframe thead th {\n",
       "        text-align: right;\n",
       "    }\n",
       "</style>\n",
       "<table border=\"1\" class=\"dataframe\">\n",
       "  <thead>\n",
       "    <tr style=\"text-align: right;\">\n",
       "      <th></th>\n",
       "      <th>Current ratio</th>\n",
       "      <th>Intangible fixed assets</th>\n",
       "      <th>CF/Operating Revenue</th>\n",
       "      <th>Costs of employees/Operating revenue</th>\n",
       "      <th>Sales/Total Asset</th>\n",
       "      <th>Y</th>\n",
       "    </tr>\n",
       "  </thead>\n",
       "  <tbody>\n",
       "    <tr>\n",
       "      <th>32.0</th>\n",
       "      <td>0.0449</td>\n",
       "      <td>6.7243</td>\n",
       "      <td>7.5382</td>\n",
       "      <td>0.0</td>\n",
       "      <td>-0.1429</td>\n",
       "      <td>-0.579331</td>\n",
       "    </tr>\n",
       "    <tr>\n",
       "      <th>44.0</th>\n",
       "      <td>-0.2668</td>\n",
       "      <td>6.2006</td>\n",
       "      <td>7.3075</td>\n",
       "      <td>0.0</td>\n",
       "      <td>-0.4667</td>\n",
       "      <td>-1.892049</td>\n",
       "    </tr>\n",
       "    <tr>\n",
       "      <th>56.0</th>\n",
       "      <td>0.0145</td>\n",
       "      <td>6.1274</td>\n",
       "      <td>7.0778</td>\n",
       "      <td>0.0</td>\n",
       "      <td>-0.1722</td>\n",
       "      <td>-0.698116</td>\n",
       "    </tr>\n",
       "    <tr>\n",
       "      <th>58.0</th>\n",
       "      <td>0.2322</td>\n",
       "      <td>7.3255</td>\n",
       "      <td>7.1940</td>\n",
       "      <td>0.0</td>\n",
       "      <td>-0.4669</td>\n",
       "      <td>-1.892860</td>\n",
       "    </tr>\n",
       "    <tr>\n",
       "      <th>65.0</th>\n",
       "      <td>-0.2692</td>\n",
       "      <td>6.6067</td>\n",
       "      <td>7.1479</td>\n",
       "      <td>0.0</td>\n",
       "      <td>-0.2170</td>\n",
       "      <td>-0.879740</td>\n",
       "    </tr>\n",
       "    <tr>\n",
       "      <th>...</th>\n",
       "      <td>...</td>\n",
       "      <td>...</td>\n",
       "      <td>...</td>\n",
       "      <td>...</td>\n",
       "      <td>...</td>\n",
       "      <td>...</td>\n",
       "    </tr>\n",
       "    <tr>\n",
       "      <th>2113.0</th>\n",
       "      <td>0.6775</td>\n",
       "      <td>0.0000</td>\n",
       "      <td>1.1760</td>\n",
       "      <td>0.0</td>\n",
       "      <td>-0.5185</td>\n",
       "      <td>-2.102052</td>\n",
       "    </tr>\n",
       "    <tr>\n",
       "      <th>2213.0</th>\n",
       "      <td>0.8016</td>\n",
       "      <td>0.0000</td>\n",
       "      <td>0.8659</td>\n",
       "      <td>0.0</td>\n",
       "      <td>-0.4381</td>\n",
       "      <td>-1.776102</td>\n",
       "    </tr>\n",
       "    <tr>\n",
       "      <th>2230.0</th>\n",
       "      <td>-0.0177</td>\n",
       "      <td>0.0000</td>\n",
       "      <td>0.8154</td>\n",
       "      <td>0.0</td>\n",
       "      <td>-0.7959</td>\n",
       "      <td>-3.226659</td>\n",
       "    </tr>\n",
       "    <tr>\n",
       "      <th>2249.0</th>\n",
       "      <td>-0.3979</td>\n",
       "      <td>0.0000</td>\n",
       "      <td>0.7302</td>\n",
       "      <td>0.0</td>\n",
       "      <td>0.3010</td>\n",
       "      <td>1.220285</td>\n",
       "    </tr>\n",
       "    <tr>\n",
       "      <th>2269.0</th>\n",
       "      <td>0.0969</td>\n",
       "      <td>0.0000</td>\n",
       "      <td>0.6662</td>\n",
       "      <td>0.0</td>\n",
       "      <td>-0.4114</td>\n",
       "      <td>-1.667857</td>\n",
       "    </tr>\n",
       "  </tbody>\n",
       "</table>\n",
       "<p>424 rows × 6 columns</p>\n",
       "</div>"
      ],
      "text/plain": [
       "         Current ratio  Intangible fixed assets  CF/Operating Revenue  \\\n",
       "32.0            0.0449                   6.7243                7.5382   \n",
       "44.0           -0.2668                   6.2006                7.3075   \n",
       "56.0            0.0145                   6.1274                7.0778   \n",
       "58.0            0.2322                   7.3255                7.1940   \n",
       "65.0           -0.2692                   6.6067                7.1479   \n",
       "...                ...                      ...                   ...   \n",
       "2113.0          0.6775                   0.0000                1.1760   \n",
       "2213.0          0.8016                   0.0000                0.8659   \n",
       "2230.0         -0.0177                   0.0000                0.8154   \n",
       "2249.0         -0.3979                   0.0000                0.7302   \n",
       "2269.0          0.0969                   0.0000                0.6662   \n",
       "\n",
       "        Costs of employees/Operating revenue  Sales/Total Asset         Y  \n",
       "32.0                                     0.0            -0.1429 -0.579331  \n",
       "44.0                                     0.0            -0.4667 -1.892049  \n",
       "56.0                                     0.0            -0.1722 -0.698116  \n",
       "58.0                                     0.0            -0.4669 -1.892860  \n",
       "65.0                                     0.0            -0.2170 -0.879740  \n",
       "...                                      ...                ...       ...  \n",
       "2113.0                                   0.0            -0.5185 -2.102052  \n",
       "2213.0                                   0.0            -0.4381 -1.776102  \n",
       "2230.0                                   0.0            -0.7959 -3.226659  \n",
       "2249.0                                   0.0             0.3010  1.220285  \n",
       "2269.0                                   0.0            -0.4114 -1.667857  \n",
       "\n",
       "[424 rows x 6 columns]"
      ]
     },
     "execution_count": 132,
     "metadata": {},
     "output_type": "execute_result"
    }
   ],
   "source": [
    "curve_df_test"
   ]
  },
  {
   "cell_type": "markdown",
   "metadata": {},
   "source": [
    "### The logistic regression function 𝑝(𝐱)"
   ]
  },
  {
   "cell_type": "markdown",
   "metadata": {},
   "source": [
    "Goal is to find the logistic regression function 𝑝(𝐱) such that the predicted responses 𝑝(𝐱ᵢ) are as close as possible to the actual response 𝑦ᵢ for each observation 𝑖 = 1, …, 𝑛. Remember that the actual response can be only 0 or 1 in binary classification problems! This means that each 𝑝(𝐱ᵢ) should be close to either 0 or 1. That’s why it’s convenient to use the `sigmoid function.`"
   ]
  },
  {
   "cell_type": "markdown",
   "metadata": {},
   "source": [
    "`The logistic regression function 𝑝(𝐱)` is the sigmoid function of 𝑓(𝐱): 𝑝(𝐱) = 1 / (1 + exp(−𝑓(𝐱)). As such, it’s often close to either 0 or 1. The function 𝑝(𝐱) is often interpreted as the predicted probability that the output for a given 𝐱 is equal to 1. Therefore, 1 − 𝑝(𝑥) is the probability that the output is 0."
   ]
  },
  {
   "cell_type": "markdown",
   "metadata": {},
   "source": [
    "#### Methodology\n"
   ]
  },
  {
   "cell_type": "markdown",
   "metadata": {},
   "source": [
    "Logistic regression is a linear classifier, so you’ll use a linear function 𝑓(𝐱) = 𝑏₀ + 𝑏₁𝑥₁ + ⋯ + 𝑏ᵣ𝑥ᵣ, also called the `logit`. The variables 𝑏₀, 𝑏₁, …, 𝑏ᵣ are the estimators of the regression coefficients, which are also called the `predicted weights` or just `coefficients`."
   ]
  },
  {
   "cell_type": "markdown",
   "metadata": {},
   "source": [
    "Get the predicted outputs 𝑝(𝐱ᵢ) for any given input 𝐱ᵢ. For each observation 𝑖 = 1, …, 𝑛, `the predicted output is 1 if 𝑝(𝐱ᵢ) > 0.5 and 0 otherwise`. "
   ]
  },
  {
   "cell_type": "markdown",
   "metadata": {},
   "source": [
    "There’s one more important relationship between 𝑝(𝐱) and 𝑓(𝐱), which is that` log(𝑝(𝐱) / (1 − 𝑝(𝐱))) = 𝑓(𝐱).` This equality explains why 𝑓(𝐱) is the logit. It implies that 𝑝(𝐱) = 0.5 when 𝑓(𝐱) = 0 and that the predicted output is 1 if 𝑓(𝐱) > 0 and 0 otherwise."
   ]
  },
  {
   "cell_type": "code",
   "execution_count": 133,
   "metadata": {},
   "outputs": [],
   "source": [
    "# Standardised Y after log normalize\n",
    "cs = curve_df_test['Y']\n",
    "\n",
    "# rearange\n",
    "from sklearn.preprocessing import MinMaxScaler\n",
    "scaler = MinMaxScaler(feature_range=(-6,6))\n",
    "cs1 = scaler.fit_transform(cs.values.reshape(-1, 1))"
   ]
  },
  {
   "cell_type": "code",
   "execution_count": 134,
   "metadata": {
    "scrolled": true
   },
   "outputs": [
    {
     "data": {
      "text/plain": [
       "array([[0.69934681],\n",
       "       [0.36184385],\n",
       "       [0.67182705],\n",
       "       [0.36164255],\n",
       "       [0.62741922],\n",
       "       [0.56378755],\n",
       "       [0.32625357],\n",
       "       [0.3291348 ],\n",
       "       [0.95010761],\n",
       "       [0.45548923],\n",
       "       [0.88599038],\n",
       "       [0.34274849],\n",
       "       [0.59238045],\n",
       "       [0.68654807],\n",
       "       [0.6350298 ],\n",
       "       [0.94490796],\n",
       "       [0.60723816],\n",
       "       [0.16790648],\n",
       "       [0.13573199],\n",
       "       [0.89413451],\n",
       "       [0.07822285],\n",
       "       [0.59983226],\n",
       "       [0.57020908],\n",
       "       [0.56849889],\n",
       "       [0.80100641],\n",
       "       [0.86735739],\n",
       "       [0.87669437],\n",
       "       [0.71219984],\n",
       "       [0.76010727],\n",
       "       [0.85452637],\n",
       "       [0.75174307],\n",
       "       [0.93877653],\n",
       "       [0.84155601],\n",
       "       [0.70789187],\n",
       "       [0.98256609],\n",
       "       [0.98589008],\n",
       "       [0.90914716],\n",
       "       [0.84728258],\n",
       "       [0.9482574 ],\n",
       "       [0.07074576],\n",
       "       [0.49547729],\n",
       "       [0.96007208],\n",
       "       [0.53118336],\n",
       "       [0.43235682],\n",
       "       [0.65567853],\n",
       "       [0.78892992],\n",
       "       [0.79109945],\n",
       "       [0.3883002 ],\n",
       "       [0.72341323],\n",
       "       [0.3717659 ],\n",
       "       [0.62107958],\n",
       "       [0.61325183],\n",
       "       [0.33961289],\n",
       "       [0.33251252],\n",
       "       [0.93383938],\n",
       "       [0.43664133],\n",
       "       [0.90412988],\n",
       "       [0.36861513],\n",
       "       [0.60983437],\n",
       "       [0.73298979],\n",
       "       [0.70744094],\n",
       "       [0.94819319],\n",
       "       [0.57884043],\n",
       "       [0.60557339],\n",
       "       [0.14188025],\n",
       "       [0.84074053],\n",
       "       [0.1006591 ],\n",
       "       [0.67804372],\n",
       "       [0.67889961],\n",
       "       [0.68720439],\n",
       "       [0.87068178],\n",
       "       [0.90681621],\n",
       "       [0.86785812],\n",
       "       [0.78972733],\n",
       "       [0.7905947 ],\n",
       "       [0.8257263 ],\n",
       "       [0.72654229],\n",
       "       [0.91375524],\n",
       "       [0.95096841],\n",
       "       [0.71611537],\n",
       "       [0.97950702],\n",
       "       [0.98741551],\n",
       "       [0.96081732],\n",
       "       [0.8711229 ],\n",
       "       [0.92376532],\n",
       "       [0.84311915],\n",
       "       [0.85074713],\n",
       "       [0.95547481],\n",
       "       [0.5108422 ],\n",
       "       [0.4530036 ],\n",
       "       [0.52531709],\n",
       "       [0.91712931],\n",
       "       [0.81955722],\n",
       "       [0.96520676],\n",
       "       [0.85555299],\n",
       "       [0.0846775 ],\n",
       "       [0.28941121],\n",
       "       [0.89565163],\n",
       "       [0.9572038 ],\n",
       "       [0.87287456],\n",
       "       [0.73655789],\n",
       "       [0.96628821],\n",
       "       [0.59058975],\n",
       "       [0.72610902],\n",
       "       [0.96574439],\n",
       "       [0.34265029],\n",
       "       [0.37779255],\n",
       "       [0.60661416],\n",
       "       [0.97514405],\n",
       "       [0.84455529],\n",
       "       [0.93081434],\n",
       "       [0.98708075],\n",
       "       [0.97649131],\n",
       "       [0.17496484],\n",
       "       [0.92996736],\n",
       "       [0.97523897],\n",
       "       [0.98602288],\n",
       "       [0.96804588],\n",
       "       [0.84750808],\n",
       "       [0.35712621],\n",
       "       [0.98255862],\n",
       "       [0.94780638],\n",
       "       [0.95963532],\n",
       "       [0.89516171],\n",
       "       [0.94542759],\n",
       "       [0.84155601],\n",
       "       [0.44599203],\n",
       "       [0.98197396],\n",
       "       [0.83595548],\n",
       "       [0.88817364],\n",
       "       [0.85085781],\n",
       "       [0.55260728],\n",
       "       [0.92525607],\n",
       "       [0.3929698 ],\n",
       "       [0.96210937],\n",
       "       [0.92859224],\n",
       "       [0.42488358],\n",
       "       [0.920191  ],\n",
       "       [0.87838087],\n",
       "       [0.9784945 ],\n",
       "       [0.99708319],\n",
       "       [0.66126649],\n",
       "       [0.97098144],\n",
       "       [0.95888574],\n",
       "       [0.94004196],\n",
       "       [0.6650642 ],\n",
       "       [0.94665151],\n",
       "       [0.95528898],\n",
       "       [0.96281807],\n",
       "       [0.99005886],\n",
       "       [0.93092655],\n",
       "       [0.9729524 ],\n",
       "       [0.97012179],\n",
       "       [0.93796983],\n",
       "       [0.98535895],\n",
       "       [0.95571528],\n",
       "       [0.71823751],\n",
       "       [0.97978517],\n",
       "       [0.96272432],\n",
       "       [0.65685859],\n",
       "       [0.99163631],\n",
       "       [0.85080248],\n",
       "       [0.97383298],\n",
       "       [0.92657181],\n",
       "       [0.97319228],\n",
       "       [0.96362113],\n",
       "       [0.93305401],\n",
       "       [0.95819276],\n",
       "       [0.93559497],\n",
       "       [0.94065329],\n",
       "       [0.47033676],\n",
       "       [0.96404661],\n",
       "       [0.67038374],\n",
       "       [0.00247262],\n",
       "       [0.95298111],\n",
       "       [0.93061756],\n",
       "       [0.96977873],\n",
       "       [0.05363542],\n",
       "       [0.98806468],\n",
       "       [0.74335215],\n",
       "       [0.98741551],\n",
       "       [0.97640108],\n",
       "       [0.99267947],\n",
       "       [0.98098363],\n",
       "       [0.94732989],\n",
       "       [0.82396281],\n",
       "       [0.96355995],\n",
       "       [0.94483984],\n",
       "       [0.23783208],\n",
       "       [0.70126815],\n",
       "       [0.99035892],\n",
       "       [0.93220491],\n",
       "       [0.84277287],\n",
       "       [0.94273547],\n",
       "       [0.97515462],\n",
       "       [0.98810573],\n",
       "       [0.98795623],\n",
       "       [0.82446809],\n",
       "       [0.96795135],\n",
       "       [0.92268386],\n",
       "       [0.95474589],\n",
       "       [0.97483578],\n",
       "       [0.94623166],\n",
       "       [0.89434066],\n",
       "       [0.92249706],\n",
       "       [0.98033043],\n",
       "       [0.93991899],\n",
       "       [0.98535895],\n",
       "       [0.88993657],\n",
       "       [0.90431864],\n",
       "       [0.98153672],\n",
       "       [0.90592835],\n",
       "       [0.04016254],\n",
       "       [0.67984918],\n",
       "       [0.98215823],\n",
       "       [0.98992062],\n",
       "       [0.9831752 ],\n",
       "       [0.93753724],\n",
       "       [0.95021084],\n",
       "       [0.89520261],\n",
       "       [0.90943481],\n",
       "       [0.95157463],\n",
       "       [0.89690791],\n",
       "       [0.8477333 ],\n",
       "       [0.95463275],\n",
       "       [0.93569996],\n",
       "       [0.91663096],\n",
       "       [0.27112546],\n",
       "       [0.73298979],\n",
       "       [0.85822586],\n",
       "       [0.97048606],\n",
       "       [0.98358838],\n",
       "       [0.93115046],\n",
       "       [0.67642379],\n",
       "       [0.91932231],\n",
       "       [0.97737533],\n",
       "       [0.93078626],\n",
       "       [0.97455624],\n",
       "       [0.97376624],\n",
       "       [0.96635914],\n",
       "       [0.96461639],\n",
       "       [0.84840732],\n",
       "       [0.96672567],\n",
       "       [0.75328562],\n",
       "       [0.0673556 ],\n",
       "       [0.77798613],\n",
       "       [0.79109945],\n",
       "       [0.94793562],\n",
       "       [0.94011563],\n",
       "       [0.05264836],\n",
       "       [0.98033043],\n",
       "       [0.77473152],\n",
       "       [0.77571903],\n",
       "       [0.04960387],\n",
       "       [0.58964075],\n",
       "       [0.64207271],\n",
       "       [0.83625417],\n",
       "       [0.101929  ],\n",
       "       [0.98868562],\n",
       "       [0.95417746],\n",
       "       [0.84913475],\n",
       "       [0.28950087],\n",
       "       [0.70536147],\n",
       "       [0.84015596],\n",
       "       [0.96449717],\n",
       "       [0.97920738],\n",
       "       [0.79439409],\n",
       "       [0.9770648 ],\n",
       "       [0.77290034],\n",
       "       [0.89421701],\n",
       "       [0.9729868 ],\n",
       "       [0.32798075],\n",
       "       [0.72350045],\n",
       "       [0.783582  ],\n",
       "       [0.98476894],\n",
       "       [0.70942194],\n",
       "       [0.95406297],\n",
       "       [0.99356276],\n",
       "       [0.95859258],\n",
       "       [0.24501697],\n",
       "       [0.85646644],\n",
       "       [0.91906327],\n",
       "       [0.99197983],\n",
       "       [0.95076475],\n",
       "       [0.80988575],\n",
       "       [0.96303594],\n",
       "       [0.98287698],\n",
       "       [0.93356954],\n",
       "       [0.96133914],\n",
       "       [0.85152043],\n",
       "       [0.96994438],\n",
       "       [0.85436372],\n",
       "       [0.32338541],\n",
       "       [0.97767224],\n",
       "       [0.89450532],\n",
       "       [0.89622065],\n",
       "       [0.88950885],\n",
       "       [0.65725151],\n",
       "       [0.9602222 ],\n",
       "       [0.77190407],\n",
       "       [0.9713598 ],\n",
       "       [0.96351401],\n",
       "       [0.84003884],\n",
       "       [0.91669757],\n",
       "       [0.42307368],\n",
       "       [0.9812822 ],\n",
       "       [0.98429767],\n",
       "       [0.66126649],\n",
       "       [0.98163914],\n",
       "       [0.94336759],\n",
       "       [0.77647655],\n",
       "       [0.62118217],\n",
       "       [0.97761508],\n",
       "       [0.90644719],\n",
       "       [0.9291969 ],\n",
       "       [0.99327786],\n",
       "       [0.9180851 ],\n",
       "       [0.95298111],\n",
       "       [0.95808786],\n",
       "       [0.95337024],\n",
       "       [0.94607619],\n",
       "       [0.94859856],\n",
       "       [0.68466876],\n",
       "       [0.92956883],\n",
       "       [0.98500899],\n",
       "       [0.80603034],\n",
       "       [0.98271482],\n",
       "       [0.95031386],\n",
       "       [0.96482411],\n",
       "       [0.91292715],\n",
       "       [0.93791908],\n",
       "       [0.94207295],\n",
       "       [0.96568666],\n",
       "       [0.97766273],\n",
       "       [0.95757726],\n",
       "       [0.94665151],\n",
       "       [0.88488487],\n",
       "       [0.95919398],\n",
       "       [0.56881968],\n",
       "       [0.94562966],\n",
       "       [0.97733674],\n",
       "       [0.94137918],\n",
       "       [0.89850913],\n",
       "       [0.07405348],\n",
       "       [0.98937131],\n",
       "       [0.91792103],\n",
       "       [0.95589942],\n",
       "       [0.96597439],\n",
       "       [0.98818743],\n",
       "       [0.99217512],\n",
       "       [0.94897982],\n",
       "       [0.90566797],\n",
       "       [0.95163486],\n",
       "       [0.9812341 ],\n",
       "       [0.87190394],\n",
       "       [0.8571617 ],\n",
       "       [0.96648645],\n",
       "       [0.94154735],\n",
       "       [0.84277287],\n",
       "       [0.96818045],\n",
       "       [0.96687957],\n",
       "       [0.98415554],\n",
       "       [0.96263034],\n",
       "       [0.87958651],\n",
       "       [0.99108773],\n",
       "       [0.52662137],\n",
       "       [0.96018889],\n",
       "       [0.57074318],\n",
       "       [0.92495403],\n",
       "       [0.93464282],\n",
       "       [0.94327436],\n",
       "       [0.97632058],\n",
       "       [0.97440447],\n",
       "       [0.97344135],\n",
       "       [0.93184588],\n",
       "       [0.87972496],\n",
       "       [0.96714379],\n",
       "       [0.93575239],\n",
       "       [0.03654734],\n",
       "       [0.75231213],\n",
       "       [0.97305546],\n",
       "       [0.98857783],\n",
       "       [0.96638747],\n",
       "       [0.9608993 ],\n",
       "       [0.93932544],\n",
       "       [0.94185847],\n",
       "       [0.9336776 ],\n",
       "       [0.95104966],\n",
       "       [0.89201149],\n",
       "       [0.9436696 ],\n",
       "       [0.96769341],\n",
       "       [0.9675842 ],\n",
       "       [0.93860091],\n",
       "       [0.80017127],\n",
       "       [0.9869691 ],\n",
       "       [0.91623033],\n",
       "       [0.94445233],\n",
       "       [0.98055611],\n",
       "       [0.95413933],\n",
       "       [0.62445921],\n",
       "       [0.918445  ],\n",
       "       [0.97170942],\n",
       "       [0.98539036],\n",
       "       [0.93192889],\n",
       "       [0.97679955],\n",
       "       [0.96839463],\n",
       "       [0.87513079],\n",
       "       [0.99752738],\n",
       "       [0.91877094],\n",
       "       [0.45895117],\n",
       "       [0.04240504],\n",
       "       [0.84039   ],\n",
       "       [0.84790203],\n",
       "       [0.96791075],\n",
       "       [0.95934727],\n",
       "       [0.04156343],\n",
       "       [0.94376222],\n",
       "       [0.11400962],\n",
       "       [0.22073647],\n",
       "       [0.31148522],\n",
       "       [0.39109956],\n",
       "       [0.1189438 ],\n",
       "       [0.94154735],\n",
       "       [0.41914169]])"
      ]
     },
     "execution_count": 134,
     "metadata": {},
     "output_type": "execute_result"
    }
   ],
   "source": [
    "# calculate the probability of Y \n",
    "from scipy.special import expit\n",
    "prob=expit(cs1)\n",
    "prob"
   ]
  },
  {
   "cell_type": "code",
   "execution_count": 135,
   "metadata": {
    "scrolled": false
   },
   "outputs": [
    {
     "data": {
      "text/plain": [
       "Text(0.5, 0, 'Model output f(x)')"
      ]
     },
     "execution_count": 135,
     "metadata": {},
     "output_type": "execute_result"
    },
    {
     "data": {
      "image/png": "[encoded data removed]",
      "text/plain": [
       "<Figure size 700x500 with 1 Axes>"
      ]
     },
     "metadata": {
      "needs_background": "light"
     },
     "output_type": "display_data"
    }
   ],
   "source": [
    "plt.figure(figsize=(7,5),dpi=100)\n",
    "\n",
    "x = sorted(cs1)\n",
    "y = expit(x)\n",
    "plt.plot(x, y)\n",
    "plt.scatter(x,y)\n",
    "plt.axhline(y=0.5, color='r', linestyle='--')\n",
    "plt.title('Probability of Default')\n",
    "plt.ylabel('p(x)')\n",
    "plt.xlabel('Model output f(x)')"
   ]
  },
  {
   "cell_type": "code",
   "execution_count": 136,
   "metadata": {},
   "outputs": [],
   "source": [
    "compare=pd.DataFrame(curve_df_test['Y'])"
   ]
  },
  {
   "cell_type": "code",
   "execution_count": 137,
   "metadata": {},
   "outputs": [],
   "source": [
    "compare['prob'] = expit(curve_df_test['Y'])"
   ]
  },
  {
   "cell_type": "code",
   "execution_count": 138,
   "metadata": {},
   "outputs": [],
   "source": [
    "compare['predict_status']=compare['prob'].apply(lambda x: int(1) if x>0.5 else int(0))"
   ]
  },
  {
   "cell_type": "code",
   "execution_count": 139,
   "metadata": {},
   "outputs": [],
   "source": [
    "compare['Actual_status'] = test_df['Status']"
   ]
  },
  {
   "cell_type": "code",
   "execution_count": 140,
   "metadata": {
    "scrolled": false
   },
   "outputs": [
    {
     "data": {
      "text/html": [
       "<div>\n",
       "<style scoped>\n",
       "    .dataframe tbody tr th:only-of-type {\n",
       "        vertical-align: middle;\n",
       "    }\n",
       "\n",
       "    .dataframe tbody tr th {\n",
       "        vertical-align: top;\n",
       "    }\n",
       "\n",
       "    .dataframe thead th {\n",
       "        text-align: right;\n",
       "    }\n",
       "</style>\n",
       "<table border=\"1\" class=\"dataframe\">\n",
       "  <thead>\n",
       "    <tr style=\"text-align: right;\">\n",
       "      <th></th>\n",
       "      <th>Y</th>\n",
       "      <th>prob</th>\n",
       "      <th>predict_status</th>\n",
       "      <th>Actual_status</th>\n",
       "    </tr>\n",
       "  </thead>\n",
       "  <tbody>\n",
       "    <tr>\n",
       "      <th>32.0</th>\n",
       "      <td>-0.579331</td>\n",
       "      <td>0.359087</td>\n",
       "      <td>0</td>\n",
       "      <td>0</td>\n",
       "    </tr>\n",
       "    <tr>\n",
       "      <th>44.0</th>\n",
       "      <td>-1.892049</td>\n",
       "      <td>0.131011</td>\n",
       "      <td>0</td>\n",
       "      <td>0</td>\n",
       "    </tr>\n",
       "    <tr>\n",
       "      <th>56.0</th>\n",
       "      <td>-0.698116</td>\n",
       "      <td>0.332230</td>\n",
       "      <td>0</td>\n",
       "      <td>0</td>\n",
       "    </tr>\n",
       "    <tr>\n",
       "      <th>58.0</th>\n",
       "      <td>-1.892860</td>\n",
       "      <td>0.130919</td>\n",
       "      <td>0</td>\n",
       "      <td>0</td>\n",
       "    </tr>\n",
       "    <tr>\n",
       "      <th>65.0</th>\n",
       "      <td>-0.879740</td>\n",
       "      <td>0.293232</td>\n",
       "      <td>0</td>\n",
       "      <td>0</td>\n",
       "    </tr>\n",
       "    <tr>\n",
       "      <th>...</th>\n",
       "      <td>...</td>\n",
       "      <td>...</td>\n",
       "      <td>...</td>\n",
       "      <td>...</td>\n",
       "    </tr>\n",
       "    <tr>\n",
       "      <th>2113.0</th>\n",
       "      <td>-2.102052</td>\n",
       "      <td>0.108898</td>\n",
       "      <td>0</td>\n",
       "      <td>1</td>\n",
       "    </tr>\n",
       "    <tr>\n",
       "      <th>2213.0</th>\n",
       "      <td>-1.776102</td>\n",
       "      <td>0.144785</td>\n",
       "      <td>0</td>\n",
       "      <td>1</td>\n",
       "    </tr>\n",
       "    <tr>\n",
       "      <th>2230.0</th>\n",
       "      <td>-3.226659</td>\n",
       "      <td>0.038175</td>\n",
       "      <td>0</td>\n",
       "      <td>1</td>\n",
       "    </tr>\n",
       "    <tr>\n",
       "      <th>2249.0</th>\n",
       "      <td>1.220285</td>\n",
       "      <td>0.772114</td>\n",
       "      <td>1</td>\n",
       "      <td>1</td>\n",
       "    </tr>\n",
       "    <tr>\n",
       "      <th>2269.0</th>\n",
       "      <td>-1.667857</td>\n",
       "      <td>0.158710</td>\n",
       "      <td>0</td>\n",
       "      <td>1</td>\n",
       "    </tr>\n",
       "  </tbody>\n",
       "</table>\n",
       "<p>424 rows × 4 columns</p>\n",
       "</div>"
      ],
      "text/plain": [
       "               Y      prob  predict_status  Actual_status\n",
       "32.0   -0.579331  0.359087               0              0\n",
       "44.0   -1.892049  0.131011               0              0\n",
       "56.0   -0.698116  0.332230               0              0\n",
       "58.0   -1.892860  0.130919               0              0\n",
       "65.0   -0.879740  0.293232               0              0\n",
       "...          ...       ...             ...            ...\n",
       "2113.0 -2.102052  0.108898               0              1\n",
       "2213.0 -1.776102  0.144785               0              1\n",
       "2230.0 -3.226659  0.038175               0              1\n",
       "2249.0  1.220285  0.772114               1              1\n",
       "2269.0 -1.667857  0.158710               0              1\n",
       "\n",
       "[424 rows x 4 columns]"
      ]
     },
     "execution_count": 140,
     "metadata": {},
     "output_type": "execute_result"
    }
   ],
   "source": [
    "compare"
   ]
  },
  {
   "cell_type": "code",
   "execution_count": 141,
   "metadata": {
    "scrolled": false
   },
   "outputs": [
    {
     "data": {
      "text/html": [
       "<div>\n",
       "<style scoped>\n",
       "    .dataframe tbody tr th:only-of-type {\n",
       "        vertical-align: middle;\n",
       "    }\n",
       "\n",
       "    .dataframe tbody tr th {\n",
       "        vertical-align: top;\n",
       "    }\n",
       "\n",
       "    .dataframe thead th {\n",
       "        text-align: right;\n",
       "    }\n",
       "</style>\n",
       "<table border=\"1\" class=\"dataframe\">\n",
       "  <thead>\n",
       "    <tr style=\"text-align: right;\">\n",
       "      <th></th>\n",
       "      <th>Y</th>\n",
       "      <th>prob</th>\n",
       "      <th>predict_status</th>\n",
       "      <th>Actual_status</th>\n",
       "    </tr>\n",
       "  </thead>\n",
       "  <tbody>\n",
       "    <tr>\n",
       "      <th>32.0</th>\n",
       "      <td>-0.579331</td>\n",
       "      <td>0.359087</td>\n",
       "      <td>0</td>\n",
       "      <td>0</td>\n",
       "    </tr>\n",
       "    <tr>\n",
       "      <th>44.0</th>\n",
       "      <td>-1.892049</td>\n",
       "      <td>0.131011</td>\n",
       "      <td>0</td>\n",
       "      <td>0</td>\n",
       "    </tr>\n",
       "    <tr>\n",
       "      <th>56.0</th>\n",
       "      <td>-0.698116</td>\n",
       "      <td>0.332230</td>\n",
       "      <td>0</td>\n",
       "      <td>0</td>\n",
       "    </tr>\n",
       "    <tr>\n",
       "      <th>58.0</th>\n",
       "      <td>-1.892860</td>\n",
       "      <td>0.130919</td>\n",
       "      <td>0</td>\n",
       "      <td>0</td>\n",
       "    </tr>\n",
       "    <tr>\n",
       "      <th>65.0</th>\n",
       "      <td>-0.879740</td>\n",
       "      <td>0.293232</td>\n",
       "      <td>0</td>\n",
       "      <td>0</td>\n",
       "    </tr>\n",
       "    <tr>\n",
       "      <th>...</th>\n",
       "      <td>...</td>\n",
       "      <td>...</td>\n",
       "      <td>...</td>\n",
       "      <td>...</td>\n",
       "    </tr>\n",
       "    <tr>\n",
       "      <th>1794.0</th>\n",
       "      <td>0.233516</td>\n",
       "      <td>0.558115</td>\n",
       "      <td>1</td>\n",
       "      <td>1</td>\n",
       "    </tr>\n",
       "    <tr>\n",
       "      <th>1842.0</th>\n",
       "      <td>1.803670</td>\n",
       "      <td>0.858595</td>\n",
       "      <td>1</td>\n",
       "      <td>1</td>\n",
       "    </tr>\n",
       "    <tr>\n",
       "      <th>1859.0</th>\n",
       "      <td>1.575424</td>\n",
       "      <td>0.828555</td>\n",
       "      <td>1</td>\n",
       "      <td>1</td>\n",
       "    </tr>\n",
       "    <tr>\n",
       "      <th>1919.0</th>\n",
       "      <td>1.258393</td>\n",
       "      <td>0.778749</td>\n",
       "      <td>1</td>\n",
       "      <td>1</td>\n",
       "    </tr>\n",
       "    <tr>\n",
       "      <th>2249.0</th>\n",
       "      <td>1.220285</td>\n",
       "      <td>0.772114</td>\n",
       "      <td>1</td>\n",
       "      <td>1</td>\n",
       "    </tr>\n",
       "  </tbody>\n",
       "</table>\n",
       "<p>313 rows × 4 columns</p>\n",
       "</div>"
      ],
      "text/plain": [
       "               Y      prob  predict_status  Actual_status\n",
       "32.0   -0.579331  0.359087               0              0\n",
       "44.0   -1.892049  0.131011               0              0\n",
       "56.0   -0.698116  0.332230               0              0\n",
       "58.0   -1.892860  0.130919               0              0\n",
       "65.0   -0.879740  0.293232               0              0\n",
       "...          ...       ...             ...            ...\n",
       "1794.0  0.233516  0.558115               1              1\n",
       "1842.0  1.803670  0.858595               1              1\n",
       "1859.0  1.575424  0.828555               1              1\n",
       "1919.0  1.258393  0.778749               1              1\n",
       "2249.0  1.220285  0.772114               1              1\n",
       "\n",
       "[313 rows x 4 columns]"
      ]
     },
     "execution_count": 141,
     "metadata": {},
     "output_type": "execute_result"
    }
   ],
   "source": [
    "# successful predictions\n",
    "compare[compare['predict_status'] == compare['Actual_status']]"
   ]
  },
  {
   "cell_type": "code",
   "execution_count": 142,
   "metadata": {},
   "outputs": [],
   "source": [
    "compare_0=compare[compare['Actual_status']==0]\n",
    "\n",
    "compare_0[compare_0['predict_status'] == compare_0['Actual_status']]\n",
    "\n",
    "percent_accuracy_0 = (len(compare_0[compare_0['predict_status'] == compare_0['Actual_status']]) / len(compare_0))*100 \n",
    "\n",
    "\n",
    "\n",
    "\n",
    "compare_1=compare[compare['Actual_status']==1]\n",
    "\n",
    "compare_1[compare_1['predict_status'] == compare_1['Actual_status']]\n",
    "\n",
    "percent_accuracy_1 = (len(compare_1[compare_1['predict_status'] == compare_1['Actual_status']]) / len(compare_1))*100 \n",
    "\n",
    "\n",
    "\n",
    "#print(f\"The active accuracy of the model output is : { percent_accuracy_0:0.1f}%\")\n",
    "#print(f\"The bankrupt accuracy of the model output is : { percent_accuracy_1:0.1f}%\")"
   ]
  },
  {
   "cell_type": "code",
   "execution_count": 143,
   "metadata": {},
   "outputs": [],
   "source": [
    "comapre=compare.reset_index()"
   ]
  },
  {
   "cell_type": "code",
   "execution_count": 144,
   "metadata": {},
   "outputs": [],
   "source": [
    "a1=compare_1[compare_1['predict_status'] == compare_1['Actual_status']]"
   ]
  },
  {
   "cell_type": "code",
   "execution_count": 145,
   "metadata": {},
   "outputs": [],
   "source": [
    "a1=a1.reset_index()"
   ]
  },
  {
   "cell_type": "code",
   "execution_count": 146,
   "metadata": {},
   "outputs": [
    {
     "data": {
      "text/plain": [
       "0.5333333333333333"
      ]
     },
     "execution_count": 146,
     "metadata": {},
     "output_type": "execute_result"
    }
   ],
   "source": [
    "len(a1[a1['prob']>0.8])/len(a1)"
   ]
  },
  {
   "cell_type": "code",
   "execution_count": 147,
   "metadata": {},
   "outputs": [
    {
     "data": {
      "text/plain": [
       "255"
      ]
     },
     "execution_count": 147,
     "metadata": {},
     "output_type": "execute_result"
    }
   ],
   "source": [
    "len(a1)"
   ]
  },
  {
   "cell_type": "code",
   "execution_count": 148,
   "metadata": {
    "scrolled": false
   },
   "outputs": [
    {
     "data": {
      "image/png": "[encoded data removed]",
      "text/plain": [
       "<Figure size 432x288 with 1 Axes>"
      ]
     },
     "metadata": {
      "needs_background": "light"
     },
     "output_type": "display_data"
    }
   ],
   "source": [
    "plt.hist(a1['prob'], bins=15)\n",
    "plt.show()"
   ]
  },
  {
   "cell_type": "code",
   "execution_count": 149,
   "metadata": {},
   "outputs": [
    {
     "data": {
      "text/plain": [
       "<matplotlib.lines.Line2D at 0x7fa6bcebf9a0>"
      ]
     },
     "execution_count": 149,
     "metadata": {},
     "output_type": "execute_result"
    },
    {
     "data": {
      "image/png": "[encoded data removed]",
      "text/plain": [
       "<Figure size 432x288 with 1 Axes>"
      ]
     },
     "metadata": {
      "needs_background": "light"
     },
     "output_type": "display_data"
    }
   ],
   "source": [
    "plt.scatter(a1.index, a1['prob'])\n",
    "plt.axhline(y=0.8, color='r', linestyle='--')"
   ]
  },
  {
   "cell_type": "code",
   "execution_count": 150,
   "metadata": {},
   "outputs": [
    {
     "name": "stdout",
     "output_type": "stream",
     "text": [
      "The bankrupt accuracy of the model output is : 76.8%\n"
     ]
    }
   ],
   "source": [
    "print(f\"The bankrupt accuracy of the model output is : { percent_accuracy_1:0.1f}%\")"
   ]
  },
  {
   "cell_type": "code",
   "execution_count": 151,
   "metadata": {},
   "outputs": [
    {
     "name": "stdout",
     "output_type": "stream",
     "text": [
      "The total accuracy of the model output is : 73.8%\n"
     ]
    }
   ],
   "source": [
    "percent_accuracy = (len(compare[compare['predict_status'] == compare['Actual_status']]) / len(compare))*100 \n",
    "\n",
    "print(f\"The total accuracy of the model output is : { percent_accuracy:0.1f}%\")"
   ]
  },
  {
   "cell_type": "code",
   "execution_count": 152,
   "metadata": {},
   "outputs": [],
   "source": [
    "#w0=len(compare[compare['Actual_status']==0])/len(compare)"
   ]
  },
  {
   "cell_type": "code",
   "execution_count": 153,
   "metadata": {},
   "outputs": [],
   "source": [
    "#w1=len(compare[compare['Actual_status']==1])/len(compare)"
   ]
  },
  {
   "cell_type": "code",
   "execution_count": 154,
   "metadata": {},
   "outputs": [],
   "source": [
    "#Total_acc = w1*((len(compare_1[compare_1['predict_status'] == compare_1['Actual_status']]) / len(compare_1))*100 ) + w0*((len(compare_0[compare_0['predict_status'] == compare_0['Actual_status']]) / len(compare_0))*100) "
   ]
  },
  {
   "cell_type": "markdown",
   "metadata": {},
   "source": [
    "# Importing test data from 2017/2018/2019"
   ]
  },
  {
   "cell_type": "markdown",
   "metadata": {},
   "source": [
    "#### Import active test data"
   ]
  },
  {
   "cell_type": "code",
   "execution_count": 155,
   "metadata": {},
   "outputs": [],
   "source": [
    "test_0 = pd.read_excel('Active Companies.xlsx', sheet_name = '171819', index_col=0)"
   ]
  },
  {
   "cell_type": "code",
   "execution_count": 156,
   "metadata": {},
   "outputs": [],
   "source": [
    "#test_0 = test_0[test_0.iloc[:,1] == 2019]"
   ]
  },
  {
   "cell_type": "code",
   "execution_count": 157,
   "metadata": {},
   "outputs": [
    {
     "data": {
      "text/plain": [
       "(688, 49)"
      ]
     },
     "execution_count": 157,
     "metadata": {},
     "output_type": "execute_result"
    }
   ],
   "source": [
    "test_0=test_0.replace({'n.a.': np.nan,'n.s.': np.nan})\n",
    "test_0.shape"
   ]
  },
  {
   "cell_type": "code",
   "execution_count": 158,
   "metadata": {},
   "outputs": [],
   "source": [
    "#test_0=test_0.fillna(0)"
   ]
  },
  {
   "cell_type": "code",
   "execution_count": 159,
   "metadata": {},
   "outputs": [],
   "source": [
    "#test_0=test_0.sample(194)"
   ]
  },
  {
   "cell_type": "code",
   "execution_count": 160,
   "metadata": {},
   "outputs": [],
   "source": [
    "###calculate ratios \n",
    "\n",
    "test_00=test_0[['Company name Latin alphabet',\n",
    "                  'Liquidity ratio\\nLast avail. yr', 'Liquidity ratio\\nYear - 1', \n",
    "                   'Current ratio\\nLast avail. yr', 'Current ratio\\nYear - 1',\n",
    "                   'Profit margin (%)\\nLast avail. yr', 'Profit margin (%)\\nYear - 1',\n",
    "                  'Solvency ratio (Asset based) (%)\\nLast avail. yr',  'Solvency ratio (Asset based) (%)\\nYear - 1',\n",
    "                   'Profit per employee (th) (th)\\nth USD Last avail. yr', 'Profit per employee (th) (th)\\nth USD Year - 1',\n",
    "                   'Intangible fixed assets\\nth USD Last avail. yr', 'Intangible fixed assets\\nth USD Year - 1',\n",
    "                  \n",
    "                ]]\n",
    "\n",
    "test_00['CL/TL avial year']=test_0['Current liabilities\\nth USD Last avail. yr']/(test_0['Total shareh. funds & liab.\\nth USD Last avail. yr']-test_0['Shareholders funds\\nth USD Last avail. yr']) -test_0['Current liabilities\\nth USD Year - 1']/(test_0['Total shareh. funds & liab.\\nth USD Year - 1']-test_0['Shareholders funds\\nth USD Year - 1'])\n",
    "                                                                                    \n",
    "test_00['CL/TL year-1']=test_0['Current liabilities\\nth USD Year - 1']/(test_0['Total shareh. funds & liab.\\nth USD Year - 1']-test_0['Shareholders funds\\nth USD Year - 1']) -test_0['Current liabilities\\nth USD Year - 2']/(test_0['Total shareh. funds & liab.\\nth USD Year - 2']-test_0['Shareholders funds\\nth USD Year - 2'])\n",
    "                                   \n",
    "\n",
    "#data2['CF/CapEX avil year']=data1['Cash flow\\nth USD Last avail. yr']/data1['Capital Expenditures\\nth USD Last avail. yr']\n",
    "#data2['CF/CapEX year-1']=data1['Cash flow\\nth USD Year - 1']/data1[ 'Capital Expenditures\\nth USD Year - 1']\n",
    "\n",
    "\n",
    "#### add in 6 more Financial ratios\n",
    "# 1. Cash flow / Operating revenue \n",
    "test_00['Cash flow / Operating revenue'] = test_0['Operating revenue (Turnover)\\nth USD Last avail. yr']\n",
    "test_00['Cash flow / Operating revenue -1'] = test_0['Operating revenue (Turnover)\\nth USD Year - 1']\n",
    "\n",
    "\n",
    "# 2. operating revenue per employee\n",
    "test_00['Operating revenue per employee'] = test_0['Operating revenue per employee (th) (th)\\nth USD Last avail. yr']\n",
    "test_00['Operating revenue per employee -1'] = test_0['Operating revenue per employee (th) (th)\\nth USD Year - 1']\n",
    "\n",
    "\n",
    "#3. Costs of employees / Operating revenue \n",
    "test_00['Costs of employees/Operating revenue'] = test_0['Costs of employees\\nth USD Last avail. yr'] / test_0['Operating revenue (Turnover)\\nth USD Last avail. yr']\n",
    "test_00['Costs of employees/Operating revenue-1'] = test_0['Costs of employees\\nth USD Year - 1'] / test_0['Operating revenue (Turnover)\\nth USD Year - 1']\n",
    "\n",
    "#4. Working Capital/Total Assets\n",
    "test_00['Working Capital/Total Assets'] = test_0['Working capital\\nth USD Last avail. yr'] / test_0['Total assets\\nth USD Last avail. yr']\n",
    "test_00['Working Capital/Total Assets -1'] = test_0['Working capital\\nth USD Year - 1'] / test_0['Total assets\\nth USD Year - 1']\n",
    "\n",
    "\n",
    "# 6.  Sales / Total Assets\n",
    "test_00['Sales/Total Asset'] = test_0['Sales\\nth USD Last avail. yr'] / test_0['Total assets\\nth USD Last avail. yr']\n",
    "test_00['Sales/Total Asset-1'] = test_0['Sales\\nth USD Year - 1'] / test_0['Total assets\\nth USD Year - 1']"
   ]
  },
  {
   "cell_type": "code",
   "execution_count": 161,
   "metadata": {},
   "outputs": [],
   "source": [
    "test2_a=test_00.iloc[:,[0,2,4,6,8,10,12,14,16,18,20,22,24]]\n",
    "\n",
    "test2_b=test_00.iloc[:,[0,1,3,5,7,9,11,13,15,17,19,21,23]]"
   ]
  },
  {
   "cell_type": "code",
   "execution_count": 162,
   "metadata": {},
   "outputs": [],
   "source": [
    "test2_a.columns=['Company name',' Liquidity ratio',' Current ratio','Profit margin (%)',\n",
    "                'Solvency ratio (Asset based) (%)', 'Profit per employee', 'Intangible fixed assets',\n",
    "                'CL/TL', 'CF/Operating Revenue', 'Operating revenue per employee',\n",
    "                'Costs of employees/Operating revenue', 'Working Capital/Total Assets','Sales/Total Asset']\n",
    "\n",
    "test2_b.columns=['Company name',' Liquidity ratio',' Current ratio','Profit margin (%)',\n",
    "                'Solvency ratio (Asset based) (%)', 'Profit per employee', 'Intangible fixed assets',\n",
    "                'CL/TL', 'CF/Operating Revenue', 'Operating revenue per employee',\n",
    "                'Costs of employees/Operating revenue', 'Working Capital/Total Assets','Sales/Total Asset']"
   ]
  },
  {
   "cell_type": "code",
   "execution_count": 163,
   "metadata": {},
   "outputs": [],
   "source": [
    "test2_cat=pd.concat([test2_a,test2_b])\n",
    "\n",
    "#test2_cat =test2_cat.dropna(thresh=6)\n",
    "#test2_cat=test2_cat.drop(test2_cat.columns[100*(test2_cat.isna().sum()/len(test2_cat))>90], axis=1)\n",
    "\n",
    "test2_cat=test2_cat.fillna(0)"
   ]
  },
  {
   "cell_type": "code",
   "execution_count": 164,
   "metadata": {},
   "outputs": [
    {
     "data": {
      "text/plain": [
       "(1376, 13)"
      ]
     },
     "execution_count": 164,
     "metadata": {},
     "output_type": "execute_result"
    }
   ],
   "source": [
    "\n",
    "# Active firms\n",
    "test2_cat.shape"
   ]
  },
  {
   "cell_type": "markdown",
   "metadata": {},
   "source": [
    "#### Import Bankruptcy test data"
   ]
  },
  {
   "cell_type": "code",
   "execution_count": 165,
   "metadata": {},
   "outputs": [],
   "source": [
    "test_1 = pd.read_excel('world_bankrupt_tech.xlsx', sheet_name = '171819', index_col=0)"
   ]
  },
  {
   "cell_type": "code",
   "execution_count": 166,
   "metadata": {},
   "outputs": [],
   "source": [
    "#test_1 = test_1[(test_1.iloc[:,1]>2018) & (test_1.iloc[:,1]<2020) ]"
   ]
  },
  {
   "cell_type": "code",
   "execution_count": 167,
   "metadata": {},
   "outputs": [],
   "source": [
    "test_1=test_1.replace({'n.a.': np.nan,'n.s.': np.nan})"
   ]
  },
  {
   "cell_type": "code",
   "execution_count": 168,
   "metadata": {},
   "outputs": [
    {
     "data": {
      "text/plain": [
       "(281, 49)"
      ]
     },
     "execution_count": 168,
     "metadata": {},
     "output_type": "execute_result"
    }
   ],
   "source": [
    "test_1.shape"
   ]
  },
  {
   "cell_type": "code",
   "execution_count": 169,
   "metadata": {},
   "outputs": [],
   "source": [
    "#test_1=test_1.sample(194)"
   ]
  },
  {
   "cell_type": "code",
   "execution_count": 170,
   "metadata": {},
   "outputs": [],
   "source": [
    "###calculate ratios \n",
    "\n",
    "test_11=test_1[['Company name Latin alphabet',\n",
    "                  'Liquidity ratio\\nLast avail. yr', 'Liquidity ratio\\nYear - 1', \n",
    "                   'Current ratio\\nLast avail. yr', 'Current ratio\\nYear - 1',\n",
    "                   'Profit margin (%)\\nLast avail. yr', 'Profit margin (%)\\nYear - 1',\n",
    "                  'Solvency ratio (Asset based) (%)\\nLast avail. yr',  'Solvency ratio (Asset based) (%)\\nYear - 1',\n",
    "                   'Profit per employee (th) (th)\\nth USD Last avail. yr', 'Profit per employee (th) (th)\\nth USD Year - 1',\n",
    "                   'Intangible fixed assets\\nth USD Last avail. yr', 'Intangible fixed assets\\nth USD Year - 1',\n",
    "                  \n",
    "                ]]\n",
    "\n",
    "test_11['CL/TL avial year']=test_1['Current liabilities\\nth USD Last avail. yr']/(test_1['Total shareh. funds & liab.\\nth USD Last avail. yr']-test_1['Shareholders funds\\nth USD Last avail. yr']) -test_1['Current liabilities\\nth USD Year - 1']/(test_1['Total shareh. funds & liab.\\nth USD Year - 1']-test_1['Shareholders funds\\nth USD Year - 1'])\n",
    "                                                                                    \n",
    "test_11['CL/TL year-1']=test_1['Current liabilities\\nth USD Year - 1']/(test_1['Total shareh. funds & liab.\\nth USD Year - 1']-test_1['Shareholders funds\\nth USD Year - 1']) -test_1['Current liabilities\\nth USD Year - 2']/(test_1['Total shareh. funds & liab.\\nth USD Year - 2']-test_1['Shareholders funds\\nth USD Year - 2'])\n",
    "                                   \n",
    "\n",
    "#data2['CF/CapEX avil year']=data1['Cash flow\\nth USD Last avail. yr']/data1['Capital Expenditures\\nth USD Last avail. yr']\n",
    "#data2['CF/CapEX year-1']=data1['Cash flow\\nth USD Year - 1']/data1[ 'Capital Expenditures\\nth USD Year - 1']\n",
    "\n",
    "\n",
    "#### add in 6 more Financial ratios\n",
    "# 1. Cash flow / Operating revenue \n",
    "test_11['Cash flow / Operating revenue'] = test_1['Operating revenue (Turnover)\\nth USD Last avail. yr']\n",
    "test_11['Cash flow / Operating revenue -1'] = test_1['Operating revenue (Turnover)\\nth USD Year - 1']\n",
    "\n",
    "\n",
    "# 2. operating revenue per employee\n",
    "test_11['Operating revenue per employee'] = test_1['Operating revenue per employee (th) (th)\\nth USD Last avail. yr']\n",
    "test_11['Operating revenue per employee -1'] = test_1['Operating revenue per employee (th) (th)\\nth USD Year - 1']\n",
    "\n",
    "\n",
    "#3. Costs of employees / Operating revenue \n",
    "test_11['Costs of employees/Operating revenue'] = test_1['Costs of employees\\nth USD Last avail. yr'] / test_1['Operating revenue (Turnover)\\nth USD Last avail. yr']\n",
    "test_11['Costs of employees/Operating revenue-1'] = test_1['Costs of employees\\nth USD Year - 1'] / test_1['Operating revenue (Turnover)\\nth USD Year - 1']\n",
    "\n",
    "#4. Working Capital/Total Assets\n",
    "test_11['Working Capital/Total Assets'] = test_1['Working capital\\nth USD Last avail. yr'] / test_1['Total assets\\nth USD Last avail. yr']\n",
    "test_11['Working Capital/Total Assets -1'] = test_1['Working capital\\nth USD Year - 1'] / test_1['Total assets\\nth USD Year - 1']\n",
    "\n",
    "\n",
    "# 6.  Sales / Total Assets\n",
    "test_11['Sales/Total Asset'] = test_1['Sales\\nth USD Last avail. yr'] / test_1['Total assets\\nth USD Last avail. yr']\n",
    "test_11['Sales/Total Asset-1'] = test_1['Sales\\nth USD Year - 1'] / test_1['Total assets\\nth USD Year - 1']"
   ]
  },
  {
   "cell_type": "code",
   "execution_count": 171,
   "metadata": {},
   "outputs": [],
   "source": [
    "test_11_a=test_11.iloc[:,[0,2,4,6,8,10,12,14,16,18,20,22,24]]\n",
    "\n",
    "test_11_b=test_11.iloc[:,[0,1,3,5,7,9,11,13,15,17,19,21,23]]"
   ]
  },
  {
   "cell_type": "code",
   "execution_count": 172,
   "metadata": {},
   "outputs": [],
   "source": [
    "test_11_a.columns=['Company name',' Liquidity ratio',' Current ratio','Profit margin (%)',\n",
    "                'Solvency ratio (Asset based) (%)', 'Profit per employee', 'Intangible fixed assets',\n",
    "                'CL/TL', 'CF/Operating Revenue', 'Operating revenue per employee',\n",
    "                'Costs of employees/Operating revenue', 'Working Capital/Total Assets','Sales/Total Asset']\n",
    "\n",
    "test_11_b.columns=['Company name',' Liquidity ratio',' Current ratio','Profit margin (%)',\n",
    "                'Solvency ratio (Asset based) (%)', 'Profit per employee', 'Intangible fixed assets',\n",
    "                'CL/TL', 'CF/Operating Revenue', 'Operating revenue per employee',\n",
    "                'Costs of employees/Operating revenue', 'Working Capital/Total Assets','Sales/Total Asset']"
   ]
  },
  {
   "cell_type": "code",
   "execution_count": 173,
   "metadata": {},
   "outputs": [],
   "source": [
    "test1_cat=pd.concat([test_11_a,test_11_b])\n",
    "\n",
    "#test1_cat =test1_cat.dropna(thresh=6)\n",
    "#test1_cat=test1_cat.drop(test1_cat.columns[100*(test1_cat.isna().sum()/len(test1_cat))>90], axis=1)\n",
    "\n",
    "test1_cat=test1_cat.fillna(0)\n",
    "# Bankruptcy firms"
   ]
  },
  {
   "cell_type": "code",
   "execution_count": 174,
   "metadata": {},
   "outputs": [
    {
     "data": {
      "text/plain": [
       "(562, 13)"
      ]
     },
     "execution_count": 174,
     "metadata": {},
     "output_type": "execute_result"
    }
   ],
   "source": [
    "test1_cat.shape"
   ]
  },
  {
   "cell_type": "code",
   "execution_count": 175,
   "metadata": {
    "scrolled": false
   },
   "outputs": [
    {
     "data": {
      "text/plain": [
       "<matplotlib.collections.PathCollection at 0x7fa6bcf2f190>"
      ]
     },
     "execution_count": 175,
     "metadata": {},
     "output_type": "execute_result"
    },
    {
     "data": {
      "image/png": "[encoded data removed]",
      "text/plain": [
       "<Figure size 432x288 with 1 Axes>"
      ]
     },
     "metadata": {
      "needs_background": "light"
     },
     "output_type": "display_data"
    }
   ],
   "source": [
    "plt.scatter(test1_cat.index,test1_cat['Intangible fixed assets'])"
   ]
  },
  {
   "cell_type": "code",
   "execution_count": 176,
   "metadata": {},
   "outputs": [],
   "source": [
    "#test1_cat = test1_cat[test1_cat['Intangible fixed assets'] < 1000]"
   ]
  },
  {
   "cell_type": "code",
   "execution_count": 177,
   "metadata": {
    "scrolled": false
   },
   "outputs": [
    {
     "data": {
      "text/plain": [
       "<matplotlib.collections.PathCollection at 0x7fa6a3c6c820>"
      ]
     },
     "execution_count": 177,
     "metadata": {},
     "output_type": "execute_result"
    },
    {
     "data": {
      "image/png": "[encoded data removed]",
      "text/plain": [
       "<Figure size 432x288 with 1 Axes>"
      ]
     },
     "metadata": {
      "needs_background": "light"
     },
     "output_type": "display_data"
    }
   ],
   "source": [
    "plt.scatter(test2_cat.index,test2_cat['Intangible fixed assets'])"
   ]
  },
  {
   "cell_type": "code",
   "execution_count": 178,
   "metadata": {
    "scrolled": false
   },
   "outputs": [],
   "source": [
    "#test2_cat=test2_cat[test2_cat['Intangible fixed assets'] < 1000]"
   ]
  },
  {
   "cell_type": "code",
   "execution_count": 179,
   "metadata": {
    "scrolled": true
   },
   "outputs": [
    {
     "data": {
      "text/plain": [
       "(1376, 13)"
      ]
     },
     "execution_count": 179,
     "metadata": {},
     "output_type": "execute_result"
    }
   ],
   "source": [
    "#  Active firms\n",
    "test2_cat.shape"
   ]
  },
  {
   "cell_type": "code",
   "execution_count": 180,
   "metadata": {},
   "outputs": [
    {
     "data": {
      "text/plain": [
       "(562, 13)"
      ]
     },
     "execution_count": 180,
     "metadata": {},
     "output_type": "execute_result"
    }
   ],
   "source": [
    "#  Bankruptcy firms\n",
    "test1_cat.shape"
   ]
  },
  {
   "cell_type": "code",
   "execution_count": 181,
   "metadata": {},
   "outputs": [
    {
     "data": {
      "text/plain": [
       "211.20000000000002"
      ]
     },
     "execution_count": 181,
     "metadata": {},
     "output_type": "execute_result"
    }
   ],
   "source": [
    "1056*0.2"
   ]
  },
  {
   "cell_type": "code",
   "execution_count": 182,
   "metadata": {},
   "outputs": [],
   "source": [
    "#  Active firms\n",
    "#test2_cat = test2_cat.sample(n=250, replace = True)\n",
    "#test2_cat = test2_cat_select\n",
    "#  Bankruptcy firms\n",
    "#test1_cat = test1_cat.sample(n=211, replace = True)\n",
    "#test1_cat = test1_cat_select"
   ]
  },
  {
   "cell_type": "code",
   "execution_count": 183,
   "metadata": {},
   "outputs": [],
   "source": [
    "test2_cat.insert(0, 'Status', int(0))\n",
    "test1_cat.insert(0,'Status', int(1))\n",
    "\n",
    "test_df=pd.concat([test2_cat, test1_cat])"
   ]
  },
  {
   "cell_type": "code",
   "execution_count": 184,
   "metadata": {},
   "outputs": [],
   "source": [
    "test_df=test_df.fillna(0)"
   ]
  },
  {
   "cell_type": "code",
   "execution_count": 185,
   "metadata": {},
   "outputs": [
    {
     "data": {
      "text/plain": [
       "Status                                  0\n",
       "Company name                            0\n",
       " Liquidity ratio                        0\n",
       " Current ratio                          0\n",
       "Profit margin (%)                       0\n",
       "Solvency ratio (Asset based) (%)        0\n",
       "Profit per employee                     0\n",
       "Intangible fixed assets                 0\n",
       "CL/TL                                   0\n",
       "CF/Operating Revenue                    0\n",
       "Operating revenue per employee          0\n",
       "Costs of employees/Operating revenue    0\n",
       "Working Capital/Total Assets            0\n",
       "Sales/Total Asset                       0\n",
       "dtype: int64"
      ]
     },
     "execution_count": 185,
     "metadata": {},
     "output_type": "execute_result"
    }
   ],
   "source": [
    "test_df.isna().sum()"
   ]
  },
  {
   "cell_type": "markdown",
   "metadata": {},
   "source": [
    "#### Test DataFrame"
   ]
  },
  {
   "cell_type": "code",
   "execution_count": 186,
   "metadata": {},
   "outputs": [
    {
     "data": {
      "text/plain": [
       "(1938, 14)"
      ]
     },
     "execution_count": 186,
     "metadata": {},
     "output_type": "execute_result"
    }
   ],
   "source": [
    "test_df.shape"
   ]
  },
  {
   "cell_type": "code",
   "execution_count": 187,
   "metadata": {},
   "outputs": [
    {
     "data": {
      "text/html": [
       "<div>\n",
       "<style scoped>\n",
       "    .dataframe tbody tr th:only-of-type {\n",
       "        vertical-align: middle;\n",
       "    }\n",
       "\n",
       "    .dataframe tbody tr th {\n",
       "        vertical-align: top;\n",
       "    }\n",
       "\n",
       "    .dataframe thead th {\n",
       "        text-align: right;\n",
       "    }\n",
       "</style>\n",
       "<table border=\"1\" class=\"dataframe\">\n",
       "  <thead>\n",
       "    <tr style=\"text-align: right;\">\n",
       "      <th></th>\n",
       "      <th>Status</th>\n",
       "      <th>Company name</th>\n",
       "      <th>Liquidity ratio</th>\n",
       "      <th>Current ratio</th>\n",
       "      <th>Profit margin (%)</th>\n",
       "      <th>Solvency ratio (Asset based) (%)</th>\n",
       "      <th>Profit per employee</th>\n",
       "      <th>Intangible fixed assets</th>\n",
       "      <th>CL/TL</th>\n",
       "      <th>CF/Operating Revenue</th>\n",
       "      <th>Operating revenue per employee</th>\n",
       "      <th>Costs of employees/Operating revenue</th>\n",
       "      <th>Working Capital/Total Assets</th>\n",
       "      <th>Sales/Total Asset</th>\n",
       "    </tr>\n",
       "  </thead>\n",
       "  <tbody>\n",
       "    <tr>\n",
       "      <th>8.0</th>\n",
       "      <td>0</td>\n",
       "      <td>NIPPON TELEGRAPH AND TELEPHONE CORPORATION</td>\n",
       "      <td>1.195</td>\n",
       "      <td>1.259</td>\n",
       "      <td>14.073</td>\n",
       "      <td>52.948</td>\n",
       "      <td>49.687242</td>\n",
       "      <td>2.266763e+07</td>\n",
       "      <td>0.035004</td>\n",
       "      <td>1.071028e+08</td>\n",
       "      <td>353.065589</td>\n",
       "      <td>0.000000</td>\n",
       "      <td>0.098510</td>\n",
       "      <td>0.532844</td>\n",
       "    </tr>\n",
       "    <tr>\n",
       "      <th>10.0</th>\n",
       "      <td>0</td>\n",
       "      <td>SOFTBANK GROUP CORP</td>\n",
       "      <td>0.852</td>\n",
       "      <td>0.894</td>\n",
       "      <td>17.614</td>\n",
       "      <td>24.959</td>\n",
       "      <td>198.370478</td>\n",
       "      <td>1.010968e+08</td>\n",
       "      <td>0.050358</td>\n",
       "      <td>8.656903e+07</td>\n",
       "      <td>1126.233009</td>\n",
       "      <td>0.000000</td>\n",
       "      <td>0.022104</td>\n",
       "      <td>0.266016</td>\n",
       "    </tr>\n",
       "    <tr>\n",
       "      <th>17.0</th>\n",
       "      <td>0</td>\n",
       "      <td>LEGEND HOLDINGS CORPORATION</td>\n",
       "      <td>0.663</td>\n",
       "      <td>0.740</td>\n",
       "      <td>2.503</td>\n",
       "      <td>14.871</td>\n",
       "      <td>17.317576</td>\n",
       "      <td>9.366186e+06</td>\n",
       "      <td>0.087021</td>\n",
       "      <td>5.188729e+07</td>\n",
       "      <td>691.830537</td>\n",
       "      <td>0.082765</td>\n",
       "      <td>0.045036</td>\n",
       "      <td>0.635602</td>\n",
       "    </tr>\n",
       "    <tr>\n",
       "      <th>18.0</th>\n",
       "      <td>0</td>\n",
       "      <td>VODAFONE GROUP PLC</td>\n",
       "      <td>1.532</td>\n",
       "      <td>1.560</td>\n",
       "      <td>-6.156</td>\n",
       "      <td>44.410</td>\n",
       "      <td>-31.595444</td>\n",
       "      <td>4.606910e+07</td>\n",
       "      <td>-0.089326</td>\n",
       "      <td>5.081251e+07</td>\n",
       "      <td>513.278440</td>\n",
       "      <td>0.118314</td>\n",
       "      <td>-0.007882</td>\n",
       "      <td>0.316578</td>\n",
       "    </tr>\n",
       "    <tr>\n",
       "      <th>23.0</th>\n",
       "      <td>0</td>\n",
       "      <td>KDDI CORPORATION</td>\n",
       "      <td>1.700</td>\n",
       "      <td>1.765</td>\n",
       "      <td>19.886</td>\n",
       "      <td>62.929</td>\n",
       "      <td>216.881165</td>\n",
       "      <td>1.340184e+07</td>\n",
       "      <td>-0.081453</td>\n",
       "      <td>4.580196e+07</td>\n",
       "      <td>1090.626687</td>\n",
       "      <td>0.000000</td>\n",
       "      <td>0.248105</td>\n",
       "      <td>0.693051</td>\n",
       "    </tr>\n",
       "  </tbody>\n",
       "</table>\n",
       "</div>"
      ],
      "text/plain": [
       "      Status                                Company name   Liquidity ratio  \\\n",
       "8.0        0  NIPPON TELEGRAPH AND TELEPHONE CORPORATION             1.195   \n",
       "10.0       0                         SOFTBANK GROUP CORP             0.852   \n",
       "17.0       0                 LEGEND HOLDINGS CORPORATION             0.663   \n",
       "18.0       0                          VODAFONE GROUP PLC             1.532   \n",
       "23.0       0                            KDDI CORPORATION             1.700   \n",
       "\n",
       "       Current ratio  Profit margin (%)  Solvency ratio (Asset based) (%)  \\\n",
       "8.0            1.259             14.073                            52.948   \n",
       "10.0           0.894             17.614                            24.959   \n",
       "17.0           0.740              2.503                            14.871   \n",
       "18.0           1.560             -6.156                            44.410   \n",
       "23.0           1.765             19.886                            62.929   \n",
       "\n",
       "      Profit per employee  Intangible fixed assets     CL/TL  \\\n",
       "8.0             49.687242             2.266763e+07  0.035004   \n",
       "10.0           198.370478             1.010968e+08  0.050358   \n",
       "17.0            17.317576             9.366186e+06  0.087021   \n",
       "18.0           -31.595444             4.606910e+07 -0.089326   \n",
       "23.0           216.881165             1.340184e+07 -0.081453   \n",
       "\n",
       "      CF/Operating Revenue  Operating revenue per employee  \\\n",
       "8.0           1.071028e+08                      353.065589   \n",
       "10.0          8.656903e+07                     1126.233009   \n",
       "17.0          5.188729e+07                      691.830537   \n",
       "18.0          5.081251e+07                      513.278440   \n",
       "23.0          4.580196e+07                     1090.626687   \n",
       "\n",
       "      Costs of employees/Operating revenue  Working Capital/Total Assets  \\\n",
       "8.0                               0.000000                      0.098510   \n",
       "10.0                              0.000000                      0.022104   \n",
       "17.0                              0.082765                      0.045036   \n",
       "18.0                              0.118314                     -0.007882   \n",
       "23.0                              0.000000                      0.248105   \n",
       "\n",
       "      Sales/Total Asset  \n",
       "8.0            0.532844  \n",
       "10.0           0.266016  \n",
       "17.0           0.635602  \n",
       "18.0           0.316578  \n",
       "23.0           0.693051  "
      ]
     },
     "execution_count": 187,
     "metadata": {},
     "output_type": "execute_result"
    }
   ],
   "source": [
    "test_df.head()"
   ]
  },
  {
   "cell_type": "markdown",
   "metadata": {},
   "source": [
    "### Model output: `Y ` of Test Data"
   ]
  },
  {
   "cell_type": "code",
   "execution_count": 188,
   "metadata": {
    "scrolled": true
   },
   "outputs": [
    {
     "data": {
      "text/plain": [
       " Current ratio                         -1.596980\n",
       "Intangible fixed assets                -0.816543\n",
       "CF/Operating Revenue                    0.053952\n",
       "Costs of employees/Operating revenue   -1.706327\n",
       "Sales/Total Asset                       4.054102\n",
       "dtype: float64"
      ]
     },
     "execution_count": 188,
     "metadata": {},
     "output_type": "execute_result"
    }
   ],
   "source": [
    "result.params"
   ]
  },
  {
   "cell_type": "code",
   "execution_count": 189,
   "metadata": {},
   "outputs": [],
   "source": [
    "def  row_values():\n",
    "    x=[]\n",
    "    for i in range(len(curve_df_test)):\n",
    "        for j in range(len(result.params)):\n",
    "            x_value = curve_df_test.iloc[i,:].values[j] * result.params[j]\n",
    "        x_sum = x_value.sum()\n",
    "        x.append(x_sum)\n",
    "    return x"
   ]
  },
  {
   "cell_type": "code",
   "execution_count": 190,
   "metadata": {},
   "outputs": [],
   "source": [
    "log_test_df=np.log10(test_df.iloc[:,2:]).round(4).fillna(0)"
   ]
  },
  {
   "cell_type": "code",
   "execution_count": 191,
   "metadata": {
    "scrolled": false
   },
   "outputs": [],
   "source": [
    "curve_df_test=log_test_df[[' Current ratio','Intangible fixed assets','CF/Operating Revenue','Costs of employees/Operating revenue','Sales/Total Asset']]\n",
    "curve_df_test['Y'] = row_values()"
   ]
  },
  {
   "cell_type": "code",
   "execution_count": 192,
   "metadata": {
    "scrolled": true
   },
   "outputs": [
    {
     "data": {
      "text/html": [
       "<div>\n",
       "<style scoped>\n",
       "    .dataframe tbody tr th:only-of-type {\n",
       "        vertical-align: middle;\n",
       "    }\n",
       "\n",
       "    .dataframe tbody tr th {\n",
       "        vertical-align: top;\n",
       "    }\n",
       "\n",
       "    .dataframe thead th {\n",
       "        text-align: right;\n",
       "    }\n",
       "</style>\n",
       "<table border=\"1\" class=\"dataframe\">\n",
       "  <thead>\n",
       "    <tr style=\"text-align: right;\">\n",
       "      <th></th>\n",
       "      <th>Current ratio</th>\n",
       "      <th>Intangible fixed assets</th>\n",
       "      <th>CF/Operating Revenue</th>\n",
       "      <th>Costs of employees/Operating revenue</th>\n",
       "      <th>Sales/Total Asset</th>\n",
       "      <th>Y</th>\n",
       "    </tr>\n",
       "  </thead>\n",
       "  <tbody>\n",
       "    <tr>\n",
       "      <th>8.0</th>\n",
       "      <td>0.1000</td>\n",
       "      <td>7.3554</td>\n",
       "      <td>8.0298</td>\n",
       "      <td>0.0000</td>\n",
       "      <td>-0.2734</td>\n",
       "      <td>-1.108391</td>\n",
       "    </tr>\n",
       "    <tr>\n",
       "      <th>10.0</th>\n",
       "      <td>-0.0487</td>\n",
       "      <td>8.0047</td>\n",
       "      <td>7.9374</td>\n",
       "      <td>0.0000</td>\n",
       "      <td>-0.5751</td>\n",
       "      <td>-2.331514</td>\n",
       "    </tr>\n",
       "    <tr>\n",
       "      <th>17.0</th>\n",
       "      <td>-0.1308</td>\n",
       "      <td>6.9716</td>\n",
       "      <td>7.7151</td>\n",
       "      <td>-1.0822</td>\n",
       "      <td>-0.1968</td>\n",
       "      <td>-0.797847</td>\n",
       "    </tr>\n",
       "    <tr>\n",
       "      <th>18.0</th>\n",
       "      <td>0.1931</td>\n",
       "      <td>7.6634</td>\n",
       "      <td>7.7060</td>\n",
       "      <td>-0.9270</td>\n",
       "      <td>-0.4995</td>\n",
       "      <td>-2.025024</td>\n",
       "    </tr>\n",
       "    <tr>\n",
       "      <th>23.0</th>\n",
       "      <td>0.2467</td>\n",
       "      <td>7.1272</td>\n",
       "      <td>7.6609</td>\n",
       "      <td>0.0000</td>\n",
       "      <td>-0.1592</td>\n",
       "      <td>-0.645413</td>\n",
       "    </tr>\n",
       "    <tr>\n",
       "      <th>...</th>\n",
       "      <td>...</td>\n",
       "      <td>...</td>\n",
       "      <td>...</td>\n",
       "      <td>...</td>\n",
       "      <td>...</td>\n",
       "      <td>...</td>\n",
       "    </tr>\n",
       "    <tr>\n",
       "      <th>2254.0</th>\n",
       "      <td>-1.0315</td>\n",
       "      <td>0.0000</td>\n",
       "      <td>0.7193</td>\n",
       "      <td>0.0000</td>\n",
       "      <td>-1.0878</td>\n",
       "      <td>-4.410052</td>\n",
       "    </tr>\n",
       "    <tr>\n",
       "      <th>2280.0</th>\n",
       "      <td>0.0569</td>\n",
       "      <td>-0.4154</td>\n",
       "      <td>0.6204</td>\n",
       "      <td>0.0000</td>\n",
       "      <td>-1.0217</td>\n",
       "      <td>-4.142076</td>\n",
       "    </tr>\n",
       "    <tr>\n",
       "      <th>2303.0</th>\n",
       "      <td>-0.9957</td>\n",
       "      <td>0.0000</td>\n",
       "      <td>0.5044</td>\n",
       "      <td>0.0000</td>\n",
       "      <td>-0.7276</td>\n",
       "      <td>-2.949764</td>\n",
       "    </tr>\n",
       "    <tr>\n",
       "      <th>2329.0</th>\n",
       "      <td>0.2019</td>\n",
       "      <td>0.0000</td>\n",
       "      <td>0.3682</td>\n",
       "      <td>-0.3483</td>\n",
       "      <td>0.2262</td>\n",
       "      <td>0.917038</td>\n",
       "    </tr>\n",
       "    <tr>\n",
       "      <th>2390.0</th>\n",
       "      <td>0.6021</td>\n",
       "      <td>0.0000</td>\n",
       "      <td>-0.2153</td>\n",
       "      <td>0.0000</td>\n",
       "      <td>-1.0334</td>\n",
       "      <td>-4.189509</td>\n",
       "    </tr>\n",
       "  </tbody>\n",
       "</table>\n",
       "<p>1938 rows × 6 columns</p>\n",
       "</div>"
      ],
      "text/plain": [
       "         Current ratio  Intangible fixed assets  CF/Operating Revenue  \\\n",
       "8.0             0.1000                   7.3554                8.0298   \n",
       "10.0           -0.0487                   8.0047                7.9374   \n",
       "17.0           -0.1308                   6.9716                7.7151   \n",
       "18.0            0.1931                   7.6634                7.7060   \n",
       "23.0            0.2467                   7.1272                7.6609   \n",
       "...                ...                      ...                   ...   \n",
       "2254.0         -1.0315                   0.0000                0.7193   \n",
       "2280.0          0.0569                  -0.4154                0.6204   \n",
       "2303.0         -0.9957                   0.0000                0.5044   \n",
       "2329.0          0.2019                   0.0000                0.3682   \n",
       "2390.0          0.6021                   0.0000               -0.2153   \n",
       "\n",
       "        Costs of employees/Operating revenue  Sales/Total Asset         Y  \n",
       "8.0                                   0.0000            -0.2734 -1.108391  \n",
       "10.0                                  0.0000            -0.5751 -2.331514  \n",
       "17.0                                 -1.0822            -0.1968 -0.797847  \n",
       "18.0                                 -0.9270            -0.4995 -2.025024  \n",
       "23.0                                  0.0000            -0.1592 -0.645413  \n",
       "...                                      ...                ...       ...  \n",
       "2254.0                                0.0000            -1.0878 -4.410052  \n",
       "2280.0                                0.0000            -1.0217 -4.142076  \n",
       "2303.0                                0.0000            -0.7276 -2.949764  \n",
       "2329.0                               -0.3483             0.2262  0.917038  \n",
       "2390.0                                0.0000            -1.0334 -4.189509  \n",
       "\n",
       "[1938 rows x 6 columns]"
      ]
     },
     "execution_count": 192,
     "metadata": {},
     "output_type": "execute_result"
    }
   ],
   "source": [
    "curve_df_test"
   ]
  },
  {
   "cell_type": "code",
   "execution_count": 193,
   "metadata": {},
   "outputs": [],
   "source": [
    "# Standardised Y after log normalize\n",
    "cs = curve_df_test['Y']\n",
    "\n",
    "# rearange\n",
    "from sklearn.preprocessing import MinMaxScaler\n",
    "scaler = MinMaxScaler(feature_range=(-6,6))\n",
    "cs1 = scaler.fit_transform(cs.values.reshape(-1, 1))"
   ]
  },
  {
   "cell_type": "code",
   "execution_count": 194,
   "metadata": {
    "scrolled": true
   },
   "outputs": [
    {
     "data": {
      "text/plain": [
       "array([[0.38740958],\n",
       "       [0.26109391],\n",
       "       [0.42301028],\n",
       "       ...,\n",
       "       [0.20841395],\n",
       "       [0.62379215],\n",
       "       [0.12736069]])"
      ]
     },
     "execution_count": 194,
     "metadata": {},
     "output_type": "execute_result"
    }
   ],
   "source": [
    "# calculate the probability of Y \n",
    "from scipy.special import expit\n",
    "prob=expit(cs1)\n",
    "prob"
   ]
  },
  {
   "cell_type": "code",
   "execution_count": 195,
   "metadata": {
    "scrolled": false
   },
   "outputs": [
    {
     "data": {
      "text/plain": [
       "Text(0.5, 0, 'Model output f(x)')"
      ]
     },
     "execution_count": 195,
     "metadata": {},
     "output_type": "execute_result"
    },
    {
     "data": {
      "image/png": "[encoded data removed]",
      "text/plain": [
       "<Figure size 700x500 with 1 Axes>"
      ]
     },
     "metadata": {
      "needs_background": "light"
     },
     "output_type": "display_data"
    }
   ],
   "source": [
    "plt.figure(figsize=(7,5),dpi=100)\n",
    "\n",
    "x = sorted(cs1)\n",
    "y = expit(x)\n",
    "plt.plot(x, y)\n",
    "plt.scatter(x,y)\n",
    "plt.axhline(y=0.5, color='r', linestyle='--')\n",
    "plt.title('Probability of Default')\n",
    "plt.ylabel('p(x)')\n",
    "plt.xlabel('Model output f(x)')"
   ]
  },
  {
   "cell_type": "code",
   "execution_count": 196,
   "metadata": {},
   "outputs": [],
   "source": [
    "compare=pd.DataFrame(curve_df_test['Y'])"
   ]
  },
  {
   "cell_type": "code",
   "execution_count": 197,
   "metadata": {},
   "outputs": [],
   "source": [
    "compare['prob'] = expit(curve_df_test['Y'])"
   ]
  },
  {
   "cell_type": "code",
   "execution_count": 198,
   "metadata": {},
   "outputs": [],
   "source": [
    "compare['predict_status']=compare['prob'].apply(lambda x: int(1) if x>0.5 else int(0))"
   ]
  },
  {
   "cell_type": "code",
   "execution_count": 199,
   "metadata": {},
   "outputs": [],
   "source": [
    "compare['Actual_status'] = test_df['Status'] "
   ]
  },
  {
   "cell_type": "code",
   "execution_count": 200,
   "metadata": {
    "scrolled": true
   },
   "outputs": [
    {
     "data": {
      "text/html": [
       "<div>\n",
       "<style scoped>\n",
       "    .dataframe tbody tr th:only-of-type {\n",
       "        vertical-align: middle;\n",
       "    }\n",
       "\n",
       "    .dataframe tbody tr th {\n",
       "        vertical-align: top;\n",
       "    }\n",
       "\n",
       "    .dataframe thead th {\n",
       "        text-align: right;\n",
       "    }\n",
       "</style>\n",
       "<table border=\"1\" class=\"dataframe\">\n",
       "  <thead>\n",
       "    <tr style=\"text-align: right;\">\n",
       "      <th></th>\n",
       "      <th>Y</th>\n",
       "      <th>prob</th>\n",
       "      <th>predict_status</th>\n",
       "      <th>Actual_status</th>\n",
       "    </tr>\n",
       "  </thead>\n",
       "  <tbody>\n",
       "    <tr>\n",
       "      <th>8.0</th>\n",
       "      <td>-1.108391</td>\n",
       "      <td>0.248171</td>\n",
       "      <td>0</td>\n",
       "      <td>0</td>\n",
       "    </tr>\n",
       "    <tr>\n",
       "      <th>10.0</th>\n",
       "      <td>-2.331514</td>\n",
       "      <td>0.088546</td>\n",
       "      <td>0</td>\n",
       "      <td>0</td>\n",
       "    </tr>\n",
       "    <tr>\n",
       "      <th>17.0</th>\n",
       "      <td>-0.797847</td>\n",
       "      <td>0.310486</td>\n",
       "      <td>0</td>\n",
       "      <td>0</td>\n",
       "    </tr>\n",
       "    <tr>\n",
       "      <th>18.0</th>\n",
       "      <td>-2.025024</td>\n",
       "      <td>0.116601</td>\n",
       "      <td>0</td>\n",
       "      <td>0</td>\n",
       "    </tr>\n",
       "    <tr>\n",
       "      <th>23.0</th>\n",
       "      <td>-0.645413</td>\n",
       "      <td>0.344024</td>\n",
       "      <td>0</td>\n",
       "      <td>0</td>\n",
       "    </tr>\n",
       "    <tr>\n",
       "      <th>...</th>\n",
       "      <td>...</td>\n",
       "      <td>...</td>\n",
       "      <td>...</td>\n",
       "      <td>...</td>\n",
       "    </tr>\n",
       "    <tr>\n",
       "      <th>2254.0</th>\n",
       "      <td>-4.410052</td>\n",
       "      <td>0.012009</td>\n",
       "      <td>0</td>\n",
       "      <td>1</td>\n",
       "    </tr>\n",
       "    <tr>\n",
       "      <th>2280.0</th>\n",
       "      <td>-4.142076</td>\n",
       "      <td>0.015641</td>\n",
       "      <td>0</td>\n",
       "      <td>1</td>\n",
       "    </tr>\n",
       "    <tr>\n",
       "      <th>2303.0</th>\n",
       "      <td>-2.949764</td>\n",
       "      <td>0.049748</td>\n",
       "      <td>0</td>\n",
       "      <td>1</td>\n",
       "    </tr>\n",
       "    <tr>\n",
       "      <th>2329.0</th>\n",
       "      <td>0.917038</td>\n",
       "      <td>0.714438</td>\n",
       "      <td>1</td>\n",
       "      <td>1</td>\n",
       "    </tr>\n",
       "    <tr>\n",
       "      <th>2390.0</th>\n",
       "      <td>-4.189509</td>\n",
       "      <td>0.014928</td>\n",
       "      <td>0</td>\n",
       "      <td>1</td>\n",
       "    </tr>\n",
       "  </tbody>\n",
       "</table>\n",
       "<p>1938 rows × 4 columns</p>\n",
       "</div>"
      ],
      "text/plain": [
       "               Y      prob  predict_status  Actual_status\n",
       "8.0    -1.108391  0.248171               0              0\n",
       "10.0   -2.331514  0.088546               0              0\n",
       "17.0   -0.797847  0.310486               0              0\n",
       "18.0   -2.025024  0.116601               0              0\n",
       "23.0   -0.645413  0.344024               0              0\n",
       "...          ...       ...             ...            ...\n",
       "2254.0 -4.410052  0.012009               0              1\n",
       "2280.0 -4.142076  0.015641               0              1\n",
       "2303.0 -2.949764  0.049748               0              1\n",
       "2329.0  0.917038  0.714438               1              1\n",
       "2390.0 -4.189509  0.014928               0              1\n",
       "\n",
       "[1938 rows x 4 columns]"
      ]
     },
     "execution_count": 200,
     "metadata": {},
     "output_type": "execute_result"
    }
   ],
   "source": [
    "compare"
   ]
  },
  {
   "cell_type": "code",
   "execution_count": 201,
   "metadata": {
    "scrolled": false
   },
   "outputs": [
    {
     "data": {
      "text/html": [
       "<div>\n",
       "<style scoped>\n",
       "    .dataframe tbody tr th:only-of-type {\n",
       "        vertical-align: middle;\n",
       "    }\n",
       "\n",
       "    .dataframe tbody tr th {\n",
       "        vertical-align: top;\n",
       "    }\n",
       "\n",
       "    .dataframe thead th {\n",
       "        text-align: right;\n",
       "    }\n",
       "</style>\n",
       "<table border=\"1\" class=\"dataframe\">\n",
       "  <thead>\n",
       "    <tr style=\"text-align: right;\">\n",
       "      <th></th>\n",
       "      <th>Y</th>\n",
       "      <th>prob</th>\n",
       "      <th>predict_status</th>\n",
       "      <th>Actual_status</th>\n",
       "    </tr>\n",
       "  </thead>\n",
       "  <tbody>\n",
       "    <tr>\n",
       "      <th>8.0</th>\n",
       "      <td>-1.108391</td>\n",
       "      <td>0.248171</td>\n",
       "      <td>0</td>\n",
       "      <td>0</td>\n",
       "    </tr>\n",
       "    <tr>\n",
       "      <th>10.0</th>\n",
       "      <td>-2.331514</td>\n",
       "      <td>0.088546</td>\n",
       "      <td>0</td>\n",
       "      <td>0</td>\n",
       "    </tr>\n",
       "    <tr>\n",
       "      <th>17.0</th>\n",
       "      <td>-0.797847</td>\n",
       "      <td>0.310486</td>\n",
       "      <td>0</td>\n",
       "      <td>0</td>\n",
       "    </tr>\n",
       "    <tr>\n",
       "      <th>18.0</th>\n",
       "      <td>-2.025024</td>\n",
       "      <td>0.116601</td>\n",
       "      <td>0</td>\n",
       "      <td>0</td>\n",
       "    </tr>\n",
       "    <tr>\n",
       "      <th>23.0</th>\n",
       "      <td>-0.645413</td>\n",
       "      <td>0.344024</td>\n",
       "      <td>0</td>\n",
       "      <td>0</td>\n",
       "    </tr>\n",
       "    <tr>\n",
       "      <th>...</th>\n",
       "      <td>...</td>\n",
       "      <td>...</td>\n",
       "      <td>...</td>\n",
       "      <td>...</td>\n",
       "    </tr>\n",
       "    <tr>\n",
       "      <th>2059.0</th>\n",
       "      <td>0.485681</td>\n",
       "      <td>0.619089</td>\n",
       "      <td>1</td>\n",
       "      <td>1</td>\n",
       "    </tr>\n",
       "    <tr>\n",
       "      <th>2071.0</th>\n",
       "      <td>2.693140</td>\n",
       "      <td>0.936621</td>\n",
       "      <td>1</td>\n",
       "      <td>1</td>\n",
       "    </tr>\n",
       "    <tr>\n",
       "      <th>2109.0</th>\n",
       "      <td>2.483948</td>\n",
       "      <td>0.923009</td>\n",
       "      <td>1</td>\n",
       "      <td>1</td>\n",
       "    </tr>\n",
       "    <tr>\n",
       "      <th>2187.0</th>\n",
       "      <td>0.891902</td>\n",
       "      <td>0.709283</td>\n",
       "      <td>1</td>\n",
       "      <td>1</td>\n",
       "    </tr>\n",
       "    <tr>\n",
       "      <th>2329.0</th>\n",
       "      <td>0.917038</td>\n",
       "      <td>0.714438</td>\n",
       "      <td>1</td>\n",
       "      <td>1</td>\n",
       "    </tr>\n",
       "  </tbody>\n",
       "</table>\n",
       "<p>1027 rows × 4 columns</p>\n",
       "</div>"
      ],
      "text/plain": [
       "               Y      prob  predict_status  Actual_status\n",
       "8.0    -1.108391  0.248171               0              0\n",
       "10.0   -2.331514  0.088546               0              0\n",
       "17.0   -0.797847  0.310486               0              0\n",
       "18.0   -2.025024  0.116601               0              0\n",
       "23.0   -0.645413  0.344024               0              0\n",
       "...          ...       ...             ...            ...\n",
       "2059.0  0.485681  0.619089               1              1\n",
       "2071.0  2.693140  0.936621               1              1\n",
       "2109.0  2.483948  0.923009               1              1\n",
       "2187.0  0.891902  0.709283               1              1\n",
       "2329.0  0.917038  0.714438               1              1\n",
       "\n",
       "[1027 rows x 4 columns]"
      ]
     },
     "execution_count": 201,
     "metadata": {},
     "output_type": "execute_result"
    }
   ],
   "source": [
    "# successful predictions\n",
    "compare[compare['predict_status'] == compare['Actual_status']]"
   ]
  },
  {
   "cell_type": "code",
   "execution_count": 202,
   "metadata": {},
   "outputs": [],
   "source": [
    "compare_0=compare[compare['Actual_status']==0]"
   ]
  },
  {
   "cell_type": "code",
   "execution_count": 203,
   "metadata": {},
   "outputs": [
    {
     "data": {
      "text/html": [
       "<div>\n",
       "<style scoped>\n",
       "    .dataframe tbody tr th:only-of-type {\n",
       "        vertical-align: middle;\n",
       "    }\n",
       "\n",
       "    .dataframe tbody tr th {\n",
       "        vertical-align: top;\n",
       "    }\n",
       "\n",
       "    .dataframe thead th {\n",
       "        text-align: right;\n",
       "    }\n",
       "</style>\n",
       "<table border=\"1\" class=\"dataframe\">\n",
       "  <thead>\n",
       "    <tr style=\"text-align: right;\">\n",
       "      <th></th>\n",
       "      <th>Y</th>\n",
       "      <th>prob</th>\n",
       "      <th>predict_status</th>\n",
       "      <th>Actual_status</th>\n",
       "    </tr>\n",
       "  </thead>\n",
       "  <tbody>\n",
       "    <tr>\n",
       "      <th>8.0</th>\n",
       "      <td>-1.108391</td>\n",
       "      <td>0.248171</td>\n",
       "      <td>0</td>\n",
       "      <td>0</td>\n",
       "    </tr>\n",
       "    <tr>\n",
       "      <th>10.0</th>\n",
       "      <td>-2.331514</td>\n",
       "      <td>0.088546</td>\n",
       "      <td>0</td>\n",
       "      <td>0</td>\n",
       "    </tr>\n",
       "    <tr>\n",
       "      <th>17.0</th>\n",
       "      <td>-0.797847</td>\n",
       "      <td>0.310486</td>\n",
       "      <td>0</td>\n",
       "      <td>0</td>\n",
       "    </tr>\n",
       "    <tr>\n",
       "      <th>18.0</th>\n",
       "      <td>-2.025024</td>\n",
       "      <td>0.116601</td>\n",
       "      <td>0</td>\n",
       "      <td>0</td>\n",
       "    </tr>\n",
       "    <tr>\n",
       "      <th>23.0</th>\n",
       "      <td>-0.645413</td>\n",
       "      <td>0.344024</td>\n",
       "      <td>0</td>\n",
       "      <td>0</td>\n",
       "    </tr>\n",
       "    <tr>\n",
       "      <th>...</th>\n",
       "      <td>...</td>\n",
       "      <td>...</td>\n",
       "      <td>...</td>\n",
       "      <td>...</td>\n",
       "    </tr>\n",
       "    <tr>\n",
       "      <th>2979.0</th>\n",
       "      <td>-1.808129</td>\n",
       "      <td>0.140864</td>\n",
       "      <td>0</td>\n",
       "      <td>0</td>\n",
       "    </tr>\n",
       "    <tr>\n",
       "      <th>2984.0</th>\n",
       "      <td>-1.136365</td>\n",
       "      <td>0.242988</td>\n",
       "      <td>0</td>\n",
       "      <td>0</td>\n",
       "    </tr>\n",
       "    <tr>\n",
       "      <th>2987.0</th>\n",
       "      <td>-1.772859</td>\n",
       "      <td>0.145187</td>\n",
       "      <td>0</td>\n",
       "      <td>0</td>\n",
       "    </tr>\n",
       "    <tr>\n",
       "      <th>2988.0</th>\n",
       "      <td>-0.371761</td>\n",
       "      <td>0.408116</td>\n",
       "      <td>0</td>\n",
       "      <td>0</td>\n",
       "    </tr>\n",
       "    <tr>\n",
       "      <th>2991.0</th>\n",
       "      <td>-3.127334</td>\n",
       "      <td>0.041994</td>\n",
       "      <td>0</td>\n",
       "      <td>0</td>\n",
       "    </tr>\n",
       "  </tbody>\n",
       "</table>\n",
       "<p>710 rows × 4 columns</p>\n",
       "</div>"
      ],
      "text/plain": [
       "               Y      prob  predict_status  Actual_status\n",
       "8.0    -1.108391  0.248171               0              0\n",
       "10.0   -2.331514  0.088546               0              0\n",
       "17.0   -0.797847  0.310486               0              0\n",
       "18.0   -2.025024  0.116601               0              0\n",
       "23.0   -0.645413  0.344024               0              0\n",
       "...          ...       ...             ...            ...\n",
       "2979.0 -1.808129  0.140864               0              0\n",
       "2984.0 -1.136365  0.242988               0              0\n",
       "2987.0 -1.772859  0.145187               0              0\n",
       "2988.0 -0.371761  0.408116               0              0\n",
       "2991.0 -3.127334  0.041994               0              0\n",
       "\n",
       "[710 rows x 4 columns]"
      ]
     },
     "execution_count": 203,
     "metadata": {},
     "output_type": "execute_result"
    }
   ],
   "source": [
    "compare_0[compare_0['predict_status'] == compare_0['Actual_status']]"
   ]
  },
  {
   "cell_type": "code",
   "execution_count": 204,
   "metadata": {},
   "outputs": [
    {
     "name": "stdout",
     "output_type": "stream",
     "text": [
      "The active accuracy of the model output is : 51.6%\n"
     ]
    }
   ],
   "source": [
    "percent_accuracy_0 = (len(compare_0[compare_0['predict_status'] == compare_0['Actual_status']]) / len(compare_0))*100 \n",
    "\n",
    "\n",
    "print(f\"The active accuracy of the model output is : { percent_accuracy_0:0.1f}%\")"
   ]
  },
  {
   "cell_type": "code",
   "execution_count": 205,
   "metadata": {
    "scrolled": true
   },
   "outputs": [
    {
     "name": "stdout",
     "output_type": "stream",
     "text": [
      "The bankrupt accuracy of the model output is : 56.4%\n"
     ]
    }
   ],
   "source": [
    "compare_1=compare[compare['Actual_status']==1]\n",
    "\n",
    "compare_1[compare_1['predict_status'] == compare_1['Actual_status']]\n",
    "\n",
    "percent_accuracy_1 = (len(compare_1[compare_1['predict_status'] == compare_1['Actual_status']]) / len(compare_1))*100 \n",
    "\n",
    "\n",
    "print(f\"The bankrupt accuracy of the model output is : { percent_accuracy_1:0.1f}%\")"
   ]
  },
  {
   "cell_type": "code",
   "execution_count": 206,
   "metadata": {
    "scrolled": true
   },
   "outputs": [
    {
     "data": {
      "text/html": [
       "<div>\n",
       "<style scoped>\n",
       "    .dataframe tbody tr th:only-of-type {\n",
       "        vertical-align: middle;\n",
       "    }\n",
       "\n",
       "    .dataframe tbody tr th {\n",
       "        vertical-align: top;\n",
       "    }\n",
       "\n",
       "    .dataframe thead th {\n",
       "        text-align: right;\n",
       "    }\n",
       "</style>\n",
       "<table border=\"1\" class=\"dataframe\">\n",
       "  <thead>\n",
       "    <tr style=\"text-align: right;\">\n",
       "      <th></th>\n",
       "      <th>Y</th>\n",
       "      <th>prob</th>\n",
       "      <th>predict_status</th>\n",
       "      <th>Actual_status</th>\n",
       "    </tr>\n",
       "  </thead>\n",
       "  <tbody>\n",
       "    <tr>\n",
       "      <th>10.0</th>\n",
       "      <td>1.380422</td>\n",
       "      <td>0.799059</td>\n",
       "      <td>1</td>\n",
       "      <td>1</td>\n",
       "    </tr>\n",
       "    <tr>\n",
       "      <th>15.0</th>\n",
       "      <td>1.513396</td>\n",
       "      <td>0.819564</td>\n",
       "      <td>1</td>\n",
       "      <td>1</td>\n",
       "    </tr>\n",
       "    <tr>\n",
       "      <th>39.0</th>\n",
       "      <td>1.615154</td>\n",
       "      <td>0.834126</td>\n",
       "      <td>1</td>\n",
       "      <td>1</td>\n",
       "    </tr>\n",
       "    <tr>\n",
       "      <th>41.0</th>\n",
       "      <td>1.988942</td>\n",
       "      <td>0.879631</td>\n",
       "      <td>1</td>\n",
       "      <td>1</td>\n",
       "    </tr>\n",
       "    <tr>\n",
       "      <th>44.0</th>\n",
       "      <td>-0.750009</td>\n",
       "      <td>0.320819</td>\n",
       "      <td>0</td>\n",
       "      <td>1</td>\n",
       "    </tr>\n",
       "    <tr>\n",
       "      <th>...</th>\n",
       "      <td>...</td>\n",
       "      <td>...</td>\n",
       "      <td>...</td>\n",
       "      <td>...</td>\n",
       "    </tr>\n",
       "    <tr>\n",
       "      <th>2254.0</th>\n",
       "      <td>-4.410052</td>\n",
       "      <td>0.012009</td>\n",
       "      <td>0</td>\n",
       "      <td>1</td>\n",
       "    </tr>\n",
       "    <tr>\n",
       "      <th>2280.0</th>\n",
       "      <td>-4.142076</td>\n",
       "      <td>0.015641</td>\n",
       "      <td>0</td>\n",
       "      <td>1</td>\n",
       "    </tr>\n",
       "    <tr>\n",
       "      <th>2303.0</th>\n",
       "      <td>-2.949764</td>\n",
       "      <td>0.049748</td>\n",
       "      <td>0</td>\n",
       "      <td>1</td>\n",
       "    </tr>\n",
       "    <tr>\n",
       "      <th>2329.0</th>\n",
       "      <td>0.917038</td>\n",
       "      <td>0.714438</td>\n",
       "      <td>1</td>\n",
       "      <td>1</td>\n",
       "    </tr>\n",
       "    <tr>\n",
       "      <th>2390.0</th>\n",
       "      <td>-4.189509</td>\n",
       "      <td>0.014928</td>\n",
       "      <td>0</td>\n",
       "      <td>1</td>\n",
       "    </tr>\n",
       "  </tbody>\n",
       "</table>\n",
       "<p>562 rows × 4 columns</p>\n",
       "</div>"
      ],
      "text/plain": [
       "               Y      prob  predict_status  Actual_status\n",
       "10.0    1.380422  0.799059               1              1\n",
       "15.0    1.513396  0.819564               1              1\n",
       "39.0    1.615154  0.834126               1              1\n",
       "41.0    1.988942  0.879631               1              1\n",
       "44.0   -0.750009  0.320819               0              1\n",
       "...          ...       ...             ...            ...\n",
       "2254.0 -4.410052  0.012009               0              1\n",
       "2280.0 -4.142076  0.015641               0              1\n",
       "2303.0 -2.949764  0.049748               0              1\n",
       "2329.0  0.917038  0.714438               1              1\n",
       "2390.0 -4.189509  0.014928               0              1\n",
       "\n",
       "[562 rows x 4 columns]"
      ]
     },
     "execution_count": 206,
     "metadata": {},
     "output_type": "execute_result"
    }
   ],
   "source": [
    "compare_1"
   ]
  },
  {
   "cell_type": "code",
   "execution_count": 207,
   "metadata": {},
   "outputs": [],
   "source": [
    "#a0=compare_0[compare_0['predict_status'] == compare_0['Actual_status']]"
   ]
  },
  {
   "cell_type": "code",
   "execution_count": 208,
   "metadata": {},
   "outputs": [],
   "source": [
    "a1=compare_1[compare_1['predict_status'] == compare_1['Actual_status']]"
   ]
  },
  {
   "cell_type": "code",
   "execution_count": 209,
   "metadata": {},
   "outputs": [],
   "source": [
    "a1=a1.reset_index()"
   ]
  },
  {
   "cell_type": "code",
   "execution_count": 210,
   "metadata": {
    "scrolled": true
   },
   "outputs": [
    {
     "data": {
      "text/plain": [
       "0.5520504731861199"
      ]
     },
     "execution_count": 210,
     "metadata": {},
     "output_type": "execute_result"
    }
   ],
   "source": [
    "len(a1[a1['prob']>0.8])/len(a1)"
   ]
  },
  {
   "cell_type": "code",
   "execution_count": 211,
   "metadata": {},
   "outputs": [],
   "source": [
    "#a1=a1.sample(311)"
   ]
  },
  {
   "cell_type": "code",
   "execution_count": 212,
   "metadata": {},
   "outputs": [
    {
     "data": {
      "text/plain": [
       "317"
      ]
     },
     "execution_count": 212,
     "metadata": {},
     "output_type": "execute_result"
    }
   ],
   "source": [
    "len(a1)"
   ]
  },
  {
   "cell_type": "code",
   "execution_count": 213,
   "metadata": {
    "scrolled": false
   },
   "outputs": [
    {
     "data": {
      "text/plain": [
       "(0.5, 1.01)"
      ]
     },
     "execution_count": 213,
     "metadata": {},
     "output_type": "execute_result"
    },
    {
     "data": {
      "image/png": "[encoded data removed]",
      "text/plain": [
       "<Figure size 432x288 with 1 Axes>"
      ]
     },
     "metadata": {
      "needs_background": "light"
     },
     "output_type": "display_data"
    }
   ],
   "source": [
    "plt.scatter(np.linspace(0,317,317) , a1['prob'])\n",
    "plt.axhline(y=0.8, color='r', linestyle='--')\n",
    "plt.ylim([0.5,1.01])"
   ]
  },
  {
   "cell_type": "code",
   "execution_count": 214,
   "metadata": {},
   "outputs": [],
   "source": [
    "#plt.hist(a1['prob'], bins=15)"
   ]
  },
  {
   "cell_type": "code",
   "execution_count": 215,
   "metadata": {
    "scrolled": true
   },
   "outputs": [
    {
     "name": "stdout",
     "output_type": "stream",
     "text": [
      "The total accuracy of the model output is : 53.0%\n"
     ]
    }
   ],
   "source": [
    "percent_accuracy = (len(compare[compare['predict_status'] == compare['Actual_status']]) / len(compare))*100 \n",
    "\n",
    "#print(f\"The accuracy of the active output is : {(16/30)*100:0.1f}%\")\n",
    "#print(f\"The accuracy of the bankrupt output is : { (29/30)*100:0.1f}%\")\n",
    "\n",
    "print(f\"The total accuracy of the model output is : { percent_accuracy:0.1f}%\")"
   ]
  },
  {
   "cell_type": "markdown",
   "metadata": {},
   "source": [
    "# Importing test data from 2019/2020"
   ]
  },
  {
   "cell_type": "markdown",
   "metadata": {},
   "source": [
    "#### Import active test data"
   ]
  },
  {
   "cell_type": "code",
   "execution_count": 216,
   "metadata": {},
   "outputs": [],
   "source": [
    "test_0 = pd.read_excel('Active Companies.xlsx', sheet_name = '2020', index_col=0)"
   ]
  },
  {
   "cell_type": "code",
   "execution_count": 217,
   "metadata": {},
   "outputs": [],
   "source": [
    "#test_0 = test_0[(test_0.iloc[:,1] > 2018) & (test_0.iloc[:,1] < 2021)]"
   ]
  },
  {
   "cell_type": "code",
   "execution_count": 218,
   "metadata": {},
   "outputs": [
    {
     "data": {
      "text/plain": [
       "(363, 49)"
      ]
     },
     "execution_count": 218,
     "metadata": {},
     "output_type": "execute_result"
    }
   ],
   "source": [
    "test_0=test_0.replace({'n.a.': np.nan,'n.s.': np.nan})\n",
    "test_0.shape"
   ]
  },
  {
   "cell_type": "code",
   "execution_count": 219,
   "metadata": {},
   "outputs": [],
   "source": [
    "#test_0=test_0.fillna(0)"
   ]
  },
  {
   "cell_type": "code",
   "execution_count": 220,
   "metadata": {},
   "outputs": [],
   "source": [
    "#test_0=test_0.sample(194)"
   ]
  },
  {
   "cell_type": "code",
   "execution_count": 221,
   "metadata": {},
   "outputs": [],
   "source": [
    "###calculate ratios \n",
    "\n",
    "test_00=test_0[['Company name Latin alphabet',\n",
    "                  'Liquidity ratio\\nLast avail. yr', 'Liquidity ratio\\nYear - 1', \n",
    "                   'Current ratio\\nLast avail. yr', 'Current ratio\\nYear - 1',\n",
    "                   'Profit margin (%)\\nLast avail. yr', 'Profit margin (%)\\nYear - 1',\n",
    "                  'Solvency ratio (Asset based) (%)\\nLast avail. yr',  'Solvency ratio (Asset based) (%)\\nYear - 1',\n",
    "                   'Profit per employee (th) (th)\\nth USD Last avail. yr', 'Profit per employee (th) (th)\\nth USD Year - 1',\n",
    "                   'Intangible fixed assets\\nth USD Last avail. yr', 'Intangible fixed assets\\nth USD Year - 1',\n",
    "                  \n",
    "                ]]\n",
    "\n",
    "test_00['CL/TL avial year']=test_0['Current liabilities\\nth USD Last avail. yr']/(test_0['Total shareh. funds & liab.\\nth USD Last avail. yr']-test_0['Shareholders funds\\nth USD Last avail. yr']) -test_0['Current liabilities\\nth USD Year - 1']/(test_0['Total shareh. funds & liab.\\nth USD Year - 1']-test_0['Shareholders funds\\nth USD Year - 1'])\n",
    "                                                                                    \n",
    "test_00['CL/TL year-1']=test_0['Current liabilities\\nth USD Year - 1']/(test_0['Total shareh. funds & liab.\\nth USD Year - 1']-test_0['Shareholders funds\\nth USD Year - 1']) -test_0['Current liabilities\\nth USD Year - 2']/(test_0['Total shareh. funds & liab.\\nth USD Year - 2']-test_0['Shareholders funds\\nth USD Year - 2'])\n",
    "                                   \n",
    "\n",
    "#data2['CF/CapEX avil year']=data1['Cash flow\\nth USD Last avail. yr']/data1['Capital Expenditures\\nth USD Last avail. yr']\n",
    "#data2['CF/CapEX year-1']=data1['Cash flow\\nth USD Year - 1']/data1[ 'Capital Expenditures\\nth USD Year - 1']\n",
    "\n",
    "\n",
    "#### add in 6 more Financial ratios\n",
    "# 1. Cash flow / Operating revenue \n",
    "test_00['Cash flow / Operating revenue'] = test_0['Operating revenue (Turnover)\\nth USD Last avail. yr']\n",
    "test_00['Cash flow / Operating revenue -1'] = test_0['Operating revenue (Turnover)\\nth USD Year - 1']\n",
    "\n",
    "\n",
    "# 2. operating revenue per employee\n",
    "test_00['Operating revenue per employee'] = test_0['Operating revenue per employee (th) (th)\\nth USD Last avail. yr']\n",
    "test_00['Operating revenue per employee -1'] = test_0['Operating revenue per employee (th) (th)\\nth USD Year - 1']\n",
    "\n",
    "\n",
    "#3. Costs of employees / Operating revenue \n",
    "test_00['Costs of employees/Operating revenue'] = test_0['Costs of employees\\nth USD Last avail. yr'] / test_0['Operating revenue (Turnover)\\nth USD Last avail. yr']\n",
    "test_00['Costs of employees/Operating revenue-1'] = test_0['Costs of employees\\nth USD Year - 1'] / test_0['Operating revenue (Turnover)\\nth USD Year - 1']\n",
    "\n",
    "#4. Working Capital/Total Assets\n",
    "test_00['Working Capital/Total Assets'] = test_0['Working capital\\nth USD Last avail. yr'] / test_0['Total assets\\nth USD Last avail. yr']\n",
    "test_00['Working Capital/Total Assets -1'] = test_0['Working capital\\nth USD Year - 1'] / test_0['Total assets\\nth USD Year - 1']\n",
    "\n",
    "\n",
    "# 6.  Sales / Total Assets\n",
    "test_00['Sales/Total Asset'] = test_0['Sales\\nth USD Last avail. yr'] / test_0['Total assets\\nth USD Last avail. yr']\n",
    "test_00['Sales/Total Asset-1'] = test_0['Sales\\nth USD Year - 1'] / test_0['Total assets\\nth USD Year - 1']"
   ]
  },
  {
   "cell_type": "code",
   "execution_count": 222,
   "metadata": {},
   "outputs": [],
   "source": [
    "#2019\n",
    "test2_a=test_00.iloc[:,[0,2,4,6,8,10,12,14,16,18,20,22,24]]\n",
    "\n",
    "#2020\n",
    "test2_b=test_00.iloc[:,[0,1,3,5,7,9,11,13,15,17,19,21,23]]"
   ]
  },
  {
   "cell_type": "code",
   "execution_count": 223,
   "metadata": {},
   "outputs": [],
   "source": [
    "test2_a.columns=['Company name',' Liquidity ratio',' Current ratio','Profit margin (%)',\n",
    "                'Solvency ratio (Asset based) (%)', 'Profit per employee', 'Intangible fixed assets',\n",
    "                'CL/TL', 'CF/Operating Revenue', 'Operating revenue per employee',\n",
    "                'Costs of employees/Operating revenue', 'Working Capital/Total Assets','Sales/Total Asset']\n",
    "\n",
    "test2_b.columns=['Company name',' Liquidity ratio',' Current ratio','Profit margin (%)',\n",
    "                'Solvency ratio (Asset based) (%)', 'Profit per employee', 'Intangible fixed assets',\n",
    "                'CL/TL', 'CF/Operating Revenue', 'Operating revenue per employee',\n",
    "                'Costs of employees/Operating revenue', 'Working Capital/Total Assets','Sales/Total Asset']"
   ]
  },
  {
   "cell_type": "code",
   "execution_count": 224,
   "metadata": {},
   "outputs": [],
   "source": [
    "test2_2019 = test2_a.fillna(0)\n",
    "test2_2020 = test2_b.fillna(0)"
   ]
  },
  {
   "cell_type": "markdown",
   "metadata": {},
   "source": [
    "### Model output: `Y ` of Test Data"
   ]
  },
  {
   "cell_type": "code",
   "execution_count": 225,
   "metadata": {
    "scrolled": true
   },
   "outputs": [
    {
     "data": {
      "text/plain": [
       " Current ratio                         -1.596980\n",
       "Intangible fixed assets                -0.816543\n",
       "CF/Operating Revenue                    0.053952\n",
       "Costs of employees/Operating revenue   -1.706327\n",
       "Sales/Total Asset                       4.054102\n",
       "dtype: float64"
      ]
     },
     "execution_count": 225,
     "metadata": {},
     "output_type": "execute_result"
    }
   ],
   "source": [
    "result.params"
   ]
  },
  {
   "cell_type": "code",
   "execution_count": 226,
   "metadata": {},
   "outputs": [],
   "source": [
    "def  row_values():\n",
    "    x=[]\n",
    "    for i in range(len(curve_df_test)):\n",
    "        for j in range(len(result.params)):\n",
    "            x_value = curve_df_test.iloc[i,:].values[j] * result.params[j]\n",
    "        x_sum = x_value.sum()\n",
    "        x.append(x_sum)\n",
    "    return x"
   ]
  },
  {
   "cell_type": "markdown",
   "metadata": {},
   "source": [
    "### 2019"
   ]
  },
  {
   "cell_type": "code",
   "execution_count": 227,
   "metadata": {},
   "outputs": [],
   "source": [
    "log_test_df=np.log10(test2_2019.iloc[:,2:]).round(4).fillna(0)"
   ]
  },
  {
   "cell_type": "code",
   "execution_count": 228,
   "metadata": {
    "scrolled": false
   },
   "outputs": [],
   "source": [
    "curve_df_test=log_test_df[[' Current ratio','Intangible fixed assets','CF/Operating Revenue','Costs of employees/Operating revenue','Sales/Total Asset']]\n",
    "curve_df_test['Y'] = row_values()"
   ]
  },
  {
   "cell_type": "code",
   "execution_count": 229,
   "metadata": {
    "scrolled": true
   },
   "outputs": [],
   "source": [
    "#curve_df_test"
   ]
  },
  {
   "cell_type": "code",
   "execution_count": 230,
   "metadata": {},
   "outputs": [
    {
     "data": {
      "text/plain": [
       "1.0       0.281117\n",
       "2.0       0.123450\n",
       "4.0       0.198157\n",
       "5.0       0.210411\n",
       "6.0       0.201724\n",
       "            ...   \n",
       "2980.0    0.277282\n",
       "2982.0    0.303929\n",
       "2992.0    0.411057\n",
       "2993.0    0.188547\n",
       "2999.0    0.595405\n",
       "Name: Y, Length: 363, dtype: float64"
      ]
     },
     "execution_count": 230,
     "metadata": {},
     "output_type": "execute_result"
    }
   ],
   "source": [
    "prob_2019 = expit(curve_df_test['Y'])\n",
    "prob_2019"
   ]
  },
  {
   "cell_type": "markdown",
   "metadata": {},
   "source": [
    "### 2020"
   ]
  },
  {
   "cell_type": "code",
   "execution_count": 231,
   "metadata": {},
   "outputs": [],
   "source": [
    "log_test_df=np.log10(test2_2020.iloc[:,2:]).round(4).fillna(0)"
   ]
  },
  {
   "cell_type": "code",
   "execution_count": 232,
   "metadata": {
    "scrolled": false
   },
   "outputs": [],
   "source": [
    "curve_df_test=log_test_df[[' Current ratio','Intangible fixed assets','CF/Operating Revenue','Costs of employees/Operating revenue','Sales/Total Asset']]\n",
    "curve_df_test['Y'] = row_values()"
   ]
  },
  {
   "cell_type": "code",
   "execution_count": 233,
   "metadata": {
    "scrolled": true
   },
   "outputs": [],
   "source": [
    "#curve_df_test"
   ]
  },
  {
   "cell_type": "code",
   "execution_count": 234,
   "metadata": {},
   "outputs": [
    {
     "data": {
      "text/plain": [
       "1.0       0.271631\n",
       "2.0       0.122401\n",
       "4.0       0.169438\n",
       "5.0       0.154745\n",
       "6.0       0.193496\n",
       "            ...   \n",
       "2980.0    0.292057\n",
       "2982.0    0.074187\n",
       "2992.0    0.343932\n",
       "2993.0    0.182060\n",
       "2999.0    0.620522\n",
       "Name: Y, Length: 363, dtype: float64"
      ]
     },
     "execution_count": 234,
     "metadata": {},
     "output_type": "execute_result"
    }
   ],
   "source": [
    "prob_2020 = expit(curve_df_test['Y'])\n",
    "prob_2020"
   ]
  },
  {
   "cell_type": "code",
   "execution_count": 235,
   "metadata": {},
   "outputs": [],
   "source": [
    "df = pd.concat([test2_2019.iloc[:,0], prob_2019,prob_2020], axis = 1, ignore_index = True )"
   ]
  },
  {
   "cell_type": "code",
   "execution_count": 236,
   "metadata": {},
   "outputs": [],
   "source": [
    "df.columns = ['name', '2019','2020']"
   ]
  },
  {
   "cell_type": "code",
   "execution_count": 237,
   "metadata": {},
   "outputs": [
    {
     "data": {
      "text/html": [
       "<div>\n",
       "<style scoped>\n",
       "    .dataframe tbody tr th:only-of-type {\n",
       "        vertical-align: middle;\n",
       "    }\n",
       "\n",
       "    .dataframe tbody tr th {\n",
       "        vertical-align: top;\n",
       "    }\n",
       "\n",
       "    .dataframe thead th {\n",
       "        text-align: right;\n",
       "    }\n",
       "</style>\n",
       "<table border=\"1\" class=\"dataframe\">\n",
       "  <thead>\n",
       "    <tr style=\"text-align: right;\">\n",
       "      <th></th>\n",
       "      <th>name</th>\n",
       "      <th>2019</th>\n",
       "      <th>2020</th>\n",
       "    </tr>\n",
       "  </thead>\n",
       "  <tbody>\n",
       "    <tr>\n",
       "      <th>1.0</th>\n",
       "      <td>ALPHABET INC.</td>\n",
       "      <td>0.281117</td>\n",
       "      <td>0.271631</td>\n",
       "    </tr>\n",
       "    <tr>\n",
       "      <th>2.0</th>\n",
       "      <td>AT&amp;T INC.</td>\n",
       "      <td>0.123450</td>\n",
       "      <td>0.122401</td>\n",
       "    </tr>\n",
       "    <tr>\n",
       "      <th>4.0</th>\n",
       "      <td>VERIZON COMMUNICATIONS INC</td>\n",
       "      <td>0.198157</td>\n",
       "      <td>0.169438</td>\n",
       "    </tr>\n",
       "    <tr>\n",
       "      <th>5.0</th>\n",
       "      <td>DEUTSCHE TELEKOM AG</td>\n",
       "      <td>0.210411</td>\n",
       "      <td>0.154745</td>\n",
       "    </tr>\n",
       "    <tr>\n",
       "      <th>6.0</th>\n",
       "      <td>CHINA MOBILE LIMITED</td>\n",
       "      <td>0.201724</td>\n",
       "      <td>0.193496</td>\n",
       "    </tr>\n",
       "    <tr>\n",
       "      <th>...</th>\n",
       "      <td>...</td>\n",
       "      <td>...</td>\n",
       "      <td>...</td>\n",
       "    </tr>\n",
       "    <tr>\n",
       "      <th>2980.0</th>\n",
       "      <td>SYNCHRONOSS TECHNOLOGIES, INC.</td>\n",
       "      <td>0.277282</td>\n",
       "      <td>0.292057</td>\n",
       "    </tr>\n",
       "    <tr>\n",
       "      <th>2982.0</th>\n",
       "      <td>FASTLY, INC.</td>\n",
       "      <td>0.303929</td>\n",
       "      <td>0.074187</td>\n",
       "    </tr>\n",
       "    <tr>\n",
       "      <th>2992.0</th>\n",
       "      <td>LECTRA</td>\n",
       "      <td>0.411057</td>\n",
       "      <td>0.343932</td>\n",
       "    </tr>\n",
       "    <tr>\n",
       "      <th>2993.0</th>\n",
       "      <td>KLDISCOVERY INC.</td>\n",
       "      <td>0.188547</td>\n",
       "      <td>0.182060</td>\n",
       "    </tr>\n",
       "    <tr>\n",
       "      <th>2999.0</th>\n",
       "      <td>CISCO SYSTEMS FRANCE</td>\n",
       "      <td>0.595405</td>\n",
       "      <td>0.620522</td>\n",
       "    </tr>\n",
       "  </tbody>\n",
       "</table>\n",
       "<p>363 rows × 3 columns</p>\n",
       "</div>"
      ],
      "text/plain": [
       "                                  name      2019      2020\n",
       "1.0                      ALPHABET INC.  0.281117  0.271631\n",
       "2.0                          AT&T INC.  0.123450  0.122401\n",
       "4.0         VERIZON COMMUNICATIONS INC  0.198157  0.169438\n",
       "5.0                DEUTSCHE TELEKOM AG  0.210411  0.154745\n",
       "6.0               CHINA MOBILE LIMITED  0.201724  0.193496\n",
       "...                                ...       ...       ...\n",
       "2980.0  SYNCHRONOSS TECHNOLOGIES, INC.  0.277282  0.292057\n",
       "2982.0                    FASTLY, INC.  0.303929  0.074187\n",
       "2992.0                          LECTRA  0.411057  0.343932\n",
       "2993.0                KLDISCOVERY INC.  0.188547  0.182060\n",
       "2999.0            CISCO SYSTEMS FRANCE  0.595405  0.620522\n",
       "\n",
       "[363 rows x 3 columns]"
      ]
     },
     "execution_count": 237,
     "metadata": {},
     "output_type": "execute_result"
    }
   ],
   "source": [
    "df"
   ]
  },
  {
   "cell_type": "code",
   "execution_count": 238,
   "metadata": {},
   "outputs": [],
   "source": [
    "df_b=df[(df['2019']>0.5) & (df['2020']>0.5)]"
   ]
  },
  {
   "cell_type": "code",
   "execution_count": 239,
   "metadata": {
    "scrolled": false
   },
   "outputs": [],
   "source": [
    "df_b=df_b[df_b['2020']>df_b['2019']]"
   ]
  },
  {
   "cell_type": "code",
   "execution_count": 240,
   "metadata": {},
   "outputs": [],
   "source": [
    "df_b['gap']=df_b['2020']-df_b['2019']"
   ]
  },
  {
   "cell_type": "code",
   "execution_count": 241,
   "metadata": {},
   "outputs": [
    {
     "data": {
      "text/html": [
       "<div>\n",
       "<style scoped>\n",
       "    .dataframe tbody tr th:only-of-type {\n",
       "        vertical-align: middle;\n",
       "    }\n",
       "\n",
       "    .dataframe tbody tr th {\n",
       "        vertical-align: top;\n",
       "    }\n",
       "\n",
       "    .dataframe thead th {\n",
       "        text-align: right;\n",
       "    }\n",
       "</style>\n",
       "<table border=\"1\" class=\"dataframe\">\n",
       "  <thead>\n",
       "    <tr style=\"text-align: right;\">\n",
       "      <th></th>\n",
       "      <th>name</th>\n",
       "      <th>2019</th>\n",
       "      <th>2020</th>\n",
       "      <th>gap</th>\n",
       "    </tr>\n",
       "  </thead>\n",
       "  <tbody>\n",
       "    <tr>\n",
       "      <th>203.0</th>\n",
       "      <td>AMAZON WEB SERVICES EMEA SARL</td>\n",
       "      <td>0.784356</td>\n",
       "      <td>0.843604</td>\n",
       "      <td>0.059248</td>\n",
       "    </tr>\n",
       "    <tr>\n",
       "      <th>2197.0</th>\n",
       "      <td>CLARANOVA S E</td>\n",
       "      <td>0.668489</td>\n",
       "      <td>0.763880</td>\n",
       "      <td>0.095390</td>\n",
       "    </tr>\n",
       "    <tr>\n",
       "      <th>2571.0</th>\n",
       "      <td>SIEMENS INDUSTRY SOFTWARE</td>\n",
       "      <td>0.672966</td>\n",
       "      <td>0.752962</td>\n",
       "      <td>0.079996</td>\n",
       "    </tr>\n",
       "  </tbody>\n",
       "</table>\n",
       "</div>"
      ],
      "text/plain": [
       "                                 name      2019      2020       gap\n",
       "203.0   AMAZON WEB SERVICES EMEA SARL  0.784356  0.843604  0.059248\n",
       "2197.0                  CLARANOVA S E  0.668489  0.763880  0.095390\n",
       "2571.0      SIEMENS INDUSTRY SOFTWARE  0.672966  0.752962  0.079996"
      ]
     },
     "execution_count": 241,
     "metadata": {},
     "output_type": "execute_result"
    }
   ],
   "source": [
    "df_b[df_b['gap']>0.05]"
   ]
  },
  {
   "cell_type": "code",
   "execution_count": 244,
   "metadata": {},
   "outputs": [
    {
     "data": {
      "text/html": [
       "<div>\n",
       "<style scoped>\n",
       "    .dataframe tbody tr th:only-of-type {\n",
       "        vertical-align: middle;\n",
       "    }\n",
       "\n",
       "    .dataframe tbody tr th {\n",
       "        vertical-align: top;\n",
       "    }\n",
       "\n",
       "    .dataframe thead th {\n",
       "        text-align: right;\n",
       "    }\n",
       "</style>\n",
       "<table border=\"1\" class=\"dataframe\">\n",
       "  <thead>\n",
       "    <tr style=\"text-align: right;\">\n",
       "      <th></th>\n",
       "      <th>name</th>\n",
       "      <th>2019</th>\n",
       "      <th>2020</th>\n",
       "      <th>gap</th>\n",
       "    </tr>\n",
       "  </thead>\n",
       "  <tbody>\n",
       "    <tr>\n",
       "      <th>203.0</th>\n",
       "      <td>AMAZON WEB SERVICES EMEA SARL</td>\n",
       "      <td>0.784356</td>\n",
       "      <td>0.843604</td>\n",
       "      <td>0.059248</td>\n",
       "    </tr>\n",
       "    <tr>\n",
       "      <th>1724.0</th>\n",
       "      <td>SERVICE STREAM LIMITED</td>\n",
       "      <td>0.641660</td>\n",
       "      <td>0.690208</td>\n",
       "      <td>0.048548</td>\n",
       "    </tr>\n",
       "    <tr>\n",
       "      <th>2197.0</th>\n",
       "      <td>CLARANOVA S E</td>\n",
       "      <td>0.668489</td>\n",
       "      <td>0.763880</td>\n",
       "      <td>0.095390</td>\n",
       "    </tr>\n",
       "    <tr>\n",
       "      <th>2203.0</th>\n",
       "      <td>REAL MATTERS INC</td>\n",
       "      <td>0.693061</td>\n",
       "      <td>0.742719</td>\n",
       "      <td>0.049658</td>\n",
       "    </tr>\n",
       "    <tr>\n",
       "      <th>2303.0</th>\n",
       "      <td>BEIJING EMAR ONLINE TECHNOLOGY  CO.,LTD</td>\n",
       "      <td>0.876725</td>\n",
       "      <td>0.926561</td>\n",
       "      <td>0.049836</td>\n",
       "    </tr>\n",
       "    <tr>\n",
       "      <th>2571.0</th>\n",
       "      <td>SIEMENS INDUSTRY SOFTWARE</td>\n",
       "      <td>0.672966</td>\n",
       "      <td>0.752962</td>\n",
       "      <td>0.079996</td>\n",
       "    </tr>\n",
       "  </tbody>\n",
       "</table>\n",
       "</div>"
      ],
      "text/plain": [
       "                                           name      2019      2020       gap\n",
       "203.0             AMAZON WEB SERVICES EMEA SARL  0.784356  0.843604  0.059248\n",
       "1724.0                   SERVICE STREAM LIMITED  0.641660  0.690208  0.048548\n",
       "2197.0                            CLARANOVA S E  0.668489  0.763880  0.095390\n",
       "2203.0                         REAL MATTERS INC  0.693061  0.742719  0.049658\n",
       "2303.0  BEIJING EMAR ONLINE TECHNOLOGY  CO.,LTD  0.876725  0.926561  0.049836\n",
       "2571.0                SIEMENS INDUSTRY SOFTWARE  0.672966  0.752962  0.079996"
      ]
     },
     "execution_count": 244,
     "metadata": {},
     "output_type": "execute_result"
    }
   ],
   "source": [
    "df_compare = df[(df['2019']>0.5) & (df['2020']>df['2019'])]\n",
    "df_compare['gap'] = df_compare['2020'] - df_compare ['2019']\n",
    "df_compare[df_compare['gap'] >0.04]"
   ]
  },
  {
   "cell_type": "markdown",
   "metadata": {},
   "source": [
    "### 2000 - 2020 Tech companies defaulting trend"
   ]
  },
  {
   "cell_type": "code",
   "execution_count": 242,
   "metadata": {},
   "outputs": [],
   "source": [
    "trend = pd.read_excel('world_bankrupt_tech.xlsx',sheet_name = 'trend')"
   ]
  },
  {
   "cell_type": "code",
   "execution_count": 243,
   "metadata": {
    "scrolled": true
   },
   "outputs": [
    {
     "data": {
      "text/plain": [
       "<matplotlib.axes._subplots.AxesSubplot at 0x7fa6a844db50>"
      ]
     },
     "execution_count": 243,
     "metadata": {},
     "output_type": "execute_result"
    },
    {
     "data": {
      "image/png": "[encoded data removed]",
      "text/plain": [
       "<Figure size 432x288 with 1 Axes>"
      ]
     },
     "metadata": {
      "needs_background": "light"
     },
     "output_type": "display_data"
    }
   ],
   "source": [
    "trend.iloc[:,2].hist(bins = 20)"
   ]
  },
  {
   "cell_type": "code",
   "execution_count": null,
   "metadata": {},
   "outputs": [],
   "source": []
  }
 ],
 "metadata": {
  "kernelspec": {
   "display_name": "Python 3",
   "language": "python",
   "name": "python3"
  },
  "language_info": {
   "codemirror_mode": {
    "name": "ipython",
    "version": 3
   },
   "file_extension": ".py",
   "mimetype": "text/x-python",
   "name": "python",
   "nbconvert_exporter": "python",
   "pygments_lexer": "ipython3",
   "version": "3.8.3"
  }
 },
 "nbformat": 4,
 "nbformat_minor": 4
}
